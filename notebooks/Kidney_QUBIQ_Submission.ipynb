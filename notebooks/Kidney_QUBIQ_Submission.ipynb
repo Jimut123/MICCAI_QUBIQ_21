{
  "nbformat": 4,
  "nbformat_minor": 0,
  "metadata": {
    "colab": {
      "name": "Kidney_QUBIQ_Submission.ipynb",
      "provenance": []
    },
    "kernelspec": {
      "name": "python3",
      "display_name": "Python 3"
    },
    "language_info": {
      "name": "python"
    },
    "accelerator": "GPU"
  },
  "cells": [
    {
      "cell_type": "code",
      "metadata": {
        "colab": {
          "base_uri": "https://localhost:8080/"
        },
        "id": "E-pIGrEea6jG",
        "outputId": "4d12443e-ca03-4c24-c52e-bbe40ec1aded"
      },
      "source": [
        "! gdown https://drive.google.com/u/2/uc?id=18jnbjnhhpf2x8QrguAtJOTejEd6FUZtR"
      ],
      "execution_count": 1,
      "outputs": [
        {
          "output_type": "stream",
          "name": "stdout",
          "text": [
            "Downloading...\n",
            "From: https://drive.google.com/u/2/uc?id=18jnbjnhhpf2x8QrguAtJOTejEd6FUZtR\n",
            "To: /content/training_data_v3_QC.zip\n",
            "1.52GB [00:08, 174MB/s]\n"
          ]
        }
      ]
    },
    {
      "cell_type": "code",
      "metadata": {
        "id": "wxEoEAUTbIxy"
      },
      "source": [
        "! unzip -qq training_data_v3_QC.zip"
      ],
      "execution_count": 2,
      "outputs": []
    },
    {
      "cell_type": "code",
      "metadata": {
        "colab": {
          "base_uri": "https://localhost:8080/"
        },
        "id": "jt4780iZbMco",
        "outputId": "73e877b0-802e-4989-a799-e29960a45a2c"
      },
      "source": [
        "! gdown https://drive.google.com/u/2/uc?id=1-3RVQZu8acSxhI1koBy_e9HsjxbELkKi"
      ],
      "execution_count": 3,
      "outputs": [
        {
          "output_type": "stream",
          "name": "stdout",
          "text": [
            "Downloading...\n",
            "From: https://drive.google.com/u/2/uc?id=1-3RVQZu8acSxhI1koBy_e9HsjxbELkKi\n",
            "To: /content/validation_data_qubiq2021_QC.zip\n",
            "582MB [00:13, 44.4MB/s]\n"
          ]
        }
      ]
    },
    {
      "cell_type": "code",
      "metadata": {
        "id": "OQ4GlWKObOw3"
      },
      "source": [
        "! unzip -qq validation_data_qubiq2021_QC.zip"
      ],
      "execution_count": 4,
      "outputs": []
    },
    {
      "cell_type": "code",
      "metadata": {
        "colab": {
          "base_uri": "https://localhost:8080/"
        },
        "id": "rsDba6t0bQiA",
        "outputId": "c69f8859-5bda-4284-83aa-7027124221bb"
      },
      "source": [
        "! gdown https://drive.google.com/u/2/uc?id=1R2sPVfw4w2AxRviQwa3ZozkU7sH10tL4"
      ],
      "execution_count": 5,
      "outputs": [
        {
          "output_type": "stream",
          "name": "stdout",
          "text": [
            "Downloading...\n",
            "From: https://drive.google.com/u/2/uc?id=1R2sPVfw4w2AxRviQwa3ZozkU7sH10tL4\n",
            "To: /content/QUBIQ21_test.zip\n",
            "682MB [00:13, 50.0MB/s]\n"
          ]
        }
      ]
    },
    {
      "cell_type": "code",
      "metadata": {
        "id": "hcicvK5ZbQep"
      },
      "source": [
        "! unzip -qq QUBIQ21_test.zip"
      ],
      "execution_count": 6,
      "outputs": []
    },
    {
      "cell_type": "code",
      "metadata": {
        "id": "D-eGkqn6bnKL"
      },
      "source": [
        "# make the output folder here\n",
        "! mkdir kidney"
      ],
      "execution_count": 7,
      "outputs": []
    },
    {
      "cell_type": "code",
      "metadata": {
        "id": "K9TVWsXbdvtB"
      },
      "source": [
        "# ! rm -rf /content/validation_data_qubiq2021_QC/kidney/Validation/Testing\n",
        "# ! rm -rf /content/training_data_v3_QC\n",
        "# ! rm -rf /content/validation_data_qubiq2021_QC/"
      ],
      "execution_count": 8,
      "outputs": []
    },
    {
      "cell_type": "code",
      "metadata": {
        "id": "DoQp9pkobnGy"
      },
      "source": [
        "import cv2\n",
        "import glob\n",
        "import numpy as np\n",
        "import nibabel as nib\n",
        "import skimage.io as io\n",
        "from nibabel import nifti1\n",
        "from nibabel.viewers import OrthoSlicer3D\n",
        "import matplotlib.pyplot as plt\n",
        "\n",
        "import glob\n",
        "import json\n",
        "import os\n",
        "import cv2\n",
        "import glob\n",
        "import numpy as np\n",
        "import pandas as pd\n",
        "from tqdm import tqdm\n",
        "import matplotlib.pyplot as plt\n",
        "from keras.layers import Input, Conv2D, MaxPooling2D, Conv2DTranspose, concatenate, BatchNormalization, Activation, add, AveragePooling2D\n",
        "from keras.models import Model, model_from_json\n",
        "# from keras.optimizers import Adam, Nadam \n",
        "from tensorflow.keras.optimizers import Nadam, Adam, SGD, RMSprop\n",
        "from tensorflow.keras.applications import MobileNetV2\n",
        "from keras.layers.advanced_activations import ELU, LeakyReLU\n",
        "from keras.utils.vis_utils import plot_model\n",
        "from keras import backend as K\n",
        "from sklearn.model_selection import train_test_split\n",
        "from sklearn.metrics import classification_report\n",
        "\n",
        "import tensorflow as tf\n",
        "import matplotlib.pyplot as plt\n",
        "from sklearn.model_selection import train_test_split\n",
        "\n",
        "from tensorflow.keras.layers import Conv2D, Activation, BatchNormalization\n",
        "from tensorflow.keras.layers import UpSampling2D, Input, Concatenate\n",
        "from tensorflow.keras.models import Model , load_model\n",
        "from tensorflow.keras.applications import MobileNetV2\n",
        "from tensorflow.keras.callbacks import EarlyStopping, ReduceLROnPlateau\n",
        "from tensorflow.keras.metrics import Recall, Precision\n",
        "from tensorflow.keras import backend as K\n",
        "from sklearn.model_selection import KFold\n",
        "from sklearn.metrics import average_precision_score, recall_score\n"
      ],
      "execution_count": 9,
      "outputs": []
    },
    {
      "cell_type": "code",
      "metadata": {
        "id": "Sx4BoRUMbnDu"
      },
      "source": [
        "# All the losses are present here\n",
        "\n",
        "from keras.losses import binary_crossentropy\n",
        "import keras.backend as K\n",
        "import tensorflow as tf \n",
        "\n",
        "epsilon = 1e-5\n",
        "smooth = 1\n",
        "\n",
        "def dsc(y_true, y_pred):\n",
        "    smooth = 1.\n",
        "    y_true_f = K.flatten(y_true)\n",
        "    y_pred_f = K.flatten(y_pred)\n",
        "    intersection = K.sum(y_true_f * y_pred_f)\n",
        "    score = (2. * intersection + smooth) / (K.sum(y_true_f) + K.sum(y_pred_f) + smooth)\n",
        "    return score\n",
        "\n",
        "def dice_loss(y_true, y_pred):\n",
        "    loss = 1 - dsc(y_true, y_pred)\n",
        "    return loss\n",
        "\n",
        "def bce_dice_loss(y_true, y_pred):\n",
        "    loss = binary_crossentropy(y_true, y_pred) + dice_loss(y_true, y_pred)\n",
        "    return loss\n",
        "\n",
        "def confusion(y_true, y_pred):\n",
        "    smooth=1\n",
        "    y_pred_pos = K.clip(y_pred, 0, 1)\n",
        "    y_pred_neg = 1 - y_pred_pos\n",
        "    y_pos = K.clip(y_true, 0, 1)\n",
        "    y_neg = 1 - y_pos\n",
        "    tp = K.sum(y_pos * y_pred_pos)\n",
        "    fp = K.sum(y_neg * y_pred_pos)\n",
        "    fn = K.sum(y_pos * y_pred_neg) \n",
        "    prec = (tp + smooth)/(tp+fp+smooth)\n",
        "    recall = (tp+smooth)/(tp+fn+smooth)\n",
        "    return prec, recall\n",
        "\n",
        "def tp(y_true, y_pred):\n",
        "    smooth = 1\n",
        "    y_pred_pos = K.round(K.clip(y_pred, 0, 1))\n",
        "    y_pos = K.round(K.clip(y_true, 0, 1))\n",
        "    tp = (K.sum(y_pos * y_pred_pos) + smooth)/ (K.sum(y_pos) + smooth) \n",
        "    return tp \n",
        "\n",
        "def tn(y_true, y_pred):\n",
        "    smooth = 1\n",
        "    y_pred_pos = K.round(K.clip(y_pred, 0, 1))\n",
        "    y_pred_neg = 1 - y_pred_pos\n",
        "    y_pos = K.round(K.clip(y_true, 0, 1))\n",
        "    y_neg = 1 - y_pos \n",
        "    tn = (K.sum(y_neg * y_pred_neg) + smooth) / (K.sum(y_neg) + smooth )\n",
        "    return tn \n",
        "\n",
        "def tversky(y_true, y_pred):\n",
        "    y_true_pos = K.flatten(y_true)\n",
        "    y_pred_pos = K.flatten(y_pred)\n",
        "    true_pos = K.sum(y_true_pos * y_pred_pos)\n",
        "    false_neg = K.sum(y_true_pos * (1-y_pred_pos))\n",
        "    false_pos = K.sum((1-y_true_pos)*y_pred_pos)\n",
        "    alpha = 0.7\n",
        "    return (true_pos + smooth)/(true_pos + alpha*false_neg + (1-alpha)*false_pos + smooth)\n",
        "\n",
        "def tversky_loss(y_true, y_pred):\n",
        "    return 1 - tversky(y_true,y_pred)\n",
        "\n",
        "def focal_tversky(y_true,y_pred):\n",
        "    pt_1 = tversky(y_true, y_pred)\n",
        "    gamma = 0.75\n",
        "    return K.pow((1-pt_1), gamma)\n",
        "\n",
        "def dice_coef(y_true, y_pred):\n",
        "    smooth = 0.0\n",
        "    y_true_f = K.flatten(y_true)\n",
        "    y_pred_f = K.flatten(y_pred)\n",
        "    intersection = K.sum(y_true_f * y_pred_f)\n",
        "    return (2. * intersection + smooth) / (K.sum(y_true_f) + K.sum(y_pred_f) + smooth)\n",
        "\n",
        "def jacard(y_true, y_pred):\n",
        "\n",
        "    y_true_f = K.flatten(y_true)\n",
        "    y_pred_f = K.flatten(y_pred)\n",
        "    intersection = K.sum ( y_true_f * y_pred_f)\n",
        "    union = K.sum ( y_true_f + y_pred_f - y_true_f * y_pred_f)\n",
        "    return intersection/union\n"
      ],
      "execution_count": 10,
      "outputs": []
    },
    {
      "cell_type": "code",
      "metadata": {
        "id": "uIcDO1czbnAZ"
      },
      "source": [
        "import os\n",
        "import json\n",
        "import cv2\n",
        "import glob\n",
        "import numpy as np\n",
        "import pandas as pd\n",
        "from tqdm import tqdm\n",
        "import matplotlib.pyplot as plt\n",
        "\n",
        "import keras\n",
        "from keras.layers import Input, Conv2D, MaxPooling2D, Conv2DTranspose, concatenate, BatchNormalization, Activation, add, Subtract, multiply\n",
        "from keras.models import Model, model_from_json\n",
        "# from keras.optimizers import Adam\n",
        "from tensorflow.keras.applications import MobileNetV2\n",
        "from keras.layers.advanced_activations import ELU, LeakyReLU\n",
        "from keras.utils.vis_utils import plot_model\n",
        "from keras import backend as K\n",
        "from sklearn.model_selection import train_test_split\n",
        "from sklearn.metrics import classification_report\n",
        "\n",
        "import tensorflow as tf\n",
        "import matplotlib.pyplot as plt\n",
        "from sklearn.model_selection import train_test_split\n",
        "\n",
        "from tensorflow.keras.layers import Conv2D, Activation, BatchNormalization\n",
        "from tensorflow.keras.layers import UpSampling2D, Input, Concatenate\n",
        "from tensorflow.keras.models import Model , load_model\n",
        "from tensorflow.keras.applications import MobileNetV2\n",
        "from tensorflow.keras.callbacks import EarlyStopping, ReduceLROnPlateau\n",
        "from tensorflow.keras.metrics import Recall, Precision\n",
        "from tensorflow.keras import backend as K\n",
        "\n",
        "\n",
        "# from keras.models import Model\n",
        "from keras.layers import Input, concatenate, Conv2D, MaxPooling2D, UpSampling2D, Reshape, core, Dropout\n",
        "# # from keras.optimizers import Adam\n",
        "# from keras.callbacks import ModelCheckpoint, LearningRateScheduler\n",
        "# from keras import backend as K\n",
        "# from keras.utils.vis_utils import plot_model as plot\n",
        "# from keras.optimizers import SGD\n",
        "# from keras.optimizers import *\n",
        "# from keras.layers import *      "
      ],
      "execution_count": 11,
      "outputs": []
    },
    {
      "cell_type": "code",
      "metadata": {
        "id": "_7Yl4H4pbwLF"
      },
      "source": [
        "\n",
        "def DownConv(filters_1, filters_2, input):\n",
        "    '''\n",
        "    Down Convolution (Encoder Block)\n",
        "    Arguments:\n",
        "        filters_1 {int} -- integer filter passed to the first part\n",
        "        filters_2 {int} -- integer filter passed to the second part\n",
        "        input {keras layer} -- input layer\n",
        "    Returns:\n",
        "        [keras layers] -- [pool2, conv_21, conv_41 layers]\n",
        "    '''\n",
        "\n",
        "    conv_1 = Conv2D(filters_1, (3, 3), strides=1, padding='same')(input)\n",
        "    conv_2 = Conv2D(filters_1, (3, 3), strides=1, padding='same')(conv_1)\n",
        "    conv_21 = Conv2D(filters_1, (3, 3), strides=1, padding='same')(add([conv_2, conv_1]))\n",
        "\n",
        "    pool1 = AveragePooling2D(pool_size=(2, 2))(conv_21)\n",
        "\n",
        "    conv_3 = Conv2D(filters_2, (3, 3), strides=1, padding='same')(pool1)\n",
        "    conv_4 = Conv2D(filters_2, (3, 3), strides=1, padding='same')(conv_3)\n",
        "    conv_41 = Conv2D(filters_2, (3, 3), strides=1, padding='same')(add([conv_4, conv_3]))\n",
        "\n",
        "    pool2 = AveragePooling2D(pool_size=(2, 2))(conv_4)\n",
        "\n",
        "    # returns the pooled output, the 2nd conv and 4rth conv\n",
        "    return pool2, conv_21, conv_41\n",
        "\n",
        "\n",
        "\n",
        "def UpConv(filters_1, filters_2, input, concat_block_1, concat_block_2):\n",
        "    '''\n",
        "    Up Convolution (Decoder Block)\n",
        "    Arguments:\n",
        "        filters_1 {int} -- integer filter passed to the first part\n",
        "        filters_2 {int} -- integer filter passed to the second part\n",
        "        input {keras layer} -- input layer\n",
        "        concat_block_1 {keras layer} -- layer for performing concatination, coming from Encoder\n",
        "        concat_block_2 {keras layer} -- layer for performing concatination, coming from Encoder\n",
        "    Returns:\n",
        "        [keras layer] -- [conv_41 layer]\n",
        "    '''\n",
        "\n",
        "    upsample_1 = Conv2DTranspose(filters_1, kernel_size=2, strides=2, padding='same')(input)\n",
        "\n",
        "    conv_1 = Conv2D(filters_1, (3, 3), strides=1, padding='same')(concatenate([upsample_1,concat_block_1]))\n",
        "    conv_2 = Conv2D(filters_1, (3, 3), strides=1, padding='same')(conv_1)\n",
        "    conv_21 = Conv2D(filters_1, (3, 3), strides=1, padding='same')(add([conv_2, conv_1]))\n",
        "\n",
        "    upsample_2 = Conv2DTranspose(filters_2, kernel_size=2, strides=2, padding='same')(conv_21)\n",
        "\n",
        "    conv_3 = Conv2D(filters_2, (3, 3), strides=1, padding='same')(concatenate([upsample_2,concat_block_2]))\n",
        "    conv_4 = Conv2D(filters_2, (3, 3), strides=1, padding='same')(conv_3)\n",
        "    conv_41 = Conv2D(filters_2, (3, 3), strides=1, padding='same')(add([conv_4, conv_3]))\n",
        "\n",
        "    # returns the pooled output, the 2nd conv and 4rth conv\n",
        "    return conv_41\n",
        "\n",
        "\n",
        "def QUBIQ_NET(height, width, n_channels):\n",
        "    '''\n",
        "    N-Encoder-Decoder Network for modelling uncertainities in segmentation of medical images\n",
        "    Arguments:\n",
        "        [keras layer] -- [input1 input2 ... input:N images]\n",
        "    Returns:\n",
        "        [keras layer] -- [output1 output2 ... output:N layers of segmentation mask]\n",
        "    '''\n",
        "\n",
        "    N = height\n",
        "\n",
        "    input1 = Input(shape=(height, width, 1), name=\"input_image_1\")\n",
        "    input2 = Input(shape=(height, width, 1), name=\"input_image_2\")\n",
        "    input3 = Input(shape=(height, width, 1), name=\"input_image_3\")\n",
        "\n",
        "    I1, I1_conv_2, I1_conv_4 = DownConv(64, 128, input1)\n",
        "    I2, I2_conv_2, I2_conv_4 = DownConv(64, 128, input2)\n",
        "    I3, I3_conv_2, I3_conv_4 = DownConv(64, 128, input3)\n",
        "\n",
        "    Down = add([I1,I2, I3])\n",
        "    Down_conv_1 = Conv2D(256, (3, 3), strides=1, padding='same', name='down_conv_1')(Down)\n",
        "    Down_conv_2 = Conv2D(256, (3, 3), strides=1, padding='same', name='down_conv_2')(Down_conv_1)\n",
        "\n",
        "    Down_maxpool = MaxPooling2D(pool_size=(2, 2))(Down_conv_2)\n",
        "\n",
        "    Condensed_1 = Conv2D(512, (3, 3), activation= 'relu', strides=1, padding='same', name='condensed_1')(Down_maxpool)\n",
        "    Condensed_2 = Conv2D(512, (3, 3), activation= 'relu', strides=1, padding='same', name='condensed_2')(Condensed_1)\n",
        "\n",
        "    Down_maxpool2 = MaxPooling2D(pool_size=(2, 2))(Condensed_2)\n",
        "\n",
        "\n",
        "    Condensed_3 = Conv2D(512, (3, 3), activation= 'relu', strides=1, padding='same', name='condensed_3')(Down_maxpool2)\n",
        "    Condensed_4 = Conv2D(512, (3, 3), activation= 'relu', strides=1, padding='same', name='condensed_4')(Condensed_3)\n",
        "    Condensed_5 = Dropout(0.5)(Conv2D(512, (3, 3), activation= 'relu', strides=1, padding='same', name='condensed_5')(add([Condensed_3, Condensed_4])))\n",
        "\n",
        "    up_1_1 = Conv2DTranspose(512, kernel_size=2, strides=2, padding='same')(Condensed_5)\n",
        "\n",
        "    up_1_1_cont = Conv2D(512, (3, 3), activation= 'relu', strides=1, padding='same', name='up_1_1_cont')(concatenate([up_1_1,Condensed_2]))\n",
        "    up_1_1_cont_1 = Dropout(0.5)(Conv2D(512, (3, 3), activation= 'relu', strides=1, padding='same', name='up_1_1_cont_1')(up_1_1_cont))\n",
        "\n",
        "    up_1 = Conv2DTranspose(256, kernel_size=2, strides=2, padding='same')(up_1_1_cont_1)\n",
        "    \n",
        "    Up_conv_1 = Conv2D(256, (3, 3), activation= 'relu', strides=1, padding='same', name='up_conv_1')(concatenate([up_1,Down_conv_2]))\n",
        "    Up_conv_1_cont = Dropout(0.5)(Conv2D(256, (3, 3), activation= 'relu', strides=1, padding='same', name='Up_conv_1_cont')(Up_conv_1))\n",
        "\n",
        "\n",
        "    O1 = UpConv(128, 64, Up_conv_1_cont, I1_conv_4, I1_conv_2)\n",
        "    O2 = UpConv(128, 64, Up_conv_1_cont, I2_conv_4, I2_conv_2)\n",
        "    O3 = UpConv(128, 64, Up_conv_1_cont, I3_conv_4, I3_conv_2)\n",
        "\n",
        "    \n",
        "    # Outputs \n",
        "    conv_1_out = Dropout(0.5)(Conv2D(64, 3, activation = 'relu', padding = 'same')(O1))\n",
        "    conv_1_out = Conv2D(2, 3, activation = 'relu', padding = 'same')(conv_1_out)\n",
        "    conv_1_out = Conv2D(1, 1, activation = 'sigmoid', name=\"out1\")(conv_1_out)\n",
        "\n",
        "    conv_2_out = Dropout(0.5)(Conv2D(64, 3, activation = 'relu', padding = 'same')(O2))\n",
        "    conv_2_out = Conv2D(2, 3, activation = 'relu', padding = 'same')(conv_2_out)\n",
        "    conv_2_out = Conv2D(1, 1, activation = 'sigmoid', name=\"out2\")(conv_2_out)\n",
        "\n",
        "    conv_3_out = Dropout(0.5)(Conv2D(64, 3, activation = 'relu', padding = 'same')(O3))\n",
        "    conv_3_out = Conv2D(2, 3, activation = 'relu', padding = 'same')(conv_3_out)\n",
        "    conv_3_out = Conv2D(1, 1, activation = 'sigmoid', name=\"out3\")(conv_3_out)\n",
        "\n",
        "\n",
        "    model = Model(inputs = [input1, input2, input3], outputs = [conv_1_out, conv_2_out, conv_3_out])\n",
        "\n",
        "    # model.compile(optimizer = Adam(lr = 1e-4), loss = 'binary_crossentropy', metrics = ['accuracy'])\n",
        "    \n",
        "    return model\n",
        "\n",
        "\n"
      ],
      "execution_count": 12,
      "outputs": []
    },
    {
      "cell_type": "code",
      "metadata": {
        "colab": {
          "base_uri": "https://localhost:8080/"
        },
        "id": "h1AoEh1pbwIw",
        "outputId": "42e96060-7816-45b9-c12f-62db3f91952a"
      },
      "source": [
        "model = QUBIQ_NET(height=496, width=496, n_channels=1)\n",
        "#model.compile(optimizer='adam', loss='binary_crossentropy', metrics=[dice_coef, jacard, 'accuracy'])\n",
        "# model.compile(optimizer=Adam(learning_rate=1e-5),loss='binary_crossentropy',metrics=[dice_coef, jacard, Recall(), Precision(), 'accuracy'])\n",
        "print(model.summary())"
      ],
      "execution_count": 13,
      "outputs": [
        {
          "output_type": "stream",
          "name": "stdout",
          "text": [
            "Model: \"model\"\n",
            "__________________________________________________________________________________________________\n",
            "Layer (type)                    Output Shape         Param #     Connected to                     \n",
            "==================================================================================================\n",
            "input_image_1 (InputLayer)      [(None, 496, 496, 1) 0                                            \n",
            "__________________________________________________________________________________________________\n",
            "input_image_2 (InputLayer)      [(None, 496, 496, 1) 0                                            \n",
            "__________________________________________________________________________________________________\n",
            "input_image_3 (InputLayer)      [(None, 496, 496, 1) 0                                            \n",
            "__________________________________________________________________________________________________\n",
            "conv2d (Conv2D)                 (None, 496, 496, 64) 640         input_image_1[0][0]              \n",
            "__________________________________________________________________________________________________\n",
            "conv2d_6 (Conv2D)               (None, 496, 496, 64) 640         input_image_2[0][0]              \n",
            "__________________________________________________________________________________________________\n",
            "conv2d_12 (Conv2D)              (None, 496, 496, 64) 640         input_image_3[0][0]              \n",
            "__________________________________________________________________________________________________\n",
            "conv2d_1 (Conv2D)               (None, 496, 496, 64) 36928       conv2d[0][0]                     \n",
            "__________________________________________________________________________________________________\n",
            "conv2d_7 (Conv2D)               (None, 496, 496, 64) 36928       conv2d_6[0][0]                   \n",
            "__________________________________________________________________________________________________\n",
            "conv2d_13 (Conv2D)              (None, 496, 496, 64) 36928       conv2d_12[0][0]                  \n",
            "__________________________________________________________________________________________________\n",
            "add (Add)                       (None, 496, 496, 64) 0           conv2d_1[0][0]                   \n",
            "                                                                 conv2d[0][0]                     \n",
            "__________________________________________________________________________________________________\n",
            "add_2 (Add)                     (None, 496, 496, 64) 0           conv2d_7[0][0]                   \n",
            "                                                                 conv2d_6[0][0]                   \n",
            "__________________________________________________________________________________________________\n",
            "add_4 (Add)                     (None, 496, 496, 64) 0           conv2d_13[0][0]                  \n",
            "                                                                 conv2d_12[0][0]                  \n",
            "__________________________________________________________________________________________________\n",
            "conv2d_2 (Conv2D)               (None, 496, 496, 64) 36928       add[0][0]                        \n",
            "__________________________________________________________________________________________________\n",
            "conv2d_8 (Conv2D)               (None, 496, 496, 64) 36928       add_2[0][0]                      \n",
            "__________________________________________________________________________________________________\n",
            "conv2d_14 (Conv2D)              (None, 496, 496, 64) 36928       add_4[0][0]                      \n",
            "__________________________________________________________________________________________________\n",
            "average_pooling2d (AveragePooli (None, 248, 248, 64) 0           conv2d_2[0][0]                   \n",
            "__________________________________________________________________________________________________\n",
            "average_pooling2d_2 (AveragePoo (None, 248, 248, 64) 0           conv2d_8[0][0]                   \n",
            "__________________________________________________________________________________________________\n",
            "average_pooling2d_4 (AveragePoo (None, 248, 248, 64) 0           conv2d_14[0][0]                  \n",
            "__________________________________________________________________________________________________\n",
            "conv2d_3 (Conv2D)               (None, 248, 248, 128 73856       average_pooling2d[0][0]          \n",
            "__________________________________________________________________________________________________\n",
            "conv2d_9 (Conv2D)               (None, 248, 248, 128 73856       average_pooling2d_2[0][0]        \n",
            "__________________________________________________________________________________________________\n",
            "conv2d_15 (Conv2D)              (None, 248, 248, 128 73856       average_pooling2d_4[0][0]        \n",
            "__________________________________________________________________________________________________\n",
            "conv2d_4 (Conv2D)               (None, 248, 248, 128 147584      conv2d_3[0][0]                   \n",
            "__________________________________________________________________________________________________\n",
            "conv2d_10 (Conv2D)              (None, 248, 248, 128 147584      conv2d_9[0][0]                   \n",
            "__________________________________________________________________________________________________\n",
            "conv2d_16 (Conv2D)              (None, 248, 248, 128 147584      conv2d_15[0][0]                  \n",
            "__________________________________________________________________________________________________\n",
            "average_pooling2d_1 (AveragePoo (None, 124, 124, 128 0           conv2d_4[0][0]                   \n",
            "__________________________________________________________________________________________________\n",
            "average_pooling2d_3 (AveragePoo (None, 124, 124, 128 0           conv2d_10[0][0]                  \n",
            "__________________________________________________________________________________________________\n",
            "average_pooling2d_5 (AveragePoo (None, 124, 124, 128 0           conv2d_16[0][0]                  \n",
            "__________________________________________________________________________________________________\n",
            "add_6 (Add)                     (None, 124, 124, 128 0           average_pooling2d_1[0][0]        \n",
            "                                                                 average_pooling2d_3[0][0]        \n",
            "                                                                 average_pooling2d_5[0][0]        \n",
            "__________________________________________________________________________________________________\n",
            "down_conv_1 (Conv2D)            (None, 124, 124, 256 295168      add_6[0][0]                      \n",
            "__________________________________________________________________________________________________\n",
            "down_conv_2 (Conv2D)            (None, 124, 124, 256 590080      down_conv_1[0][0]                \n",
            "__________________________________________________________________________________________________\n",
            "max_pooling2d (MaxPooling2D)    (None, 62, 62, 256)  0           down_conv_2[0][0]                \n",
            "__________________________________________________________________________________________________\n",
            "condensed_1 (Conv2D)            (None, 62, 62, 512)  1180160     max_pooling2d[0][0]              \n",
            "__________________________________________________________________________________________________\n",
            "condensed_2 (Conv2D)            (None, 62, 62, 512)  2359808     condensed_1[0][0]                \n",
            "__________________________________________________________________________________________________\n",
            "max_pooling2d_1 (MaxPooling2D)  (None, 31, 31, 512)  0           condensed_2[0][0]                \n",
            "__________________________________________________________________________________________________\n",
            "condensed_3 (Conv2D)            (None, 31, 31, 512)  2359808     max_pooling2d_1[0][0]            \n",
            "__________________________________________________________________________________________________\n",
            "condensed_4 (Conv2D)            (None, 31, 31, 512)  2359808     condensed_3[0][0]                \n",
            "__________________________________________________________________________________________________\n",
            "add_7 (Add)                     (None, 31, 31, 512)  0           condensed_3[0][0]                \n",
            "                                                                 condensed_4[0][0]                \n",
            "__________________________________________________________________________________________________\n",
            "condensed_5 (Conv2D)            (None, 31, 31, 512)  2359808     add_7[0][0]                      \n",
            "__________________________________________________________________________________________________\n",
            "dropout (Dropout)               (None, 31, 31, 512)  0           condensed_5[0][0]                \n",
            "__________________________________________________________________________________________________\n",
            "conv2d_transpose (Conv2DTranspo (None, 62, 62, 512)  1049088     dropout[0][0]                    \n",
            "__________________________________________________________________________________________________\n",
            "concatenate (Concatenate)       (None, 62, 62, 1024) 0           conv2d_transpose[0][0]           \n",
            "                                                                 condensed_2[0][0]                \n",
            "__________________________________________________________________________________________________\n",
            "up_1_1_cont (Conv2D)            (None, 62, 62, 512)  4719104     concatenate[0][0]                \n",
            "__________________________________________________________________________________________________\n",
            "up_1_1_cont_1 (Conv2D)          (None, 62, 62, 512)  2359808     up_1_1_cont[0][0]                \n",
            "__________________________________________________________________________________________________\n",
            "dropout_1 (Dropout)             (None, 62, 62, 512)  0           up_1_1_cont_1[0][0]              \n",
            "__________________________________________________________________________________________________\n",
            "conv2d_transpose_1 (Conv2DTrans (None, 124, 124, 256 524544      dropout_1[0][0]                  \n",
            "__________________________________________________________________________________________________\n",
            "concatenate_1 (Concatenate)     (None, 124, 124, 512 0           conv2d_transpose_1[0][0]         \n",
            "                                                                 down_conv_2[0][0]                \n",
            "__________________________________________________________________________________________________\n",
            "up_conv_1 (Conv2D)              (None, 124, 124, 256 1179904     concatenate_1[0][0]              \n",
            "__________________________________________________________________________________________________\n",
            "Up_conv_1_cont (Conv2D)         (None, 124, 124, 256 590080      up_conv_1[0][0]                  \n",
            "__________________________________________________________________________________________________\n",
            "dropout_2 (Dropout)             (None, 124, 124, 256 0           Up_conv_1_cont[0][0]             \n",
            "__________________________________________________________________________________________________\n",
            "add_1 (Add)                     (None, 248, 248, 128 0           conv2d_4[0][0]                   \n",
            "                                                                 conv2d_3[0][0]                   \n",
            "__________________________________________________________________________________________________\n",
            "add_3 (Add)                     (None, 248, 248, 128 0           conv2d_10[0][0]                  \n",
            "                                                                 conv2d_9[0][0]                   \n",
            "__________________________________________________________________________________________________\n",
            "add_5 (Add)                     (None, 248, 248, 128 0           conv2d_16[0][0]                  \n",
            "                                                                 conv2d_15[0][0]                  \n",
            "__________________________________________________________________________________________________\n",
            "conv2d_transpose_2 (Conv2DTrans (None, 248, 248, 128 131200      dropout_2[0][0]                  \n",
            "__________________________________________________________________________________________________\n",
            "conv2d_5 (Conv2D)               (None, 248, 248, 128 147584      add_1[0][0]                      \n",
            "__________________________________________________________________________________________________\n",
            "conv2d_transpose_4 (Conv2DTrans (None, 248, 248, 128 131200      dropout_2[0][0]                  \n",
            "__________________________________________________________________________________________________\n",
            "conv2d_11 (Conv2D)              (None, 248, 248, 128 147584      add_3[0][0]                      \n",
            "__________________________________________________________________________________________________\n",
            "conv2d_transpose_6 (Conv2DTrans (None, 248, 248, 128 131200      dropout_2[0][0]                  \n",
            "__________________________________________________________________________________________________\n",
            "conv2d_17 (Conv2D)              (None, 248, 248, 128 147584      add_5[0][0]                      \n",
            "__________________________________________________________________________________________________\n",
            "concatenate_2 (Concatenate)     (None, 248, 248, 256 0           conv2d_transpose_2[0][0]         \n",
            "                                                                 conv2d_5[0][0]                   \n",
            "__________________________________________________________________________________________________\n",
            "concatenate_4 (Concatenate)     (None, 248, 248, 256 0           conv2d_transpose_4[0][0]         \n",
            "                                                                 conv2d_11[0][0]                  \n",
            "__________________________________________________________________________________________________\n",
            "concatenate_6 (Concatenate)     (None, 248, 248, 256 0           conv2d_transpose_6[0][0]         \n",
            "                                                                 conv2d_17[0][0]                  \n",
            "__________________________________________________________________________________________________\n",
            "conv2d_18 (Conv2D)              (None, 248, 248, 128 295040      concatenate_2[0][0]              \n",
            "__________________________________________________________________________________________________\n",
            "conv2d_24 (Conv2D)              (None, 248, 248, 128 295040      concatenate_4[0][0]              \n",
            "__________________________________________________________________________________________________\n",
            "conv2d_30 (Conv2D)              (None, 248, 248, 128 295040      concatenate_6[0][0]              \n",
            "__________________________________________________________________________________________________\n",
            "conv2d_19 (Conv2D)              (None, 248, 248, 128 147584      conv2d_18[0][0]                  \n",
            "__________________________________________________________________________________________________\n",
            "conv2d_25 (Conv2D)              (None, 248, 248, 128 147584      conv2d_24[0][0]                  \n",
            "__________________________________________________________________________________________________\n",
            "conv2d_31 (Conv2D)              (None, 248, 248, 128 147584      conv2d_30[0][0]                  \n",
            "__________________________________________________________________________________________________\n",
            "add_8 (Add)                     (None, 248, 248, 128 0           conv2d_19[0][0]                  \n",
            "                                                                 conv2d_18[0][0]                  \n",
            "__________________________________________________________________________________________________\n",
            "add_10 (Add)                    (None, 248, 248, 128 0           conv2d_25[0][0]                  \n",
            "                                                                 conv2d_24[0][0]                  \n",
            "__________________________________________________________________________________________________\n",
            "add_12 (Add)                    (None, 248, 248, 128 0           conv2d_31[0][0]                  \n",
            "                                                                 conv2d_30[0][0]                  \n",
            "__________________________________________________________________________________________________\n",
            "conv2d_20 (Conv2D)              (None, 248, 248, 128 147584      add_8[0][0]                      \n",
            "__________________________________________________________________________________________________\n",
            "conv2d_26 (Conv2D)              (None, 248, 248, 128 147584      add_10[0][0]                     \n",
            "__________________________________________________________________________________________________\n",
            "conv2d_32 (Conv2D)              (None, 248, 248, 128 147584      add_12[0][0]                     \n",
            "__________________________________________________________________________________________________\n",
            "conv2d_transpose_3 (Conv2DTrans (None, 496, 496, 64) 32832       conv2d_20[0][0]                  \n",
            "__________________________________________________________________________________________________\n",
            "conv2d_transpose_5 (Conv2DTrans (None, 496, 496, 64) 32832       conv2d_26[0][0]                  \n",
            "__________________________________________________________________________________________________\n",
            "conv2d_transpose_7 (Conv2DTrans (None, 496, 496, 64) 32832       conv2d_32[0][0]                  \n",
            "__________________________________________________________________________________________________\n",
            "concatenate_3 (Concatenate)     (None, 496, 496, 128 0           conv2d_transpose_3[0][0]         \n",
            "                                                                 conv2d_2[0][0]                   \n",
            "__________________________________________________________________________________________________\n",
            "concatenate_5 (Concatenate)     (None, 496, 496, 128 0           conv2d_transpose_5[0][0]         \n",
            "                                                                 conv2d_8[0][0]                   \n",
            "__________________________________________________________________________________________________\n",
            "concatenate_7 (Concatenate)     (None, 496, 496, 128 0           conv2d_transpose_7[0][0]         \n",
            "                                                                 conv2d_14[0][0]                  \n",
            "__________________________________________________________________________________________________\n",
            "conv2d_21 (Conv2D)              (None, 496, 496, 64) 73792       concatenate_3[0][0]              \n",
            "__________________________________________________________________________________________________\n",
            "conv2d_27 (Conv2D)              (None, 496, 496, 64) 73792       concatenate_5[0][0]              \n",
            "__________________________________________________________________________________________________\n",
            "conv2d_33 (Conv2D)              (None, 496, 496, 64) 73792       concatenate_7[0][0]              \n",
            "__________________________________________________________________________________________________\n",
            "conv2d_22 (Conv2D)              (None, 496, 496, 64) 36928       conv2d_21[0][0]                  \n",
            "__________________________________________________________________________________________________\n",
            "conv2d_28 (Conv2D)              (None, 496, 496, 64) 36928       conv2d_27[0][0]                  \n",
            "__________________________________________________________________________________________________\n",
            "conv2d_34 (Conv2D)              (None, 496, 496, 64) 36928       conv2d_33[0][0]                  \n",
            "__________________________________________________________________________________________________\n",
            "add_9 (Add)                     (None, 496, 496, 64) 0           conv2d_22[0][0]                  \n",
            "                                                                 conv2d_21[0][0]                  \n",
            "__________________________________________________________________________________________________\n",
            "add_11 (Add)                    (None, 496, 496, 64) 0           conv2d_28[0][0]                  \n",
            "                                                                 conv2d_27[0][0]                  \n",
            "__________________________________________________________________________________________________\n",
            "add_13 (Add)                    (None, 496, 496, 64) 0           conv2d_34[0][0]                  \n",
            "                                                                 conv2d_33[0][0]                  \n",
            "__________________________________________________________________________________________________\n",
            "conv2d_23 (Conv2D)              (None, 496, 496, 64) 36928       add_9[0][0]                      \n",
            "__________________________________________________________________________________________________\n",
            "conv2d_29 (Conv2D)              (None, 496, 496, 64) 36928       add_11[0][0]                     \n",
            "__________________________________________________________________________________________________\n",
            "conv2d_35 (Conv2D)              (None, 496, 496, 64) 36928       add_13[0][0]                     \n",
            "__________________________________________________________________________________________________\n",
            "conv2d_36 (Conv2D)              (None, 496, 496, 64) 36928       conv2d_23[0][0]                  \n",
            "__________________________________________________________________________________________________\n",
            "conv2d_38 (Conv2D)              (None, 496, 496, 64) 36928       conv2d_29[0][0]                  \n",
            "__________________________________________________________________________________________________\n",
            "conv2d_40 (Conv2D)              (None, 496, 496, 64) 36928       conv2d_35[0][0]                  \n",
            "__________________________________________________________________________________________________\n",
            "dropout_3 (Dropout)             (None, 496, 496, 64) 0           conv2d_36[0][0]                  \n",
            "__________________________________________________________________________________________________\n",
            "dropout_4 (Dropout)             (None, 496, 496, 64) 0           conv2d_38[0][0]                  \n",
            "__________________________________________________________________________________________________\n",
            "dropout_5 (Dropout)             (None, 496, 496, 64) 0           conv2d_40[0][0]                  \n",
            "__________________________________________________________________________________________________\n",
            "conv2d_37 (Conv2D)              (None, 496, 496, 2)  1154        dropout_3[0][0]                  \n",
            "__________________________________________________________________________________________________\n",
            "conv2d_39 (Conv2D)              (None, 496, 496, 2)  1154        dropout_4[0][0]                  \n",
            "__________________________________________________________________________________________________\n",
            "conv2d_41 (Conv2D)              (None, 496, 496, 2)  1154        dropout_5[0][0]                  \n",
            "__________________________________________________________________________________________________\n",
            "out1 (Conv2D)                   (None, 496, 496, 1)  3           conv2d_37[0][0]                  \n",
            "__________________________________________________________________________________________________\n",
            "out2 (Conv2D)                   (None, 496, 496, 1)  3           conv2d_39[0][0]                  \n",
            "__________________________________________________________________________________________________\n",
            "out3 (Conv2D)                   (None, 496, 496, 1)  3           conv2d_41[0][0]                  \n",
            "==================================================================================================\n",
            "Total params: 26,077,647\n",
            "Trainable params: 26,077,647\n",
            "Non-trainable params: 0\n",
            "__________________________________________________________________________________________________\n",
            "None\n"
          ]
        }
      ]
    },
    {
      "cell_type": "code",
      "metadata": {
        "id": "8vfoUP-vdAHC"
      },
      "source": [
        ""
      ],
      "execution_count": 13,
      "outputs": []
    },
    {
      "cell_type": "code",
      "metadata": {
        "id": "pTFlBoqKdIQM"
      },
      "source": [
        "! mv /content/validation_data_qubiq2021_QC/kidney/Validation/* /content/training_data_v3_QC/kidney/Training/"
      ],
      "execution_count": 14,
      "outputs": []
    },
    {
      "cell_type": "code",
      "metadata": {
        "id": "2RZDAORFft2v"
      },
      "source": [
        "! mv /content/QUBIQ21_test/kidney/Testing/* /content/validation_data_qubiq2021_QC/kidney/Validation/"
      ],
      "execution_count": 15,
      "outputs": []
    },
    {
      "cell_type": "code",
      "metadata": {
        "colab": {
          "base_uri": "https://localhost:8080/"
        },
        "id": "bW2mR0OEbwGD",
        "outputId": "bd2a2e87-8ec3-41e6-c097-3f5bc9b03502"
      },
      "source": [
        "ALL_FILES = glob.glob('/content/training_data_v3_QC/kidney/Training/*')\n",
        "print(ALL_FILES)"
      ],
      "execution_count": 16,
      "outputs": [
        {
          "output_type": "stream",
          "name": "stdout",
          "text": [
            "['/content/training_data_v3_QC/kidney/Training/case20', '/content/training_data_v3_QC/kidney/Training/case10', '/content/training_data_v3_QC/kidney/Training/case07', '/content/training_data_v3_QC/kidney/Training/case23', '/content/training_data_v3_QC/kidney/Training/case16', '/content/training_data_v3_QC/kidney/Training/case03', '/content/training_data_v3_QC/kidney/Training/case09', '/content/training_data_v3_QC/kidney/Training/case01', '/content/training_data_v3_QC/kidney/Training/case04', '/content/training_data_v3_QC/kidney/Training/case08', '/content/training_data_v3_QC/kidney/Training/case14', '/content/training_data_v3_QC/kidney/Training/case13', '/content/training_data_v3_QC/kidney/Training/case05', '/content/training_data_v3_QC/kidney/Training/case02', '/content/training_data_v3_QC/kidney/Training/case24', '/content/training_data_v3_QC/kidney/Training/case06', '/content/training_data_v3_QC/kidney/Training/case22', '/content/training_data_v3_QC/kidney/Training/case19', '/content/training_data_v3_QC/kidney/Training/case12', '/content/training_data_v3_QC/kidney/Training/case11', '/content/training_data_v3_QC/kidney/Training/case18', '/content/training_data_v3_QC/kidney/Training/case21', '/content/training_data_v3_QC/kidney/Training/case15', '/content/training_data_v3_QC/kidney/Training/case17']\n"
          ]
        }
      ]
    },
    {
      "cell_type": "code",
      "metadata": {
        "colab": {
          "base_uri": "https://localhost:8080/"
        },
        "id": "znEHQA37bwDN",
        "outputId": "9e60a861-d918-42a9-fa22-1bb07b8e2d28"
      },
      "source": [
        "len(ALL_FILES)"
      ],
      "execution_count": 17,
      "outputs": [
        {
          "output_type": "execute_result",
          "data": {
            "text/plain": [
              "24"
            ]
          },
          "metadata": {},
          "execution_count": 17
        }
      ]
    },
    {
      "cell_type": "code",
      "metadata": {
        "colab": {
          "base_uri": "https://localhost:8080/"
        },
        "id": "h6YDeBIWbwAJ",
        "outputId": "6846ebc8-03ff-41a7-9d72-a36c4d307553"
      },
      "source": [
        "NO_OF_FILES = glob.glob(ALL_FILES[0]+'/*')\n",
        "print(NO_OF_FILES)\n",
        "print(\"No. of files = \",len(NO_OF_FILES))\n",
        "\n",
        "# this will be the no. of masks for each of the datasets, \n",
        "# since the datasets have one image file and other as mask files\n",
        "\n",
        "NO_OF_MASKS = len(NO_OF_FILES) - 1 "
      ],
      "execution_count": 18,
      "outputs": [
        {
          "output_type": "stream",
          "name": "stdout",
          "text": [
            "['/content/training_data_v3_QC/kidney/Training/case20/task01_seg02.nii.gz', '/content/training_data_v3_QC/kidney/Training/case20/task01_seg03.nii.gz', '/content/training_data_v3_QC/kidney/Training/case20/image.nii.gz', '/content/training_data_v3_QC/kidney/Training/case20/task01_seg01.nii.gz']\n",
            "No. of files =  4\n"
          ]
        }
      ]
    },
    {
      "cell_type": "code",
      "metadata": {
        "id": "mUou08CGeyi0"
      },
      "source": [
        "# Rescale here itself between 0 and 1\n",
        "\n",
        "X_train = []\n",
        "Y_train = [[] for i in range(NO_OF_MASKS)]\n",
        "AFFINE = 0\n",
        "\n",
        "for folders in ALL_FILES:\n",
        "    each_img_file = glob.glob(folders+\"/image.nii.gz\")[0]\n",
        "    # print(each_img_file)\n",
        "    epi_img = nib.load(each_img_file)\n",
        "    epi_img_data = epi_img.get_fdata()\n",
        "    \n",
        "    epi_img_data = epi_img_data/epi_img_data.max()\n",
        "    # print(epi_img_data.shape)\n",
        "    epi_img_data = cv2.resize(epi_img_data,(496, 496), interpolation = cv2.INTER_AREA)\n",
        "    # single channel grayscale inputs \n",
        "    X_train.append(epi_img_data)\n",
        "    \n",
        "\n",
        "    for iter_i in range(NO_OF_MASKS):\n",
        "        each_mask_file = glob.glob(folders+\"/*seg*\")[iter_i]\n",
        "        # print(each_mask_file)\n",
        "        epi_mask = nib.load(each_mask_file)\n",
        "        AFFINE = epi_mask.affine\n",
        "        epi_mask_data = epi_mask.get_fdata()\n",
        "        epi_mask_data = cv2.resize(epi_mask_data,(496, 496), interpolation = cv2.INTER_AREA)\n",
        "        Y_train[iter_i].append(epi_mask_data)\n"
      ],
      "execution_count": 19,
      "outputs": []
    },
    {
      "cell_type": "code",
      "metadata": {
        "colab": {
          "base_uri": "https://localhost:8080/"
        },
        "id": "vI6uGrFueyfr",
        "outputId": "6976b94d-09cc-4595-d30d-446d1aa7a6f1"
      },
      "source": [
        "print(\"AFFINE SAVE = \",AFFINE)"
      ],
      "execution_count": 20,
      "outputs": [
        {
          "output_type": "stream",
          "name": "stdout",
          "text": [
            "AFFINE SAVE =  [[1. 0. 0. 0.]\n",
            " [0. 1. 0. 0.]\n",
            " [0. 0. 1. 0.]\n",
            " [0. 0. 0. 1.]]\n"
          ]
        }
      ]
    },
    {
      "cell_type": "code",
      "metadata": {
        "colab": {
          "base_uri": "https://localhost:8080/"
        },
        "id": "1ldLowuJfbZt",
        "outputId": "b2b18b0c-3069-4a87-bc2c-e0b43ad2a4b9"
      },
      "source": [
        "# this will be useful for the output generation\n",
        "CASE_NO = len(glob.glob('/content/training_data_v3_QC/kidney/Training/*'))\n",
        "print(CASE_NO)\n",
        "print()"
      ],
      "execution_count": 21,
      "outputs": [
        {
          "output_type": "stream",
          "name": "stdout",
          "text": [
            "24\n",
            "\n"
          ]
        }
      ]
    },
    {
      "cell_type": "code",
      "metadata": {
        "colab": {
          "base_uri": "https://localhost:8080/"
        },
        "id": "zoR_mtvUfbXU",
        "outputId": "ac74961c-6d4a-4e05-d3e0-2663a65fe4bd"
      },
      "source": [
        "ALL_VAL_FILES = sorted(glob.glob('/content/validation_data_qubiq2021_QC/kidney/Validation/*'))\n",
        "print(ALL_VAL_FILES)\n",
        "NO_CASES = len(ALL_VAL_FILES)\n",
        "print(NO_CASES)"
      ],
      "execution_count": 22,
      "outputs": [
        {
          "output_type": "stream",
          "name": "stdout",
          "text": [
            "['/content/validation_data_qubiq2021_QC/kidney/Validation/case25', '/content/validation_data_qubiq2021_QC/kidney/Validation/case26', '/content/validation_data_qubiq2021_QC/kidney/Validation/case27', '/content/validation_data_qubiq2021_QC/kidney/Validation/case28']\n",
            "4\n"
          ]
        }
      ]
    },
    {
      "cell_type": "code",
      "metadata": {
        "id": "ckqbnrw0fbUb"
      },
      "source": [
        "# create the folders of the sub-output\n",
        "# later download this output folder\n",
        "\n",
        "for item in range(NO_CASES):\n",
        "    folder_name = CASE_NO + item + 1\n",
        "    new_path = 'kidney/case'+str(folder_name)+\"/\"\n",
        "    if not os.path.exists(new_path):\n",
        "        os.makedirs(new_path)"
      ],
      "execution_count": 23,
      "outputs": []
    },
    {
      "cell_type": "code",
      "metadata": {
        "colab": {
          "base_uri": "https://localhost:8080/"
        },
        "id": "OICIkNH0fbKM",
        "outputId": "92d9d5ad-386a-4630-907e-0112cd7424cd"
      },
      "source": [
        "NO_OF_FILES = glob.glob(ALL_FILES[0]+'/*')\n",
        "print(NO_OF_FILES)\n",
        "print(\"No. of files = \",len(NO_OF_FILES))\n",
        "\n",
        "# this will be the no. of masks for each of the datasets, \n",
        "# since the datasets have one image file and other as mask files\n",
        "\n",
        "NO_OF_MASKS = len(NO_OF_FILES) - 1 "
      ],
      "execution_count": 24,
      "outputs": [
        {
          "output_type": "stream",
          "name": "stdout",
          "text": [
            "['/content/training_data_v3_QC/kidney/Training/case20/task01_seg02.nii.gz', '/content/training_data_v3_QC/kidney/Training/case20/task01_seg03.nii.gz', '/content/training_data_v3_QC/kidney/Training/case20/image.nii.gz', '/content/training_data_v3_QC/kidney/Training/case20/task01_seg01.nii.gz']\n",
            "No. of files =  4\n"
          ]
        }
      ]
    },
    {
      "cell_type": "code",
      "metadata": {
        "id": "IeUC0jqniDBh"
      },
      "source": [
        "# Consider the validation data as test here itself\n",
        "# Rescale here itself between 0 and 1\n",
        "\n",
        "X_test = []\n",
        "Y_test = [[] for i in range(NO_OF_MASKS)]\n",
        "\n",
        "\n",
        "for folders in ALL_VAL_FILES:\n",
        "    each_img_file = glob.glob(folders+\"/image.nii.gz\")[0]\n",
        "    # print(each_img_file)\n",
        "    epi_img = nib.load(each_img_file)\n",
        "    epi_img_data = epi_img.get_fdata()\n",
        "    epi_img_data = cv2.resize(epi_img_data,(496, 496), interpolation = cv2.INTER_AREA)\n",
        "    epi_img_data = epi_img_data/epi_img_data.max()\n",
        "    # single channel grayscale inputs \n",
        "    X_test.append(epi_img_data)\n",
        "    \n",
        "\n",
        "    # for iter_i in range(NO_OF_MASKS):\n",
        "    #     each_mask_file = glob.glob(folders+\"/*seg*\")[iter_i]\n",
        "    #     # print(each_mask_file)\n",
        "    #     epi_mask = nib.load(each_mask_file)\n",
        "    #     epi_mask_data = epi_mask.get_fdata()\n",
        "    #     epi_mask_data = cv2.resize(epi_mask_data,(496, 496), interpolation = cv2.INTER_AREA)\n",
        "    #     Y_test[iter_i].append(epi_mask_data)\n"
      ],
      "execution_count": 25,
      "outputs": []
    },
    {
      "cell_type": "code",
      "metadata": {
        "colab": {
          "base_uri": "https://localhost:8080/",
          "height": 688
        },
        "id": "WyW2MYr6iC-q",
        "outputId": "a7b121be-4338-44db-ceee-5df5e4141071"
      },
      "source": [
        "plt.figure(figsize=(5,5))\n",
        "plt.imshow(X_train[0], cmap='gray')\n",
        "plt.title('Input 1')\n",
        "plt.show()\n",
        "\n",
        "plt.figure(figsize=(10*NO_OF_MASKS,10))\n",
        "for i in range(NO_OF_MASKS):\n",
        "    plt.subplot(1,NO_OF_MASKS,i+1)\n",
        "    plt.imshow(Y_train[i][0], cmap='gray')\n",
        "    plt.title('Ground Truth')\n",
        "plt.show()"
      ],
      "execution_count": 26,
      "outputs": [
        {
          "output_type": "display_data",
          "data": {
            "image/png": "[encoded data removed]",
            "text/plain": [
              "<Figure size 360x360 with 1 Axes>"
            ]
          },
          "metadata": {
            "needs_background": "light"
          }
        },
        {
          "output_type": "display_data",
          "data": {
            "image/png": "[encoded data removed]",
            "text/plain": [
              "<Figure size 2160x720 with 3 Axes>"
            ]
          },
          "metadata": {
            "needs_background": "light"
          }
        }
      ]
    },
    {
      "cell_type": "code",
      "metadata": {
        "colab": {
          "base_uri": "https://localhost:8080/"
        },
        "id": "tuqpgYbSiC9E",
        "outputId": "3a1f44db-9916-4ff8-9add-42cc48abb828"
      },
      "source": [
        "X_train = np.array(X_train)\n",
        "# ALL_IMG_FILES_INV = np.array(ALL_IMG_FILES_INV)\n",
        "Y_train = np.array(Y_train)\n",
        "print(X_train.shape)\n",
        "# print(ALL_IMG_FILES_INV.shape)\n",
        "print(Y_train.shape)"
      ],
      "execution_count": 27,
      "outputs": [
        {
          "output_type": "stream",
          "name": "stdout",
          "text": [
            "(24, 496, 496)\n",
            "(3, 24, 496, 496)\n"
          ]
        }
      ]
    },
    {
      "cell_type": "code",
      "metadata": {
        "colab": {
          "base_uri": "https://localhost:8080/"
        },
        "id": "u0Uod3pmiC64",
        "outputId": "14715631-dd5a-40b2-fa2e-8fb3c0028dec"
      },
      "source": [
        "X_test = np.array(X_test)\n",
        "# ALL_IMG_FILES_INV = np.array(ALL_IMG_FILES_INV)\n",
        "# Y_test = np.array(Y_test)\n",
        "print(X_test.shape)\n",
        "# print(ALL_IMG_FILES_INV.shape)\n",
        "# print(Y_test.shape)"
      ],
      "execution_count": 28,
      "outputs": [
        {
          "output_type": "stream",
          "name": "stdout",
          "text": [
            "(4, 496, 496)\n"
          ]
        }
      ]
    },
    {
      "cell_type": "code",
      "metadata": {
        "id": "XRazYvaCbm9W"
      },
      "source": [
        "# Remove the k fold and only use the training data \n",
        "# for training and the validation data for testing\n",
        "Y_train_final = [[] for i in range(NO_OF_MASKS)]\n",
        "# Y_test_final = [[] for i in range(NO_OF_MASKS)]\n",
        "\n",
        "for iter_i in range(NO_OF_MASKS):\n",
        "    Y_train_final[iter_i] = Y_train[iter_i].reshape((Y_train[iter_i].shape[0], Y_train[iter_i].shape[1], Y_train[iter_i].shape[2],1))\n",
        "    # Y_test_final[iter_i] = Y_test[iter_i].reshape((Y_test[iter_i].shape[0], Y_test[iter_i].shape[1], Y_test[iter_i].shape[2],1))\n",
        "\n",
        "for iter_i in range(NO_OF_MASKS):\n",
        "    Y_train_final[iter_i] = np.round(Y_train_final[iter_i], 0)\n",
        "    # Y_test_final[iter_i] = np.round(Y_test_final[iter_i], 0)\n",
        "\n",
        "\n",
        "def saveModel(model):\n",
        "    model_json = model.to_json()\n",
        "    try:\n",
        "        os.makedirs('models')\n",
        "    except:\n",
        "        pass\n",
        "    fp = open('models/modelP_Qubiq.json','w')\n",
        "    fp.write(model_json)\n",
        "    model.save_weights('models/modelW_Qubiq.h5')\n",
        "\n",
        "\n",
        "jaccard_index_list = []\n",
        "dice_coeff_list = []\n",
        "\n",
        "def evaluateModel(model, X_test, Y_test, batchSize):\n",
        "    try:\n",
        "        os.makedirs('results')\n",
        "    except:\n",
        "        pass\n",
        "    # testing part of the code\n",
        "    yp = model.predict(x=[X_test, X_test, X_test], batch_size=batchSize, verbose=1)\n",
        "    yp = np.round(yp,0)\n",
        "    print(\"Predicted yp shape = \",yp.shape)\n",
        "    jacard = 0\n",
        "    dice = 0\n",
        "    avg_precision = 0\n",
        "    count_dummy = 0\n",
        "    print(\"No. of Samples to be predicted = \", len(X_test))\n",
        "    for i in range(len(X_test)):\n",
        "        # parsing through the files of test set\n",
        "        # plt.figure(figsize=(NO_OF_MASKS*10,30))\n",
        "        # plt.subplot(3,NO_OF_MASKS,1)\n",
        "        # plt.imshow(X_test[i], cmap='gray')\n",
        "        # plt.title('Input 1')\n",
        "        \n",
        "\n",
        "        for item in range(NO_OF_MASKS):\n",
        "            # plt.subplot(3,NO_OF_MASKS,item+NO_OF_MASKS+1)\n",
        "            # plt.imshow(Y_test[item][i].reshape(Y_test[item][i].shape[0],Y_test[item][i].shape[1]), cmap='gray')\n",
        "            # plt.title('Ground Truth')\n",
        "\n",
        "            # for plotting the predicted ones\n",
        "            # plt.subplot(3,NO_OF_MASKS,item+2*NO_OF_MASKS+1)\n",
        "            # plt.imshow(yp[item][i].reshape(yp[item][i].shape[0],yp[item][i].shape[1]), cmap='gray')\n",
        "            # plt.title('Prediction')\n",
        "\n",
        "            save_name = \"kidney/case{}/task01_seg0\".format(CASE_NO+i+1) + str(item+1) + \".nii.gz\"\n",
        "            # save the file here in .nii.gz format\n",
        "            save_file = yp[item][i].reshape(yp[item][i].shape[0],yp[item][i].shape[1])\n",
        "            resized = cv2.resize(save_file,(497, 497), interpolation = cv2.INTER_AREA)\n",
        "            nib.save(nib.Nifti1Image(resized, AFFINE), save_name)\n",
        "\n",
        "            # yp_2 = yp[item][i].ravel()\n",
        "            # y2 = Y_test[item][i].ravel()\n",
        "\n",
        "            # intersection = yp_2 * y2\n",
        "            # union = yp_2 + y2 - intersection\n",
        "            # average_precision_score_got = average_precision_score(yp_2, y2)\n",
        "            # jacard_got = (np.sum(intersection)/np.sum(union))\n",
        "            # dice_got = (2. * np.sum(intersection) ) / (np.sum(yp_2) + np.sum(y2))\n",
        "            # plt.suptitle('Jacard Index'+ str(np.sum(intersection)) +'/'+ str(np.sum(union)) +'='+str(jacard_got)\n",
        "            #     +\" Dice : \"+str(dice_got)+ \" Precision : \"+str(average_precision_score_got))\n",
        "            # avg_precision += average_precision_score_got\n",
        "            # jacard += jacard_got\n",
        "            # dice += dice_got\n",
        "            # count_dummy+=1\n",
        "\n",
        "        # plt.savefig('results/'+str(i)+'.png',format='png')\n",
        "        # plt.close()\n",
        "    \n",
        "    # jacard /= count_dummy\n",
        "    # dice /= count_dummy\n",
        "    # avg_precision /= count_dummy\n",
        "\n",
        "\n",
        "    # # recall_score /= len(Y_test)\n",
        "\n",
        "    # print('Jacard Index : '+str(jacard))\n",
        "    # print('Dice Coefficient : '+str(dice))\n",
        "    # with open(\"Output.txt\", \"a\") as text_file:\n",
        "    #     text_file.write(\"Jacard : {} Dice Coef : {} Avg. Precision : {}  \\n\".format(\n",
        "    #     str(jacard), str(dice), str(avg_precision)))\n",
        "    \n",
        "    # jaccard_index_list.append(jacard)\n",
        "    # dice_coeff_list.append(dice)\n",
        "    # fp = open('models/log_Qubiq.txt','a')\n",
        "    # fp.write(str(jacard)+'\\n')\n",
        "    # fp.close()\n",
        "\n",
        "    # fp = open('models/best_Qubiq.txt','r')\n",
        "    # best = fp.read()\n",
        "    # fp.close()\n",
        "\n",
        "    # if(jacard>float(best)):\n",
        "    #     print('***********************************************')\n",
        "    #     print('Jacard Index improved from '+str(best)+' to '+str(jacard))\n",
        "    #     print('***********************************************')\n",
        "    #     fp = open('models/best_Qubiq.txt','w')\n",
        "    #     fp.write(str(jacard))\n",
        "    #     fp.close()\n",
        "\n",
        "    #     saveModel(model)"
      ],
      "execution_count": 29,
      "outputs": []
    },
    {
      "cell_type": "code",
      "metadata": {
        "colab": {
          "base_uri": "https://localhost:8080/"
        },
        "id": "XbfBXaH6i24U",
        "outputId": "c885d326-461f-4d1d-82a9-995689793250"
      },
      "source": [
        "def trainStep(model, X_train, Y_train, X_test, epochs, batchSize):\n",
        "\n",
        "    history = model.fit(x=[X_train, X_train, X_train], y=Y_train, batch_size=batchSize, epochs=epochs, verbose=1)\n",
        "\n",
        "    # convert the history.history dict to a pandas DataFrame:\n",
        "    hist_df = pd.DataFrame(history.history)\n",
        "\n",
        "    # save to json:\n",
        "    hist_json_file = 'history_Qubiq.json'\n",
        "    with open(hist_json_file, mode='w') as f:\n",
        "        hist_df.to_json(f)\n",
        "\n",
        "    # or save to csv:\n",
        "    hist_csv_file = 'history_Qubiq.csv'\n",
        "    with open(hist_csv_file, mode='w') as f:\n",
        "        hist_df.to_csv(f)\n",
        "\n",
        "    evaluateModel(model, X_test, Y_test, batchSize)\n",
        "\n",
        "    return model\n",
        "\n",
        "# img_w, img_h, n_label, data_format='channels_first'\n",
        "model = QUBIQ_NET(height=496, width=496, n_channels=1)\n",
        "\n",
        "loss = {'out1': tversky_loss,\n",
        "        'out2': tversky_loss,\n",
        "        'out3': tversky_loss\n",
        "        }\n",
        "    \n",
        "loss_weights = {'out1':1,\n",
        "                'out2':1,\n",
        "                'out3':1\n",
        "                }\n",
        "\n",
        "model.compile(optimizer=Nadam(learning_rate=1e-5),loss=loss, loss_weights=loss_weights,metrics=[dice_coef, jacard, Recall(), Precision(), 'accuracy'])\n",
        "\n",
        "saveModel(model)\n",
        "\n",
        "fp = open('models/log_Qubiq.txt','w')\n",
        "fp.close()\n",
        "fp = open('models/best_Qubiq.txt','w')\n",
        "fp.write('-1.0')\n",
        "fp.close()\n",
        "\n",
        "trainStep(model, X_train, Y_train_final, X_test, epochs=100, batchSize=2)\n"
      ],
      "execution_count": 30,
      "outputs": [
        {
          "output_type": "stream",
          "name": "stderr",
          "text": [
            "/usr/local/lib/python3.7/dist-packages/keras/utils/generic_utils.py:497: CustomMaskWarning: Custom mask layers require a config and must override get_config. When loading, the custom mask layer must be passed to the custom_objects argument.\n",
            "  category=CustomMaskWarning)\n"
          ]
        },
        {
          "output_type": "stream",
          "name": "stdout",
          "text": [
            "Epoch 1/100\n",
            "12/12 [==============================] - 114s 4s/step - loss: 2.8220 - out1_loss: 0.9443 - out2_loss: 0.9434 - out3_loss: 0.9342 - out1_dice_coef: 0.0349 - out1_jacard: 0.0178 - out1_recall: 0.9857 - out1_precision: 0.0180 - out1_accuracy: 0.0356 - out2_dice_coef: 0.0354 - out2_jacard: 0.0180 - out2_recall: 0.9958 - out2_precision: 0.0181 - out2_accuracy: 0.0306 - out3_dice_coef: 0.0417 - out3_jacard: 0.0213 - out3_recall: 0.1787 - out3_precision: 0.0303 - out3_accuracy: 0.8758\n",
            "Epoch 2/100\n",
            "12/12 [==============================] - 52s 4s/step - loss: 2.7955 - out1_loss: 0.9417 - out2_loss: 0.9383 - out3_loss: 0.9155 - out1_dice_coef: 0.0365 - out1_jacard: 0.0186 - out1_recall: 1.0000 - out1_precision: 0.0179 - out1_accuracy: 0.0179 - out2_dice_coef: 0.0387 - out2_jacard: 0.0197 - out2_recall: 1.0000 - out2_precision: 0.0179 - out2_accuracy: 0.0179 - out3_dice_coef: 0.0545 - out3_jacard: 0.0281 - out3_recall: 0.3764 - out3_precision: 0.0578 - out3_accuracy: 0.8717\n",
            "Epoch 3/100\n",
            "12/12 [==============================] - 52s 4s/step - loss: 2.7470 - out1_loss: 0.9339 - out2_loss: 0.9289 - out3_loss: 0.8842 - out1_dice_coef: 0.0413 - out1_jacard: 0.0211 - out1_recall: 0.9987 - out1_precision: 0.0185 - out1_accuracy: 0.0505 - out2_dice_coef: 0.0443 - out2_jacard: 0.0227 - out2_recall: 0.9842 - out2_precision: 0.0335 - out2_accuracy: 0.4921 - out3_dice_coef: 0.0772 - out3_jacard: 0.0402 - out3_recall: 0.4435 - out3_precision: 0.0836 - out3_accuracy: 0.8972\n",
            "Epoch 4/100\n",
            "12/12 [==============================] - 52s 4s/step - loss: 2.6550 - out1_loss: 0.9221 - out2_loss: 0.9217 - out3_loss: 0.8111 - out1_dice_coef: 0.0486 - out1_jacard: 0.0249 - out1_recall: 0.9833 - out1_precision: 0.0394 - out1_accuracy: 0.5695 - out2_dice_coef: 0.0487 - out2_jacard: 0.0250 - out2_recall: 0.9780 - out2_precision: 0.0373 - out2_accuracy: 0.5479 - out3_dice_coef: 0.1419 - out3_jacard: 0.0765 - out3_recall: 0.2584 - out3_precision: 0.1697 - out3_accuracy: 0.9619\n",
            "Epoch 5/100\n",
            "12/12 [==============================] - 52s 4s/step - loss: 2.5965 - out1_loss: 0.9134 - out2_loss: 0.9138 - out3_loss: 0.7693 - out1_dice_coef: 0.0541 - out1_jacard: 0.0278 - out1_recall: 0.9684 - out1_precision: 0.0662 - out1_accuracy: 0.7547 - out2_dice_coef: 0.0538 - out2_jacard: 0.0277 - out2_recall: 0.9560 - out2_precision: 0.0633 - out2_accuracy: 0.7459 - out3_dice_coef: 0.1930 - out3_jacard: 0.1073 - out3_recall: 0.3579 - out3_precision: 0.1937 - out3_accuracy: 0.9595\n",
            "Epoch 6/100\n",
            "12/12 [==============================] - 52s 4s/step - loss: 2.5653 - out1_loss: 0.9104 - out2_loss: 0.9106 - out3_loss: 0.7443 - out1_dice_coef: 0.0559 - out1_jacard: 0.0288 - out1_recall: 0.9623 - out1_precision: 0.0786 - out1_accuracy: 0.7971 - out2_dice_coef: 0.0558 - out2_jacard: 0.0287 - out2_recall: 0.9468 - out2_precision: 0.0789 - out2_accuracy: 0.8014 - out3_dice_coef: 0.2237 - out3_jacard: 0.1267 - out3_recall: 0.4799 - out3_precision: 0.2244 - out3_accuracy: 0.9586\n",
            "Epoch 7/100\n",
            "12/12 [==============================] - 52s 4s/step - loss: 2.5240 - out1_loss: 0.9085 - out2_loss: 0.9088 - out3_loss: 0.7067 - out1_dice_coef: 0.0571 - out1_jacard: 0.0294 - out1_recall: 0.9603 - out1_precision: 0.0888 - out1_accuracy: 0.8227 - out2_dice_coef: 0.0570 - out2_jacard: 0.0293 - out2_recall: 0.9433 - out2_precision: 0.0912 - out2_accuracy: 0.8307 - out3_dice_coef: 0.2708 - out3_jacard: 0.1576 - out3_recall: 0.5061 - out3_precision: 0.2906 - out3_accuracy: 0.9672\n",
            "Epoch 8/100\n",
            "12/12 [==============================] - 52s 4s/step - loss: 2.5013 - out1_loss: 0.9064 - out2_loss: 0.9066 - out3_loss: 0.6883 - out1_dice_coef: 0.0585 - out1_jacard: 0.0301 - out1_recall: 0.9517 - out1_precision: 0.1027 - out1_accuracy: 0.8501 - out2_dice_coef: 0.0584 - out2_jacard: 0.0301 - out2_recall: 0.9347 - out2_precision: 0.1075 - out2_accuracy: 0.8600 - out3_dice_coef: 0.2908 - out3_jacard: 0.1708 - out3_recall: 0.5746 - out3_precision: 0.3014 - out3_accuracy: 0.9667\n",
            "Epoch 9/100\n",
            "12/12 [==============================] - 52s 4s/step - loss: 2.5082 - out1_loss: 0.9055 - out2_loss: 0.9058 - out3_loss: 0.6969 - out1_dice_coef: 0.0591 - out1_jacard: 0.0304 - out1_recall: 0.9409 - out1_precision: 0.1212 - out1_accuracy: 0.8767 - out2_dice_coef: 0.0589 - out2_jacard: 0.0304 - out2_recall: 0.9288 - out2_precision: 0.1241 - out2_accuracy: 0.8814 - out3_dice_coef: 0.2748 - out3_jacard: 0.1606 - out3_recall: 0.6722 - out3_precision: 0.2269 - out3_accuracy: 0.9503\n",
            "Epoch 10/100\n",
            "12/12 [==============================] - 52s 4s/step - loss: 2.4450 - out1_loss: 0.9026 - out2_loss: 0.9031 - out3_loss: 0.6393 - out1_dice_coef: 0.0609 - out1_jacard: 0.0314 - out1_recall: 0.9394 - out1_precision: 0.1677 - out1_accuracy: 0.9153 - out2_dice_coef: 0.0607 - out2_jacard: 0.0313 - out2_recall: 0.9276 - out2_precision: 0.1713 - out2_accuracy: 0.9184 - out3_dice_coef: 0.3495 - out3_jacard: 0.2126 - out3_recall: 0.6689 - out3_precision: 0.3696 - out3_accuracy: 0.9721\n",
            "Epoch 11/100\n",
            "12/12 [==============================] - 52s 4s/step - loss: 2.4474 - out1_loss: 0.9014 - out2_loss: 0.9020 - out3_loss: 0.6441 - out1_dice_coef: 0.0617 - out1_jacard: 0.0319 - out1_recall: 0.9553 - out1_precision: 0.1712 - out1_accuracy: 0.9163 - out2_dice_coef: 0.0614 - out2_jacard: 0.0317 - out2_recall: 0.9463 - out2_precision: 0.1712 - out2_accuracy: 0.9170 - out3_dice_coef: 0.3431 - out3_jacard: 0.2099 - out3_recall: 0.7138 - out3_precision: 0.3113 - out3_accuracy: 0.9646\n",
            "Epoch 12/100\n",
            "12/12 [==============================] - 52s 4s/step - loss: 2.3975 - out1_loss: 0.8993 - out2_loss: 0.9000 - out3_loss: 0.5982 - out1_dice_coef: 0.0631 - out1_jacard: 0.0326 - out1_recall: 0.9627 - out1_precision: 0.2253 - out1_accuracy: 0.9400 - out2_dice_coef: 0.0626 - out2_jacard: 0.0323 - out2_recall: 0.9500 - out2_precision: 0.2233 - out2_accuracy: 0.9400 - out3_dice_coef: 0.4021 - out3_jacard: 0.2527 - out3_recall: 0.7382 - out3_precision: 0.4330 - out3_accuracy: 0.9767\n",
            "Epoch 13/100\n",
            "12/12 [==============================] - 52s 4s/step - loss: 2.3699 - out1_loss: 0.8980 - out2_loss: 0.8986 - out3_loss: 0.5732 - out1_dice_coef: 0.0639 - out1_jacard: 0.0330 - out1_recall: 0.9698 - out1_precision: 0.2507 - out1_accuracy: 0.9475 - out2_dice_coef: 0.0635 - out2_jacard: 0.0328 - out2_recall: 0.9595 - out2_precision: 0.2505 - out2_accuracy: 0.9479 - out3_dice_coef: 0.4356 - out3_jacard: 0.2806 - out3_recall: 0.7804 - out3_precision: 0.4761 - out3_accuracy: 0.9795\n",
            "Epoch 14/100\n",
            "12/12 [==============================] - 52s 4s/step - loss: 2.3396 - out1_loss: 0.8968 - out2_loss: 0.8973 - out3_loss: 0.5455 - out1_dice_coef: 0.0647 - out1_jacard: 0.0334 - out1_recall: 0.9754 - out1_precision: 0.3009 - out1_accuracy: 0.9589 - out2_dice_coef: 0.0643 - out2_jacard: 0.0332 - out2_recall: 0.9687 - out2_precision: 0.3005 - out2_accuracy: 0.9591 - out3_dice_coef: 0.4699 - out3_jacard: 0.3085 - out3_recall: 0.8167 - out3_precision: 0.5578 - out3_accuracy: 0.9842\n",
            "Epoch 15/100\n",
            "12/12 [==============================] - 51s 4s/step - loss: 2.3209 - out1_loss: 0.8960 - out2_loss: 0.8965 - out3_loss: 0.5284 - out1_dice_coef: 0.0652 - out1_jacard: 0.0337 - out1_recall: 0.9768 - out1_precision: 0.3469 - out1_accuracy: 0.9666 - out2_dice_coef: 0.0649 - out2_jacard: 0.0335 - out2_recall: 0.9706 - out2_precision: 0.3478 - out2_accuracy: 0.9669 - out3_dice_coef: 0.4981 - out3_jacard: 0.3336 - out3_recall: 0.8382 - out3_precision: 0.6042 - out3_accuracy: 0.9865\n",
            "Epoch 16/100\n",
            "12/12 [==============================] - 51s 4s/step - loss: 2.3116 - out1_loss: 0.8955 - out2_loss: 0.8959 - out3_loss: 0.5202 - out1_dice_coef: 0.0655 - out1_jacard: 0.0339 - out1_recall: 0.9800 - out1_precision: 0.3780 - out1_accuracy: 0.9707 - out2_dice_coef: 0.0652 - out2_jacard: 0.0337 - out2_recall: 0.9748 - out2_precision: 0.3813 - out2_accuracy: 0.9712 - out3_dice_coef: 0.5090 - out3_jacard: 0.3438 - out3_recall: 0.8548 - out3_precision: 0.6333 - out3_accuracy: 0.9879\n",
            "Epoch 17/100\n",
            "12/12 [==============================] - 52s 4s/step - loss: 2.3069 - out1_loss: 0.8954 - out2_loss: 0.8958 - out3_loss: 0.5157 - out1_dice_coef: 0.0656 - out1_jacard: 0.0339 - out1_recall: 0.9829 - out1_precision: 0.3514 - out1_accuracy: 0.9672 - out2_dice_coef: 0.0653 - out2_jacard: 0.0338 - out2_recall: 0.9774 - out2_precision: 0.3572 - out2_accuracy: 0.9681 - out3_dice_coef: 0.5087 - out3_jacard: 0.3438 - out3_recall: 0.8873 - out3_precision: 0.5944 - out3_accuracy: 0.9864\n",
            "Epoch 18/100\n",
            "12/12 [==============================] - 52s 4s/step - loss: 2.2972 - out1_loss: 0.8949 - out2_loss: 0.8954 - out3_loss: 0.5068 - out1_dice_coef: 0.0659 - out1_jacard: 0.0341 - out1_recall: 0.9856 - out1_precision: 0.3834 - out1_accuracy: 0.9713 - out2_dice_coef: 0.0656 - out2_jacard: 0.0339 - out2_recall: 0.9801 - out2_precision: 0.3893 - out2_accuracy: 0.9721 - out3_dice_coef: 0.5244 - out3_jacard: 0.3581 - out3_recall: 0.8879 - out3_precision: 0.6277 - out3_accuracy: 0.9879\n",
            "Epoch 19/100\n",
            "12/12 [==============================] - 52s 4s/step - loss: 2.2773 - out1_loss: 0.8943 - out2_loss: 0.8948 - out3_loss: 0.4882 - out1_dice_coef: 0.0663 - out1_jacard: 0.0343 - out1_recall: 0.9867 - out1_precision: 0.4410 - out1_accuracy: 0.9773 - out2_dice_coef: 0.0660 - out2_jacard: 0.0341 - out2_recall: 0.9821 - out2_precision: 0.4451 - out2_accuracy: 0.9778 - out3_dice_coef: 0.5487 - out3_jacard: 0.3793 - out3_recall: 0.9053 - out3_precision: 0.7022 - out3_accuracy: 0.9909\n",
            "Epoch 20/100\n",
            "12/12 [==============================] - 52s 4s/step - loss: 2.2865 - out1_loss: 0.8945 - out2_loss: 0.8948 - out3_loss: 0.4972 - out1_dice_coef: 0.0661 - out1_jacard: 0.0342 - out1_recall: 0.9894 - out1_precision: 0.3955 - out1_accuracy: 0.9727 - out2_dice_coef: 0.0659 - out2_jacard: 0.0341 - out2_recall: 0.9859 - out2_precision: 0.3989 - out2_accuracy: 0.9732 - out3_dice_coef: 0.5340 - out3_jacard: 0.3684 - out3_recall: 0.9201 - out3_precision: 0.6168 - out3_accuracy: 0.9876\n",
            "Epoch 21/100\n",
            "12/12 [==============================] - 52s 4s/step - loss: 2.2646 - out1_loss: 0.8937 - out2_loss: 0.8941 - out3_loss: 0.4768 - out1_dice_coef: 0.0666 - out1_jacard: 0.0345 - out1_recall: 0.9904 - out1_precision: 0.4887 - out1_accuracy: 0.9813 - out2_dice_coef: 0.0664 - out2_jacard: 0.0344 - out2_recall: 0.9871 - out2_precision: 0.4928 - out2_accuracy: 0.9816 - out3_dice_coef: 0.5638 - out3_jacard: 0.3939 - out3_recall: 0.9260 - out3_precision: 0.7278 - out3_accuracy: 0.9920\n",
            "Epoch 22/100\n",
            "12/12 [==============================] - 52s 4s/step - loss: 2.2741 - out1_loss: 0.8942 - out2_loss: 0.8945 - out3_loss: 0.4853 - out1_dice_coef: 0.0663 - out1_jacard: 0.0343 - out1_recall: 0.9829 - out1_precision: 0.4815 - out1_accuracy: 0.9807 - out2_dice_coef: 0.0661 - out2_jacard: 0.0342 - out2_recall: 0.9803 - out2_precision: 0.4901 - out2_accuracy: 0.9814 - out3_dice_coef: 0.5541 - out3_jacard: 0.3838 - out3_recall: 0.9129 - out3_precision: 0.7213 - out3_accuracy: 0.9917\n",
            "Epoch 23/100\n",
            "12/12 [==============================] - 52s 4s/step - loss: 2.2621 - out1_loss: 0.8936 - out2_loss: 0.8939 - out3_loss: 0.4746 - out1_dice_coef: 0.0667 - out1_jacard: 0.0345 - out1_recall: 0.9904 - out1_precision: 0.5136 - out1_accuracy: 0.9830 - out2_dice_coef: 0.0665 - out2_jacard: 0.0344 - out2_recall: 0.9868 - out2_precision: 0.5232 - out2_accuracy: 0.9837 - out3_dice_coef: 0.5679 - out3_jacard: 0.3974 - out3_recall: 0.9264 - out3_precision: 0.7405 - out3_accuracy: 0.9924\n",
            "Epoch 24/100\n",
            "12/12 [==============================] - 52s 4s/step - loss: 2.2560 - out1_loss: 0.8934 - out2_loss: 0.8937 - out3_loss: 0.4690 - out1_dice_coef: 0.0669 - out1_jacard: 0.0346 - out1_recall: 0.9927 - out1_precision: 0.5184 - out1_accuracy: 0.9833 - out2_dice_coef: 0.0667 - out2_jacard: 0.0345 - out2_recall: 0.9897 - out2_precision: 0.5287 - out2_accuracy: 0.9840 - out3_dice_coef: 0.5745 - out3_jacard: 0.4038 - out3_recall: 0.9410 - out3_precision: 0.7544 - out3_accuracy: 0.9931\n",
            "Epoch 25/100\n",
            "12/12 [==============================] - 52s 4s/step - loss: 2.2564 - out1_loss: 0.8934 - out2_loss: 0.8937 - out3_loss: 0.4694 - out1_dice_coef: 0.0669 - out1_jacard: 0.0346 - out1_recall: 0.9919 - out1_precision: 0.5253 - out1_accuracy: 0.9838 - out2_dice_coef: 0.0667 - out2_jacard: 0.0345 - out2_recall: 0.9894 - out2_precision: 0.5350 - out2_accuracy: 0.9844 - out3_dice_coef: 0.5756 - out3_jacard: 0.4059 - out3_recall: 0.9369 - out3_precision: 0.7448 - out3_accuracy: 0.9927\n",
            "Epoch 26/100\n",
            "12/12 [==============================] - 52s 4s/step - loss: 2.2541 - out1_loss: 0.8933 - out2_loss: 0.8936 - out3_loss: 0.4672 - out1_dice_coef: 0.0669 - out1_jacard: 0.0346 - out1_recall: 0.9908 - out1_precision: 0.5608 - out1_accuracy: 0.9859 - out2_dice_coef: 0.0668 - out2_jacard: 0.0345 - out2_recall: 0.9883 - out2_precision: 0.5712 - out2_accuracy: 0.9865 - out3_dice_coef: 0.5805 - out3_jacard: 0.4104 - out3_recall: 0.9333 - out3_precision: 0.7729 - out3_accuracy: 0.9935\n",
            "Epoch 27/100\n",
            "12/12 [==============================] - 52s 4s/step - loss: 2.2767 - out1_loss: 0.8942 - out2_loss: 0.8944 - out3_loss: 0.4881 - out1_dice_coef: 0.0663 - out1_jacard: 0.0343 - out1_recall: 0.9908 - out1_precision: 0.4183 - out1_accuracy: 0.9751 - out2_dice_coef: 0.0662 - out2_jacard: 0.0343 - out2_recall: 0.9896 - out2_precision: 0.4316 - out2_accuracy: 0.9765 - out3_dice_coef: 0.5503 - out3_jacard: 0.3854 - out3_recall: 0.9332 - out3_precision: 0.5984 - out3_accuracy: 0.9868\n",
            "Epoch 28/100\n",
            "12/12 [==============================] - 52s 4s/step - loss: 2.2654 - out1_loss: 0.8936 - out2_loss: 0.8940 - out3_loss: 0.4778 - out1_dice_coef: 0.0667 - out1_jacard: 0.0345 - out1_recall: 0.9930 - out1_precision: 0.4696 - out1_accuracy: 0.9798 - out2_dice_coef: 0.0665 - out2_jacard: 0.0344 - out2_recall: 0.9894 - out2_precision: 0.4792 - out2_accuracy: 0.9806 - out3_dice_coef: 0.5547 - out3_jacard: 0.3863 - out3_recall: 0.9537 - out3_precision: 0.6549 - out3_accuracy: 0.9896\n",
            "Epoch 29/100\n",
            "12/12 [==============================] - 52s 4s/step - loss: 2.2486 - out1_loss: 0.8931 - out2_loss: 0.8933 - out3_loss: 0.4622 - out1_dice_coef: 0.0671 - out1_jacard: 0.0347 - out1_recall: 0.9932 - out1_precision: 0.5752 - out1_accuracy: 0.9867 - out2_dice_coef: 0.0669 - out2_jacard: 0.0346 - out2_recall: 0.9915 - out2_precision: 0.5844 - out2_accuracy: 0.9872 - out3_dice_coef: 0.5852 - out3_jacard: 0.4147 - out3_recall: 0.9469 - out3_precision: 0.7699 - out3_accuracy: 0.9936\n",
            "Epoch 30/100\n",
            "12/12 [==============================] - 52s 4s/step - loss: 2.2453 - out1_loss: 0.8929 - out2_loss: 0.8932 - out3_loss: 0.4592 - out1_dice_coef: 0.0672 - out1_jacard: 0.0348 - out1_recall: 0.9949 - out1_precision: 0.5861 - out1_accuracy: 0.9873 - out2_dice_coef: 0.0670 - out2_jacard: 0.0347 - out2_recall: 0.9933 - out2_precision: 0.5968 - out2_accuracy: 0.9879 - out3_dice_coef: 0.5902 - out3_jacard: 0.4198 - out3_recall: 0.9490 - out3_precision: 0.7898 - out3_accuracy: 0.9942\n",
            "Epoch 31/100\n",
            "12/12 [==============================] - 52s 4s/step - loss: 2.2454 - out1_loss: 0.8929 - out2_loss: 0.8932 - out3_loss: 0.4593 - out1_dice_coef: 0.0671 - out1_jacard: 0.0347 - out1_recall: 0.9929 - out1_precision: 0.5888 - out1_accuracy: 0.9874 - out2_dice_coef: 0.0670 - out2_jacard: 0.0347 - out2_recall: 0.9914 - out2_precision: 0.5995 - out2_accuracy: 0.9880 - out3_dice_coef: 0.5905 - out3_jacard: 0.4201 - out3_recall: 0.9495 - out3_precision: 0.7857 - out3_accuracy: 0.9941\n",
            "Epoch 32/100\n",
            "12/12 [==============================] - 51s 4s/step - loss: 2.2406 - out1_loss: 0.8928 - out2_loss: 0.8930 - out3_loss: 0.4549 - out1_dice_coef: 0.0673 - out1_jacard: 0.0348 - out1_recall: 0.9958 - out1_precision: 0.5894 - out1_accuracy: 0.9875 - out2_dice_coef: 0.0671 - out2_jacard: 0.0347 - out2_recall: 0.9947 - out2_precision: 0.6025 - out2_accuracy: 0.9882 - out3_dice_coef: 0.5938 - out3_jacard: 0.4231 - out3_recall: 0.9583 - out3_precision: 0.7883 - out3_accuracy: 0.9943\n",
            "Epoch 33/100\n",
            "12/12 [==============================] - 51s 4s/step - loss: 2.2426 - out1_loss: 0.8928 - out2_loss: 0.8930 - out3_loss: 0.4568 - out1_dice_coef: 0.0672 - out1_jacard: 0.0348 - out1_recall: 0.9954 - out1_precision: 0.5830 - out1_accuracy: 0.9872 - out2_dice_coef: 0.0671 - out2_jacard: 0.0347 - out2_recall: 0.9939 - out2_precision: 0.5987 - out2_accuracy: 0.9880 - out3_dice_coef: 0.5926 - out3_jacard: 0.4219 - out3_recall: 0.9546 - out3_precision: 0.7876 - out3_accuracy: 0.9943\n",
            "Epoch 34/100\n",
            "12/12 [==============================] - 51s 4s/step - loss: 2.2344 - out1_loss: 0.8925 - out2_loss: 0.8927 - out3_loss: 0.4492 - out1_dice_coef: 0.0674 - out1_jacard: 0.0349 - out1_recall: 0.9970 - out1_precision: 0.6307 - out1_accuracy: 0.9895 - out2_dice_coef: 0.0673 - out2_jacard: 0.0348 - out2_recall: 0.9952 - out2_precision: 0.6440 - out2_accuracy: 0.9901 - out3_dice_coef: 0.6066 - out3_jacard: 0.4359 - out3_recall: 0.9542 - out3_precision: 0.8373 - out3_accuracy: 0.9956\n",
            "Epoch 35/100\n",
            "12/12 [==============================] - 51s 4s/step - loss: 2.2369 - out1_loss: 0.8926 - out2_loss: 0.8928 - out3_loss: 0.4515 - out1_dice_coef: 0.0673 - out1_jacard: 0.0349 - out1_recall: 0.9970 - out1_precision: 0.5875 - out1_accuracy: 0.9874 - out2_dice_coef: 0.0672 - out2_jacard: 0.0348 - out2_recall: 0.9957 - out2_precision: 0.6053 - out2_accuracy: 0.9883 - out3_dice_coef: 0.5995 - out3_jacard: 0.4286 - out3_recall: 0.9629 - out3_precision: 0.8051 - out3_accuracy: 0.9949\n",
            "Epoch 36/100\n",
            "12/12 [==============================] - 51s 4s/step - loss: 2.2353 - out1_loss: 0.8927 - out2_loss: 0.8928 - out3_loss: 0.4498 - out1_dice_coef: 0.0673 - out1_jacard: 0.0348 - out1_recall: 0.9950 - out1_precision: 0.6229 - out1_accuracy: 0.9891 - out2_dice_coef: 0.0672 - out2_jacard: 0.0348 - out2_recall: 0.9944 - out2_precision: 0.6406 - out2_accuracy: 0.9899 - out3_dice_coef: 0.6048 - out3_jacard: 0.4341 - out3_recall: 0.9577 - out3_precision: 0.8296 - out3_accuracy: 0.9955\n",
            "Epoch 37/100\n",
            "12/12 [==============================] - 51s 4s/step - loss: 2.2332 - out1_loss: 0.8925 - out2_loss: 0.8926 - out3_loss: 0.4481 - out1_dice_coef: 0.0674 - out1_jacard: 0.0349 - out1_recall: 0.9976 - out1_precision: 0.6049 - out1_accuracy: 0.9883 - out2_dice_coef: 0.0673 - out2_jacard: 0.0348 - out2_recall: 0.9972 - out2_precision: 0.6233 - out2_accuracy: 0.9892 - out3_dice_coef: 0.6055 - out3_jacard: 0.4356 - out3_recall: 0.9644 - out3_precision: 0.8148 - out3_accuracy: 0.9952\n",
            "Epoch 38/100\n",
            "12/12 [==============================] - 51s 4s/step - loss: 2.2437 - out1_loss: 0.8927 - out2_loss: 0.8930 - out3_loss: 0.4580 - out1_dice_coef: 0.0673 - out1_jacard: 0.0348 - out1_recall: 0.9942 - out1_precision: 0.6388 - out1_accuracy: 0.9898 - out2_dice_coef: 0.0671 - out2_jacard: 0.0347 - out2_recall: 0.9925 - out2_precision: 0.6535 - out2_accuracy: 0.9904 - out3_dice_coef: 0.5985 - out3_jacard: 0.4284 - out3_recall: 0.9364 - out3_precision: 0.8352 - out3_accuracy: 0.9953\n",
            "Epoch 39/100\n",
            "12/12 [==============================] - 51s 4s/step - loss: 2.2932 - out1_loss: 0.8946 - out2_loss: 0.8947 - out3_loss: 0.5040 - out1_dice_coef: 0.0661 - out1_jacard: 0.0342 - out1_recall: 0.9936 - out1_precision: 0.3372 - out1_accuracy: 0.9649 - out2_dice_coef: 0.0660 - out2_jacard: 0.0342 - out2_recall: 0.9931 - out2_precision: 0.3449 - out2_accuracy: 0.9661 - out3_dice_coef: 0.5174 - out3_jacard: 0.3562 - out3_recall: 0.9651 - out3_precision: 0.4901 - out3_accuracy: 0.9803\n",
            "Epoch 40/100\n",
            "12/12 [==============================] - 51s 4s/step - loss: 2.2406 - out1_loss: 0.8928 - out2_loss: 0.8930 - out3_loss: 0.4548 - out1_dice_coef: 0.0673 - out1_jacard: 0.0348 - out1_recall: 0.9952 - out1_precision: 0.6037 - out1_accuracy: 0.9882 - out2_dice_coef: 0.0671 - out2_jacard: 0.0348 - out2_recall: 0.9943 - out2_precision: 0.6083 - out2_accuracy: 0.9884 - out3_dice_coef: 0.5969 - out3_jacard: 0.4268 - out3_recall: 0.9552 - out3_precision: 0.7931 - out3_accuracy: 0.9944\n",
            "Epoch 41/100\n",
            "12/12 [==============================] - 51s 4s/step - loss: 2.2350 - out1_loss: 0.8926 - out2_loss: 0.8928 - out3_loss: 0.4496 - out1_dice_coef: 0.0673 - out1_jacard: 0.0349 - out1_recall: 0.9939 - out1_precision: 0.6451 - out1_accuracy: 0.9901 - out2_dice_coef: 0.0673 - out2_jacard: 0.0348 - out2_recall: 0.9940 - out2_precision: 0.6513 - out2_accuracy: 0.9904 - out3_dice_coef: 0.6065 - out3_jacard: 0.4356 - out3_recall: 0.9528 - out3_precision: 0.8354 - out3_accuracy: 0.9955\n",
            "Epoch 42/100\n",
            "12/12 [==============================] - 51s 4s/step - loss: 2.2311 - out1_loss: 0.8925 - out2_loss: 0.8926 - out3_loss: 0.4461 - out1_dice_coef: 0.0675 - out1_jacard: 0.0349 - out1_recall: 0.9972 - out1_precision: 0.6299 - out1_accuracy: 0.9894 - out2_dice_coef: 0.0674 - out2_jacard: 0.0349 - out2_recall: 0.9980 - out2_precision: 0.6391 - out2_accuracy: 0.9899 - out3_dice_coef: 0.6087 - out3_jacard: 0.4385 - out3_recall: 0.9659 - out3_precision: 0.8269 - out3_accuracy: 0.9955\n",
            "Epoch 43/100\n",
            "12/12 [==============================] - 51s 4s/step - loss: 2.2269 - out1_loss: 0.8924 - out2_loss: 0.8926 - out3_loss: 0.4420 - out1_dice_coef: 0.0675 - out1_jacard: 0.0349 - out1_recall: 0.9967 - out1_precision: 0.6452 - out1_accuracy: 0.9901 - out2_dice_coef: 0.0674 - out2_jacard: 0.0349 - out2_recall: 0.9966 - out2_precision: 0.6581 - out2_accuracy: 0.9907 - out3_dice_coef: 0.6158 - out3_jacard: 0.4450 - out3_recall: 0.9661 - out3_precision: 0.8568 - out3_accuracy: 0.9963\n",
            "Epoch 44/100\n",
            "12/12 [==============================] - 51s 4s/step - loss: 2.2278 - out1_loss: 0.8924 - out2_loss: 0.8925 - out3_loss: 0.4429 - out1_dice_coef: 0.0675 - out1_jacard: 0.0349 - out1_recall: 0.9974 - out1_precision: 0.6333 - out1_accuracy: 0.9896 - out2_dice_coef: 0.0674 - out2_jacard: 0.0349 - out2_recall: 0.9979 - out2_precision: 0.6456 - out2_accuracy: 0.9902 - out3_dice_coef: 0.6142 - out3_jacard: 0.4435 - out3_recall: 0.9657 - out3_precision: 0.8489 - out3_accuracy: 0.9961\n",
            "Epoch 45/100\n",
            "12/12 [==============================] - 51s 4s/step - loss: 2.2238 - out1_loss: 0.8923 - out2_loss: 0.8924 - out3_loss: 0.4392 - out1_dice_coef: 0.0676 - out1_jacard: 0.0350 - out1_recall: 0.9978 - out1_precision: 0.6597 - out1_accuracy: 0.9907 - out2_dice_coef: 0.0675 - out2_jacard: 0.0350 - out2_recall: 0.9986 - out2_precision: 0.6680 - out2_accuracy: 0.9911 - out3_dice_coef: 0.6191 - out3_jacard: 0.4486 - out3_recall: 0.9714 - out3_precision: 0.8639 - out3_accuracy: 0.9966\n",
            "Epoch 46/100\n",
            "12/12 [==============================] - 51s 4s/step - loss: 2.2223 - out1_loss: 0.8922 - out2_loss: 0.8923 - out3_loss: 0.4378 - out1_dice_coef: 0.0676 - out1_jacard: 0.0350 - out1_recall: 0.9978 - out1_precision: 0.6726 - out1_accuracy: 0.9913 - out2_dice_coef: 0.0676 - out2_jacard: 0.0350 - out2_recall: 0.9983 - out2_precision: 0.6843 - out2_accuracy: 0.9917 - out3_dice_coef: 0.6225 - out3_jacard: 0.4520 - out3_recall: 0.9698 - out3_precision: 0.8737 - out3_accuracy: 0.9968\n",
            "Epoch 47/100\n",
            "12/12 [==============================] - 51s 4s/step - loss: 2.2240 - out1_loss: 0.8923 - out2_loss: 0.8924 - out3_loss: 0.4393 - out1_dice_coef: 0.0676 - out1_jacard: 0.0350 - out1_recall: 0.9966 - out1_precision: 0.6631 - out1_accuracy: 0.9909 - out2_dice_coef: 0.0675 - out2_jacard: 0.0349 - out2_recall: 0.9972 - out2_precision: 0.6761 - out2_accuracy: 0.9914 - out3_dice_coef: 0.6202 - out3_jacard: 0.4496 - out3_recall: 0.9689 - out3_precision: 0.8665 - out3_accuracy: 0.9966\n",
            "Epoch 48/100\n",
            "12/12 [==============================] - 51s 4s/step - loss: 2.2208 - out1_loss: 0.8921 - out2_loss: 0.8922 - out3_loss: 0.4365 - out1_dice_coef: 0.0677 - out1_jacard: 0.0350 - out1_recall: 0.9983 - out1_precision: 0.6828 - out1_accuracy: 0.9917 - out2_dice_coef: 0.0676 - out2_jacard: 0.0350 - out2_recall: 0.9987 - out2_precision: 0.6982 - out2_accuracy: 0.9923 - out3_dice_coef: 0.6253 - out3_jacard: 0.4550 - out3_recall: 0.9710 - out3_precision: 0.8846 - out3_accuracy: 0.9970\n",
            "Epoch 49/100\n",
            "12/12 [==============================] - 51s 4s/step - loss: 2.2198 - out1_loss: 0.8922 - out2_loss: 0.8923 - out3_loss: 0.4354 - out1_dice_coef: 0.0677 - out1_jacard: 0.0350 - out1_recall: 0.9980 - out1_precision: 0.6768 - out1_accuracy: 0.9914 - out2_dice_coef: 0.0676 - out2_jacard: 0.0350 - out2_recall: 0.9985 - out2_precision: 0.6947 - out2_accuracy: 0.9921 - out3_dice_coef: 0.6253 - out3_jacard: 0.4549 - out3_recall: 0.9745 - out3_precision: 0.8794 - out3_accuracy: 0.9970\n",
            "Epoch 50/100\n",
            "12/12 [==============================] - 51s 4s/step - loss: 2.2184 - out1_loss: 0.8922 - out2_loss: 0.8923 - out3_loss: 0.4340 - out1_dice_coef: 0.0677 - out1_jacard: 0.0350 - out1_recall: 0.9982 - out1_precision: 0.6858 - out1_accuracy: 0.9918 - out2_dice_coef: 0.0676 - out2_jacard: 0.0350 - out2_recall: 0.9989 - out2_precision: 0.7016 - out2_accuracy: 0.9924 - out3_dice_coef: 0.6279 - out3_jacard: 0.4577 - out3_recall: 0.9744 - out3_precision: 0.8904 - out3_accuracy: 0.9972\n",
            "Epoch 51/100\n",
            "12/12 [==============================] - 51s 4s/step - loss: 2.2192 - out1_loss: 0.8922 - out2_loss: 0.8923 - out3_loss: 0.4347 - out1_dice_coef: 0.0677 - out1_jacard: 0.0350 - out1_recall: 0.9980 - out1_precision: 0.6852 - out1_accuracy: 0.9917 - out2_dice_coef: 0.0676 - out2_jacard: 0.0350 - out2_recall: 0.9987 - out2_precision: 0.7000 - out2_accuracy: 0.9923 - out3_dice_coef: 0.6265 - out3_jacard: 0.4563 - out3_recall: 0.9748 - out3_precision: 0.8859 - out3_accuracy: 0.9971\n",
            "Epoch 52/100\n",
            "12/12 [==============================] - 51s 4s/step - loss: 2.2191 - out1_loss: 0.8921 - out2_loss: 0.8922 - out3_loss: 0.4348 - out1_dice_coef: 0.0677 - out1_jacard: 0.0350 - out1_recall: 0.9985 - out1_precision: 0.6797 - out1_accuracy: 0.9915 - out2_dice_coef: 0.0676 - out2_jacard: 0.0350 - out2_recall: 0.9994 - out2_precision: 0.6965 - out2_accuracy: 0.9922 - out3_dice_coef: 0.6251 - out3_jacard: 0.4549 - out3_recall: 0.9775 - out3_precision: 0.8722 - out3_accuracy: 0.9969\n",
            "Epoch 53/100\n",
            "12/12 [==============================] - 51s 4s/step - loss: 2.2178 - out1_loss: 0.8921 - out2_loss: 0.8921 - out3_loss: 0.4336 - out1_dice_coef: 0.0677 - out1_jacard: 0.0351 - out1_recall: 0.9982 - out1_precision: 0.7038 - out1_accuracy: 0.9924 - out2_dice_coef: 0.0677 - out2_jacard: 0.0350 - out2_recall: 0.9986 - out2_precision: 0.7220 - out2_accuracy: 0.9931 - out3_dice_coef: 0.6295 - out3_jacard: 0.4595 - out3_recall: 0.9737 - out3_precision: 0.8951 - out3_accuracy: 0.9973\n",
            "Epoch 54/100\n",
            "12/12 [==============================] - 51s 4s/step - loss: 2.2183 - out1_loss: 0.8921 - out2_loss: 0.8921 - out3_loss: 0.4341 - out1_dice_coef: 0.0677 - out1_jacard: 0.0350 - out1_recall: 0.9982 - out1_precision: 0.6918 - out1_accuracy: 0.9920 - out2_dice_coef: 0.0677 - out2_jacard: 0.0350 - out2_recall: 0.9991 - out2_precision: 0.7107 - out2_accuracy: 0.9927 - out3_dice_coef: 0.6273 - out3_jacard: 0.4571 - out3_recall: 0.9754 - out3_precision: 0.8824 - out3_accuracy: 0.9971\n",
            "Epoch 55/100\n",
            "12/12 [==============================] - 51s 4s/step - loss: 2.2156 - out1_loss: 0.8920 - out2_loss: 0.8921 - out3_loss: 0.4316 - out1_dice_coef: 0.0678 - out1_jacard: 0.0351 - out1_recall: 0.9990 - out1_precision: 0.6991 - out1_accuracy: 0.9923 - out2_dice_coef: 0.0677 - out2_jacard: 0.0350 - out2_recall: 0.9992 - out2_precision: 0.7172 - out2_accuracy: 0.9929 - out3_dice_coef: 0.6307 - out3_jacard: 0.4608 - out3_recall: 0.9801 - out3_precision: 0.8892 - out3_accuracy: 0.9973\n",
            "Epoch 56/100\n",
            "12/12 [==============================] - 51s 4s/step - loss: 2.2150 - out1_loss: 0.8920 - out2_loss: 0.8920 - out3_loss: 0.4310 - out1_dice_coef: 0.0678 - out1_jacard: 0.0351 - out1_recall: 0.9985 - out1_precision: 0.7052 - out1_accuracy: 0.9925 - out2_dice_coef: 0.0677 - out2_jacard: 0.0351 - out2_recall: 0.9993 - out2_precision: 0.7277 - out2_accuracy: 0.9933 - out3_dice_coef: 0.6322 - out3_jacard: 0.4622 - out3_recall: 0.9793 - out3_precision: 0.8945 - out3_accuracy: 0.9974\n",
            "Epoch 57/100\n",
            "12/12 [==============================] - 51s 4s/step - loss: 2.2158 - out1_loss: 0.8920 - out2_loss: 0.8920 - out3_loss: 0.4317 - out1_dice_coef: 0.0678 - out1_jacard: 0.0351 - out1_recall: 0.9986 - out1_precision: 0.7076 - out1_accuracy: 0.9926 - out2_dice_coef: 0.0677 - out2_jacard: 0.0351 - out2_recall: 0.9994 - out2_precision: 0.7278 - out2_accuracy: 0.9933 - out3_dice_coef: 0.6314 - out3_jacard: 0.4614 - out3_recall: 0.9779 - out3_precision: 0.8918 - out3_accuracy: 0.9973\n",
            "Epoch 58/100\n",
            "12/12 [==============================] - 51s 4s/step - loss: 2.2133 - out1_loss: 0.8920 - out2_loss: 0.8921 - out3_loss: 0.4292 - out1_dice_coef: 0.0678 - out1_jacard: 0.0351 - out1_recall: 0.9986 - out1_precision: 0.7215 - out1_accuracy: 0.9931 - out2_dice_coef: 0.0677 - out2_jacard: 0.0351 - out2_recall: 0.9991 - out2_precision: 0.7446 - out2_accuracy: 0.9939 - out3_dice_coef: 0.6349 - out3_jacard: 0.4651 - out3_recall: 0.9813 - out3_precision: 0.9043 - out3_accuracy: 0.9977\n",
            "Epoch 59/100\n",
            "12/12 [==============================] - 51s 4s/step - loss: 2.2165 - out1_loss: 0.8921 - out2_loss: 0.8922 - out3_loss: 0.4322 - out1_dice_coef: 0.0677 - out1_jacard: 0.0351 - out1_recall: 0.9974 - out1_precision: 0.7086 - out1_accuracy: 0.9926 - out2_dice_coef: 0.0677 - out2_jacard: 0.0350 - out2_recall: 0.9980 - out2_precision: 0.7312 - out2_accuracy: 0.9934 - out3_dice_coef: 0.6304 - out3_jacard: 0.4604 - out3_recall: 0.9772 - out3_precision: 0.8894 - out3_accuracy: 0.9973\n",
            "Epoch 60/100\n",
            "12/12 [==============================] - 51s 4s/step - loss: 2.2178 - out1_loss: 0.8920 - out2_loss: 0.8921 - out3_loss: 0.4337 - out1_dice_coef: 0.0677 - out1_jacard: 0.0351 - out1_recall: 0.9975 - out1_precision: 0.7147 - out1_accuracy: 0.9928 - out2_dice_coef: 0.0677 - out2_jacard: 0.0350 - out2_recall: 0.9975 - out2_precision: 0.7393 - out2_accuracy: 0.9937 - out3_dice_coef: 0.6296 - out3_jacard: 0.4596 - out3_recall: 0.9724 - out3_precision: 0.8926 - out3_accuracy: 0.9973\n",
            "Epoch 61/100\n",
            "12/12 [==============================] - 51s 4s/step - loss: 2.2157 - out1_loss: 0.8920 - out2_loss: 0.8921 - out3_loss: 0.4316 - out1_dice_coef: 0.0677 - out1_jacard: 0.0351 - out1_recall: 0.9983 - out1_precision: 0.6950 - out1_accuracy: 0.9921 - out2_dice_coef: 0.0677 - out2_jacard: 0.0350 - out2_recall: 0.9984 - out2_precision: 0.7218 - out2_accuracy: 0.9931 - out3_dice_coef: 0.6303 - out3_jacard: 0.4602 - out3_recall: 0.9819 - out3_precision: 0.8837 - out3_accuracy: 0.9972\n",
            "Epoch 62/100\n",
            "12/12 [==============================] - 51s 4s/step - loss: 2.2140 - out1_loss: 0.8919 - out2_loss: 0.8920 - out3_loss: 0.4300 - out1_dice_coef: 0.0678 - out1_jacard: 0.0351 - out1_recall: 0.9983 - out1_precision: 0.7256 - out1_accuracy: 0.9932 - out2_dice_coef: 0.0677 - out2_jacard: 0.0351 - out2_recall: 0.9988 - out2_precision: 0.7505 - out2_accuracy: 0.9940 - out3_dice_coef: 0.6346 - out3_jacard: 0.4648 - out3_recall: 0.9779 - out3_precision: 0.9067 - out3_accuracy: 0.9977\n",
            "Epoch 63/100\n",
            "12/12 [==============================] - 51s 4s/step - loss: 2.2121 - out1_loss: 0.8919 - out2_loss: 0.8920 - out3_loss: 0.4282 - out1_dice_coef: 0.0678 - out1_jacard: 0.0351 - out1_recall: 0.9986 - out1_precision: 0.7253 - out1_accuracy: 0.9932 - out2_dice_coef: 0.0678 - out2_jacard: 0.0351 - out2_recall: 0.9991 - out2_precision: 0.7475 - out2_accuracy: 0.9939 - out3_dice_coef: 0.6361 - out3_jacard: 0.4664 - out3_recall: 0.9820 - out3_precision: 0.9067 - out3_accuracy: 0.9977\n",
            "Epoch 64/100\n",
            "12/12 [==============================] - 51s 4s/step - loss: 2.2100 - out1_loss: 0.8918 - out2_loss: 0.8919 - out3_loss: 0.4263 - out1_dice_coef: 0.0679 - out1_jacard: 0.0351 - out1_recall: 0.9989 - out1_precision: 0.7346 - out1_accuracy: 0.9935 - out2_dice_coef: 0.0678 - out2_jacard: 0.0351 - out2_recall: 0.9996 - out2_precision: 0.7542 - out2_accuracy: 0.9942 - out3_dice_coef: 0.6394 - out3_jacard: 0.4700 - out3_recall: 0.9835 - out3_precision: 0.9135 - out3_accuracy: 0.9979\n",
            "Epoch 65/100\n",
            "12/12 [==============================] - 51s 4s/step - loss: 2.2107 - out1_loss: 0.8918 - out2_loss: 0.8919 - out3_loss: 0.4270 - out1_dice_coef: 0.0679 - out1_jacard: 0.0351 - out1_recall: 0.9987 - out1_precision: 0.7295 - out1_accuracy: 0.9933 - out2_dice_coef: 0.0678 - out2_jacard: 0.0351 - out2_recall: 0.9996 - out2_precision: 0.7495 - out2_accuracy: 0.9940 - out3_dice_coef: 0.6380 - out3_jacard: 0.4685 - out3_recall: 0.9842 - out3_precision: 0.9084 - out3_accuracy: 0.9978\n",
            "Epoch 66/100\n",
            "12/12 [==============================] - 51s 4s/step - loss: 2.2117 - out1_loss: 0.8918 - out2_loss: 0.8919 - out3_loss: 0.4280 - out1_dice_coef: 0.0679 - out1_jacard: 0.0351 - out1_recall: 0.9989 - out1_precision: 0.7420 - out1_accuracy: 0.9938 - out2_dice_coef: 0.0678 - out2_jacard: 0.0351 - out2_recall: 0.9994 - out2_precision: 0.7586 - out2_accuracy: 0.9943 - out3_dice_coef: 0.6367 - out3_jacard: 0.4671 - out3_recall: 0.9817 - out3_precision: 0.9061 - out3_accuracy: 0.9977\n",
            "Epoch 67/100\n",
            "12/12 [==============================] - 51s 4s/step - loss: 2.2119 - out1_loss: 0.8919 - out2_loss: 0.8920 - out3_loss: 0.4281 - out1_dice_coef: 0.0679 - out1_jacard: 0.0351 - out1_recall: 0.9990 - out1_precision: 0.7310 - out1_accuracy: 0.9934 - out2_dice_coef: 0.0678 - out2_jacard: 0.0351 - out2_recall: 0.9996 - out2_precision: 0.7526 - out2_accuracy: 0.9941 - out3_dice_coef: 0.6359 - out3_jacard: 0.4663 - out3_recall: 0.9834 - out3_precision: 0.9002 - out3_accuracy: 0.9976\n",
            "Epoch 68/100\n",
            "12/12 [==============================] - 51s 4s/step - loss: 2.2108 - out1_loss: 0.8919 - out2_loss: 0.8919 - out3_loss: 0.4270 - out1_dice_coef: 0.0679 - out1_jacard: 0.0351 - out1_recall: 0.9983 - out1_precision: 0.7486 - out1_accuracy: 0.9940 - out2_dice_coef: 0.0678 - out2_jacard: 0.0351 - out2_recall: 0.9994 - out2_precision: 0.7641 - out2_accuracy: 0.9945 - out3_dice_coef: 0.6379 - out3_jacard: 0.4684 - out3_recall: 0.9842 - out3_precision: 0.9084 - out3_accuracy: 0.9978\n",
            "Epoch 69/100\n",
            "12/12 [==============================] - 51s 4s/step - loss: 2.2098 - out1_loss: 0.8918 - out2_loss: 0.8919 - out3_loss: 0.4261 - out1_dice_coef: 0.0679 - out1_jacard: 0.0352 - out1_recall: 0.9988 - out1_precision: 0.7524 - out1_accuracy: 0.9941 - out2_dice_coef: 0.0678 - out2_jacard: 0.0351 - out2_recall: 0.9993 - out2_precision: 0.7689 - out2_accuracy: 0.9946 - out3_dice_coef: 0.6397 - out3_jacard: 0.4703 - out3_recall: 0.9845 - out3_precision: 0.9124 - out3_accuracy: 0.9979\n",
            "Epoch 70/100\n",
            "12/12 [==============================] - 51s 4s/step - loss: 2.2112 - out1_loss: 0.8918 - out2_loss: 0.8919 - out3_loss: 0.4275 - out1_dice_coef: 0.0679 - out1_jacard: 0.0351 - out1_recall: 0.9986 - out1_precision: 0.7386 - out1_accuracy: 0.9936 - out2_dice_coef: 0.0678 - out2_jacard: 0.0351 - out2_recall: 0.9994 - out2_precision: 0.7584 - out2_accuracy: 0.9943 - out3_dice_coef: 0.6369 - out3_jacard: 0.4673 - out3_recall: 0.9846 - out3_precision: 0.9015 - out3_accuracy: 0.9977\n",
            "Epoch 71/100\n",
            "12/12 [==============================] - 51s 4s/step - loss: 2.2099 - out1_loss: 0.8918 - out2_loss: 0.8919 - out3_loss: 0.4262 - out1_dice_coef: 0.0679 - out1_jacard: 0.0352 - out1_recall: 0.9984 - out1_precision: 0.7497 - out1_accuracy: 0.9940 - out2_dice_coef: 0.0678 - out2_jacard: 0.0351 - out2_recall: 0.9992 - out2_precision: 0.7665 - out2_accuracy: 0.9945 - out3_dice_coef: 0.6385 - out3_jacard: 0.4691 - out3_recall: 0.9865 - out3_precision: 0.9081 - out3_accuracy: 0.9978\n",
            "Epoch 72/100\n",
            "12/12 [==============================] - 51s 4s/step - loss: 2.2099 - out1_loss: 0.8918 - out2_loss: 0.8918 - out3_loss: 0.4263 - out1_dice_coef: 0.0679 - out1_jacard: 0.0352 - out1_recall: 0.9982 - out1_precision: 0.7658 - out1_accuracy: 0.9945 - out2_dice_coef: 0.0679 - out2_jacard: 0.0351 - out2_recall: 0.9992 - out2_precision: 0.7853 - out2_accuracy: 0.9951 - out3_dice_coef: 0.6405 - out3_jacard: 0.4711 - out3_recall: 0.9818 - out3_precision: 0.9194 - out3_accuracy: 0.9980\n",
            "Epoch 73/100\n",
            "12/12 [==============================] - 51s 4s/step - loss: 2.2083 - out1_loss: 0.8917 - out2_loss: 0.8918 - out3_loss: 0.4248 - out1_dice_coef: 0.0679 - out1_jacard: 0.0352 - out1_recall: 0.9990 - out1_precision: 0.7591 - out1_accuracy: 0.9943 - out2_dice_coef: 0.0679 - out2_jacard: 0.0351 - out2_recall: 0.9994 - out2_precision: 0.7789 - out2_accuracy: 0.9949 - out3_dice_coef: 0.6413 - out3_jacard: 0.4720 - out3_recall: 0.9861 - out3_precision: 0.9166 - out3_accuracy: 0.9980\n",
            "Epoch 74/100\n",
            "12/12 [==============================] - 51s 4s/step - loss: 2.2085 - out1_loss: 0.8917 - out2_loss: 0.8918 - out3_loss: 0.4250 - out1_dice_coef: 0.0679 - out1_jacard: 0.0352 - out1_recall: 0.9988 - out1_precision: 0.7620 - out1_accuracy: 0.9944 - out2_dice_coef: 0.0679 - out2_jacard: 0.0352 - out2_recall: 0.9996 - out2_precision: 0.7817 - out2_accuracy: 0.9950 - out3_dice_coef: 0.6414 - out3_jacard: 0.4722 - out3_recall: 0.9851 - out3_precision: 0.9183 - out3_accuracy: 0.9981\n",
            "Epoch 75/100\n",
            "12/12 [==============================] - 51s 4s/step - loss: 2.2081 - out1_loss: 0.8917 - out2_loss: 0.8918 - out3_loss: 0.4246 - out1_dice_coef: 0.0679 - out1_jacard: 0.0352 - out1_recall: 0.9987 - out1_precision: 0.7638 - out1_accuracy: 0.9944 - out2_dice_coef: 0.0679 - out2_jacard: 0.0351 - out2_recall: 0.9989 - out2_precision: 0.7818 - out2_accuracy: 0.9950 - out3_dice_coef: 0.6420 - out3_jacard: 0.4728 - out3_recall: 0.9855 - out3_precision: 0.9197 - out3_accuracy: 0.9981\n",
            "Epoch 76/100\n",
            "12/12 [==============================] - 51s 4s/step - loss: 2.2086 - out1_loss: 0.8917 - out2_loss: 0.8917 - out3_loss: 0.4252 - out1_dice_coef: 0.0680 - out1_jacard: 0.0352 - out1_recall: 0.9989 - out1_precision: 0.7599 - out1_accuracy: 0.9943 - out2_dice_coef: 0.0679 - out2_jacard: 0.0352 - out2_recall: 0.9996 - out2_precision: 0.7800 - out2_accuracy: 0.9949 - out3_dice_coef: 0.6405 - out3_jacard: 0.4712 - out3_recall: 0.9863 - out3_precision: 0.9127 - out3_accuracy: 0.9980\n",
            "Epoch 77/100\n",
            "12/12 [==============================] - 51s 4s/step - loss: 2.2088 - out1_loss: 0.8917 - out2_loss: 0.8918 - out3_loss: 0.4253 - out1_dice_coef: 0.0679 - out1_jacard: 0.0352 - out1_recall: 0.9984 - out1_precision: 0.7617 - out1_accuracy: 0.9944 - out2_dice_coef: 0.0679 - out2_jacard: 0.0352 - out2_recall: 0.9994 - out2_precision: 0.7823 - out2_accuracy: 0.9950 - out3_dice_coef: 0.6405 - out3_jacard: 0.4712 - out3_recall: 0.9860 - out3_precision: 0.9121 - out3_accuracy: 0.9979\n",
            "Epoch 78/100\n",
            "12/12 [==============================] - 51s 4s/step - loss: 2.2082 - out1_loss: 0.8917 - out2_loss: 0.8918 - out3_loss: 0.4247 - out1_dice_coef: 0.0680 - out1_jacard: 0.0352 - out1_recall: 0.9991 - out1_precision: 0.7606 - out1_accuracy: 0.9943 - out2_dice_coef: 0.0679 - out2_jacard: 0.0352 - out2_recall: 0.9997 - out2_precision: 0.7849 - out2_accuracy: 0.9951 - out3_dice_coef: 0.6415 - out3_jacard: 0.4722 - out3_recall: 0.9861 - out3_precision: 0.9145 - out3_accuracy: 0.9980\n",
            "Epoch 79/100\n",
            "12/12 [==============================] - 51s 4s/step - loss: 2.2118 - out1_loss: 0.8918 - out2_loss: 0.8918 - out3_loss: 0.4282 - out1_dice_coef: 0.0679 - out1_jacard: 0.0352 - out1_recall: 0.9981 - out1_precision: 0.7437 - out1_accuracy: 0.9938 - out2_dice_coef: 0.0679 - out2_jacard: 0.0351 - out2_recall: 0.9986 - out2_precision: 0.7693 - out2_accuracy: 0.9946 - out3_dice_coef: 0.6355 - out3_jacard: 0.4660 - out3_recall: 0.9839 - out3_precision: 0.8941 - out3_accuracy: 0.9975\n",
            "Epoch 80/100\n",
            "12/12 [==============================] - 51s 4s/step - loss: 2.2113 - out1_loss: 0.8918 - out2_loss: 0.8919 - out3_loss: 0.4277 - out1_dice_coef: 0.0679 - out1_jacard: 0.0352 - out1_recall: 0.9986 - out1_precision: 0.7476 - out1_accuracy: 0.9939 - out2_dice_coef: 0.0679 - out2_jacard: 0.0351 - out2_recall: 0.9984 - out2_precision: 0.7744 - out2_accuracy: 0.9948 - out3_dice_coef: 0.6366 - out3_jacard: 0.4670 - out3_recall: 0.9827 - out3_precision: 0.9036 - out3_accuracy: 0.9977\n",
            "Epoch 81/100\n",
            "12/12 [==============================] - 51s 4s/step - loss: 2.2103 - out1_loss: 0.8918 - out2_loss: 0.8919 - out3_loss: 0.4266 - out1_dice_coef: 0.0679 - out1_jacard: 0.0352 - out1_recall: 0.9984 - out1_precision: 0.7533 - out1_accuracy: 0.9941 - out2_dice_coef: 0.0678 - out2_jacard: 0.0351 - out2_recall: 0.9984 - out2_precision: 0.7797 - out2_accuracy: 0.9949 - out3_dice_coef: 0.6390 - out3_jacard: 0.4696 - out3_recall: 0.9830 - out3_precision: 0.9094 - out3_accuracy: 0.9978\n",
            "Epoch 82/100\n",
            "12/12 [==============================] - 51s 4s/step - loss: 2.2089 - out1_loss: 0.8916 - out2_loss: 0.8917 - out3_loss: 0.4256 - out1_dice_coef: 0.0680 - out1_jacard: 0.0352 - out1_recall: 0.9987 - out1_precision: 0.7574 - out1_accuracy: 0.9942 - out2_dice_coef: 0.0679 - out2_jacard: 0.0352 - out2_recall: 0.9995 - out2_precision: 0.7820 - out2_accuracy: 0.9950 - out3_dice_coef: 0.6405 - out3_jacard: 0.4712 - out3_recall: 0.9851 - out3_precision: 0.9125 - out3_accuracy: 0.9979\n",
            "Epoch 83/100\n",
            "12/12 [==============================] - 51s 4s/step - loss: 2.2077 - out1_loss: 0.8916 - out2_loss: 0.8917 - out3_loss: 0.4244 - out1_dice_coef: 0.0680 - out1_jacard: 0.0352 - out1_recall: 0.9989 - out1_precision: 0.7624 - out1_accuracy: 0.9944 - out2_dice_coef: 0.0679 - out2_jacard: 0.0352 - out2_recall: 0.9995 - out2_precision: 0.7865 - out2_accuracy: 0.9951 - out3_dice_coef: 0.6419 - out3_jacard: 0.4727 - out3_recall: 0.9863 - out3_precision: 0.9167 - out3_accuracy: 0.9980\n",
            "Epoch 84/100\n",
            "12/12 [==============================] - 51s 4s/step - loss: 2.2074 - out1_loss: 0.8916 - out2_loss: 0.8917 - out3_loss: 0.4241 - out1_dice_coef: 0.0680 - out1_jacard: 0.0352 - out1_recall: 0.9991 - out1_precision: 0.7607 - out1_accuracy: 0.9943 - out2_dice_coef: 0.0679 - out2_jacard: 0.0352 - out2_recall: 0.9992 - out2_precision: 0.7828 - out2_accuracy: 0.9950 - out3_dice_coef: 0.6422 - out3_jacard: 0.4730 - out3_recall: 0.9876 - out3_precision: 0.9142 - out3_accuracy: 0.9980\n",
            "Epoch 85/100\n",
            "12/12 [==============================] - 51s 4s/step - loss: 2.2087 - out1_loss: 0.8917 - out2_loss: 0.8918 - out3_loss: 0.4252 - out1_dice_coef: 0.0680 - out1_jacard: 0.0352 - out1_recall: 0.9987 - out1_precision: 0.7604 - out1_accuracy: 0.9943 - out2_dice_coef: 0.0679 - out2_jacard: 0.0352 - out2_recall: 0.9994 - out2_precision: 0.7852 - out2_accuracy: 0.9951 - out3_dice_coef: 0.6406 - out3_jacard: 0.4714 - out3_recall: 0.9855 - out3_precision: 0.9124 - out3_accuracy: 0.9979\n",
            "Epoch 86/100\n",
            "12/12 [==============================] - 51s 4s/step - loss: 2.2069 - out1_loss: 0.8916 - out2_loss: 0.8917 - out3_loss: 0.4236 - out1_dice_coef: 0.0680 - out1_jacard: 0.0352 - out1_recall: 0.9989 - out1_precision: 0.7726 - out1_accuracy: 0.9947 - out2_dice_coef: 0.0680 - out2_jacard: 0.0352 - out2_recall: 0.9993 - out2_precision: 0.7940 - out2_accuracy: 0.9953 - out3_dice_coef: 0.6433 - out3_jacard: 0.4742 - out3_recall: 0.9871 - out3_precision: 0.9207 - out3_accuracy: 0.9981\n",
            "Epoch 87/100\n",
            "12/12 [==============================] - 51s 4s/step - loss: 2.2076 - out1_loss: 0.8917 - out2_loss: 0.8918 - out3_loss: 0.4242 - out1_dice_coef: 0.0680 - out1_jacard: 0.0352 - out1_recall: 0.9992 - out1_precision: 0.7583 - out1_accuracy: 0.9943 - out2_dice_coef: 0.0679 - out2_jacard: 0.0352 - out2_recall: 0.9991 - out2_precision: 0.7816 - out2_accuracy: 0.9950 - out3_dice_coef: 0.6419 - out3_jacard: 0.4727 - out3_recall: 0.9868 - out3_precision: 0.9153 - out3_accuracy: 0.9980\n",
            "Epoch 88/100\n",
            "12/12 [==============================] - 51s 4s/step - loss: 2.2074 - out1_loss: 0.8916 - out2_loss: 0.8917 - out3_loss: 0.4241 - out1_dice_coef: 0.0680 - out1_jacard: 0.0352 - out1_recall: 0.9988 - out1_precision: 0.7609 - out1_accuracy: 0.9944 - out2_dice_coef: 0.0680 - out2_jacard: 0.0352 - out2_recall: 0.9993 - out2_precision: 0.7856 - out2_accuracy: 0.9951 - out3_dice_coef: 0.6421 - out3_jacard: 0.4729 - out3_recall: 0.9874 - out3_precision: 0.9141 - out3_accuracy: 0.9980\n",
            "Epoch 89/100\n",
            "12/12 [==============================] - 51s 4s/step - loss: 2.2068 - out1_loss: 0.8916 - out2_loss: 0.8917 - out3_loss: 0.4235 - out1_dice_coef: 0.0680 - out1_jacard: 0.0352 - out1_recall: 0.9987 - out1_precision: 0.7688 - out1_accuracy: 0.9946 - out2_dice_coef: 0.0680 - out2_jacard: 0.0352 - out2_recall: 0.9995 - out2_precision: 0.7952 - out2_accuracy: 0.9954 - out3_dice_coef: 0.6434 - out3_jacard: 0.4743 - out3_recall: 0.9865 - out3_precision: 0.9202 - out3_accuracy: 0.9981\n",
            "Epoch 90/100\n",
            "12/12 [==============================] - 51s 4s/step - loss: 2.2065 - out1_loss: 0.8916 - out2_loss: 0.8917 - out3_loss: 0.4233 - out1_dice_coef: 0.0680 - out1_jacard: 0.0352 - out1_recall: 0.9989 - out1_precision: 0.7654 - out1_accuracy: 0.9945 - out2_dice_coef: 0.0680 - out2_jacard: 0.0352 - out2_recall: 0.9989 - out2_precision: 0.7914 - out2_accuracy: 0.9953 - out3_dice_coef: 0.6438 - out3_jacard: 0.4747 - out3_recall: 0.9871 - out3_precision: 0.9210 - out3_accuracy: 0.9981\n",
            "Epoch 91/100\n",
            "12/12 [==============================] - 51s 4s/step - loss: 2.2069 - out1_loss: 0.8916 - out2_loss: 0.8917 - out3_loss: 0.4236 - out1_dice_coef: 0.0680 - out1_jacard: 0.0352 - out1_recall: 0.9986 - out1_precision: 0.7735 - out1_accuracy: 0.9947 - out2_dice_coef: 0.0680 - out2_jacard: 0.0352 - out2_recall: 0.9990 - out2_precision: 0.7988 - out2_accuracy: 0.9955 - out3_dice_coef: 0.6437 - out3_jacard: 0.4746 - out3_recall: 0.9855 - out3_precision: 0.9224 - out3_accuracy: 0.9982\n",
            "Epoch 92/100\n",
            "12/12 [==============================] - 51s 4s/step - loss: 2.2075 - out1_loss: 0.8916 - out2_loss: 0.8917 - out3_loss: 0.4242 - out1_dice_coef: 0.0680 - out1_jacard: 0.0352 - out1_recall: 0.9987 - out1_precision: 0.7676 - out1_accuracy: 0.9946 - out2_dice_coef: 0.0680 - out2_jacard: 0.0352 - out2_recall: 0.9989 - out2_precision: 0.7931 - out2_accuracy: 0.9953 - out3_dice_coef: 0.6425 - out3_jacard: 0.4734 - out3_recall: 0.9858 - out3_precision: 0.9193 - out3_accuracy: 0.9981\n",
            "Epoch 93/100\n",
            "12/12 [==============================] - 51s 4s/step - loss: 2.2061 - out1_loss: 0.8916 - out2_loss: 0.8917 - out3_loss: 0.4228 - out1_dice_coef: 0.0680 - out1_jacard: 0.0352 - out1_recall: 0.9990 - out1_precision: 0.7752 - out1_accuracy: 0.9948 - out2_dice_coef: 0.0680 - out2_jacard: 0.0352 - out2_recall: 0.9995 - out2_precision: 0.7983 - out2_accuracy: 0.9955 - out3_dice_coef: 0.6445 - out3_jacard: 0.4755 - out3_recall: 0.9876 - out3_precision: 0.9226 - out3_accuracy: 0.9982\n",
            "Epoch 94/100\n",
            "12/12 [==============================] - 51s 4s/step - loss: 2.2068 - out1_loss: 0.8916 - out2_loss: 0.8917 - out3_loss: 0.4235 - out1_dice_coef: 0.0680 - out1_jacard: 0.0352 - out1_recall: 0.9990 - out1_precision: 0.7693 - out1_accuracy: 0.9946 - out2_dice_coef: 0.0680 - out2_jacard: 0.0352 - out2_recall: 0.9989 - out2_precision: 0.7936 - out2_accuracy: 0.9953 - out3_dice_coef: 0.6436 - out3_jacard: 0.4745 - out3_recall: 0.9868 - out3_precision: 0.9211 - out3_accuracy: 0.9981\n",
            "Epoch 95/100\n",
            "12/12 [==============================] - 51s 4s/step - loss: 2.2079 - out1_loss: 0.8916 - out2_loss: 0.8918 - out3_loss: 0.4245 - out1_dice_coef: 0.0680 - out1_jacard: 0.0352 - out1_recall: 0.9986 - out1_precision: 0.7641 - out1_accuracy: 0.9944 - out2_dice_coef: 0.0679 - out2_jacard: 0.0352 - out2_recall: 0.9990 - out2_precision: 0.7898 - out2_accuracy: 0.9952 - out3_dice_coef: 0.6422 - out3_jacard: 0.4730 - out3_recall: 0.9851 - out3_precision: 0.9186 - out3_accuracy: 0.9981\n",
            "Epoch 96/100\n",
            "12/12 [==============================] - 51s 4s/step - loss: 2.2064 - out1_loss: 0.8916 - out2_loss: 0.8917 - out3_loss: 0.4231 - out1_dice_coef: 0.0680 - out1_jacard: 0.0352 - out1_recall: 0.9993 - out1_precision: 0.7623 - out1_accuracy: 0.9944 - out2_dice_coef: 0.0680 - out2_jacard: 0.0352 - out2_recall: 0.9996 - out2_precision: 0.7883 - out2_accuracy: 0.9952 - out3_dice_coef: 0.6430 - out3_jacard: 0.4738 - out3_recall: 0.9890 - out3_precision: 0.9171 - out3_accuracy: 0.9981\n",
            "Epoch 97/100\n",
            "12/12 [==============================] - 51s 4s/step - loss: 2.2063 - out1_loss: 0.8916 - out2_loss: 0.8917 - out3_loss: 0.4230 - out1_dice_coef: 0.0680 - out1_jacard: 0.0352 - out1_recall: 0.9982 - out1_precision: 0.7816 - out1_accuracy: 0.9950 - out2_dice_coef: 0.0680 - out2_jacard: 0.0352 - out2_recall: 0.9993 - out2_precision: 0.8047 - out2_accuracy: 0.9956 - out3_dice_coef: 0.6452 - out3_jacard: 0.4763 - out3_recall: 0.9852 - out3_precision: 0.9297 - out3_accuracy: 0.9983\n",
            "Epoch 98/100\n",
            "12/12 [==============================] - 51s 4s/step - loss: 2.2059 - out1_loss: 0.8915 - out2_loss: 0.8916 - out3_loss: 0.4228 - out1_dice_coef: 0.0681 - out1_jacard: 0.0352 - out1_recall: 0.9991 - out1_precision: 0.7715 - out1_accuracy: 0.9947 - out2_dice_coef: 0.0680 - out2_jacard: 0.0352 - out2_recall: 0.9995 - out2_precision: 0.7946 - out2_accuracy: 0.9954 - out3_dice_coef: 0.6443 - out3_jacard: 0.4753 - out3_recall: 0.9884 - out3_precision: 0.9200 - out3_accuracy: 0.9981\n",
            "Epoch 99/100\n",
            "12/12 [==============================] - 51s 4s/step - loss: 2.2049 - out1_loss: 0.8915 - out2_loss: 0.8917 - out3_loss: 0.4216 - out1_dice_coef: 0.0681 - out1_jacard: 0.0352 - out1_recall: 0.9989 - out1_precision: 0.7772 - out1_accuracy: 0.9948 - out2_dice_coef: 0.0680 - out2_jacard: 0.0352 - out2_recall: 0.9991 - out2_precision: 0.8025 - out2_accuracy: 0.9956 - out3_dice_coef: 0.6463 - out3_jacard: 0.4775 - out3_recall: 0.9884 - out3_precision: 0.9273 - out3_accuracy: 0.9983\n",
            "Epoch 100/100\n",
            "12/12 [==============================] - 51s 4s/step - loss: 2.2049 - out1_loss: 0.8916 - out2_loss: 0.8917 - out3_loss: 0.4217 - out1_dice_coef: 0.0681 - out1_jacard: 0.0352 - out1_recall: 0.9988 - out1_precision: 0.7784 - out1_accuracy: 0.9949 - out2_dice_coef: 0.0680 - out2_jacard: 0.0352 - out2_recall: 0.9994 - out2_precision: 0.8025 - out2_accuracy: 0.9956 - out3_dice_coef: 0.6459 - out3_jacard: 0.4771 - out3_recall: 0.9887 - out3_precision: 0.9257 - out3_accuracy: 0.9983\n",
            "2/2 [==============================] - 3s 2s/step\n",
            "Predicted yp shape =  (3, 4, 496, 496, 1)\n",
            "No. of Samples to be predicted =  4\n"
          ]
        },
        {
          "output_type": "execute_result",
          "data": {
            "text/plain": [
              "<keras.engine.functional.Functional at 0x7f6c86020b90>"
            ]
          },
          "metadata": {},
          "execution_count": 30
        }
      ]
    },
    {
      "cell_type": "code",
      "metadata": {
        "colab": {
          "base_uri": "https://localhost:8080/",
          "height": 557
        },
        "id": "Wj1w38gYkA7u",
        "outputId": "08e2f4f2-4bcd-48f5-917c-a1b63405c8cb"
      },
      "source": [
        "\n",
        "# # check if this is what you exactly wanted\n",
        "each_mask_file = glob.glob(\"/content/validation_data_qubiq2021_QC/kidney/Validation/case25/image*\")[0]\n",
        "print(\"Display file = \",each_mask_file)\n",
        "# print(each_mask_file)\n",
        "epi_mask = nib.load(each_mask_file)\n",
        "epi_mask_data = epi_mask.get_fdata()\n",
        "plt.imshow(epi_mask_data,cmap='gray')\n",
        "plt.show()\n",
        "\n",
        "# check if this is what you exactly wanted\n",
        "each_mask_file = glob.glob(\"/content/kidney/case25/task01*\")[0]\n",
        "print(\"Display file = \",each_mask_file)\n",
        "# print(each_mask_file)\n",
        "epi_mask = nib.load(each_mask_file)\n",
        "epi_mask_data = epi_mask.get_fdata()\n",
        "plt.imshow(epi_mask_data,cmap='gray')\n",
        "plt.show()"
      ],
      "execution_count": 32,
      "outputs": [
        {
          "output_type": "stream",
          "name": "stdout",
          "text": [
            "Display file =  /content/validation_data_qubiq2021_QC/kidney/Validation/case25/image.nii.gz\n"
          ]
        },
        {
          "output_type": "display_data",
          "data": {
            "image/png": "[encoded data removed]",
            "text/plain": [
              "<Figure size 432x288 with 1 Axes>"
            ]
          },
          "metadata": {
            "needs_background": "light"
          }
        },
        {
          "output_type": "stream",
          "name": "stdout",
          "text": [
            "Display file =  /content/kidney/case25/task01_seg02.nii.gz\n"
          ]
        },
        {
          "output_type": "display_data",
          "data": {
            "image/png": "[encoded data removed]",
            "text/plain": [
              "<Figure size 432x288 with 1 Axes>"
            ]
          },
          "metadata": {
            "needs_background": "light"
          }
        }
      ]
    },
    {
      "cell_type": "code",
      "metadata": {
        "colab": {
          "base_uri": "https://localhost:8080/"
        },
        "id": "mjqs-Izxl3IC",
        "outputId": "1c405bb9-cf52-4024-8cbf-5abec0509a85"
      },
      "source": [
        "! zip -r kidney.zip kidney"
      ],
      "execution_count": 33,
      "outputs": [
        {
          "output_type": "stream",
          "name": "stdout",
          "text": [
            "  adding: kidney/ (stored 0%)\n",
            "  adding: kidney/case26/ (stored 0%)\n",
            "  adding: kidney/case26/task01_seg02.nii.gz (deflated 57%)\n",
            "  adding: kidney/case26/task01_seg03.nii.gz (deflated 62%)\n",
            "  adding: kidney/case26/task01_seg01.nii.gz (deflated 55%)\n",
            "  adding: kidney/case25/ (stored 0%)\n",
            "  adding: kidney/case25/task01_seg02.nii.gz (deflated 63%)\n",
            "  adding: kidney/case25/task01_seg03.nii.gz (deflated 70%)\n",
            "  adding: kidney/case25/task01_seg01.nii.gz (deflated 61%)\n",
            "  adding: kidney/case28/ (stored 0%)\n",
            "  adding: kidney/case28/task01_seg02.nii.gz (deflated 51%)\n",
            "  adding: kidney/case28/task01_seg03.nii.gz (deflated 52%)\n",
            "  adding: kidney/case28/task01_seg01.nii.gz (deflated 50%)\n",
            "  adding: kidney/case27/ (stored 0%)\n",
            "  adding: kidney/case27/task01_seg02.nii.gz (deflated 56%)\n",
            "  adding: kidney/case27/task01_seg03.nii.gz (deflated 62%)\n",
            "  adding: kidney/case27/task01_seg01.nii.gz (deflated 54%)\n"
          ]
        }
      ]
    },
    {
      "cell_type": "code",
      "metadata": {
        "id": "u2rNW8pS9qIU"
      },
      "source": [
        ""
      ],
      "execution_count": null,
      "outputs": []
    }
  ]
}