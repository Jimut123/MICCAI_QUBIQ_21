{
  "nbformat": 4,
  "nbformat_minor": 0,
  "metadata": {
    "colab": {
      "name": "Brain_Tumor_QUBIQ_Submission.ipynb",
      "provenance": []
    },
    "kernelspec": {
      "name": "python3",
      "display_name": "Python 3"
    },
    "language_info": {
      "name": "python"
    },
    "accelerator": "GPU"
  },
  "cells": [
    {
      "cell_type": "code",
      "metadata": {
        "colab": {
          "base_uri": "https://localhost:8080/"
        },
        "id": "vDznydmRwfVk",
        "outputId": "568d6983-6077-4f43-dc72-ba37c760fdb1"
      },
      "source": [
        "! gdown https://drive.google.com/u/2/uc?id=18jnbjnhhpf2x8QrguAtJOTejEd6FUZtR"
      ],
      "execution_count": 1,
      "outputs": [
        {
          "output_type": "stream",
          "name": "stdout",
          "text": [
            "Downloading...\n",
            "From: https://drive.google.com/u/2/uc?id=18jnbjnhhpf2x8QrguAtJOTejEd6FUZtR\n",
            "To: /content/training_data_v3_QC.zip\n",
            "1.52GB [00:09, 153MB/s]\n"
          ]
        }
      ]
    },
    {
      "cell_type": "code",
      "metadata": {
        "id": "itC_kElrxG6_"
      },
      "source": [
        "! unzip -qq training_data_v3_QC.zip"
      ],
      "execution_count": 2,
      "outputs": []
    },
    {
      "cell_type": "code",
      "metadata": {
        "colab": {
          "base_uri": "https://localhost:8080/"
        },
        "id": "yrDOrOiaxIau",
        "outputId": "69fa12c1-53a8-4885-f2f1-04dae687050e"
      },
      "source": [
        "! gdown https://drive.google.com/u/2/uc?id=1-3RVQZu8acSxhI1koBy_e9HsjxbELkKi"
      ],
      "execution_count": 3,
      "outputs": [
        {
          "output_type": "stream",
          "name": "stdout",
          "text": [
            "Downloading...\n",
            "From: https://drive.google.com/u/2/uc?id=1-3RVQZu8acSxhI1koBy_e9HsjxbELkKi\n",
            "To: /content/validation_data_qubiq2021_QC.zip\n",
            "582MB [00:13, 44.2MB/s]\n"
          ]
        }
      ]
    },
    {
      "cell_type": "code",
      "metadata": {
        "id": "PY1yxRjYxKRV"
      },
      "source": [
        "! unzip -qq validation_data_qubiq2021_QC.zip"
      ],
      "execution_count": 4,
      "outputs": []
    },
    {
      "cell_type": "code",
      "metadata": {
        "colab": {
          "base_uri": "https://localhost:8080/"
        },
        "id": "y-ST5V3GxL7w",
        "outputId": "7c99ebda-1156-483f-94cd-62c64e4f89f8"
      },
      "source": [
        "! gdown https://drive.google.com/u/2/uc?id=1R2sPVfw4w2AxRviQwa3ZozkU7sH10tL4"
      ],
      "execution_count": 5,
      "outputs": [
        {
          "output_type": "stream",
          "name": "stdout",
          "text": [
            "Downloading...\n",
            "From: https://drive.google.com/u/2/uc?id=1R2sPVfw4w2AxRviQwa3ZozkU7sH10tL4\n",
            "To: /content/QUBIQ21_test.zip\n",
            "682MB [00:11, 59.4MB/s]\n"
          ]
        }
      ]
    },
    {
      "cell_type": "code",
      "metadata": {
        "id": "dsn9R-sTxNc7"
      },
      "source": [
        "! unzip -qq QUBIQ21_test.zip"
      ],
      "execution_count": 6,
      "outputs": []
    },
    {
      "cell_type": "code",
      "metadata": {
        "id": "7kE4fN1dxO4l"
      },
      "source": [
        "# make the output folder here\n",
        "! mkdir brain-tumor"
      ],
      "execution_count": 7,
      "outputs": []
    },
    {
      "cell_type": "code",
      "metadata": {
        "id": "fxdxiDThxRfv"
      },
      "source": [
        "import cv2\n",
        "import glob\n",
        "import numpy as np\n",
        "import nibabel as nib\n",
        "import skimage.io as io\n",
        "from nibabel import nifti1\n",
        "from nibabel.viewers import OrthoSlicer3D\n",
        "import matplotlib.pyplot as plt\n",
        "\n",
        "import glob\n",
        "import json\n",
        "import os\n",
        "import cv2\n",
        "import glob\n",
        "import numpy as np\n",
        "import pandas as pd\n",
        "from tqdm import tqdm\n",
        "import matplotlib.pyplot as plt\n",
        "from keras.layers import Input, Conv2D, MaxPooling2D, Conv2DTranspose, concatenate, BatchNormalization, Activation, add\n",
        "from keras.models import Model, model_from_json\n",
        "# from keras.optimizers import Adam\n",
        "from tensorflow.keras.applications import MobileNetV2\n",
        "from keras.layers.advanced_activations import ELU, LeakyReLU\n",
        "from keras.utils.vis_utils import plot_model\n",
        "from keras import backend as K\n",
        "from sklearn.model_selection import train_test_split\n",
        "from sklearn.metrics import classification_report\n",
        "\n",
        "import tensorflow as tf\n",
        "import matplotlib.pyplot as plt\n",
        "from sklearn.model_selection import train_test_split\n",
        "\n",
        "from tensorflow.keras.layers import Conv2D, Activation, BatchNormalization\n",
        "from tensorflow.keras.layers import UpSampling2D, Input, Concatenate\n",
        "from tensorflow.keras.models import Model , load_model\n",
        "from tensorflow.keras.applications import MobileNetV2\n",
        "from tensorflow.keras.callbacks import EarlyStopping, ReduceLROnPlateau\n",
        "from tensorflow.keras.metrics import Recall, Precision\n",
        "from tensorflow.keras import backend as K\n",
        "from sklearn.model_selection import KFold\n",
        "from sklearn.metrics import average_precision_score, recall_score\n"
      ],
      "execution_count": 8,
      "outputs": []
    },
    {
      "cell_type": "code",
      "metadata": {
        "id": "s9NGK0LdxdMY"
      },
      "source": [
        "# All the losses are present here\n",
        "\n",
        "from keras.losses import binary_crossentropy\n",
        "import keras.backend as K\n",
        "import tensorflow as tf \n",
        "\n",
        "epsilon = 1e-5\n",
        "smooth = 1\n",
        "\n",
        "def dsc(y_true, y_pred):\n",
        "    smooth = 1.\n",
        "    y_true_f = K.flatten(y_true)\n",
        "    y_pred_f = K.flatten(y_pred)\n",
        "    intersection = K.sum(y_true_f * y_pred_f)\n",
        "    score = (2. * intersection + smooth) / (K.sum(y_true_f) + K.sum(y_pred_f) + smooth)\n",
        "    return score\n",
        "\n",
        "def dice_loss(y_true, y_pred):\n",
        "    loss = 1 - dsc(y_true, y_pred)\n",
        "    return loss\n",
        "\n",
        "def bce_dice_loss(y_true, y_pred):\n",
        "    loss = binary_crossentropy(y_true, y_pred) + dice_loss(y_true, y_pred)\n",
        "    return loss\n",
        "\n",
        "def confusion(y_true, y_pred):\n",
        "    smooth=1\n",
        "    y_pred_pos = K.clip(y_pred, 0, 1)\n",
        "    y_pred_neg = 1 - y_pred_pos\n",
        "    y_pos = K.clip(y_true, 0, 1)\n",
        "    y_neg = 1 - y_pos\n",
        "    tp = K.sum(y_pos * y_pred_pos)\n",
        "    fp = K.sum(y_neg * y_pred_pos)\n",
        "    fn = K.sum(y_pos * y_pred_neg) \n",
        "    prec = (tp + smooth)/(tp+fp+smooth)\n",
        "    recall = (tp+smooth)/(tp+fn+smooth)\n",
        "    return prec, recall\n",
        "\n",
        "def tp(y_true, y_pred):\n",
        "    smooth = 1\n",
        "    y_pred_pos = K.round(K.clip(y_pred, 0, 1))\n",
        "    y_pos = K.round(K.clip(y_true, 0, 1))\n",
        "    tp = (K.sum(y_pos * y_pred_pos) + smooth)/ (K.sum(y_pos) + smooth) \n",
        "    return tp \n",
        "\n",
        "def tn(y_true, y_pred):\n",
        "    smooth = 1\n",
        "    y_pred_pos = K.round(K.clip(y_pred, 0, 1))\n",
        "    y_pred_neg = 1 - y_pred_pos\n",
        "    y_pos = K.round(K.clip(y_true, 0, 1))\n",
        "    y_neg = 1 - y_pos \n",
        "    tn = (K.sum(y_neg * y_pred_neg) + smooth) / (K.sum(y_neg) + smooth )\n",
        "    return tn \n",
        "\n",
        "def tversky(y_true, y_pred):\n",
        "    y_true_pos = K.flatten(y_true)\n",
        "    y_pred_pos = K.flatten(y_pred)\n",
        "    true_pos = K.sum(y_true_pos * y_pred_pos)\n",
        "    false_neg = K.sum(y_true_pos * (1-y_pred_pos))\n",
        "    false_pos = K.sum((1-y_true_pos)*y_pred_pos)\n",
        "    alpha = 0.7\n",
        "    return (true_pos + smooth)/(true_pos + alpha*false_neg + (1-alpha)*false_pos + smooth)\n",
        "\n",
        "def tversky_loss(y_true, y_pred):\n",
        "    return 1 - tversky(y_true,y_pred)\n",
        "\n",
        "def focal_tversky(y_true,y_pred):\n",
        "    pt_1 = tversky(y_true, y_pred)\n",
        "    gamma = 0.75\n",
        "    return K.pow((1-pt_1), gamma)\n",
        "\n",
        "def dice_coef(y_true, y_pred):\n",
        "    smooth = 0.0\n",
        "    y_true_f = K.flatten(y_true)\n",
        "    y_pred_f = K.flatten(y_pred)\n",
        "    intersection = K.sum(y_true_f * y_pred_f)\n",
        "    return (2. * intersection + smooth) / (K.sum(y_true_f) + K.sum(y_pred_f) + smooth)\n",
        "\n",
        "def jacard(y_true, y_pred):\n",
        "\n",
        "    y_true_f = K.flatten(y_true)\n",
        "    y_pred_f = K.flatten(y_pred)\n",
        "    intersection = K.sum ( y_true_f * y_pred_f)\n",
        "    union = K.sum ( y_true_f + y_pred_f - y_true_f * y_pred_f)\n",
        "    return intersection/union\n"
      ],
      "execution_count": 9,
      "outputs": []
    },
    {
      "cell_type": "code",
      "metadata": {
        "id": "34IQmFQ1xfI6"
      },
      "source": [
        "\n",
        "import os\n",
        "import json\n",
        "import cv2\n",
        "import glob\n",
        "import numpy as np\n",
        "import pandas as pd\n",
        "from tqdm import tqdm\n",
        "import matplotlib.pyplot as plt\n",
        "\n",
        "import keras\n",
        "from keras.layers import Input, Conv2D, MaxPooling2D, Conv2DTranspose, concatenate, BatchNormalization, Activation, add, Subtract, multiply\n",
        "from keras.models import Model, model_from_json\n",
        "from tensorflow.keras.optimizers import Nadam, Adam, SGD, RMSprop\n",
        "from tensorflow.keras.applications import MobileNetV2\n",
        "from keras.layers.advanced_activations import ELU, LeakyReLU\n",
        "from keras.utils.vis_utils import plot_model\n",
        "from keras import backend as K\n",
        "from sklearn.model_selection import train_test_split\n",
        "from sklearn.metrics import classification_report\n",
        "\n",
        "import tensorflow as tf\n",
        "import matplotlib.pyplot as plt\n",
        "from sklearn.model_selection import train_test_split\n",
        "\n",
        "from tensorflow.keras.layers import Conv2D, Activation, BatchNormalization\n",
        "from tensorflow.keras.layers import UpSampling2D, Input, Concatenate\n",
        "from tensorflow.keras.models import Model , load_model\n",
        "from tensorflow.keras.applications import MobileNetV2\n",
        "from tensorflow.keras.callbacks import EarlyStopping, ReduceLROnPlateau\n",
        "from tensorflow.keras.metrics import Recall, Precision\n",
        "from tensorflow.keras import backend as K\n",
        "\n",
        "\n",
        "from keras.models import Model\n",
        "from keras.layers import Input, concatenate, Conv2D, MaxPooling2D, UpSampling2D, Reshape, core, Dropout\n",
        "# from keras.optimizers import Adam\n",
        "from keras.callbacks import ModelCheckpoint, LearningRateScheduler\n",
        "from keras import backend as K\n",
        "from keras.utils.vis_utils import plot_model as plot\n",
        "# from keras.optimizers import SGD\n",
        "# from keras.optimizers import *\n",
        "from keras.layers import *      \n",
        "\n",
        "def AttentionBlock(filters, inp_1, inp_2):\n",
        "    '''\n",
        "    AttentionBlock\n",
        "    Arguments:\n",
        "        filters {int} -- [description]\n",
        "        inp_1 {keras layer} -- input layer\n",
        "        inp_2 {keras layer} -- input layer\n",
        "    Returns:\n",
        "        [keras layer] -- [output layer]\n",
        "    '''\n",
        "\n",
        "    # Take the original image as the attention multiplication factor, i.e., inp_1\n",
        "    attention_mult = inp_1\n",
        "    inp_1 = Conv2D(filters, (3, 3), activation= 'relu', strides=1, padding='same')(inp_1)\n",
        "    inp_2 = Conv2D(filters, (3, 3), activation= 'relu', strides=1, padding='same')(inp_2)\n",
        "    subtract_1 = Conv2D(filters, (3, 3), activation= 'tanh', strides=1, padding='same')(keras.layers.Subtract(name=\"subtract\")([inp_1, inp_2]))\n",
        "    multiply_1 = Conv2D(filters, (3, 3), activation= 'sigmoid', strides=1, padding='same')(multiply([attention_mult, subtract_1]))\n",
        "    return multiply_1\n",
        "\n",
        "def QUBIQ_NET(height, width, n_channels):\n",
        "    N = height\n",
        "    \n",
        "    inputs = Input(shape=(height, width, 4), name=\"input_image\")\n",
        "    \n",
        "    conv1 = Conv2D(64, 3, activation = 'relu', padding = 'same', kernel_initializer = 'he_normal')(inputs)\n",
        "    conv1 = Conv2D(64, 3, activation = 'relu', padding = 'same', kernel_initializer = 'he_normal')(conv1)\n",
        "    in_conv1 = conv1\n",
        "  \n",
        "    pool1 = MaxPooling2D(pool_size=(2, 2))(conv1)\n",
        "    conv2 = Conv2D(128, 3, activation = 'relu', padding = 'same', kernel_initializer = 'he_normal')(pool1)\n",
        "    conv2 = Conv2D(128, 3, activation = 'relu', padding = 'same', kernel_initializer = 'he_normal')(conv2)\n",
        "    pool2 = MaxPooling2D(pool_size=(2, 2))(conv2)\n",
        "    conv3 = Conv2D(256, 3, activation = 'relu', padding = 'same', kernel_initializer = 'he_normal')(pool2)\n",
        "    conv3 = Conv2D(256, 3, activation = 'relu', padding = 'same', kernel_initializer = 'he_normal')(conv3)\n",
        "    drop3 = Dropout(0.5)(conv3)\n",
        "    pool3 = MaxPooling2D(pool_size=(2, 2))(conv3)\n",
        "    # D1\n",
        "    conv4 = Conv2D(512, 3, activation = 'relu', padding = 'same', kernel_initializer = 'he_normal')(pool3)     \n",
        "    conv4_1 = Conv2D(512, 3, activation = 'relu', padding = 'same', kernel_initializer = 'he_normal')(conv4)\n",
        "    drop4_1 = Dropout(0.5)(conv4_1)\n",
        "    # D2\n",
        "    conv4_2 = Conv2D(512, 3, activation = 'relu', padding = 'same', kernel_initializer = 'he_normal')(drop4_1)     \n",
        "    conv4_2 = Conv2D(512, 3, activation = 'relu', padding = 'same', kernel_initializer = 'he_normal')(conv4_2)\n",
        "    conv4_2 = Dropout(0.5)(conv4_2)\n",
        "    # D3\n",
        "    merge_dense = concatenate([conv4_2,drop4_1], axis = 3)\n",
        "    conv4_3 = Conv2D(512, 3, activation = 'relu', padding = 'same', kernel_initializer = 'he_normal')(merge_dense)     \n",
        "    conv4_3 = Conv2D(512, 3, activation = 'relu', padding = 'same', kernel_initializer = 'he_normal')(conv4_3)\n",
        "    drop4_3 = Dropout(0.5)(conv4_3)\n",
        "    up6 = Conv2DTranspose(256, kernel_size=2, strides=2, padding='same',kernel_initializer = 'he_normal')(drop4_3)\n",
        "    up6 = BatchNormalization(axis=3)(up6)\n",
        "    up6 = Activation('relu')(up6)\n",
        "\n",
        "    x1 = Reshape(target_shape=(1, np.int32(N/4), np.int32(N/4), 256))(drop3)\n",
        "    x2 = Reshape(target_shape=(1, np.int32(N/4), np.int32(N/4), 256))(up6)\n",
        "    merge6  = concatenate([x1,x2], axis = 1) \n",
        "    merge6 = ConvLSTM2D(filters = 128, kernel_size=(3, 3), padding='same', return_sequences = False, go_backwards = True,kernel_initializer = 'he_normal' )(merge6)\n",
        "            \n",
        "    conv6 = Conv2D(256, 3, activation = 'relu', padding = 'same', kernel_initializer = 'he_normal')(merge6)\n",
        "    conv6 = Conv2D(256, 3, activation = 'relu', padding = 'same', kernel_initializer = 'he_normal')(conv6)\n",
        "\n",
        "    up7 = Conv2DTranspose(128, kernel_size=2, strides=2, padding='same',kernel_initializer = 'he_normal')(conv6)\n",
        "    up7 = BatchNormalization(axis=3)(up7)\n",
        "    up7 = Activation('relu')(up7)\n",
        "\n",
        "    x1 = Reshape(target_shape=(1, np.int32(N/2), np.int32(N/2), 128))(conv2)\n",
        "    x2 = Reshape(target_shape=(1, np.int32(N/2), np.int32(N/2), 128))(up7)\n",
        "    merge7  = concatenate([x1,x2], axis = 1) \n",
        "    merge7 = ConvLSTM2D(filters = 64, kernel_size=(3, 3), padding='same', return_sequences = False, go_backwards = True,kernel_initializer = 'he_normal' )(merge7)\n",
        "        \n",
        "    conv7 = Conv2D(128, 3, activation = 'relu', padding = 'same', kernel_initializer = 'he_normal')(merge7)\n",
        "    conv7 = Conv2D(128, 3, activation = 'relu', padding = 'same', kernel_initializer = 'he_normal')(conv7)\n",
        "\n",
        "    up8 = Conv2DTranspose(64, kernel_size=2, strides=2, padding='same',kernel_initializer = 'he_normal')(conv7)\n",
        "    up8 = BatchNormalization(axis=3)(up8)\n",
        "    up8 = Activation('relu')(up8)    \n",
        "\n",
        "    x1 = Reshape(target_shape=(1, N, N, 64))(conv1)\n",
        "    x2 = Reshape(target_shape=(1, N, N, 64))(up8)\n",
        "    merge8  = concatenate([x1,x2], axis = 1) \n",
        "    merge8 = ConvLSTM2D(filters = 32, kernel_size=(3, 3), padding='same', return_sequences = False, go_backwards = True,kernel_initializer = 'he_normal' )(merge8)    \n",
        "    \n",
        "    conv8 = Conv2D(64, 3, activation = 'relu', padding = 'same', kernel_initializer = 'he_normal')(merge8)\n",
        "    conv8 = Conv2D(64, 3, activation = 'relu', padding = 'same', kernel_initializer = 'he_normal')(conv8)\n",
        "    \n",
        "\n",
        "\n",
        "\n",
        "    \n",
        "\n",
        "    \n",
        "\n",
        "    # Outputs \n",
        "\n",
        "    conv_1_out = concatenate([conv8, in_conv1])\n",
        "    conv_1_out = Conv2D(256, 3, activation = 'relu', padding = 'same', kernel_initializer = 'he_normal')(conv_1_out)\n",
        "    conv_1_out = Conv2D(1, 1, activation = 'sigmoid', name=\"out1\")(conv_1_out)\n",
        "\n",
        "    conv_2_out = concatenate([conv8, in_conv1])\n",
        "    conv_2_out = Conv2D(256, 3, activation = 'relu', padding = 'same', kernel_initializer = 'he_normal')(conv_2_out)\n",
        "    conv_2_out = Conv2D(1, 1, activation = 'sigmoid', name=\"out2\")(conv_2_out)\n",
        "\n",
        "    conv_3_out = concatenate([conv8, in_conv1])\n",
        "    conv_3_out = Conv2D(256, 3, activation = 'relu', padding = 'same', kernel_initializer = 'he_normal')(conv_3_out)\n",
        "    conv_3_out = Conv2D(1, 1, activation = 'sigmoid', name=\"out3\")(conv_3_out)\n",
        "\n",
        "    conv_4_out = concatenate([conv8, in_conv1])\n",
        "    conv_4_out = Conv2D(256, 3, activation = 'relu', padding = 'same', kernel_initializer = 'he_normal')(conv_4_out)\n",
        "    conv_4_out = Conv2D(1, 1, activation = 'sigmoid', name=\"out4\")(conv_4_out)\n",
        "\n",
        "    conv_5_out = concatenate([conv8, in_conv1])\n",
        "    conv_5_out = Conv2D(256, 3, activation = 'relu', padding = 'same', kernel_initializer = 'he_normal')(conv_5_out)\n",
        "    conv_5_out = Conv2D(1, 1, activation = 'sigmoid', name=\"out5\")(conv_5_out)\n",
        "\n",
        "    conv_6_out = concatenate([conv8, in_conv1])\n",
        "    conv_6_out = Conv2D(256, 3, activation = 'relu', padding = 'same', kernel_initializer = 'he_normal')(conv_6_out)\n",
        "    conv_6_out = Conv2D(1, 1, activation = 'sigmoid', name=\"out6\")(conv_6_out)\n",
        "\n",
        "    conv_7_out = concatenate([conv8, in_conv1])\n",
        "    conv_7_out = Conv2D(256, 3, activation = 'relu', padding = 'same', kernel_initializer = 'he_normal')(conv_7_out)\n",
        "    conv_7_out = Conv2D(1, 1, activation = 'sigmoid', name=\"out7\")(conv_7_out)\n",
        "\n",
        "    conv_8_out = concatenate([conv8, in_conv1])\n",
        "    conv_8_out = Conv2D(256, 3, activation = 'relu', padding = 'same', kernel_initializer = 'he_normal')(conv_8_out)\n",
        "    conv_8_out = Conv2D(1, 1, activation = 'sigmoid', name=\"out8\")(conv_8_out)\n",
        "\n",
        "    conv_9_out = concatenate([conv8, in_conv1])\n",
        "    conv_9_out = Conv2D(256, 3, activation = 'relu', padding = 'same', kernel_initializer = 'he_normal')(conv_9_out)\n",
        "    conv_9_out = Conv2D(1, 1, activation = 'sigmoid', name=\"out9\")(conv_9_out)\n",
        "\n",
        "    model = Model(inputs = [inputs], outputs = [conv_1_out, conv_2_out, conv_3_out, conv_4_out, conv_5_out, conv_6_out, conv_7_out, conv_8_out, conv_9_out])\n",
        "\n",
        "    # model.compile(optimizer = Adam(lr = 1e-4), loss = 'binary_crossentropy', metrics = ['accuracy'])\n",
        "    \n",
        "    return model\n",
        "\n"
      ],
      "execution_count": 10,
      "outputs": []
    },
    {
      "cell_type": "code",
      "metadata": {
        "colab": {
          "base_uri": "https://localhost:8080/"
        },
        "id": "i8RklsAExjcg",
        "outputId": "5a7f4bd6-8d4c-485c-81b7-415136a8fdf2"
      },
      "source": [
        "model = QUBIQ_NET(height=240, width=240, n_channels=1)\n",
        "#model.compile(optimizer='adam', loss='binary_crossentropy', metrics=[dice_coef, jacard, 'accuracy'])\n",
        "# model.compile(optimizer=Adam(learning_rate=1e-5),loss='binary_crossentropy',metrics=[dice_coef, jacard, Recall(), Precision(), 'accuracy'])\n",
        "print(model.summary())"
      ],
      "execution_count": 11,
      "outputs": [
        {
          "output_type": "stream",
          "name": "stdout",
          "text": [
            "Model: \"model\"\n",
            "__________________________________________________________________________________________________\n",
            "Layer (type)                    Output Shape         Param #     Connected to                     \n",
            "==================================================================================================\n",
            "input_image (InputLayer)        [(None, 240, 240, 4) 0                                            \n",
            "__________________________________________________________________________________________________\n",
            "conv2d (Conv2D)                 (None, 240, 240, 64) 2368        input_image[0][0]                \n",
            "__________________________________________________________________________________________________\n",
            "conv2d_1 (Conv2D)               (None, 240, 240, 64) 36928       conv2d[0][0]                     \n",
            "__________________________________________________________________________________________________\n",
            "max_pooling2d (MaxPooling2D)    (None, 120, 120, 64) 0           conv2d_1[0][0]                   \n",
            "__________________________________________________________________________________________________\n",
            "conv2d_2 (Conv2D)               (None, 120, 120, 128 73856       max_pooling2d[0][0]              \n",
            "__________________________________________________________________________________________________\n",
            "conv2d_3 (Conv2D)               (None, 120, 120, 128 147584      conv2d_2[0][0]                   \n",
            "__________________________________________________________________________________________________\n",
            "max_pooling2d_1 (MaxPooling2D)  (None, 60, 60, 128)  0           conv2d_3[0][0]                   \n",
            "__________________________________________________________________________________________________\n",
            "conv2d_4 (Conv2D)               (None, 60, 60, 256)  295168      max_pooling2d_1[0][0]            \n",
            "__________________________________________________________________________________________________\n",
            "conv2d_5 (Conv2D)               (None, 60, 60, 256)  590080      conv2d_4[0][0]                   \n",
            "__________________________________________________________________________________________________\n",
            "max_pooling2d_2 (MaxPooling2D)  (None, 30, 30, 256)  0           conv2d_5[0][0]                   \n",
            "__________________________________________________________________________________________________\n",
            "conv2d_6 (Conv2D)               (None, 30, 30, 512)  1180160     max_pooling2d_2[0][0]            \n",
            "__________________________________________________________________________________________________\n",
            "conv2d_7 (Conv2D)               (None, 30, 30, 512)  2359808     conv2d_6[0][0]                   \n",
            "__________________________________________________________________________________________________\n",
            "dropout_1 (Dropout)             (None, 30, 30, 512)  0           conv2d_7[0][0]                   \n",
            "__________________________________________________________________________________________________\n",
            "conv2d_8 (Conv2D)               (None, 30, 30, 512)  2359808     dropout_1[0][0]                  \n",
            "__________________________________________________________________________________________________\n",
            "conv2d_9 (Conv2D)               (None, 30, 30, 512)  2359808     conv2d_8[0][0]                   \n",
            "__________________________________________________________________________________________________\n",
            "dropout_2 (Dropout)             (None, 30, 30, 512)  0           conv2d_9[0][0]                   \n",
            "__________________________________________________________________________________________________\n",
            "concatenate (Concatenate)       (None, 30, 30, 1024) 0           dropout_2[0][0]                  \n",
            "                                                                 dropout_1[0][0]                  \n",
            "__________________________________________________________________________________________________\n",
            "conv2d_10 (Conv2D)              (None, 30, 30, 512)  4719104     concatenate[0][0]                \n",
            "__________________________________________________________________________________________________\n",
            "conv2d_11 (Conv2D)              (None, 30, 30, 512)  2359808     conv2d_10[0][0]                  \n",
            "__________________________________________________________________________________________________\n",
            "dropout_3 (Dropout)             (None, 30, 30, 512)  0           conv2d_11[0][0]                  \n",
            "__________________________________________________________________________________________________\n",
            "conv2d_transpose (Conv2DTranspo (None, 60, 60, 256)  524544      dropout_3[0][0]                  \n",
            "__________________________________________________________________________________________________\n",
            "batch_normalization (BatchNorma (None, 60, 60, 256)  1024        conv2d_transpose[0][0]           \n",
            "__________________________________________________________________________________________________\n",
            "dropout (Dropout)               (None, 60, 60, 256)  0           conv2d_5[0][0]                   \n",
            "__________________________________________________________________________________________________\n",
            "activation (Activation)         (None, 60, 60, 256)  0           batch_normalization[0][0]        \n",
            "__________________________________________________________________________________________________\n",
            "reshape (Reshape)               (None, 1, 60, 60, 25 0           dropout[0][0]                    \n",
            "__________________________________________________________________________________________________\n",
            "reshape_1 (Reshape)             (None, 1, 60, 60, 25 0           activation[0][0]                 \n",
            "__________________________________________________________________________________________________\n",
            "concatenate_1 (Concatenate)     (None, 2, 60, 60, 25 0           reshape[0][0]                    \n",
            "                                                                 reshape_1[0][0]                  \n",
            "__________________________________________________________________________________________________\n",
            "conv_lst_m2d (ConvLSTM2D)       (None, 60, 60, 128)  1769984     concatenate_1[0][0]              \n",
            "__________________________________________________________________________________________________\n",
            "conv2d_12 (Conv2D)              (None, 60, 60, 256)  295168      conv_lst_m2d[0][0]               \n",
            "__________________________________________________________________________________________________\n",
            "conv2d_13 (Conv2D)              (None, 60, 60, 256)  590080      conv2d_12[0][0]                  \n",
            "__________________________________________________________________________________________________\n",
            "conv2d_transpose_1 (Conv2DTrans (None, 120, 120, 128 131200      conv2d_13[0][0]                  \n",
            "__________________________________________________________________________________________________\n",
            "batch_normalization_1 (BatchNor (None, 120, 120, 128 512         conv2d_transpose_1[0][0]         \n",
            "__________________________________________________________________________________________________\n",
            "activation_1 (Activation)       (None, 120, 120, 128 0           batch_normalization_1[0][0]      \n",
            "__________________________________________________________________________________________________\n",
            "reshape_2 (Reshape)             (None, 1, 120, 120,  0           conv2d_3[0][0]                   \n",
            "__________________________________________________________________________________________________\n",
            "reshape_3 (Reshape)             (None, 1, 120, 120,  0           activation_1[0][0]               \n",
            "__________________________________________________________________________________________________\n",
            "concatenate_2 (Concatenate)     (None, 2, 120, 120,  0           reshape_2[0][0]                  \n",
            "                                                                 reshape_3[0][0]                  \n",
            "__________________________________________________________________________________________________\n",
            "conv_lst_m2d_1 (ConvLSTM2D)     (None, 120, 120, 64) 442624      concatenate_2[0][0]              \n",
            "__________________________________________________________________________________________________\n",
            "conv2d_14 (Conv2D)              (None, 120, 120, 128 73856       conv_lst_m2d_1[0][0]             \n",
            "__________________________________________________________________________________________________\n",
            "conv2d_15 (Conv2D)              (None, 120, 120, 128 147584      conv2d_14[0][0]                  \n",
            "__________________________________________________________________________________________________\n",
            "conv2d_transpose_2 (Conv2DTrans (None, 240, 240, 64) 32832       conv2d_15[0][0]                  \n",
            "__________________________________________________________________________________________________\n",
            "batch_normalization_2 (BatchNor (None, 240, 240, 64) 256         conv2d_transpose_2[0][0]         \n",
            "__________________________________________________________________________________________________\n",
            "activation_2 (Activation)       (None, 240, 240, 64) 0           batch_normalization_2[0][0]      \n",
            "__________________________________________________________________________________________________\n",
            "reshape_4 (Reshape)             (None, 1, 240, 240,  0           conv2d_1[0][0]                   \n",
            "__________________________________________________________________________________________________\n",
            "reshape_5 (Reshape)             (None, 1, 240, 240,  0           activation_2[0][0]               \n",
            "__________________________________________________________________________________________________\n",
            "concatenate_3 (Concatenate)     (None, 2, 240, 240,  0           reshape_4[0][0]                  \n",
            "                                                                 reshape_5[0][0]                  \n",
            "__________________________________________________________________________________________________\n",
            "conv_lst_m2d_2 (ConvLSTM2D)     (None, 240, 240, 32) 110720      concatenate_3[0][0]              \n",
            "__________________________________________________________________________________________________\n",
            "conv2d_16 (Conv2D)              (None, 240, 240, 64) 18496       conv_lst_m2d_2[0][0]             \n",
            "__________________________________________________________________________________________________\n",
            "conv2d_17 (Conv2D)              (None, 240, 240, 64) 36928       conv2d_16[0][0]                  \n",
            "__________________________________________________________________________________________________\n",
            "concatenate_4 (Concatenate)     (None, 240, 240, 128 0           conv2d_17[0][0]                  \n",
            "                                                                 conv2d_1[0][0]                   \n",
            "__________________________________________________________________________________________________\n",
            "concatenate_5 (Concatenate)     (None, 240, 240, 128 0           conv2d_17[0][0]                  \n",
            "                                                                 conv2d_1[0][0]                   \n",
            "__________________________________________________________________________________________________\n",
            "concatenate_6 (Concatenate)     (None, 240, 240, 128 0           conv2d_17[0][0]                  \n",
            "                                                                 conv2d_1[0][0]                   \n",
            "__________________________________________________________________________________________________\n",
            "concatenate_7 (Concatenate)     (None, 240, 240, 128 0           conv2d_17[0][0]                  \n",
            "                                                                 conv2d_1[0][0]                   \n",
            "__________________________________________________________________________________________________\n",
            "concatenate_8 (Concatenate)     (None, 240, 240, 128 0           conv2d_17[0][0]                  \n",
            "                                                                 conv2d_1[0][0]                   \n",
            "__________________________________________________________________________________________________\n",
            "concatenate_9 (Concatenate)     (None, 240, 240, 128 0           conv2d_17[0][0]                  \n",
            "                                                                 conv2d_1[0][0]                   \n",
            "__________________________________________________________________________________________________\n",
            "concatenate_10 (Concatenate)    (None, 240, 240, 128 0           conv2d_17[0][0]                  \n",
            "                                                                 conv2d_1[0][0]                   \n",
            "__________________________________________________________________________________________________\n",
            "concatenate_11 (Concatenate)    (None, 240, 240, 128 0           conv2d_17[0][0]                  \n",
            "                                                                 conv2d_1[0][0]                   \n",
            "__________________________________________________________________________________________________\n",
            "concatenate_12 (Concatenate)    (None, 240, 240, 128 0           conv2d_17[0][0]                  \n",
            "                                                                 conv2d_1[0][0]                   \n",
            "__________________________________________________________________________________________________\n",
            "conv2d_18 (Conv2D)              (None, 240, 240, 256 295168      concatenate_4[0][0]              \n",
            "__________________________________________________________________________________________________\n",
            "conv2d_19 (Conv2D)              (None, 240, 240, 256 295168      concatenate_5[0][0]              \n",
            "__________________________________________________________________________________________________\n",
            "conv2d_20 (Conv2D)              (None, 240, 240, 256 295168      concatenate_6[0][0]              \n",
            "__________________________________________________________________________________________________\n",
            "conv2d_21 (Conv2D)              (None, 240, 240, 256 295168      concatenate_7[0][0]              \n",
            "__________________________________________________________________________________________________\n",
            "conv2d_22 (Conv2D)              (None, 240, 240, 256 295168      concatenate_8[0][0]              \n",
            "__________________________________________________________________________________________________\n",
            "conv2d_23 (Conv2D)              (None, 240, 240, 256 295168      concatenate_9[0][0]              \n",
            "__________________________________________________________________________________________________\n",
            "conv2d_24 (Conv2D)              (None, 240, 240, 256 295168      concatenate_10[0][0]             \n",
            "__________________________________________________________________________________________________\n",
            "conv2d_25 (Conv2D)              (None, 240, 240, 256 295168      concatenate_11[0][0]             \n",
            "__________________________________________________________________________________________________\n",
            "conv2d_26 (Conv2D)              (None, 240, 240, 256 295168      concatenate_12[0][0]             \n",
            "__________________________________________________________________________________________________\n",
            "out1 (Conv2D)                   (None, 240, 240, 1)  257         conv2d_18[0][0]                  \n",
            "__________________________________________________________________________________________________\n",
            "out2 (Conv2D)                   (None, 240, 240, 1)  257         conv2d_19[0][0]                  \n",
            "__________________________________________________________________________________________________\n",
            "out3 (Conv2D)                   (None, 240, 240, 1)  257         conv2d_20[0][0]                  \n",
            "__________________________________________________________________________________________________\n",
            "out4 (Conv2D)                   (None, 240, 240, 1)  257         conv2d_21[0][0]                  \n",
            "__________________________________________________________________________________________________\n",
            "out5 (Conv2D)                   (None, 240, 240, 1)  257         conv2d_22[0][0]                  \n",
            "__________________________________________________________________________________________________\n",
            "out6 (Conv2D)                   (None, 240, 240, 1)  257         conv2d_23[0][0]                  \n",
            "__________________________________________________________________________________________________\n",
            "out7 (Conv2D)                   (None, 240, 240, 1)  257         conv2d_24[0][0]                  \n",
            "__________________________________________________________________________________________________\n",
            "out8 (Conv2D)                   (None, 240, 240, 1)  257         conv2d_25[0][0]                  \n",
            "__________________________________________________________________________________________________\n",
            "out9 (Conv2D)                   (None, 240, 240, 1)  257         conv2d_26[0][0]                  \n",
            "==================================================================================================\n",
            "Total params: 23,319,113\n",
            "Trainable params: 23,318,217\n",
            "Non-trainable params: 896\n",
            "__________________________________________________________________________________________________\n",
            "None\n"
          ]
        }
      ]
    },
    {
      "cell_type": "code",
      "metadata": {
        "id": "D_3DjT6Jxol8"
      },
      "source": [
        "! mv /content/validation_data_qubiq2021_QC/brain-tumor/Validation/* /content/training_data_v3_QC/brain-tumor/Training/"
      ],
      "execution_count": 12,
      "outputs": []
    },
    {
      "cell_type": "code",
      "metadata": {
        "id": "pCWgUAivxsdT"
      },
      "source": [
        "! mv /content/QUBIQ21_test/brain-tumor/Testing/* /content/validation_data_qubiq2021_QC/brain-tumor/Validation/"
      ],
      "execution_count": 13,
      "outputs": []
    },
    {
      "cell_type": "code",
      "metadata": {
        "colab": {
          "base_uri": "https://localhost:8080/"
        },
        "id": "3wKLs8NGxl2M",
        "outputId": "69cb83fb-67b4-46f5-b59b-e74855ddc769"
      },
      "source": [
        "ALL_FILES = glob.glob('/content/training_data_v3_QC/brain-tumor/Training/*')\n",
        "print(ALL_FILES)\n",
        "print(len(ALL_FILES))"
      ],
      "execution_count": 14,
      "outputs": [
        {
          "output_type": "stream",
          "name": "stdout",
          "text": [
            "['/content/training_data_v3_QC/brain-tumor/Training/case20', '/content/training_data_v3_QC/brain-tumor/Training/case10', '/content/training_data_v3_QC/brain-tumor/Training/case07', '/content/training_data_v3_QC/brain-tumor/Training/case23', '/content/training_data_v3_QC/brain-tumor/Training/case16', '/content/training_data_v3_QC/brain-tumor/Training/case26', '/content/training_data_v3_QC/brain-tumor/Training/case03', '/content/training_data_v3_QC/brain-tumor/Training/case09', '/content/training_data_v3_QC/brain-tumor/Training/case32', '/content/training_data_v3_QC/brain-tumor/Training/case25', '/content/training_data_v3_QC/brain-tumor/Training/case28', '/content/training_data_v3_QC/brain-tumor/Training/case01', '/content/training_data_v3_QC/brain-tumor/Training/case04', '/content/training_data_v3_QC/brain-tumor/Training/case08', '/content/training_data_v3_QC/brain-tumor/Training/case14', '/content/training_data_v3_QC/brain-tumor/Training/case13', '/content/training_data_v3_QC/brain-tumor/Training/case05', '/content/training_data_v3_QC/brain-tumor/Training/case02', '/content/training_data_v3_QC/brain-tumor/Training/case24', '/content/training_data_v3_QC/brain-tumor/Training/case06', '/content/training_data_v3_QC/brain-tumor/Training/case22', '/content/training_data_v3_QC/brain-tumor/Training/case19', '/content/training_data_v3_QC/brain-tumor/Training/case12', '/content/training_data_v3_QC/brain-tumor/Training/case11', '/content/training_data_v3_QC/brain-tumor/Training/case31', '/content/training_data_v3_QC/brain-tumor/Training/case18', '/content/training_data_v3_QC/brain-tumor/Training/case21', '/content/training_data_v3_QC/brain-tumor/Training/case15', '/content/training_data_v3_QC/brain-tumor/Training/case29', '/content/training_data_v3_QC/brain-tumor/Training/case30', '/content/training_data_v3_QC/brain-tumor/Training/case17', '/content/training_data_v3_QC/brain-tumor/Training/case27']\n",
            "32\n"
          ]
        }
      ]
    },
    {
      "cell_type": "code",
      "metadata": {
        "colab": {
          "base_uri": "https://localhost:8080/"
        },
        "id": "E5fk9lx2yedU",
        "outputId": "eed2480d-c3ed-4bf8-db4b-a338064c0a89"
      },
      "source": [
        "NO_OF_FILES = glob.glob(ALL_FILES[0]+'/*')\n",
        "print(NO_OF_FILES)\n",
        "print(\"No. of files = \",len(NO_OF_FILES))\n",
        "\n",
        "# this will be the no. of masks for each of the datasets, \n",
        "# since the datasets have one image file and other as mask files\n",
        "\n",
        "NO_OF_MASKS = len(NO_OF_FILES) - 1 "
      ],
      "execution_count": 15,
      "outputs": [
        {
          "output_type": "stream",
          "name": "stdout",
          "text": [
            "['/content/training_data_v3_QC/brain-tumor/Training/case20/task03_seg02.nii.gz', '/content/training_data_v3_QC/brain-tumor/Training/case20/task01_seg02.nii.gz', '/content/training_data_v3_QC/brain-tumor/Training/case20/task02_seg03.nii.gz', '/content/training_data_v3_QC/brain-tumor/Training/case20/task02_seg01.nii.gz', '/content/training_data_v3_QC/brain-tumor/Training/case20/task01_seg03.nii.gz', '/content/training_data_v3_QC/brain-tumor/Training/case20/task03_seg03.nii.gz', '/content/training_data_v3_QC/brain-tumor/Training/case20/image.nii.gz', '/content/training_data_v3_QC/brain-tumor/Training/case20/task01_seg01.nii.gz', '/content/training_data_v3_QC/brain-tumor/Training/case20/task03_seg01.nii.gz', '/content/training_data_v3_QC/brain-tumor/Training/case20/task02_seg02.nii.gz']\n",
            "No. of files =  10\n"
          ]
        }
      ]
    },
    {
      "cell_type": "code",
      "metadata": {
        "colab": {
          "base_uri": "https://localhost:8080/"
        },
        "id": "pxRSKuh4xoGA",
        "outputId": "08d53dad-dc03-46a2-c5bd-a289f9c693c4"
      },
      "source": [
        "# Rescale here itself between 0 and 1\n",
        "\n",
        "X_train = []\n",
        "Y_train = [[] for i in range(NO_OF_MASKS)]\n",
        "AFFINE = 0\n",
        "\n",
        "for folders in ALL_FILES:\n",
        "    each_img_file = glob.glob(folders+\"/image.nii.gz\")[0]\n",
        "    # print(each_img_file)\n",
        "    epi_img = nib.load(each_img_file)\n",
        "    epi_img_data = epi_img.get_fdata()\n",
        "    \n",
        "    epi_img_data = epi_img_data/epi_img_data.max()\n",
        "    # single channel grayscale inputs \n",
        "    X_train.append(epi_img_data)\n",
        "\n",
        "    mask_files_all = sorted(glob.glob(folders+\"/*seg*\"))\n",
        "    iter_i = 0\n",
        "    for files in mask_files_all:\n",
        "        \n",
        "        epi_mask = nib.load(files)\n",
        "        AFFINE = epi_mask.affine\n",
        "        epi_mask_data = epi_mask.get_fdata()\n",
        "        # plt.imshow(epi_mask_data, cmap='gray')\n",
        "        # plt.show()\n",
        "        Y_train[iter_i].append(epi_mask_data)\n",
        "        iter_i += 1\n",
        "len(Y_train[0])"
      ],
      "execution_count": 16,
      "outputs": [
        {
          "output_type": "execute_result",
          "data": {
            "text/plain": [
              "32"
            ]
          },
          "metadata": {},
          "execution_count": 16
        }
      ]
    },
    {
      "cell_type": "code",
      "metadata": {
        "colab": {
          "base_uri": "https://localhost:8080/"
        },
        "id": "QB-Ev01UydCx",
        "outputId": "2720af0a-2ec1-4be2-9ada-06b765561e24"
      },
      "source": [
        "# Rescale here itself between 0 and 1\n",
        "\n",
        "X_train = []\n",
        "Y_train = [[] for i in range(NO_OF_MASKS)]\n",
        "AFFINE = 0\n",
        "\n",
        "for folders in ALL_FILES:\n",
        "    each_img_file = glob.glob(folders+\"/image.nii.gz\")[0]\n",
        "    # print(each_img_file)\n",
        "    epi_img = nib.load(each_img_file)\n",
        "    epi_img_data = epi_img.get_fdata()\n",
        "    \n",
        "    epi_img_data = epi_img_data/epi_img_data.max()\n",
        "    # single channel grayscale inputs \n",
        "    X_train.append(epi_img_data)\n",
        "\n",
        "    mask_files_all = sorted(glob.glob(folders+\"/*seg*\"))\n",
        "    iter_i = 0\n",
        "    for files in mask_files_all:\n",
        "        \n",
        "        epi_mask = nib.load(files)\n",
        "        AFFINE = epi_mask.affine\n",
        "        epi_mask_data = epi_mask.get_fdata()\n",
        "        # plt.imshow(epi_mask_data, cmap='gray')\n",
        "        # plt.show()\n",
        "        Y_train[iter_i].append(epi_mask_data)\n",
        "        iter_i += 1\n",
        "len(Y_train[0])"
      ],
      "execution_count": 17,
      "outputs": [
        {
          "output_type": "execute_result",
          "data": {
            "text/plain": [
              "32"
            ]
          },
          "metadata": {},
          "execution_count": 17
        }
      ]
    },
    {
      "cell_type": "code",
      "metadata": {
        "colab": {
          "base_uri": "https://localhost:8080/"
        },
        "id": "NTZ1hNYuym_H",
        "outputId": "62e383a7-2393-4655-9852-e5bc89cf13ae"
      },
      "source": [
        "print(\"AFFINE SAVE = \",AFFINE)"
      ],
      "execution_count": 18,
      "outputs": [
        {
          "output_type": "stream",
          "name": "stdout",
          "text": [
            "AFFINE SAVE =  [[1. 0. 0. 0.]\n",
            " [0. 1. 0. 0.]\n",
            " [0. 0. 1. 0.]\n",
            " [0. 0. 0. 1.]]\n"
          ]
        }
      ]
    },
    {
      "cell_type": "code",
      "metadata": {
        "colab": {
          "base_uri": "https://localhost:8080/"
        },
        "id": "5FOqKDyHypP_",
        "outputId": "c2ec0820-5c17-4435-fec4-586e5755e3d3"
      },
      "source": [
        "# this will be useful for the output generation\n",
        "CASE_NO = len(glob.glob('/content/training_data_v3_QC/brain-tumor/Training/*'))\n",
        "print(CASE_NO)\n",
        "print()"
      ],
      "execution_count": 19,
      "outputs": [
        {
          "output_type": "stream",
          "name": "stdout",
          "text": [
            "32\n",
            "\n"
          ]
        }
      ]
    },
    {
      "cell_type": "code",
      "metadata": {
        "colab": {
          "base_uri": "https://localhost:8080/"
        },
        "id": "xiTS0PqHyvq1",
        "outputId": "487236db-fca6-4299-dd47-1ba88a5c24ce"
      },
      "source": [
        "ALL_VAL_FILES = sorted(glob.glob('/content/validation_data_qubiq2021_QC/brain-tumor/Validation/*'))\n",
        "print(ALL_VAL_FILES)\n",
        "NO_CASES = len(ALL_VAL_FILES)\n",
        "print(NO_CASES)"
      ],
      "execution_count": 20,
      "outputs": [
        {
          "output_type": "stream",
          "name": "stdout",
          "text": [
            "['/content/validation_data_qubiq2021_QC/brain-tumor/Validation/case33', '/content/validation_data_qubiq2021_QC/brain-tumor/Validation/case34', '/content/validation_data_qubiq2021_QC/brain-tumor/Validation/case35', '/content/validation_data_qubiq2021_QC/brain-tumor/Validation/case36', '/content/validation_data_qubiq2021_QC/brain-tumor/Validation/case37', '/content/validation_data_qubiq2021_QC/brain-tumor/Validation/case38', '/content/validation_data_qubiq2021_QC/brain-tumor/Validation/case39', '/content/validation_data_qubiq2021_QC/brain-tumor/Validation/case40']\n",
            "8\n"
          ]
        }
      ]
    },
    {
      "cell_type": "code",
      "metadata": {
        "id": "AHg-m2jKyvnc"
      },
      "source": [
        "# create the folders of the sub-output\n",
        "# later download this output folder\n",
        "\n",
        "for item in range(NO_CASES):\n",
        "    folder_name = CASE_NO + item + 1\n",
        "    new_path = 'brain-tumor/case'+str(folder_name)+\"/\"\n",
        "    if not os.path.exists(new_path):\n",
        "        os.makedirs(new_path)"
      ],
      "execution_count": 21,
      "outputs": []
    },
    {
      "cell_type": "code",
      "metadata": {
        "colab": {
          "base_uri": "https://localhost:8080/"
        },
        "id": "dJzF9XIlyuTr",
        "outputId": "d1644154-25c1-4b39-95f6-fbb6dd85048a"
      },
      "source": [
        "NO_OF_FILES = glob.glob(ALL_FILES[0]+'/*')\n",
        "print(NO_OF_FILES)\n",
        "print(\"No. of files = \",len(NO_OF_FILES))\n",
        "\n",
        "# this will be the no. of masks for each of the datasets, \n",
        "# since the datasets have one image file and other as mask files\n",
        "\n",
        "NO_OF_MASKS = len(NO_OF_FILES) - 1 \n",
        "print(\"No. of masks = \",NO_OF_MASKS)"
      ],
      "execution_count": 22,
      "outputs": [
        {
          "output_type": "stream",
          "name": "stdout",
          "text": [
            "['/content/training_data_v3_QC/brain-tumor/Training/case20/task03_seg02.nii.gz', '/content/training_data_v3_QC/brain-tumor/Training/case20/task01_seg02.nii.gz', '/content/training_data_v3_QC/brain-tumor/Training/case20/task02_seg03.nii.gz', '/content/training_data_v3_QC/brain-tumor/Training/case20/task02_seg01.nii.gz', '/content/training_data_v3_QC/brain-tumor/Training/case20/task01_seg03.nii.gz', '/content/training_data_v3_QC/brain-tumor/Training/case20/task03_seg03.nii.gz', '/content/training_data_v3_QC/brain-tumor/Training/case20/image.nii.gz', '/content/training_data_v3_QC/brain-tumor/Training/case20/task01_seg01.nii.gz', '/content/training_data_v3_QC/brain-tumor/Training/case20/task03_seg01.nii.gz', '/content/training_data_v3_QC/brain-tumor/Training/case20/task02_seg02.nii.gz']\n",
            "No. of files =  10\n",
            "No. of masks =  9\n"
          ]
        }
      ]
    },
    {
      "cell_type": "code",
      "metadata": {
        "id": "CTzecFUwy5Ku"
      },
      "source": [
        "# Consider the validation data as test here itself\n",
        "# Rescale here itself between 0 and 1\n",
        "\n",
        "X_test = []\n",
        "# Y_test = [[] for i in range(NO_OF_MASKS)]\n",
        "\n",
        "\n",
        "for folders in ALL_VAL_FILES:\n",
        "    each_img_file = glob.glob(folders+\"/image.nii.gz\")[0]\n",
        "    # print(each_img_file)\n",
        "    epi_img = nib.load(each_img_file)\n",
        "    epi_img_data = epi_img.get_fdata()\n",
        "    epi_img_data = epi_img_data/epi_img_data.max()\n",
        "    # single channel grayscale inputs \n",
        "    X_test.append(epi_img_data)\n",
        "    # mask_files_all = sorted(glob.glob(folders+\"/*seg*\"))\n",
        "    # # print(mask_files_all)\n",
        "    # iter_i = 0\n",
        "    # for files in mask_files_all:\n",
        "    #     epi_mask = nib.load(files)\n",
        "    #     epi_mask_data = epi_mask.get_fdata()\n",
        "    #     # plt.imshow(epi_mask_data, cmap='gray')\n",
        "    #     # plt.show()\n",
        "    #     Y_test[iter_i].append(epi_mask_data)\n",
        "    #     iter_i += 1"
      ],
      "execution_count": 23,
      "outputs": []
    },
    {
      "cell_type": "code",
      "metadata": {
        "colab": {
          "base_uri": "https://localhost:8080/",
          "height": 469
        },
        "id": "AjORb0biy5H9",
        "outputId": "1e71b030-e4d0-40fc-a1e5-a53c317c5dc6"
      },
      "source": [
        "plt.figure(figsize=(5,5))\n",
        "plt.imshow(X_train[0], cmap='gray')\n",
        "plt.title('Input 1')\n",
        "plt.show()\n",
        "\n",
        "plt.figure(figsize=(10*NO_OF_MASKS,10))\n",
        "for i in range(NO_OF_MASKS):\n",
        "    plt.subplot(1,NO_OF_MASKS,i+1)\n",
        "    plt.imshow(Y_train[i][0], cmap='gray')\n",
        "    plt.title('Ground Truth')\n",
        "plt.show()"
      ],
      "execution_count": 24,
      "outputs": [
        {
          "output_type": "stream",
          "name": "stderr",
          "text": [
            "Clipping input data to the valid range for imshow with RGB data ([0..1] for floats or [0..255] for integers).\n"
          ]
        },
        {
          "output_type": "display_data",
          "data": {
            "image/png": "[encoded data removed]",
            "text/plain": [
              "<Figure size 360x360 with 1 Axes>"
            ]
          },
          "metadata": {
            "needs_background": "light"
          }
        },
        {
          "output_type": "display_data",
          "data": {
            "image/png": "[encoded data removed]",
            "text/plain": [
              "<Figure size 6480x720 with 9 Axes>"
            ]
          },
          "metadata": {
            "needs_background": "light"
          }
        }
      ]
    },
    {
      "cell_type": "code",
      "metadata": {
        "colab": {
          "base_uri": "https://localhost:8080/"
        },
        "id": "oVcTaP8sy5FL",
        "outputId": "c497861a-ad77-4fc3-a546-1aadded4759e"
      },
      "source": [
        "X_train = np.array(X_train)\n",
        "# ALL_IMG_FILES_INV = np.array(ALL_IMG_FILES_INV)\n",
        "Y_train = np.array(Y_train)\n",
        "print(X_train.shape)\n",
        "# print(ALL_IMG_FILES_INV.shape)\n",
        "print(Y_train.shape)"
      ],
      "execution_count": 25,
      "outputs": [
        {
          "output_type": "stream",
          "name": "stdout",
          "text": [
            "(32, 240, 240, 4)\n",
            "(9, 32, 240, 240)\n"
          ]
        }
      ]
    },
    {
      "cell_type": "code",
      "metadata": {
        "colab": {
          "base_uri": "https://localhost:8080/"
        },
        "id": "h5P2ki1rzJax",
        "outputId": "f1ae4323-cef8-4b8e-9046-1900d97bd838"
      },
      "source": [
        "X_test = np.array(X_test)\n",
        "# ALL_IMG_FILES_INV = np.array(ALL_IMG_FILES_INV)\n",
        "# Y_test = np.array(Y_test)\n",
        "print(X_test.shape)\n",
        "# print(ALL_IMG_FILES_INV.shape)\n",
        "# print(Y_test.shape)"
      ],
      "execution_count": 26,
      "outputs": [
        {
          "output_type": "stream",
          "name": "stdout",
          "text": [
            "(8, 240, 240, 4)\n"
          ]
        }
      ]
    },
    {
      "cell_type": "code",
      "metadata": {
        "colab": {
          "base_uri": "https://localhost:8080/"
        },
        "id": "6sExB-44zJXU",
        "outputId": "b6d1aff3-9157-484b-a502-c5172d84f636"
      },
      "source": [
        "SUBMISSION_FILE_NAMES_ALL = sorted(glob.glob('/content/training_data_v3_QC/brain-tumor/Training/case01/*seg*'))\n",
        "SUBMISSION_FILE_NAMES = []\n",
        "for item in SUBMISSION_FILE_NAMES_ALL:\n",
        "    SUBMISSION_FILE_NAMES.append(item.split('/')[-1])\n",
        "SUBMISSION_FILE_NAMES"
      ],
      "execution_count": 27,
      "outputs": [
        {
          "output_type": "execute_result",
          "data": {
            "text/plain": [
              "['task01_seg01.nii.gz',\n",
              " 'task01_seg02.nii.gz',\n",
              " 'task01_seg03.nii.gz',\n",
              " 'task02_seg01.nii.gz',\n",
              " 'task02_seg02.nii.gz',\n",
              " 'task02_seg03.nii.gz',\n",
              " 'task03_seg01.nii.gz',\n",
              " 'task03_seg02.nii.gz',\n",
              " 'task03_seg03.nii.gz']"
            ]
          },
          "metadata": {},
          "execution_count": 27
        }
      ]
    },
    {
      "cell_type": "code",
      "metadata": {
        "id": "JvT4rDSQzP_m"
      },
      "source": [
        "# Remove the k fold and only use the training data \n",
        "# for training and the validation data for testing\n",
        "Y_train_final = [[] for i in range(NO_OF_MASKS)]\n",
        "# Y_test_final = [[] for i in range(NO_OF_MASKS)]\n",
        "\n",
        "for iter_i in range(NO_OF_MASKS):\n",
        "    Y_train_final[iter_i] = Y_train[iter_i].reshape((Y_train[iter_i].shape[0], Y_train[iter_i].shape[1], Y_train[iter_i].shape[2],1))\n",
        "    # Y_test_final[iter_i] = Y_test[iter_i].reshape((Y_test[iter_i].shape[0], Y_test[iter_i].shape[1], Y_test[iter_i].shape[2],1))\n",
        "\n",
        "for iter_i in range(NO_OF_MASKS):\n",
        "    Y_train_final[iter_i] = np.round(Y_train_final[iter_i], 0)\n",
        "    # Y_test_final[iter_i] = np.round(Y_test_final[iter_i], 0)\n",
        "\n",
        "\n",
        "def saveModel(model):\n",
        "    model_json = model.to_json()\n",
        "    try:\n",
        "        os.makedirs('models')\n",
        "    except:\n",
        "        pass\n",
        "    fp = open('models/modelP_Qubiq.json','w')\n",
        "    fp.write(model_json)\n",
        "    model.save_weights('models/modelW_Qubiq.h5')\n",
        "\n",
        "\n",
        "jaccard_index_list = []\n",
        "dice_coeff_list = []\n",
        "\n",
        "def evaluateModel(model, X_test, batchSize):\n",
        "    try:\n",
        "        os.makedirs('results')\n",
        "    except:\n",
        "        pass\n",
        "    # testing part of the code\n",
        "    yp = model.predict(x=X_test, batch_size=batchSize, verbose=1)\n",
        "    yp = np.round(yp,0)\n",
        "    print(\"Predicted yp shape = \",yp.shape)\n",
        "    # jacard = 0\n",
        "    # dice = 0\n",
        "    # avg_precision = 0\n",
        "    # count_dummy = 0\n",
        "    print(\"No. of Samples to be predicted = \", len(X_test))\n",
        "    for i in range(len(X_test)):\n",
        "        # parsing through the files of test set\n",
        "        # plt.figure(figsize=(NO_OF_MASKS*10,30))\n",
        "        # plt.subplot(3,NO_OF_MASKS,1)\n",
        "        # plt.imshow(X_test[i], cmap='gray')\n",
        "        # plt.title('Input 1')\n",
        "        \n",
        "\n",
        "        for item in range(NO_OF_MASKS):\n",
        "            # plt.subplot(3,NO_OF_MASKS,item+NO_OF_MASKS+1)\n",
        "            # plt.imshow(Y_test[item][i].reshape(Y_test[item][i].shape[0],Y_test[item][i].shape[1]), cmap='gray')\n",
        "            # plt.title('Ground Truth')\n",
        "\n",
        "            # # for plotting the predicted ones\n",
        "            # plt.subplot(3,NO_OF_MASKS,item+2*NO_OF_MASKS+1)\n",
        "            # plt.imshow(yp[item][i].reshape(yp[item][i].shape[0],yp[item][i].shape[1]), cmap='gray')\n",
        "            # plt.title('Prediction')\n",
        "            \n",
        "            save_name = \"brain-tumor/case{}/\".format(CASE_NO+i+1) + str(SUBMISSION_FILE_NAMES[item])\n",
        "            # save the file here in .nii.gz format\n",
        "            nib.save(nib.Nifti1Image(yp[item][i].reshape(yp[item][i].shape[0],yp[item][i].shape[1]), AFFINE), save_name)\n",
        "\n",
        "    #         yp_2 = yp[item][i].ravel()\n",
        "    #         y2 = Y_test[item][i].ravel()\n",
        "\n",
        "    #         intersection = yp_2 * y2\n",
        "    #         union = yp_2 + y2 - intersection\n",
        "    #         average_precision_score_got = average_precision_score(yp_2, y2)\n",
        "    #         jacard_got = (np.sum(intersection)/np.sum(union))\n",
        "    #         dice_got = (2. * np.sum(intersection) ) / (np.sum(yp_2) + np.sum(y2))\n",
        "    #         plt.suptitle('Jacard Index'+ str(np.sum(intersection)) +'/'+ str(np.sum(union)) +'='+str(jacard_got)\n",
        "    #             +\" Dice : \"+str(dice_got)+ \" Precision : \"+str(average_precision_score_got))\n",
        "    #         avg_precision += average_precision_score_got\n",
        "    #         jacard += jacard_got\n",
        "    #         dice += dice_got\n",
        "    #         count_dummy+=1\n",
        "\n",
        "    #     plt.savefig('results/'+str(i)+'.png',format='png')\n",
        "    #     plt.close()\n",
        "    \n",
        "    # jacard /= count_dummy\n",
        "    # dice /= count_dummy\n",
        "    # avg_precision /= count_dummy\n",
        "\n",
        "\n",
        "    # # recall_score /= len(Y_test)\n",
        "\n",
        "    # print('Jacard Index : '+str(jacard))\n",
        "    # print('Dice Coefficient : '+str(dice))\n",
        "    # with open(\"Output.txt\", \"a\") as text_file:\n",
        "    #     text_file.write(\"Jacard : {} Dice Coef : {} Avg. Precision : {}  \\n\".format(\n",
        "    #     str(jacard), str(dice), str(avg_precision)))\n",
        "    \n",
        "    # jaccard_index_list.append(jacard)\n",
        "    # dice_coeff_list.append(dice)\n",
        "    # fp = open('models/log_Qubiq.txt','a')\n",
        "    # fp.write(str(jacard)+'\\n')\n",
        "    # fp.close()\n",
        "\n",
        "    # fp = open('models/best_Qubiq.txt','r')\n",
        "    # best = fp.read()\n",
        "    # fp.close()\n",
        "\n",
        "    # if(jacard>float(best)):\n",
        "    #     print('***********************************************')\n",
        "    #     print('Jacard Index improved from '+str(best)+' to '+str(jacard))\n",
        "    #     print('***********************************************')\n",
        "    #     fp = open('models/best_Qubiq.txt','w')\n",
        "    #     fp.write(str(jacard))\n",
        "    #     fp.close()\n",
        "\n",
        "    #     saveModel(model)"
      ],
      "execution_count": 30,
      "outputs": []
    },
    {
      "cell_type": "code",
      "metadata": {
        "colab": {
          "base_uri": "https://localhost:8080/"
        },
        "id": "0zAJqFeyz1ov",
        "outputId": "1714a66f-c58f-4627-d0d3-401c3eee6655"
      },
      "source": [
        "def trainStep(model, X_train, Y_train, X_test, epochs, batchSize):\n",
        "\n",
        "    history = model.fit(x=X_train, y=Y_train, batch_size=batchSize, epochs=epochs, verbose=1)\n",
        "\n",
        "    # convert the history.history dict to a pandas DataFrame:\n",
        "    hist_df = pd.DataFrame(history.history)\n",
        "\n",
        "    # save to json:\n",
        "    hist_json_file = 'history_Qubiq.json'\n",
        "    with open(hist_json_file, mode='w') as f:\n",
        "        hist_df.to_json(f)\n",
        "\n",
        "    # or save to csv:\n",
        "    hist_csv_file = 'history_Qubiq.csv'\n",
        "    with open(hist_csv_file, mode='w') as f:\n",
        "        hist_df.to_csv(f)\n",
        "\n",
        "    evaluateModel(model, X_test, batchSize)\n",
        "\n",
        "    return model\n",
        "\n",
        "# img_w, img_h, n_label, data_format='channels_first'\n",
        "model = QUBIQ_NET(height=240, width=240, n_channels=4)\n",
        "\n",
        "loss = {'out1': tversky_loss,\n",
        "        'out2': tversky_loss,\n",
        "        'out3': tversky_loss,\n",
        "        'out4': tversky_loss,\n",
        "        'out5': tversky_loss,\n",
        "        'out6': tversky_loss,\n",
        "        'out7': tversky_loss,\n",
        "        'out8': tversky_loss,\n",
        "        'out9': tversky_loss\n",
        "        }\n",
        "    \n",
        "loss_weights = {'out1':1,\n",
        "                'out2':1,\n",
        "                'out3':1,\n",
        "                'out4':1,\n",
        "                'out5':1,\n",
        "                'out6':1,\n",
        "                'out7':1,\n",
        "                'out8':1,\n",
        "                'out9':1\n",
        "                }\n",
        "\n",
        "model.compile(optimizer=Adam(learning_rate=1e-4),loss=loss, loss_weights=loss_weights,metrics=[dice_coef, jacard, Recall(), Precision(), 'accuracy'])\n",
        "\n",
        "saveModel(model)\n",
        "\n",
        "fp = open('models/log_Qubiq.txt','w')\n",
        "fp.close()\n",
        "fp = open('models/best_Qubiq.txt','w')\n",
        "fp.write('-1.0')\n",
        "fp.close()\n",
        "\n",
        "trainStep(model, X_train, Y_train_final, X_test, epochs=100, batchSize=2)\n"
      ],
      "execution_count": 38,
      "outputs": [
        {
          "output_type": "stream",
          "name": "stdout",
          "text": [
            "Epoch 1/100\n",
            "16/16 [==============================] - 47s 2s/step - loss: 8.3766 - out1_loss: 0.8745 - out2_loss: 0.8729 - out3_loss: 0.8703 - out4_loss: 0.9681 - out5_loss: 0.9653 - out6_loss: 0.8804 - out7_loss: 0.9808 - out8_loss: 0.9812 - out9_loss: 0.9831 - out1_dice_coef: 0.0811 - out1_jacard: 0.0426 - out1_recall_2: 0.9392 - out1_precision_2: 0.0669 - out1_accuracy: 0.6036 - out2_dice_coef: 0.0824 - out2_jacard: 0.0433 - out2_recall_2: 0.8929 - out2_precision_2: 0.0506 - out2_accuracy: 0.4406 - out3_dice_coef: 0.0838 - out3_jacard: 0.0440 - out3_recall_2: 0.9471 - out3_precision_2: 0.0650 - out3_accuracy: 0.5811 - out4_dice_coef: 0.0198 - out4_jacard: 0.0101 - out4_recall_2: 0.6532 - out4_precision_2: 0.0271 - out4_accuracy: 0.7944 - out5_dice_coef: 0.0214 - out5_jacard: 0.0109 - out5_recall_2: 0.9995 - out5_precision_2: 0.0136 - out5_accuracy: 0.4563 - out6_dice_coef: 0.0764 - out6_jacard: 0.0400 - out6_recall_2: 0.9982 - out6_precision_2: 0.0628 - out6_accuracy: 0.6052 - out7_dice_coef: 0.0117 - out7_jacard: 0.0059 - out7_recall_2: 1.0000 - out7_precision_2: 0.0081 - out7_accuracy: 0.5069 - out8_dice_coef: 0.0114 - out8_jacard: 0.0058 - out8_recall_2: 0.9661 - out8_precision_2: 0.0070 - out8_accuracy: 0.4101 - out9_dice_coef: 0.0103 - out9_jacard: 0.0052 - out9_recall_2: 0.8185 - out9_precision_2: 0.0100 - out9_accuracy: 0.6640\n",
            "Epoch 2/100\n",
            "16/16 [==============================] - 31s 2s/step - loss: 7.6632 - out1_loss: 0.7184 - out2_loss: 0.7563 - out3_loss: 0.7018 - out4_loss: 0.9208 - out5_loss: 0.9368 - out6_loss: 0.7384 - out7_loss: 0.9629 - out8_loss: 0.9621 - out9_loss: 0.9657 - out1_dice_coef: 0.2018 - out1_jacard: 0.1171 - out1_recall_2: 0.9773 - out1_precision_2: 0.1427 - out1_accuracy: 0.8224 - out2_dice_coef: 0.1671 - out2_jacard: 0.0934 - out2_recall_2: 0.9910 - out2_precision_2: 0.1457 - out2_accuracy: 0.8071 - out3_dice_coef: 0.2168 - out3_jacard: 0.1279 - out3_recall_2: 0.9787 - out3_precision_2: 0.1452 - out3_accuracy: 0.8228 - out4_dice_coef: 0.0495 - out4_jacard: 0.0256 - out4_recall_2: 0.9979 - out4_precision_2: 0.0409 - out4_accuracy: 0.7978 - out5_dice_coef: 0.0393 - out5_jacard: 0.0202 - out5_recall_2: 0.9965 - out5_precision_2: 0.0352 - out5_accuracy: 0.7949 - out6_dice_coef: 0.1861 - out6_jacard: 0.1075 - out6_recall_2: 0.9789 - out6_precision_2: 0.1248 - out6_accuracy: 0.8175 - out7_dice_coef: 0.0226 - out7_jacard: 0.0115 - out7_recall_2: 0.9960 - out7_precision_2: 0.0187 - out7_accuracy: 0.7887 - out8_dice_coef: 0.0232 - out8_jacard: 0.0118 - out8_recall_2: 0.9948 - out8_precision_2: 0.0203 - out8_accuracy: 0.7943 - out9_dice_coef: 0.0209 - out9_jacard: 0.0106 - out9_recall_2: 0.9968 - out9_precision_2: 0.0194 - out9_accuracy: 0.7917\n",
            "Epoch 3/100\n",
            "16/16 [==============================] - 31s 2s/step - loss: 5.0760 - out1_loss: 0.3277 - out2_loss: 0.3518 - out3_loss: 0.3140 - out4_loss: 0.6491 - out5_loss: 0.6861 - out6_loss: 0.3562 - out7_loss: 0.7999 - out8_loss: 0.7849 - out9_loss: 0.8063 - out1_dice_coef: 0.6381 - out1_jacard: 0.4992 - out1_recall_2: 0.8033 - out1_precision_2: 0.5122 - out1_accuracy: 0.9710 - out2_dice_coef: 0.6102 - out2_jacard: 0.4693 - out2_recall_2: 0.7842 - out2_precision_2: 0.5099 - out2_accuracy: 0.9679 - out3_dice_coef: 0.6530 - out3_jacard: 0.5177 - out3_recall_2: 0.8190 - out3_precision_2: 0.5240 - out3_accuracy: 0.9717 - out4_dice_coef: 0.2770 - out4_jacard: 0.1725 - out4_recall_2: 0.8472 - out4_precision_2: 0.1644 - out4_accuracy: 0.9615 - out5_dice_coef: 0.2426 - out5_jacard: 0.1477 - out5_recall_2: 0.8459 - out5_precision_2: 0.1436 - out5_accuracy: 0.9609 - out6_dice_coef: 0.5974 - out6_jacard: 0.4534 - out6_recall_2: 0.8122 - out6_precision_2: 0.4544 - out6_accuracy: 0.9692 - out7_dice_coef: 0.1418 - out7_jacard: 0.0792 - out7_recall_2: 0.7999 - out7_precision_2: 0.0747 - out7_accuracy: 0.9592 - out8_dice_coef: 0.1518 - out8_jacard: 0.0851 - out8_recall_2: 0.8414 - out8_precision_2: 0.0828 - out8_accuracy: 0.9595 - out9_dice_coef: 0.1343 - out9_jacard: 0.0743 - out9_recall_2: 0.8303 - out9_precision_2: 0.0741 - out9_accuracy: 0.9564\n",
            "Epoch 4/100\n",
            "16/16 [==============================] - 31s 2s/step - loss: 4.3524 - out1_loss: 0.2502 - out2_loss: 0.2688 - out3_loss: 0.2382 - out4_loss: 0.5669 - out5_loss: 0.6118 - out6_loss: 0.2835 - out7_loss: 0.7195 - out8_loss: 0.6967 - out9_loss: 0.7168 - out1_dice_coef: 0.7397 - out1_jacard: 0.6154 - out1_recall_2: 0.7808 - out1_precision_2: 0.6492 - out1_accuracy: 0.9807 - out2_dice_coef: 0.7276 - out2_jacard: 0.5998 - out2_recall_2: 0.7394 - out2_precision_2: 0.6579 - out2_accuracy: 0.9786 - out3_dice_coef: 0.7520 - out3_jacard: 0.6343 - out3_recall_2: 0.7872 - out3_precision_2: 0.6576 - out3_accuracy: 0.9809 - out4_dice_coef: 0.3614 - out4_jacard: 0.2436 - out4_recall_2: 0.7661 - out4_precision_2: 0.2390 - out4_accuracy: 0.9769 - out5_dice_coef: 0.3213 - out5_jacard: 0.2151 - out5_recall_2: 0.7587 - out5_precision_2: 0.2062 - out5_accuracy: 0.9762 - out6_dice_coef: 0.6880 - out6_jacard: 0.5508 - out6_recall_2: 0.7775 - out6_precision_2: 0.5643 - out6_accuracy: 0.9782 - out7_dice_coef: 0.2173 - out7_jacard: 0.1295 - out7_recall_2: 0.6992 - out7_precision_2: 0.1362 - out7_accuracy: 0.9809 - out8_dice_coef: 0.2400 - out8_jacard: 0.1463 - out8_recall_2: 0.7203 - out8_precision_2: 0.1548 - out8_accuracy: 0.9820 - out9_dice_coef: 0.2190 - out9_jacard: 0.1307 - out9_recall_2: 0.7107 - out9_precision_2: 0.1367 - out9_accuracy: 0.9802\n",
            "Epoch 5/100\n",
            "16/16 [==============================] - 31s 2s/step - loss: 4.4358 - out1_loss: 0.2723 - out2_loss: 0.2801 - out3_loss: 0.2619 - out4_loss: 0.5782 - out5_loss: 0.6206 - out6_loss: 0.3091 - out7_loss: 0.7142 - out8_loss: 0.6902 - out9_loss: 0.7092 - out1_dice_coef: 0.6828 - out1_jacard: 0.5558 - out1_recall_2: 0.8613 - out1_precision_2: 0.5339 - out1_accuracy: 0.9732 - out2_dice_coef: 0.6784 - out2_jacard: 0.5507 - out2_recall_2: 0.8373 - out2_precision_2: 0.5364 - out2_accuracy: 0.9706 - out3_dice_coef: 0.6945 - out3_jacard: 0.5733 - out3_recall_2: 0.8734 - out3_precision_2: 0.5452 - out3_accuracy: 0.9738 - out4_dice_coef: 0.3451 - out4_jacard: 0.2223 - out4_recall_2: 0.7348 - out4_precision_2: 0.2279 - out4_accuracy: 0.9762 - out5_dice_coef: 0.3066 - out5_jacard: 0.1960 - out5_recall_2: 0.7406 - out5_precision_2: 0.1960 - out5_accuracy: 0.9752 - out6_dice_coef: 0.6332 - out6_jacard: 0.4982 - out6_recall_2: 0.8672 - out6_precision_2: 0.4653 - out6_accuracy: 0.9701 - out7_dice_coef: 0.2239 - out7_jacard: 0.1383 - out7_recall_2: 0.7258 - out7_precision_2: 0.1375 - out7_accuracy: 0.9805 - out8_dice_coef: 0.2381 - out8_jacard: 0.1465 - out8_recall_2: 0.7915 - out8_precision_2: 0.1371 - out8_accuracy: 0.9778 - out9_dice_coef: 0.2240 - out9_jacard: 0.1373 - out9_recall_2: 0.7556 - out9_precision_2: 0.1306 - out9_accuracy: 0.9782\n",
            "Epoch 6/100\n",
            "16/16 [==============================] - 31s 2s/step - loss: 4.3144 - out1_loss: 0.2663 - out2_loss: 0.2797 - out3_loss: 0.2536 - out4_loss: 0.5284 - out5_loss: 0.5880 - out6_loss: 0.3019 - out7_loss: 0.7122 - out8_loss: 0.6856 - out9_loss: 0.6988 - out1_dice_coef: 0.6959 - out1_jacard: 0.5684 - out1_recall_2: 0.8457 - out1_precision_2: 0.5627 - out1_accuracy: 0.9755 - out2_dice_coef: 0.6862 - out2_jacard: 0.5577 - out2_recall_2: 0.8259 - out2_precision_2: 0.5568 - out2_accuracy: 0.9724 - out3_dice_coef: 0.7109 - out3_jacard: 0.5921 - out3_recall_2: 0.8617 - out3_precision_2: 0.5741 - out3_accuracy: 0.9762 - out4_dice_coef: 0.4001 - out4_jacard: 0.2651 - out4_recall_2: 0.7432 - out4_precision_2: 0.3069 - out4_accuracy: 0.9833 - out5_dice_coef: 0.3408 - out5_jacard: 0.2245 - out5_recall_2: 0.7922 - out5_precision_2: 0.2413 - out5_accuracy: 0.9797 - out6_dice_coef: 0.6452 - out6_jacard: 0.5069 - out6_recall_2: 0.8523 - out6_precision_2: 0.4860 - out6_accuracy: 0.9722 - out7_dice_coef: 0.2370 - out7_jacard: 0.1457 - out7_recall_2: 0.6226 - out7_precision_2: 0.1993 - out7_accuracy: 0.9884 - out8_dice_coef: 0.2569 - out8_jacard: 0.1586 - out8_recall_2: 0.6448 - out8_precision_2: 0.2059 - out8_accuracy: 0.9879 - out9_dice_coef: 0.2516 - out9_jacard: 0.1551 - out9_recall_2: 0.5908 - out9_precision_2: 0.2252 - out9_accuracy: 0.9899\n",
            "Epoch 7/100\n",
            "16/16 [==============================] - 31s 2s/step - loss: 4.1191 - out1_loss: 0.2371 - out2_loss: 0.2433 - out3_loss: 0.2161 - out4_loss: 0.5516 - out5_loss: 0.5649 - out6_loss: 0.2702 - out7_loss: 0.6891 - out8_loss: 0.6617 - out9_loss: 0.6852 - out1_dice_coef: 0.7288 - out1_jacard: 0.5998 - out1_recall_2: 0.8648 - out1_precision_2: 0.5660 - out1_accuracy: 0.9759 - out2_dice_coef: 0.7270 - out2_jacard: 0.5952 - out2_recall_2: 0.8463 - out2_precision_2: 0.5773 - out2_accuracy: 0.9744 - out3_dice_coef: 0.7525 - out3_jacard: 0.6337 - out3_recall_2: 0.8828 - out3_precision_2: 0.5875 - out3_accuracy: 0.9774 - out4_dice_coef: 0.3781 - out4_jacard: 0.2557 - out4_recall_2: 0.7459 - out4_precision_2: 0.2119 - out4_accuracy: 0.9738 - out5_dice_coef: 0.3657 - out5_jacard: 0.2482 - out5_recall_2: 0.8140 - out5_precision_2: 0.1930 - out5_accuracy: 0.9730 - out6_dice_coef: 0.6782 - out6_jacard: 0.5362 - out6_recall_2: 0.8746 - out6_precision_2: 0.5017 - out6_accuracy: 0.9737 - out7_dice_coef: 0.2566 - out7_jacard: 0.1684 - out7_recall_2: 0.7328 - out7_precision_2: 0.1127 - out7_accuracy: 0.9756 - out8_dice_coef: 0.2804 - out8_jacard: 0.1863 - out8_recall_2: 0.7854 - out8_precision_2: 0.1254 - out8_accuracy: 0.9757 - out9_dice_coef: 0.2588 - out9_jacard: 0.1702 - out9_recall_2: 0.7638 - out9_precision_2: 0.1111 - out9_accuracy: 0.9738\n",
            "Epoch 8/100\n",
            "16/16 [==============================] - 31s 2s/step - loss: 4.1198 - out1_loss: 0.2488 - out2_loss: 0.2624 - out3_loss: 0.2398 - out4_loss: 0.5278 - out5_loss: 0.5757 - out6_loss: 0.2951 - out7_loss: 0.6529 - out8_loss: 0.6401 - out9_loss: 0.6772 - out1_dice_coef: 0.7276 - out1_jacard: 0.5967 - out1_recall_2: 0.8105 - out1_precision_2: 0.6237 - out1_accuracy: 0.9796 - out2_dice_coef: 0.7191 - out2_jacard: 0.5844 - out2_recall_2: 0.7782 - out2_precision_2: 0.6298 - out2_accuracy: 0.9775 - out3_dice_coef: 0.7376 - out3_jacard: 0.6110 - out3_recall_2: 0.8128 - out3_precision_2: 0.6361 - out3_accuracy: 0.9800 - out4_dice_coef: 0.3933 - out4_jacard: 0.2674 - out4_recall_2: 0.8125 - out4_precision_2: 0.2756 - out4_accuracy: 0.9799 - out5_dice_coef: 0.3531 - out5_jacard: 0.2423 - out5_recall_2: 0.8180 - out5_precision_2: 0.2485 - out5_accuracy: 0.9800 - out6_dice_coef: 0.6641 - out6_jacard: 0.5207 - out6_recall_2: 0.7959 - out6_precision_2: 0.5376 - out6_accuracy: 0.9765 - out7_dice_coef: 0.2783 - out7_jacard: 0.1728 - out7_recall_2: 0.7480 - out7_precision_2: 0.1738 - out7_accuracy: 0.9846 - out8_dice_coef: 0.2823 - out8_jacard: 0.1778 - out8_recall_2: 0.8089 - out8_precision_2: 0.1792 - out8_accuracy: 0.9833 - out9_dice_coef: 0.2433 - out9_jacard: 0.1498 - out9_recall_2: 0.8477 - out9_precision_2: 0.1426 - out9_accuracy: 0.9783\n",
            "Epoch 9/100\n",
            "16/16 [==============================] - 31s 2s/step - loss: 3.8954 - out1_loss: 0.2477 - out2_loss: 0.2570 - out3_loss: 0.2370 - out4_loss: 0.5349 - out5_loss: 0.5503 - out6_loss: 0.2841 - out7_loss: 0.6107 - out8_loss: 0.5868 - out9_loss: 0.5869 - out1_dice_coef: 0.7146 - out1_jacard: 0.5874 - out1_recall_2: 0.8625 - out1_precision_2: 0.5969 - out1_accuracy: 0.9783 - out2_dice_coef: 0.7043 - out2_jacard: 0.5743 - out2_recall_2: 0.8454 - out2_precision_2: 0.5818 - out2_accuracy: 0.9747 - out3_dice_coef: 0.7251 - out3_jacard: 0.6035 - out3_recall_2: 0.8742 - out3_precision_2: 0.6082 - out3_accuracy: 0.9789 - out4_dice_coef: 0.3998 - out4_jacard: 0.2652 - out4_recall_2: 0.6728 - out4_precision_2: 0.3135 - out4_accuracy: 0.9844 - out5_dice_coef: 0.3823 - out5_jacard: 0.2477 - out5_recall_2: 0.6755 - out5_precision_2: 0.3029 - out5_accuracy: 0.9859 - out6_dice_coef: 0.6626 - out6_jacard: 0.5230 - out6_recall_2: 0.8656 - out6_precision_2: 0.5208 - out6_accuracy: 0.9753 - out7_dice_coef: 0.3515 - out7_jacard: 0.2382 - out7_recall_2: 0.6243 - out7_precision_2: 0.3456 - out7_accuracy: 0.9937 - out8_dice_coef: 0.3810 - out8_jacard: 0.2593 - out8_recall_2: 0.5954 - out8_precision_2: 0.3899 - out8_accuracy: 0.9943 - out9_dice_coef: 0.3594 - out9_jacard: 0.2384 - out9_recall_2: 0.6922 - out9_precision_2: 0.2726 - out9_accuracy: 0.9911\n",
            "Epoch 10/100\n",
            "16/16 [==============================] - 31s 2s/step - loss: 4.3574 - out1_loss: 0.2782 - out2_loss: 0.2807 - out3_loss: 0.2778 - out4_loss: 0.5264 - out5_loss: 0.5734 - out6_loss: 0.3349 - out7_loss: 0.7025 - out8_loss: 0.6749 - out9_loss: 0.7087 - out1_dice_coef: 0.6710 - out1_jacard: 0.5234 - out1_recall_2: 0.8903 - out1_precision_2: 0.5373 - out1_accuracy: 0.9736 - out2_dice_coef: 0.6680 - out2_jacard: 0.5224 - out2_recall_2: 0.8735 - out2_precision_2: 0.5411 - out2_accuracy: 0.9712 - out3_dice_coef: 0.6722 - out3_jacard: 0.5283 - out3_recall_2: 0.8876 - out3_precision_2: 0.5462 - out3_accuracy: 0.9740 - out4_dice_coef: 0.4086 - out4_jacard: 0.2784 - out4_recall_2: 0.8306 - out4_precision_2: 0.2515 - out4_accuracy: 0.9772 - out5_dice_coef: 0.3571 - out5_jacard: 0.2357 - out5_recall_2: 0.8638 - out5_precision_2: 0.2329 - out5_accuracy: 0.9776 - out6_dice_coef: 0.5986 - out6_jacard: 0.4475 - out6_recall_2: 0.8796 - out6_precision_2: 0.4675 - out6_accuracy: 0.9703 - out7_dice_coef: 0.2398 - out7_jacard: 0.1455 - out7_recall_2: 0.8002 - out7_precision_2: 0.1212 - out7_accuracy: 0.9758 - out8_dice_coef: 0.2611 - out8_jacard: 0.1611 - out8_recall_2: 0.8434 - out8_precision_2: 0.1390 - out8_accuracy: 0.9770 - out9_dice_coef: 0.2362 - out9_jacard: 0.1440 - out9_recall_2: 0.7738 - out9_precision_2: 0.1311 - out9_accuracy: 0.9779\n",
            "Epoch 11/100\n",
            "16/16 [==============================] - 31s 2s/step - loss: 3.5902 - out1_loss: 0.2247 - out2_loss: 0.2406 - out3_loss: 0.2085 - out4_loss: 0.4700 - out5_loss: 0.4923 - out6_loss: 0.2639 - out7_loss: 0.5769 - out8_loss: 0.5566 - out9_loss: 0.5567 - out1_dice_coef: 0.7395 - out1_jacard: 0.6140 - out1_recall_2: 0.8578 - out1_precision_2: 0.6205 - out1_accuracy: 0.9799 - out2_dice_coef: 0.7279 - out2_jacard: 0.5985 - out2_recall_2: 0.8325 - out2_precision_2: 0.6208 - out2_accuracy: 0.9776 - out3_dice_coef: 0.7598 - out3_jacard: 0.6428 - out3_recall_2: 0.8640 - out3_precision_2: 0.6445 - out3_accuracy: 0.9812 - out4_dice_coef: 0.4843 - out4_jacard: 0.3458 - out4_recall_2: 0.7141 - out4_precision_2: 0.4173 - out4_accuracy: 0.9889 - out5_dice_coef: 0.4564 - out5_jacard: 0.3212 - out5_recall_2: 0.7270 - out5_precision_2: 0.3705 - out5_accuracy: 0.9887 - out6_dice_coef: 0.6854 - out6_jacard: 0.5482 - out6_recall_2: 0.8565 - out6_precision_2: 0.5414 - out6_accuracy: 0.9770 - out7_dice_coef: 0.3698 - out7_jacard: 0.2530 - out7_recall_2: 0.7650 - out7_precision_2: 0.2377 - out7_accuracy: 0.9891 - out8_dice_coef: 0.3932 - out8_jacard: 0.2697 - out8_recall_2: 0.7578 - out8_precision_2: 0.2560 - out8_accuracy: 0.9895 - out9_dice_coef: 0.3927 - out9_jacard: 0.2711 - out9_recall_2: 0.7568 - out9_precision_2: 0.2510 - out9_accuracy: 0.9897\n",
            "Epoch 12/100\n",
            "16/16 [==============================] - 31s 2s/step - loss: 3.7002 - out1_loss: 0.2222 - out2_loss: 0.2314 - out3_loss: 0.2050 - out4_loss: 0.4706 - out5_loss: 0.5105 - out6_loss: 0.2542 - out7_loss: 0.6086 - out8_loss: 0.5949 - out9_loss: 0.6027 - out1_dice_coef: 0.7600 - out1_jacard: 0.6490 - out1_recall_2: 0.8472 - out1_precision_2: 0.6507 - out1_accuracy: 0.9817 - out2_dice_coef: 0.7590 - out2_jacard: 0.6471 - out2_recall_2: 0.8222 - out2_precision_2: 0.6649 - out2_accuracy: 0.9804 - out3_dice_coef: 0.7807 - out3_jacard: 0.6804 - out3_recall_2: 0.8650 - out3_precision_2: 0.6720 - out3_accuracy: 0.9829 - out4_dice_coef: 0.4517 - out4_jacard: 0.3099 - out4_recall_2: 0.7495 - out4_precision_2: 0.3261 - out4_accuracy: 0.9844 - out5_dice_coef: 0.4126 - out5_jacard: 0.2831 - out5_recall_2: 0.7789 - out5_precision_2: 0.2893 - out5_accuracy: 0.9840 - out6_dice_coef: 0.7095 - out6_jacard: 0.5843 - out6_recall_2: 0.8631 - out6_precision_2: 0.5666 - out6_accuracy: 0.9789 - out7_dice_coef: 0.3444 - out7_jacard: 0.2427 - out7_recall_2: 0.6651 - out7_precision_2: 0.2681 - out7_accuracy: 0.9913 - out8_dice_coef: 0.3472 - out8_jacard: 0.2381 - out8_recall_2: 0.7343 - out8_precision_2: 0.2526 - out8_accuracy: 0.9896 - out9_dice_coef: 0.3427 - out9_jacard: 0.2372 - out9_recall_2: 0.6962 - out9_precision_2: 0.2534 - out9_accuracy: 0.9903\n",
            "Epoch 13/100\n",
            "16/16 [==============================] - 31s 2s/step - loss: 3.3622 - out1_loss: 0.2571 - out2_loss: 0.2707 - out3_loss: 0.2486 - out4_loss: 0.3755 - out5_loss: 0.4209 - out6_loss: 0.3047 - out7_loss: 0.5127 - out8_loss: 0.4856 - out9_loss: 0.4863 - out1_dice_coef: 0.6931 - out1_jacard: 0.5655 - out1_recall_2: 0.8846 - out1_precision_2: 0.5514 - out1_accuracy: 0.9748 - out2_dice_coef: 0.6846 - out2_jacard: 0.5565 - out2_recall_2: 0.8579 - out2_precision_2: 0.5499 - out2_accuracy: 0.9720 - out3_dice_coef: 0.7019 - out3_jacard: 0.5796 - out3_recall_2: 0.8980 - out3_precision_2: 0.5598 - out3_accuracy: 0.9752 - out4_dice_coef: 0.5532 - out4_jacard: 0.4042 - out4_recall_2: 0.8447 - out4_precision_2: 0.4397 - out4_accuracy: 0.9894 - out5_dice_coef: 0.5149 - out5_jacard: 0.3826 - out5_recall_2: 0.8624 - out5_precision_2: 0.4079 - out5_accuracy: 0.9896 - out6_dice_coef: 0.6300 - out6_jacard: 0.4900 - out6_recall_2: 0.8899 - out6_precision_2: 0.4704 - out6_accuracy: 0.9705 - out7_dice_coef: 0.4556 - out7_jacard: 0.3312 - out7_recall_2: 0.7299 - out7_precision_2: 0.4426 - out7_accuracy: 0.9952 - out8_dice_coef: 0.4870 - out8_jacard: 0.3593 - out8_recall_2: 0.7392 - out8_precision_2: 0.4559 - out8_accuracy: 0.9951 - out9_dice_coef: 0.4869 - out9_jacard: 0.3573 - out9_recall_2: 0.7312 - out9_precision_2: 0.4626 - out9_accuracy: 0.9954\n",
            "Epoch 14/100\n",
            "16/16 [==============================] - 31s 2s/step - loss: 3.2352 - out1_loss: 0.2259 - out2_loss: 0.2388 - out3_loss: 0.2200 - out4_loss: 0.4201 - out5_loss: 0.4045 - out6_loss: 0.2788 - out7_loss: 0.4905 - out8_loss: 0.4736 - out9_loss: 0.4828 - out1_dice_coef: 0.7443 - out1_jacard: 0.6191 - out1_recall_2: 0.8489 - out1_precision_2: 0.6588 - out1_accuracy: 0.9822 - out2_dice_coef: 0.7355 - out2_jacard: 0.6102 - out2_recall_2: 0.8156 - out2_precision_2: 0.6601 - out2_accuracy: 0.9800 - out3_dice_coef: 0.7509 - out3_jacard: 0.6307 - out3_recall_2: 0.8546 - out3_precision_2: 0.6690 - out3_accuracy: 0.9826 - out4_dice_coef: 0.5655 - out4_jacard: 0.4466 - out4_recall_2: 0.7447 - out4_precision_2: 0.6139 - out4_accuracy: 0.9937 - out5_dice_coef: 0.5744 - out5_jacard: 0.4647 - out5_recall_2: 0.7865 - out5_precision_2: 0.6347 - out5_accuracy: 0.9950 - out6_dice_coef: 0.6723 - out6_jacard: 0.5326 - out6_recall_2: 0.8454 - out6_precision_2: 0.5609 - out6_accuracy: 0.9784 - out7_dice_coef: 0.4494 - out7_jacard: 0.3240 - out7_recall_2: 0.8045 - out7_precision_2: 0.3516 - out7_accuracy: 0.9932 - out8_dice_coef: 0.4692 - out8_jacard: 0.3454 - out8_recall_2: 0.8139 - out8_precision_2: 0.3798 - out8_accuracy: 0.9935 - out9_dice_coef: 0.4601 - out9_jacard: 0.3370 - out9_recall_2: 0.8093 - out9_precision_2: 0.3701 - out9_accuracy: 0.9935\n",
            "Epoch 15/100\n",
            "16/16 [==============================] - 31s 2s/step - loss: 3.4705 - out1_loss: 0.2656 - out2_loss: 0.2726 - out3_loss: 0.2542 - out4_loss: 0.4589 - out5_loss: 0.4593 - out6_loss: 0.3056 - out7_loss: 0.5113 - out8_loss: 0.4643 - out9_loss: 0.4786 - out1_dice_coef: 0.6937 - out1_jacard: 0.5600 - out1_recall_2: 0.8401 - out1_precision_2: 0.5675 - out1_accuracy: 0.9759 - out2_dice_coef: 0.6961 - out2_jacard: 0.5620 - out2_recall_2: 0.8107 - out2_precision_2: 0.5861 - out2_accuracy: 0.9747 - out3_dice_coef: 0.7107 - out3_jacard: 0.5837 - out3_recall_2: 0.8449 - out3_precision_2: 0.5860 - out3_accuracy: 0.9770 - out4_dice_coef: 0.4935 - out4_jacard: 0.3603 - out4_recall_2: 0.7565 - out4_precision_2: 0.4766 - out4_accuracy: 0.9907 - out5_dice_coef: 0.4903 - out5_jacard: 0.3685 - out5_recall_2: 0.8062 - out5_precision_2: 0.5069 - out5_accuracy: 0.9926 - out6_dice_coef: 0.6425 - out6_jacard: 0.5010 - out6_recall_2: 0.8348 - out6_precision_2: 0.4934 - out6_accuracy: 0.9729 - out7_dice_coef: 0.4454 - out7_jacard: 0.3245 - out7_recall_2: 0.7888 - out7_precision_2: 0.4401 - out7_accuracy: 0.9951 - out8_dice_coef: 0.4848 - out8_jacard: 0.3526 - out8_recall_2: 0.8140 - out8_precision_2: 0.4598 - out8_accuracy: 0.9951 - out9_dice_coef: 0.4749 - out9_jacard: 0.3459 - out9_recall_2: 0.7931 - out9_precision_2: 0.4579 - out9_accuracy: 0.9953\n",
            "Epoch 16/100\n",
            "16/16 [==============================] - 31s 2s/step - loss: 2.9548 - out1_loss: 0.1973 - out2_loss: 0.2176 - out3_loss: 0.1904 - out4_loss: 0.3694 - out5_loss: 0.4002 - out6_loss: 0.2416 - out7_loss: 0.4712 - out8_loss: 0.4312 - out9_loss: 0.4360 - out1_dice_coef: 0.7796 - out1_jacard: 0.6573 - out1_recall_2: 0.8529 - out1_precision_2: 0.6820 - out1_accuracy: 0.9836 - out2_dice_coef: 0.7648 - out2_jacard: 0.6371 - out2_recall_2: 0.8151 - out2_precision_2: 0.6914 - out2_accuracy: 0.9818 - out3_dice_coef: 0.7905 - out3_jacard: 0.6752 - out3_recall_2: 0.8570 - out3_precision_2: 0.6994 - out3_accuracy: 0.9843 - out4_dice_coef: 0.5788 - out4_jacard: 0.4369 - out4_recall_2: 0.8120 - out4_precision_2: 0.4378 - out4_accuracy: 0.9894 - out5_dice_coef: 0.5616 - out5_jacard: 0.4220 - out5_recall_2: 0.7406 - out5_precision_2: 0.4855 - out5_accuracy: 0.9922 - out6_dice_coef: 0.7170 - out6_jacard: 0.5786 - out6_recall_2: 0.8536 - out6_precision_2: 0.5866 - out6_accuracy: 0.9802 - out7_dice_coef: 0.4932 - out7_jacard: 0.3560 - out7_recall_2: 0.7201 - out7_precision_2: 0.4285 - out7_accuracy: 0.9950 - out8_dice_coef: 0.5407 - out8_jacard: 0.3937 - out8_recall_2: 0.6957 - out8_precision_2: 0.4996 - out8_accuracy: 0.9957 - out9_dice_coef: 0.5329 - out9_jacard: 0.3872 - out9_recall_2: 0.6923 - out9_precision_2: 0.4959 - out9_accuracy: 0.9958\n",
            "Epoch 17/100\n",
            "16/16 [==============================] - 31s 2s/step - loss: 2.8949 - out1_loss: 0.1915 - out2_loss: 0.2118 - out3_loss: 0.1861 - out4_loss: 0.3359 - out5_loss: 0.3714 - out6_loss: 0.2404 - out7_loss: 0.4655 - out8_loss: 0.4471 - out9_loss: 0.4453 - out1_dice_coef: 0.7626 - out1_jacard: 0.6452 - out1_recall_2: 0.9369 - out1_precision_2: 0.6130 - out1_accuracy: 0.9803 - out2_dice_coef: 0.7464 - out2_jacard: 0.6228 - out2_recall_2: 0.8998 - out2_precision_2: 0.6147 - out2_accuracy: 0.9780 - out3_dice_coef: 0.7679 - out3_jacard: 0.6553 - out3_recall_2: 0.9442 - out3_precision_2: 0.6204 - out3_accuracy: 0.9806 - out4_dice_coef: 0.5869 - out4_jacard: 0.4438 - out4_recall_2: 0.9116 - out4_precision_2: 0.4564 - out4_accuracy: 0.9899 - out5_dice_coef: 0.5755 - out5_jacard: 0.4533 - out5_recall_2: 0.8911 - out5_precision_2: 0.4740 - out5_accuracy: 0.9918 - out6_dice_coef: 0.6931 - out6_jacard: 0.5563 - out6_recall_2: 0.9431 - out6_precision_2: 0.5248 - out6_accuracy: 0.9759 - out7_dice_coef: 0.4964 - out7_jacard: 0.3640 - out7_recall_2: 0.7621 - out7_precision_2: 0.3613 - out7_accuracy: 0.9936 - out8_dice_coef: 0.5160 - out8_jacard: 0.3851 - out8_recall_2: 0.7842 - out8_precision_2: 0.3943 - out8_accuracy: 0.9939 - out9_dice_coef: 0.5280 - out9_jacard: 0.3986 - out9_recall_2: 0.7659 - out9_precision_2: 0.4095 - out9_accuracy: 0.9945\n",
            "Epoch 18/100\n",
            "16/16 [==============================] - 31s 2s/step - loss: 2.7876 - out1_loss: 0.1901 - out2_loss: 0.1982 - out3_loss: 0.1796 - out4_loss: 0.3701 - out5_loss: 0.3748 - out6_loss: 0.2345 - out7_loss: 0.4238 - out8_loss: 0.4130 - out9_loss: 0.4035 - out1_dice_coef: 0.7894 - out1_jacard: 0.6778 - out1_recall_2: 0.8695 - out1_precision_2: 0.6814 - out1_accuracy: 0.9838 - out2_dice_coef: 0.7866 - out2_jacard: 0.6693 - out2_recall_2: 0.8408 - out2_precision_2: 0.6979 - out2_accuracy: 0.9826 - out3_dice_coef: 0.8031 - out3_jacard: 0.6975 - out3_recall_2: 0.8724 - out3_precision_2: 0.7038 - out3_accuracy: 0.9848 - out4_dice_coef: 0.5968 - out4_jacard: 0.4645 - out4_recall_2: 0.7929 - out4_precision_2: 0.5294 - out4_accuracy: 0.9921 - out5_dice_coef: 0.5932 - out5_jacard: 0.4779 - out5_recall_2: 0.8130 - out5_precision_2: 0.5572 - out5_accuracy: 0.9937 - out6_dice_coef: 0.7260 - out6_jacard: 0.5941 - out6_recall_2: 0.8667 - out6_precision_2: 0.5931 - out6_accuracy: 0.9807 - out7_dice_coef: 0.5290 - out7_jacard: 0.3932 - out7_recall_2: 0.7977 - out7_precision_2: 0.4179 - out7_accuracy: 0.9947 - out8_dice_coef: 0.5408 - out8_jacard: 0.4026 - out8_recall_2: 0.7928 - out8_precision_2: 0.4450 - out8_accuracy: 0.9949 - out9_dice_coef: 0.5441 - out9_jacard: 0.4090 - out9_recall_2: 0.8295 - out9_precision_2: 0.4198 - out9_accuracy: 0.9946\n",
            "Epoch 19/100\n",
            "16/16 [==============================] - 31s 2s/step - loss: 2.7629 - out1_loss: 0.1893 - out2_loss: 0.1960 - out3_loss: 0.1733 - out4_loss: 0.3754 - out5_loss: 0.3593 - out6_loss: 0.2217 - out7_loss: 0.4432 - out8_loss: 0.4049 - out9_loss: 0.3998 - out1_dice_coef: 0.7807 - out1_jacard: 0.6560 - out1_recall_2: 0.8618 - out1_precision_2: 0.7012 - out1_accuracy: 0.9848 - out2_dice_coef: 0.7767 - out2_jacard: 0.6532 - out2_recall_2: 0.8508 - out2_precision_2: 0.6939 - out2_accuracy: 0.9826 - out3_dice_coef: 0.7980 - out3_jacard: 0.6826 - out3_recall_2: 0.8763 - out3_precision_2: 0.7159 - out3_accuracy: 0.9856 - out4_dice_coef: 0.5705 - out4_jacard: 0.4391 - out4_recall_2: 0.7784 - out4_precision_2: 0.5507 - out4_accuracy: 0.9926 - out5_dice_coef: 0.5914 - out5_jacard: 0.4562 - out5_recall_2: 0.7998 - out5_precision_2: 0.6086 - out5_accuracy: 0.9946 - out6_dice_coef: 0.7289 - out6_jacard: 0.5896 - out6_recall_2: 0.8753 - out6_precision_2: 0.6083 - out6_accuracy: 0.9818 - out7_dice_coef: 0.5086 - out7_jacard: 0.3682 - out7_recall_2: 0.7743 - out7_precision_2: 0.4493 - out7_accuracy: 0.9953 - out8_dice_coef: 0.5472 - out8_jacard: 0.4025 - out8_recall_2: 0.7920 - out8_precision_2: 0.4870 - out8_accuracy: 0.9955 - out9_dice_coef: 0.5502 - out9_jacard: 0.4068 - out9_recall_2: 0.7973 - out9_precision_2: 0.4892 - out9_accuracy: 0.9957\n",
            "Epoch 20/100\n",
            "16/16 [==============================] - 31s 2s/step - loss: 2.7054 - out1_loss: 0.1898 - out2_loss: 0.2000 - out3_loss: 0.1823 - out4_loss: 0.3459 - out5_loss: 0.3421 - out6_loss: 0.2336 - out7_loss: 0.4230 - out8_loss: 0.3907 - out9_loss: 0.3980 - out1_dice_coef: 0.7731 - out1_jacard: 0.6638 - out1_recall_2: 0.9215 - out1_precision_2: 0.6308 - out1_accuracy: 0.9814 - out2_dice_coef: 0.7645 - out2_jacard: 0.6496 - out2_recall_2: 0.8985 - out2_precision_2: 0.6328 - out2_accuracy: 0.9793 - out3_dice_coef: 0.7805 - out3_jacard: 0.6773 - out3_recall_2: 0.9312 - out3_precision_2: 0.6394 - out3_accuracy: 0.9818 - out4_dice_coef: 0.6229 - out4_jacard: 0.4866 - out4_recall_2: 0.7607 - out4_precision_2: 0.5833 - out4_accuracy: 0.9932 - out5_dice_coef: 0.6208 - out5_jacard: 0.4864 - out5_recall_2: 0.7822 - out5_precision_2: 0.6284 - out5_accuracy: 0.9949 - out6_dice_coef: 0.7096 - out6_jacard: 0.5796 - out6_recall_2: 0.9261 - out6_precision_2: 0.5425 - out6_accuracy: 0.9773 - out7_dice_coef: 0.5388 - out7_jacard: 0.3984 - out7_recall_2: 0.7469 - out7_precision_2: 0.4797 - out7_accuracy: 0.9957 - out8_dice_coef: 0.5646 - out8_jacard: 0.4183 - out8_recall_2: 0.7703 - out8_precision_2: 0.5070 - out8_accuracy: 0.9958 - out9_dice_coef: 0.5636 - out9_jacard: 0.4226 - out9_recall_2: 0.7598 - out9_precision_2: 0.5137 - out9_accuracy: 0.9960\n",
            "Epoch 21/100\n",
            "16/16 [==============================] - 31s 2s/step - loss: 3.1859 - out1_loss: 0.2240 - out2_loss: 0.2347 - out3_loss: 0.2168 - out4_loss: 0.4398 - out5_loss: 0.4460 - out6_loss: 0.2676 - out7_loss: 0.4692 - out8_loss: 0.4459 - out9_loss: 0.4418 - out1_dice_coef: 0.7487 - out1_jacard: 0.6284 - out1_recall_2: 0.8582 - out1_precision_2: 0.6371 - out1_accuracy: 0.9810 - out2_dice_coef: 0.7429 - out2_jacard: 0.6240 - out2_recall_2: 0.8345 - out2_precision_2: 0.6383 - out2_accuracy: 0.9788 - out3_dice_coef: 0.7582 - out3_jacard: 0.6465 - out3_recall_2: 0.8662 - out3_precision_2: 0.6465 - out3_accuracy: 0.9814 - out4_dice_coef: 0.5257 - out4_jacard: 0.3910 - out4_recall_2: 0.6905 - out4_precision_2: 0.5124 - out4_accuracy: 0.9916 - out5_dice_coef: 0.5386 - out5_jacard: 0.4188 - out5_recall_2: 0.6486 - out5_precision_2: 0.5708 - out5_accuracy: 0.9937 - out6_dice_coef: 0.6896 - out6_jacard: 0.5583 - out6_recall_2: 0.8617 - out6_precision_2: 0.5445 - out6_accuracy: 0.9772 - out7_dice_coef: 0.5008 - out7_jacard: 0.3791 - out7_recall_2: 0.7266 - out7_precision_2: 0.4104 - out7_accuracy: 0.9947 - out8_dice_coef: 0.5293 - out8_jacard: 0.4029 - out8_recall_2: 0.7183 - out8_precision_2: 0.4377 - out8_accuracy: 0.9949 - out9_dice_coef: 0.5271 - out9_jacard: 0.4030 - out9_recall_2: 0.7289 - out9_precision_2: 0.4313 - out9_accuracy: 0.9949\n",
            "Epoch 22/100\n",
            "16/16 [==============================] - 31s 2s/step - loss: 2.2299 - out1_loss: 0.1659 - out2_loss: 0.1819 - out3_loss: 0.1557 - out4_loss: 0.2476 - out5_loss: 0.2528 - out6_loss: 0.2149 - out7_loss: 0.3561 - out8_loss: 0.3333 - out9_loss: 0.3216 - out1_dice_coef: 0.8123 - out1_jacard: 0.6971 - out1_recall_2: 0.8695 - out1_precision_2: 0.7722 - out1_accuracy: 0.9883 - out2_dice_coef: 0.8021 - out2_jacard: 0.6812 - out2_recall_2: 0.8422 - out2_precision_2: 0.7723 - out2_accuracy: 0.9865 - out3_dice_coef: 0.8250 - out3_jacard: 0.7170 - out3_recall_2: 0.8772 - out3_precision_2: 0.7892 - out3_accuracy: 0.9891 - out4_dice_coef: 0.7149 - out4_jacard: 0.5926 - out4_recall_2: 0.8535 - out4_precision_2: 0.7022 - out4_accuracy: 0.9956 - out5_dice_coef: 0.7162 - out5_jacard: 0.5987 - out5_recall_2: 0.8783 - out5_precision_2: 0.7300 - out5_accuracy: 0.9966 - out6_dice_coef: 0.7410 - out6_jacard: 0.6028 - out6_recall_2: 0.8698 - out6_precision_2: 0.6612 - out6_accuracy: 0.9847 - out7_dice_coef: 0.5890 - out7_jacard: 0.4430 - out7_recall_2: 0.8476 - out7_precision_2: 0.5126 - out7_accuracy: 0.9961 - out8_dice_coef: 0.6195 - out8_jacard: 0.4805 - out8_recall_2: 0.8606 - out8_precision_2: 0.5533 - out8_accuracy: 0.9964 - out9_dice_coef: 0.6346 - out9_jacard: 0.4949 - out9_recall_2: 0.8584 - out9_precision_2: 0.5712 - out9_accuracy: 0.9968\n",
            "Epoch 23/100\n",
            "16/16 [==============================] - 31s 2s/step - loss: 2.5627 - out1_loss: 0.1842 - out2_loss: 0.2033 - out3_loss: 0.1784 - out4_loss: 0.3069 - out5_loss: 0.3159 - out6_loss: 0.2372 - out7_loss: 0.3922 - out8_loss: 0.3807 - out9_loss: 0.3641 - out1_dice_coef: 0.7912 - out1_jacard: 0.6701 - out1_recall_2: 0.8675 - out1_precision_2: 0.7436 - out1_accuracy: 0.9870 - out2_dice_coef: 0.7762 - out2_jacard: 0.6526 - out2_recall_2: 0.8455 - out2_precision_2: 0.7396 - out2_accuracy: 0.9850 - out3_dice_coef: 0.7986 - out3_jacard: 0.6831 - out3_recall_2: 0.8736 - out3_precision_2: 0.7572 - out3_accuracy: 0.9875 - out4_dice_coef: 0.6673 - out4_jacard: 0.5453 - out4_recall_2: 0.8398 - out4_precision_2: 0.6736 - out4_accuracy: 0.9951 - out5_dice_coef: 0.6503 - out5_jacard: 0.5342 - out5_recall_2: 0.8865 - out5_precision_2: 0.6337 - out5_accuracy: 0.9953 - out6_dice_coef: 0.7182 - out6_jacard: 0.5802 - out6_recall_2: 0.8661 - out6_precision_2: 0.6328 - out6_accuracy: 0.9831 - out7_dice_coef: 0.5682 - out7_jacard: 0.4279 - out7_recall_2: 0.8037 - out7_precision_2: 0.4749 - out7_accuracy: 0.9956 - out8_dice_coef: 0.5803 - out8_jacard: 0.4425 - out8_recall_2: 0.8126 - out8_precision_2: 0.4975 - out8_accuracy: 0.9957 - out9_dice_coef: 0.5987 - out9_jacard: 0.4622 - out9_recall_2: 0.8174 - out9_precision_2: 0.5121 - out9_accuracy: 0.9960\n",
            "Epoch 24/100\n",
            "16/16 [==============================] - 31s 2s/step - loss: 2.5405 - out1_loss: 0.2096 - out2_loss: 0.2195 - out3_loss: 0.1956 - out4_loss: 0.3223 - out5_loss: 0.3039 - out6_loss: 0.2426 - out7_loss: 0.3687 - out8_loss: 0.3459 - out9_loss: 0.3324 - out1_dice_coef: 0.7404 - out1_jacard: 0.6204 - out1_recall_2: 0.9249 - out1_precision_2: 0.5985 - out1_accuracy: 0.9790 - out2_dice_coef: 0.7388 - out2_jacard: 0.6209 - out2_recall_2: 0.9040 - out2_precision_2: 0.6111 - out2_accuracy: 0.9777 - out3_dice_coef: 0.7575 - out3_jacard: 0.6488 - out3_recall_2: 0.9412 - out3_precision_2: 0.6169 - out3_accuracy: 0.9803 - out4_dice_coef: 0.6552 - out4_jacard: 0.5214 - out4_recall_2: 0.7837 - out4_precision_2: 0.6454 - out4_accuracy: 0.9944 - out5_dice_coef: 0.6643 - out5_jacard: 0.5415 - out5_recall_2: 0.8526 - out5_precision_2: 0.6327 - out5_accuracy: 0.9952 - out6_dice_coef: 0.6939 - out6_jacard: 0.5612 - out6_recall_2: 0.9362 - out6_precision_2: 0.5294 - out6_accuracy: 0.9763 - out7_dice_coef: 0.5902 - out7_jacard: 0.4487 - out7_recall_2: 0.7981 - out7_precision_2: 0.5003 - out7_accuracy: 0.9960 - out8_dice_coef: 0.6193 - out8_jacard: 0.4821 - out8_recall_2: 0.8093 - out8_precision_2: 0.5341 - out8_accuracy: 0.9962 - out9_dice_coef: 0.6296 - out9_jacard: 0.4899 - out9_recall_2: 0.8223 - out9_precision_2: 0.5430 - out9_accuracy: 0.9964\n",
            "Epoch 25/100\n",
            "16/16 [==============================] - 31s 2s/step - loss: 2.2824 - out1_loss: 0.1737 - out2_loss: 0.1869 - out3_loss: 0.1645 - out4_loss: 0.2737 - out5_loss: 0.2845 - out6_loss: 0.2181 - out7_loss: 0.3417 - out8_loss: 0.3269 - out9_loss: 0.3123 - out1_dice_coef: 0.7928 - out1_jacard: 0.6770 - out1_recall_2: 0.8975 - out1_precision_2: 0.7242 - out1_accuracy: 0.9866 - out2_dice_coef: 0.7838 - out2_jacard: 0.6632 - out2_recall_2: 0.8743 - out2_precision_2: 0.7257 - out2_accuracy: 0.9849 - out3_dice_coef: 0.8028 - out3_jacard: 0.6928 - out3_recall_2: 0.9068 - out3_precision_2: 0.7370 - out3_accuracy: 0.9872 - out4_dice_coef: 0.7051 - out4_jacard: 0.5798 - out4_recall_2: 0.8379 - out4_precision_2: 0.7209 - out4_accuracy: 0.9958 - out5_dice_coef: 0.6949 - out5_jacard: 0.5724 - out5_recall_2: 0.8899 - out5_precision_2: 0.6742 - out5_accuracy: 0.9959 - out6_dice_coef: 0.7288 - out6_jacard: 0.5905 - out6_recall_2: 0.8969 - out6_precision_2: 0.6281 - out6_accuracy: 0.9832 - out7_dice_coef: 0.6231 - out7_jacard: 0.4806 - out7_recall_2: 0.8455 - out7_precision_2: 0.5173 - out7_accuracy: 0.9962 - out8_dice_coef: 0.6432 - out8_jacard: 0.5073 - out8_recall_2: 0.8565 - out8_precision_2: 0.5437 - out8_accuracy: 0.9963 - out9_dice_coef: 0.6553 - out9_jacard: 0.5191 - out9_recall_2: 0.8712 - out9_precision_2: 0.5533 - out9_accuracy: 0.9966\n",
            "Epoch 26/100\n",
            "16/16 [==============================] - 31s 2s/step - loss: 2.3659 - out1_loss: 0.1757 - out2_loss: 0.1857 - out3_loss: 0.1585 - out4_loss: 0.2887 - out5_loss: 0.2889 - out6_loss: 0.2113 - out7_loss: 0.3695 - out8_loss: 0.3522 - out9_loss: 0.3354 - out1_dice_coef: 0.8122 - out1_jacard: 0.7043 - out1_recall_2: 0.8504 - out1_precision_2: 0.7985 - out1_accuracy: 0.9890 - out2_dice_coef: 0.8074 - out2_jacard: 0.6979 - out2_recall_2: 0.8363 - out2_precision_2: 0.8087 - out2_accuracy: 0.9880 - out3_dice_coef: 0.8313 - out3_jacard: 0.7322 - out3_recall_2: 0.8683 - out3_precision_2: 0.8241 - out3_accuracy: 0.9903 - out4_dice_coef: 0.6806 - out4_jacard: 0.5655 - out4_recall_2: 0.8440 - out4_precision_2: 0.7015 - out4_accuracy: 0.9955 - out5_dice_coef: 0.6677 - out5_jacard: 0.5541 - out5_recall_2: 0.9113 - out5_precision_2: 0.6775 - out5_accuracy: 0.9961 - out6_dice_coef: 0.7554 - out6_jacard: 0.6248 - out6_recall_2: 0.8569 - out6_precision_2: 0.6979 - out6_accuracy: 0.9864 - out7_dice_coef: 0.5851 - out7_jacard: 0.4409 - out7_recall_2: 0.8255 - out7_precision_2: 0.5344 - out7_accuracy: 0.9964 - out8_dice_coef: 0.6066 - out8_jacard: 0.4682 - out8_recall_2: 0.8345 - out8_precision_2: 0.5662 - out8_accuracy: 0.9966 - out9_dice_coef: 0.6236 - out9_jacard: 0.4860 - out9_recall_2: 0.8539 - out9_precision_2: 0.5728 - out9_accuracy: 0.9968\n",
            "Epoch 27/100\n",
            "16/16 [==============================] - 31s 2s/step - loss: 2.1854 - out1_loss: 0.1519 - out2_loss: 0.1650 - out3_loss: 0.1372 - out4_loss: 0.2495 - out5_loss: 0.2733 - out6_loss: 0.1892 - out7_loss: 0.3563 - out8_loss: 0.3386 - out9_loss: 0.3243 - out1_dice_coef: 0.8196 - out1_jacard: 0.7072 - out1_recall_2: 0.8976 - out1_precision_2: 0.7540 - out1_accuracy: 0.9881 - out2_dice_coef: 0.8096 - out2_jacard: 0.6924 - out2_recall_2: 0.8818 - out2_precision_2: 0.7520 - out2_accuracy: 0.9864 - out3_dice_coef: 0.8363 - out3_jacard: 0.7345 - out3_recall_2: 0.9152 - out3_precision_2: 0.7712 - out3_accuracy: 0.9891 - out4_dice_coef: 0.7165 - out4_jacard: 0.5937 - out4_recall_2: 0.8620 - out4_precision_2: 0.6752 - out4_accuracy: 0.9952 - out5_dice_coef: 0.6967 - out5_jacard: 0.5919 - out5_recall_2: 0.9062 - out5_precision_2: 0.6523 - out5_accuracy: 0.9957 - out6_dice_coef: 0.7608 - out6_jacard: 0.6271 - out6_recall_2: 0.9123 - out6_precision_2: 0.6492 - out6_accuracy: 0.9846 - out7_dice_coef: 0.6087 - out7_jacard: 0.4787 - out7_recall_2: 0.8472 - out7_precision_2: 0.4934 - out7_accuracy: 0.9959 - out8_dice_coef: 0.6303 - out8_jacard: 0.5029 - out8_recall_2: 0.8550 - out8_precision_2: 0.5313 - out8_accuracy: 0.9962 - out9_dice_coef: 0.6452 - out9_jacard: 0.5215 - out9_recall_2: 0.8763 - out9_precision_2: 0.5336 - out9_accuracy: 0.9963\n",
            "Epoch 28/100\n",
            "16/16 [==============================] - 31s 2s/step - loss: 2.1128 - out1_loss: 0.1377 - out2_loss: 0.1475 - out3_loss: 0.1239 - out4_loss: 0.2759 - out5_loss: 0.2791 - out6_loss: 0.1731 - out7_loss: 0.3606 - out8_loss: 0.3108 - out9_loss: 0.3043 - out1_dice_coef: 0.8383 - out1_jacard: 0.7372 - out1_recall_2: 0.9188 - out1_precision_2: 0.7527 - out1_accuracy: 0.9885 - out2_dice_coef: 0.8294 - out2_jacard: 0.7236 - out2_recall_2: 0.9012 - out2_precision_2: 0.7520 - out2_accuracy: 0.9869 - out3_dice_coef: 0.8519 - out3_jacard: 0.7596 - out3_recall_2: 0.9311 - out3_precision_2: 0.7667 - out3_accuracy: 0.9892 - out4_dice_coef: 0.7043 - out4_jacard: 0.5850 - out4_recall_2: 0.7705 - out4_precision_2: 0.7044 - out4_accuracy: 0.9952 - out5_dice_coef: 0.7002 - out5_jacard: 0.5916 - out5_recall_2: 0.8405 - out5_precision_2: 0.7042 - out5_accuracy: 0.9961 - out6_dice_coef: 0.7801 - out6_jacard: 0.6536 - out6_recall_2: 0.9254 - out6_precision_2: 0.6551 - out6_accuracy: 0.9851 - out7_dice_coef: 0.5952 - out7_jacard: 0.4652 - out7_recall_2: 0.8177 - out7_precision_2: 0.5756 - out7_accuracy: 0.9968 - out8_dice_coef: 0.6516 - out8_jacard: 0.5154 - out8_recall_2: 0.8281 - out8_precision_2: 0.6268 - out8_accuracy: 0.9972 - out9_dice_coef: 0.6526 - out9_jacard: 0.5184 - out9_recall_2: 0.8345 - out9_precision_2: 0.6339 - out9_accuracy: 0.9973\n",
            "Epoch 29/100\n",
            "16/16 [==============================] - 31s 2s/step - loss: 3.1084 - out1_loss: 0.2793 - out2_loss: 0.2839 - out3_loss: 0.2625 - out4_loss: 0.3900 - out5_loss: 0.3727 - out6_loss: 0.3165 - out7_loss: 0.4147 - out8_loss: 0.4010 - out9_loss: 0.3877 - out1_dice_coef: 0.6584 - out1_jacard: 0.5226 - out1_recall_2: 0.8984 - out1_precision_2: 0.5287 - out1_accuracy: 0.9728 - out2_dice_coef: 0.6562 - out2_jacard: 0.5201 - out2_recall_2: 0.8829 - out2_precision_2: 0.5245 - out2_accuracy: 0.9696 - out3_dice_coef: 0.6753 - out3_jacard: 0.5444 - out3_recall_2: 0.9178 - out3_precision_2: 0.5445 - out3_accuracy: 0.9740 - out4_dice_coef: 0.5751 - out4_jacard: 0.4445 - out4_recall_2: 0.7955 - out4_precision_2: 0.5931 - out4_accuracy: 0.9935 - out5_dice_coef: 0.5855 - out5_jacard: 0.4632 - out5_recall_2: 0.8497 - out5_precision_2: 0.5729 - out5_accuracy: 0.9941 - out6_dice_coef: 0.6087 - out6_jacard: 0.4662 - out6_recall_2: 0.9121 - out6_precision_2: 0.4605 - out6_accuracy: 0.9694 - out7_dice_coef: 0.5460 - out7_jacard: 0.4095 - out7_recall_2: 0.7965 - out7_precision_2: 0.5285 - out7_accuracy: 0.9963 - out8_dice_coef: 0.5625 - out8_jacard: 0.4253 - out8_recall_2: 0.7980 - out8_precision_2: 0.5523 - out8_accuracy: 0.9964 - out9_dice_coef: 0.5795 - out9_jacard: 0.4443 - out9_recall_2: 0.8045 - out9_precision_2: 0.5969 - out9_accuracy: 0.9969\n",
            "Epoch 30/100\n",
            "16/16 [==============================] - 31s 2s/step - loss: 2.5453 - out1_loss: 0.2072 - out2_loss: 0.2221 - out3_loss: 0.1976 - out4_loss: 0.3147 - out5_loss: 0.3218 - out6_loss: 0.2520 - out7_loss: 0.3622 - out8_loss: 0.3458 - out9_loss: 0.3219 - out1_dice_coef: 0.7698 - out1_jacard: 0.6487 - out1_recall_2: 0.8464 - out1_precision_2: 0.6903 - out1_accuracy: 0.9839 - out2_dice_coef: 0.7590 - out2_jacard: 0.6393 - out2_recall_2: 0.8301 - out2_precision_2: 0.6904 - out2_accuracy: 0.9820 - out3_dice_coef: 0.7775 - out3_jacard: 0.6640 - out3_recall_2: 0.8616 - out3_precision_2: 0.6991 - out3_accuracy: 0.9844 - out4_dice_coef: 0.6542 - out4_jacard: 0.5161 - out4_recall_2: 0.7472 - out4_precision_2: 0.6157 - out4_accuracy: 0.9938 - out5_dice_coef: 0.6336 - out5_jacard: 0.4975 - out5_recall_2: 0.7746 - out5_precision_2: 0.5835 - out5_accuracy: 0.9942 - out6_dice_coef: 0.7041 - out6_jacard: 0.5705 - out6_recall_2: 0.8580 - out6_precision_2: 0.5885 - out6_accuracy: 0.9803 - out7_dice_coef: 0.5992 - out7_jacard: 0.4565 - out7_recall_2: 0.7477 - out7_precision_2: 0.5195 - out7_accuracy: 0.9962 - out8_dice_coef: 0.6203 - out8_jacard: 0.4780 - out8_recall_2: 0.7571 - out8_precision_2: 0.5431 - out8_accuracy: 0.9962 - out9_dice_coef: 0.6415 - out9_jacard: 0.5008 - out9_recall_2: 0.7753 - out9_precision_2: 0.5596 - out9_accuracy: 0.9965\n",
            "Epoch 31/100\n",
            "16/16 [==============================] - 31s 2s/step - loss: 2.4739 - out1_loss: 0.1533 - out2_loss: 0.1741 - out3_loss: 0.1355 - out4_loss: 0.3762 - out5_loss: 0.3370 - out6_loss: 0.1903 - out7_loss: 0.3951 - out8_loss: 0.3587 - out9_loss: 0.3536 - out1_dice_coef: 0.8338 - out1_jacard: 0.7275 - out1_recall_2: 0.8820 - out1_precision_2: 0.8007 - out1_accuracy: 0.9898 - out2_dice_coef: 0.8150 - out2_jacard: 0.7020 - out2_recall_2: 0.8560 - out2_precision_2: 0.7984 - out2_accuracy: 0.9881 - out3_dice_coef: 0.8538 - out3_jacard: 0.7590 - out3_recall_2: 0.8968 - out3_precision_2: 0.8285 - out3_accuracy: 0.9912 - out4_dice_coef: 0.5832 - out4_jacard: 0.4496 - out4_recall_2: 0.8491 - out4_precision_2: 0.4933 - out4_accuracy: 0.9912 - out5_dice_coef: 0.6126 - out5_jacard: 0.4736 - out5_recall_2: 0.8873 - out5_precision_2: 0.5271 - out5_accuracy: 0.9932 - out6_dice_coef: 0.7716 - out6_jacard: 0.6434 - out6_recall_2: 0.8983 - out6_precision_2: 0.7000 - out6_accuracy: 0.9871 - out7_dice_coef: 0.5755 - out7_jacard: 0.4335 - out7_recall_2: 0.7849 - out7_precision_2: 0.5460 - out7_accuracy: 0.9965 - out8_dice_coef: 0.6166 - out8_jacard: 0.4737 - out8_recall_2: 0.7937 - out8_precision_2: 0.6048 - out8_accuracy: 0.9969 - out9_dice_coef: 0.6220 - out9_jacard: 0.4841 - out9_recall_2: 0.8189 - out9_precision_2: 0.5940 - out9_accuracy: 0.9969\n",
            "Epoch 32/100\n",
            "16/16 [==============================] - 31s 2s/step - loss: 2.9424 - out1_loss: 0.1819 - out2_loss: 0.1964 - out3_loss: 0.1740 - out4_loss: 0.3498 - out5_loss: 0.4206 - out6_loss: 0.2259 - out7_loss: 0.4992 - out8_loss: 0.4545 - out9_loss: 0.4400 - out1_dice_coef: 0.7812 - out1_jacard: 0.6615 - out1_recall_2: 0.8831 - out1_precision_2: 0.7064 - out1_accuracy: 0.9854 - out2_dice_coef: 0.7695 - out2_jacard: 0.6473 - out2_recall_2: 0.8599 - out2_precision_2: 0.7075 - out2_accuracy: 0.9836 - out3_dice_coef: 0.7906 - out3_jacard: 0.6781 - out3_recall_2: 0.8858 - out3_precision_2: 0.7220 - out3_accuracy: 0.9861 - out4_dice_coef: 0.5994 - out4_jacard: 0.4551 - out4_recall_2: 0.8410 - out4_precision_2: 0.5295 - out4_accuracy: 0.9922 - out5_dice_coef: 0.5551 - out5_jacard: 0.4258 - out5_recall_2: 0.7821 - out5_precision_2: 0.5950 - out5_accuracy: 0.9944 - out6_dice_coef: 0.7175 - out6_jacard: 0.5807 - out6_recall_2: 0.8810 - out6_precision_2: 0.6119 - out6_accuracy: 0.9820 - out7_dice_coef: 0.4804 - out7_jacard: 0.3607 - out7_recall_2: 0.6907 - out7_precision_2: 0.5983 - out7_accuracy: 0.9969 - out8_dice_coef: 0.5303 - out8_jacard: 0.4016 - out8_recall_2: 0.6910 - out8_precision_2: 0.6440 - out8_accuracy: 0.9970 - out9_dice_coef: 0.5394 - out9_jacard: 0.4075 - out9_recall_2: 0.7334 - out9_precision_2: 0.6208 - out9_accuracy: 0.9970\n",
            "Epoch 33/100\n",
            "16/16 [==============================] - 31s 2s/step - loss: 2.3842 - out1_loss: 0.1566 - out2_loss: 0.1608 - out3_loss: 0.1450 - out4_loss: 0.3212 - out5_loss: 0.2968 - out6_loss: 0.1978 - out7_loss: 0.3907 - out8_loss: 0.3698 - out9_loss: 0.3455 - out1_dice_coef: 0.8094 - out1_jacard: 0.7021 - out1_recall_2: 0.9178 - out1_precision_2: 0.7387 - out1_accuracy: 0.9877 - out2_dice_coef: 0.8093 - out2_jacard: 0.7015 - out2_recall_2: 0.9030 - out2_precision_2: 0.7510 - out2_accuracy: 0.9869 - out3_dice_coef: 0.8240 - out3_jacard: 0.7262 - out3_recall_2: 0.9274 - out3_precision_2: 0.7624 - out3_accuracy: 0.9889 - out4_dice_coef: 0.6553 - out4_jacard: 0.5367 - out4_recall_2: 0.8169 - out4_precision_2: 0.6581 - out4_accuracy: 0.9947 - out5_dice_coef: 0.6791 - out5_jacard: 0.5648 - out5_recall_2: 0.8546 - out5_precision_2: 0.7165 - out5_accuracy: 0.9964 - out6_dice_coef: 0.7493 - out6_jacard: 0.6196 - out6_recall_2: 0.9218 - out6_precision_2: 0.6515 - out6_accuracy: 0.9849 - out7_dice_coef: 0.5888 - out7_jacard: 0.4625 - out7_recall_2: 0.7505 - out7_precision_2: 0.6213 - out7_accuracy: 0.9971 - out8_dice_coef: 0.6162 - out8_jacard: 0.4865 - out8_recall_2: 0.7465 - out8_precision_2: 0.6550 - out8_accuracy: 0.9972 - out9_dice_coef: 0.6383 - out9_jacard: 0.5122 - out9_recall_2: 0.7759 - out9_precision_2: 0.6737 - out9_accuracy: 0.9975\n",
            "Epoch 34/100\n",
            "16/16 [==============================] - 31s 2s/step - loss: 1.7908 - out1_loss: 0.1358 - out2_loss: 0.1434 - out3_loss: 0.1171 - out4_loss: 0.2268 - out5_loss: 0.1980 - out6_loss: 0.1714 - out7_loss: 0.2924 - out8_loss: 0.2577 - out9_loss: 0.2481 - out1_dice_coef: 0.8497 - out1_jacard: 0.7424 - out1_recall_2: 0.8872 - out1_precision_2: 0.8193 - out1_accuracy: 0.9907 - out2_dice_coef: 0.8454 - out2_jacard: 0.7388 - out2_recall_2: 0.8683 - out2_precision_2: 0.8231 - out2_accuracy: 0.9894 - out3_dice_coef: 0.8708 - out3_jacard: 0.7754 - out3_recall_2: 0.8963 - out3_precision_2: 0.8461 - out3_accuracy: 0.9918 - out4_dice_coef: 0.7377 - out4_jacard: 0.6166 - out4_recall_2: 0.8919 - out4_precision_2: 0.6942 - out4_accuracy: 0.9957 - out5_dice_coef: 0.7616 - out5_jacard: 0.6485 - out5_recall_2: 0.9464 - out5_precision_2: 0.7075 - out5_accuracy: 0.9967 - out6_dice_coef: 0.7928 - out6_jacard: 0.6628 - out6_recall_2: 0.8872 - out6_precision_2: 0.7202 - out6_accuracy: 0.9879 - out7_dice_coef: 0.6734 - out7_jacard: 0.5338 - out7_recall_2: 0.8548 - out7_precision_2: 0.6434 - out7_accuracy: 0.9975 - out8_dice_coef: 0.7129 - out8_jacard: 0.5748 - out8_recall_2: 0.8658 - out8_precision_2: 0.6804 - out8_accuracy: 0.9977 - out9_dice_coef: 0.7257 - out9_jacard: 0.5954 - out9_recall_2: 0.8784 - out9_precision_2: 0.7109 - out9_accuracy: 0.9980\n",
            "Epoch 35/100\n",
            "16/16 [==============================] - 31s 2s/step - loss: 2.0684 - out1_loss: 0.1833 - out2_loss: 0.2099 - out3_loss: 0.1766 - out4_loss: 0.2736 - out5_loss: 0.2221 - out6_loss: 0.2336 - out7_loss: 0.2947 - out8_loss: 0.2463 - out9_loss: 0.2283 - out1_dice_coef: 0.7990 - out1_jacard: 0.6813 - out1_recall_2: 0.8424 - out1_precision_2: 0.7765 - out1_accuracy: 0.9879 - out2_dice_coef: 0.7699 - out2_jacard: 0.6478 - out2_recall_2: 0.8185 - out2_precision_2: 0.7524 - out2_accuracy: 0.9850 - out3_dice_coef: 0.8060 - out3_jacard: 0.6949 - out3_recall_2: 0.8422 - out3_precision_2: 0.7894 - out3_accuracy: 0.9883 - out4_dice_coef: 0.7204 - out4_jacard: 0.5889 - out4_recall_2: 0.7657 - out4_precision_2: 0.7686 - out4_accuracy: 0.9960 - out5_dice_coef: 0.7464 - out5_jacard: 0.6154 - out5_recall_2: 0.8232 - out5_precision_2: 0.7603 - out5_accuracy: 0.9967 - out6_dice_coef: 0.7268 - out6_jacard: 0.5909 - out6_recall_2: 0.8326 - out6_precision_2: 0.6651 - out6_accuracy: 0.9845 - out7_dice_coef: 0.6615 - out7_jacard: 0.5258 - out7_recall_2: 0.8592 - out7_precision_2: 0.6245 - out7_accuracy: 0.9973 - out8_dice_coef: 0.7124 - out8_jacard: 0.5689 - out8_recall_2: 0.8531 - out8_precision_2: 0.6666 - out8_accuracy: 0.9975 - out9_dice_coef: 0.7276 - out9_jacard: 0.5951 - out9_recall_2: 0.8825 - out9_precision_2: 0.6764 - out9_accuracy: 0.9978\n",
            "Epoch 36/100\n",
            "16/16 [==============================] - 31s 2s/step - loss: 1.9461 - out1_loss: 0.1527 - out2_loss: 0.1620 - out3_loss: 0.1378 - out4_loss: 0.2680 - out5_loss: 0.2645 - out6_loss: 0.1854 - out7_loss: 0.2888 - out8_loss: 0.2614 - out9_loss: 0.2256 - out1_dice_coef: 0.8186 - out1_jacard: 0.7138 - out1_recall_2: 0.9144 - out1_precision_2: 0.7369 - out1_accuracy: 0.9876 - out2_dice_coef: 0.8132 - out2_jacard: 0.7046 - out2_recall_2: 0.8911 - out2_precision_2: 0.7424 - out2_accuracy: 0.9861 - out3_dice_coef: 0.8391 - out3_jacard: 0.7463 - out3_recall_2: 0.9211 - out3_precision_2: 0.7658 - out3_accuracy: 0.9890 - out4_dice_coef: 0.7134 - out4_jacard: 0.5738 - out4_recall_2: 0.8299 - out4_precision_2: 0.7440 - out4_accuracy: 0.9961 - out5_dice_coef: 0.7059 - out5_jacard: 0.5734 - out5_recall_2: 0.8750 - out5_precision_2: 0.7344 - out5_accuracy: 0.9967 - out6_dice_coef: 0.7686 - out6_jacard: 0.6421 - out6_recall_2: 0.9178 - out6_precision_2: 0.6497 - out6_accuracy: 0.9847 - out7_dice_coef: 0.6843 - out7_jacard: 0.5565 - out7_recall_2: 0.8472 - out7_precision_2: 0.6665 - out7_accuracy: 0.9977 - out8_dice_coef: 0.7170 - out8_jacard: 0.5792 - out8_recall_2: 0.8337 - out8_precision_2: 0.6991 - out8_accuracy: 0.9978 - out9_dice_coef: 0.7492 - out9_jacard: 0.6261 - out9_recall_2: 0.8732 - out9_precision_2: 0.7251 - out9_accuracy: 0.9981\n",
            "Epoch 37/100\n",
            "16/16 [==============================] - 31s 2s/step - loss: 2.1316 - out1_loss: 0.1395 - out2_loss: 0.1400 - out3_loss: 0.1154 - out4_loss: 0.3265 - out5_loss: 0.3099 - out6_loss: 0.1642 - out7_loss: 0.3331 - out8_loss: 0.3085 - out9_loss: 0.2945 - out1_dice_coef: 0.8278 - out1_jacard: 0.7287 - out1_recall_2: 0.9445 - out1_precision_2: 0.7010 - out1_accuracy: 0.9862 - out2_dice_coef: 0.8287 - out2_jacard: 0.7236 - out2_recall_2: 0.9297 - out2_precision_2: 0.7118 - out2_accuracy: 0.9852 - out3_dice_coef: 0.8550 - out3_jacard: 0.7686 - out3_recall_2: 0.9619 - out3_precision_2: 0.7300 - out3_accuracy: 0.9879 - out4_dice_coef: 0.6524 - out4_jacard: 0.5315 - out4_recall_2: 0.8375 - out4_precision_2: 0.6541 - out4_accuracy: 0.9948 - out5_dice_coef: 0.6597 - out5_jacard: 0.5446 - out5_recall_2: 0.8610 - out5_precision_2: 0.6958 - out5_accuracy: 0.9961 - out6_dice_coef: 0.7823 - out6_jacard: 0.6581 - out6_recall_2: 0.9614 - out6_precision_2: 0.6233 - out6_accuracy: 0.9836 - out7_dice_coef: 0.6391 - out7_jacard: 0.5076 - out7_recall_2: 0.8185 - out7_precision_2: 0.6568 - out7_accuracy: 0.9975 - out8_dice_coef: 0.6650 - out8_jacard: 0.5231 - out8_recall_2: 0.8012 - out8_precision_2: 0.6945 - out8_accuracy: 0.9976 - out9_dice_coef: 0.6817 - out9_jacard: 0.5490 - out9_recall_2: 0.8325 - out9_precision_2: 0.7208 - out9_accuracy: 0.9980\n",
            "Epoch 38/100\n",
            "16/16 [==============================] - 31s 2s/step - loss: 1.6839 - out1_loss: 0.1467 - out2_loss: 0.1544 - out3_loss: 0.1305 - out4_loss: 0.2355 - out5_loss: 0.2101 - out6_loss: 0.1813 - out7_loss: 0.2222 - out8_loss: 0.2211 - out9_loss: 0.1820 - out1_dice_coef: 0.8221 - out1_jacard: 0.7192 - out1_recall_2: 0.9170 - out1_precision_2: 0.7445 - out1_accuracy: 0.9880 - out2_dice_coef: 0.8178 - out2_jacard: 0.7122 - out2_recall_2: 0.9042 - out2_precision_2: 0.7503 - out2_accuracy: 0.9868 - out3_dice_coef: 0.8393 - out3_jacard: 0.7471 - out3_recall_2: 0.9338 - out3_precision_2: 0.7646 - out3_accuracy: 0.9892 - out4_dice_coef: 0.7434 - out4_jacard: 0.6174 - out4_recall_2: 0.8277 - out4_precision_2: 0.7687 - out4_accuracy: 0.9964 - out5_dice_coef: 0.7676 - out5_jacard: 0.6422 - out5_recall_2: 0.8481 - out5_precision_2: 0.8020 - out5_accuracy: 0.9973 - out6_dice_coef: 0.7676 - out6_jacard: 0.6431 - out6_recall_2: 0.9283 - out6_precision_2: 0.6541 - out6_accuracy: 0.9851 - out7_dice_coef: 0.7400 - out7_jacard: 0.6050 - out7_recall_2: 0.8733 - out7_precision_2: 0.6956 - out7_accuracy: 0.9979 - out8_dice_coef: 0.7555 - out8_jacard: 0.6226 - out8_recall_2: 0.8504 - out8_precision_2: 0.7337 - out8_accuracy: 0.9980 - out9_dice_coef: 0.7853 - out9_jacard: 0.6646 - out9_recall_2: 0.9005 - out9_precision_2: 0.7468 - out9_accuracy: 0.9983\n",
            "Epoch 39/100\n",
            "16/16 [==============================] - 31s 2s/step - loss: 1.6704 - out1_loss: 0.1500 - out2_loss: 0.1647 - out3_loss: 0.1372 - out4_loss: 0.2409 - out5_loss: 0.1844 - out6_loss: 0.1891 - out7_loss: 0.2215 - out8_loss: 0.2081 - out9_loss: 0.1746 - out1_dice_coef: 0.8275 - out1_jacard: 0.7173 - out1_recall_2: 0.8879 - out1_precision_2: 0.7823 - out1_accuracy: 0.9892 - out2_dice_coef: 0.8119 - out2_jacard: 0.6969 - out2_recall_2: 0.8739 - out2_precision_2: 0.7691 - out2_accuracy: 0.9871 - out3_dice_coef: 0.8423 - out3_jacard: 0.7415 - out3_recall_2: 0.8977 - out3_precision_2: 0.8019 - out3_accuracy: 0.9901 - out4_dice_coef: 0.7249 - out4_jacard: 0.6052 - out4_recall_2: 0.8720 - out4_precision_2: 0.7559 - out4_accuracy: 0.9965 - out5_dice_coef: 0.7745 - out5_jacard: 0.6601 - out5_recall_2: 0.9353 - out5_precision_2: 0.7987 - out5_accuracy: 0.9977 - out6_dice_coef: 0.7683 - out6_jacard: 0.6351 - out6_recall_2: 0.8871 - out6_precision_2: 0.6805 - out6_accuracy: 0.9860 - out7_dice_coef: 0.7262 - out7_jacard: 0.5809 - out7_recall_2: 0.9022 - out7_precision_2: 0.6801 - out7_accuracy: 0.9979 - out8_dice_coef: 0.7471 - out8_jacard: 0.6064 - out8_recall_2: 0.9043 - out8_precision_2: 0.7193 - out8_accuracy: 0.9981 - out9_dice_coef: 0.7772 - out9_jacard: 0.6456 - out9_recall_2: 0.9327 - out9_precision_2: 0.7406 - out9_accuracy: 0.9984\n",
            "Epoch 40/100\n",
            "16/16 [==============================] - 31s 2s/step - loss: 1.7228 - out1_loss: 0.1386 - out2_loss: 0.1552 - out3_loss: 0.1211 - out4_loss: 0.2496 - out5_loss: 0.1880 - out6_loss: 0.1769 - out7_loss: 0.2670 - out8_loss: 0.2287 - out9_loss: 0.1977 - out1_dice_coef: 0.8346 - out1_jacard: 0.7311 - out1_recall_2: 0.9132 - out1_precision_2: 0.7703 - out1_accuracy: 0.9892 - out2_dice_coef: 0.8211 - out2_jacard: 0.7143 - out2_recall_2: 0.8941 - out2_precision_2: 0.7695 - out2_accuracy: 0.9876 - out3_dice_coef: 0.8537 - out3_jacard: 0.7605 - out3_recall_2: 0.9298 - out3_precision_2: 0.7937 - out3_accuracy: 0.9904 - out4_dice_coef: 0.7457 - out4_jacard: 0.6225 - out4_recall_2: 0.7845 - out4_precision_2: 0.8393 - out4_accuracy: 0.9968 - out5_dice_coef: 0.8010 - out5_jacard: 0.6851 - out5_recall_2: 0.8218 - out5_precision_2: 0.8527 - out5_accuracy: 0.9976 - out6_dice_coef: 0.7749 - out6_jacard: 0.6482 - out6_recall_2: 0.9246 - out6_precision_2: 0.6785 - out6_accuracy: 0.9864 - out7_dice_coef: 0.7034 - out7_jacard: 0.5725 - out7_recall_2: 0.8381 - out7_precision_2: 0.7337 - out7_accuracy: 0.9981 - out8_dice_coef: 0.7447 - out8_jacard: 0.6104 - out8_recall_2: 0.8444 - out8_precision_2: 0.7584 - out8_accuracy: 0.9982 - out9_dice_coef: 0.7779 - out9_jacard: 0.6543 - out9_recall_2: 0.8720 - out9_precision_2: 0.7990 - out9_accuracy: 0.9986\n",
            "Epoch 41/100\n",
            "16/16 [==============================] - 31s 2s/step - loss: 2.6121 - out1_loss: 0.1541 - out2_loss: 0.1662 - out3_loss: 0.1428 - out4_loss: 0.4188 - out5_loss: 0.3786 - out6_loss: 0.1893 - out7_loss: 0.4000 - out8_loss: 0.3969 - out9_loss: 0.3655 - out1_dice_coef: 0.8329 - out1_jacard: 0.7331 - out1_recall_2: 0.8742 - out1_precision_2: 0.8058 - out1_accuracy: 0.9899 - out2_dice_coef: 0.8228 - out2_jacard: 0.7207 - out2_recall_2: 0.8590 - out2_precision_2: 0.8110 - out2_accuracy: 0.9887 - out3_dice_coef: 0.8459 - out3_jacard: 0.7562 - out3_recall_2: 0.8869 - out3_precision_2: 0.8278 - out3_accuracy: 0.9909 - out4_dice_coef: 0.5782 - out4_jacard: 0.4756 - out4_recall_2: 0.5769 - out4_precision_2: 0.8671 - out4_accuracy: 0.9956 - out5_dice_coef: 0.5983 - out5_jacard: 0.5059 - out5_recall_2: 0.6165 - out5_precision_2: 0.8725 - out5_accuracy: 0.9964 - out6_dice_coef: 0.7747 - out6_jacard: 0.6506 - out6_recall_2: 0.8853 - out6_precision_2: 0.7058 - out6_accuracy: 0.9872 - out7_dice_coef: 0.5499 - out7_jacard: 0.4416 - out7_recall_2: 0.6309 - out7_precision_2: 0.7631 - out7_accuracy: 0.9977 - out8_dice_coef: 0.5596 - out8_jacard: 0.4569 - out8_recall_2: 0.6410 - out8_precision_2: 0.7886 - out8_accuracy: 0.9977 - out9_dice_coef: 0.5922 - out9_jacard: 0.4988 - out9_recall_2: 0.6633 - out9_precision_2: 0.8284 - out9_accuracy: 0.9980\n",
            "Epoch 42/100\n",
            "16/16 [==============================] - 31s 2s/step - loss: 2.6789 - out1_loss: 0.1720 - out2_loss: 0.1781 - out3_loss: 0.1592 - out4_loss: 0.3503 - out5_loss: 0.3990 - out6_loss: 0.2053 - out7_loss: 0.4263 - out8_loss: 0.4051 - out9_loss: 0.3836 - out1_dice_coef: 0.7825 - out1_jacard: 0.6613 - out1_recall_2: 0.9268 - out1_precision_2: 0.6890 - out1_accuracy: 0.9852 - out2_dice_coef: 0.7805 - out2_jacard: 0.6593 - out2_recall_2: 0.9140 - out2_precision_2: 0.6969 - out2_accuracy: 0.9840 - out3_dice_coef: 0.7958 - out3_jacard: 0.6817 - out3_recall_2: 0.9418 - out3_precision_2: 0.7047 - out3_accuracy: 0.9861 - out4_dice_coef: 0.6068 - out4_jacard: 0.4832 - out4_recall_2: 0.8617 - out4_precision_2: 0.5428 - out4_accuracy: 0.9925 - out5_dice_coef: 0.5716 - out5_jacard: 0.4798 - out5_recall_2: 0.8722 - out5_precision_2: 0.5951 - out5_accuracy: 0.9946 - out6_dice_coef: 0.7325 - out6_jacard: 0.5907 - out6_recall_2: 0.9315 - out6_precision_2: 0.6141 - out6_accuracy: 0.9827 - out7_dice_coef: 0.5457 - out7_jacard: 0.4302 - out7_recall_2: 0.7705 - out7_precision_2: 0.5757 - out7_accuracy: 0.9968 - out8_dice_coef: 0.5711 - out8_jacard: 0.4601 - out8_recall_2: 0.7852 - out8_precision_2: 0.5780 - out8_accuracy: 0.9966 - out9_dice_coef: 0.5904 - out9_jacard: 0.4810 - out9_recall_2: 0.8015 - out9_precision_2: 0.5915 - out9_accuracy: 0.9969\n",
            "Epoch 43/100\n",
            "16/16 [==============================] - 31s 2s/step - loss: 2.4615 - out1_loss: 0.1645 - out2_loss: 0.1645 - out3_loss: 0.1444 - out4_loss: 0.3132 - out5_loss: 0.3257 - out6_loss: 0.1889 - out7_loss: 0.4031 - out8_loss: 0.3890 - out9_loss: 0.3682 - out1_dice_coef: 0.8168 - out1_jacard: 0.7019 - out1_recall_2: 0.8799 - out1_precision_2: 0.7918 - out1_accuracy: 0.9894 - out2_dice_coef: 0.8145 - out2_jacard: 0.7003 - out2_recall_2: 0.8848 - out2_precision_2: 0.7837 - out2_accuracy: 0.9881 - out3_dice_coef: 0.8376 - out3_jacard: 0.7354 - out3_recall_2: 0.9024 - out3_precision_2: 0.8153 - out3_accuracy: 0.9908 - out4_dice_coef: 0.6472 - out4_jacard: 0.5265 - out4_recall_2: 0.8563 - out4_precision_2: 0.6188 - out4_accuracy: 0.9942 - out5_dice_coef: 0.6560 - out5_jacard: 0.5453 - out5_recall_2: 0.8400 - out5_precision_2: 0.7056 - out5_accuracy: 0.9962 - out6_dice_coef: 0.7712 - out6_jacard: 0.6387 - out6_recall_2: 0.8991 - out6_precision_2: 0.6971 - out6_accuracy: 0.9870 - out7_dice_coef: 0.5893 - out7_jacard: 0.4621 - out7_recall_2: 0.7543 - out7_precision_2: 0.6420 - out7_accuracy: 0.9973 - out8_dice_coef: 0.6093 - out8_jacard: 0.4822 - out8_recall_2: 0.7601 - out8_precision_2: 0.6656 - out8_accuracy: 0.9973 - out9_dice_coef: 0.6297 - out9_jacard: 0.5093 - out9_recall_2: 0.7864 - out9_precision_2: 0.6813 - out9_accuracy: 0.9976\n",
            "Epoch 44/100\n",
            "16/16 [==============================] - 31s 2s/step - loss: 2.1980 - out1_loss: 0.1546 - out2_loss: 0.1575 - out3_loss: 0.1364 - out4_loss: 0.2903 - out5_loss: 0.2963 - out6_loss: 0.1893 - out7_loss: 0.3465 - out8_loss: 0.3209 - out9_loss: 0.3063 - out1_dice_coef: 0.8296 - out1_jacard: 0.7209 - out1_recall_2: 0.8780 - out1_precision_2: 0.7948 - out1_accuracy: 0.9895 - out2_dice_coef: 0.8237 - out2_jacard: 0.7136 - out2_recall_2: 0.8808 - out2_precision_2: 0.7900 - out2_accuracy: 0.9883 - out3_dice_coef: 0.8468 - out3_jacard: 0.7477 - out3_recall_2: 0.8980 - out3_precision_2: 0.8144 - out3_accuracy: 0.9906 - out4_dice_coef: 0.6719 - out4_jacard: 0.5342 - out4_recall_2: 0.8479 - out4_precision_2: 0.6638 - out4_accuracy: 0.9950 - out5_dice_coef: 0.6778 - out5_jacard: 0.5616 - out5_recall_2: 0.8878 - out5_precision_2: 0.7179 - out5_accuracy: 0.9965 - out6_dice_coef: 0.7741 - out6_jacard: 0.6473 - out6_recall_2: 0.8879 - out6_precision_2: 0.6960 - out6_accuracy: 0.9868 - out7_dice_coef: 0.6073 - out7_jacard: 0.4721 - out7_recall_2: 0.8583 - out7_precision_2: 0.5798 - out7_accuracy: 0.9969 - out8_dice_coef: 0.6425 - out8_jacard: 0.5095 - out8_recall_2: 0.8650 - out8_precision_2: 0.6254 - out8_accuracy: 0.9972 - out9_dice_coef: 0.6512 - out9_jacard: 0.5214 - out9_recall_2: 0.8870 - out9_precision_2: 0.6177 - out9_accuracy: 0.9973\n",
            "Epoch 45/100\n",
            "16/16 [==============================] - 31s 2s/step - loss: 2.0952 - out1_loss: 0.1296 - out2_loss: 0.1311 - out3_loss: 0.1154 - out4_loss: 0.2699 - out5_loss: 0.2954 - out6_loss: 0.1653 - out7_loss: 0.3555 - out8_loss: 0.3323 - out9_loss: 0.3006 - out1_dice_coef: 0.8439 - out1_jacard: 0.7397 - out1_recall_2: 0.9094 - out1_precision_2: 0.7998 - out1_accuracy: 0.9904 - out2_dice_coef: 0.8429 - out2_jacard: 0.7379 - out2_recall_2: 0.9041 - out2_precision_2: 0.7987 - out2_accuracy: 0.9893 - out3_dice_coef: 0.8618 - out3_jacard: 0.7646 - out3_recall_2: 0.9151 - out3_precision_2: 0.8274 - out3_accuracy: 0.9916 - out4_dice_coef: 0.6964 - out4_jacard: 0.5717 - out4_recall_2: 0.8556 - out4_precision_2: 0.6755 - out4_accuracy: 0.9952 - out5_dice_coef: 0.6706 - out5_jacard: 0.5592 - out5_recall_2: 0.8726 - out5_precision_2: 0.7010 - out5_accuracy: 0.9962 - out6_dice_coef: 0.7883 - out6_jacard: 0.6578 - out6_recall_2: 0.9111 - out6_precision_2: 0.7082 - out6_accuracy: 0.9877 - out7_dice_coef: 0.6075 - out7_jacard: 0.4840 - out7_recall_2: 0.8321 - out7_precision_2: 0.6666 - out7_accuracy: 0.9976 - out8_dice_coef: 0.6430 - out8_jacard: 0.5206 - out8_recall_2: 0.8219 - out8_precision_2: 0.7083 - out8_accuracy: 0.9978 - out9_dice_coef: 0.6669 - out9_jacard: 0.5487 - out9_recall_2: 0.8611 - out9_precision_2: 0.7244 - out9_accuracy: 0.9981\n",
            "Epoch 46/100\n",
            "16/16 [==============================] - 31s 2s/step - loss: 1.7141 - out1_loss: 0.1195 - out2_loss: 0.1342 - out3_loss: 0.1016 - out4_loss: 0.2347 - out5_loss: 0.2246 - out6_loss: 0.1561 - out7_loss: 0.2737 - out8_loss: 0.2499 - out9_loss: 0.2200 - out1_dice_coef: 0.8495 - out1_jacard: 0.7418 - out1_recall_2: 0.9400 - out1_precision_2: 0.7882 - out1_accuracy: 0.9906 - out2_dice_coef: 0.8412 - out2_jacard: 0.7315 - out2_recall_2: 0.9133 - out2_precision_2: 0.7940 - out2_accuracy: 0.9893 - out3_dice_coef: 0.8718 - out3_jacard: 0.7773 - out3_recall_2: 0.9507 - out3_precision_2: 0.8161 - out3_accuracy: 0.9919 - out4_dice_coef: 0.7255 - out4_jacard: 0.5894 - out4_recall_2: 0.8383 - out4_precision_2: 0.7062 - out4_accuracy: 0.9956 - out5_dice_coef: 0.7389 - out5_jacard: 0.6162 - out5_recall_2: 0.8824 - out5_precision_2: 0.7400 - out5_accuracy: 0.9968 - out6_dice_coef: 0.7935 - out6_jacard: 0.6629 - out6_recall_2: 0.9451 - out6_precision_2: 0.6970 - out6_accuracy: 0.9877 - out7_dice_coef: 0.6931 - out7_jacard: 0.5561 - out7_recall_2: 0.8415 - out7_precision_2: 0.6730 - out7_accuracy: 0.9977 - out8_dice_coef: 0.7219 - out8_jacard: 0.5862 - out8_recall_2: 0.8517 - out8_precision_2: 0.7121 - out8_accuracy: 0.9979 - out9_dice_coef: 0.7473 - out9_jacard: 0.6189 - out9_recall_2: 0.8760 - out9_precision_2: 0.7334 - out9_accuracy: 0.9982\n",
            "Epoch 47/100\n",
            "16/16 [==============================] - 31s 2s/step - loss: 1.5785 - out1_loss: 0.1318 - out2_loss: 0.1439 - out3_loss: 0.1119 - out4_loss: 0.2283 - out5_loss: 0.1734 - out6_loss: 0.1667 - out7_loss: 0.2428 - out8_loss: 0.2051 - out9_loss: 0.1747 - out1_dice_coef: 0.8481 - out1_jacard: 0.7508 - out1_recall_2: 0.9150 - out1_precision_2: 0.7686 - out1_accuracy: 0.9891 - out2_dice_coef: 0.8424 - out2_jacard: 0.7434 - out2_recall_2: 0.8962 - out2_precision_2: 0.7733 - out2_accuracy: 0.9878 - out3_dice_coef: 0.8713 - out3_jacard: 0.7892 - out3_recall_2: 0.9299 - out3_precision_2: 0.7966 - out3_accuracy: 0.9906 - out4_dice_coef: 0.7539 - out4_jacard: 0.6264 - out4_recall_2: 0.8294 - out4_precision_2: 0.7888 - out4_accuracy: 0.9966 - out5_dice_coef: 0.8003 - out5_jacard: 0.6850 - out5_recall_2: 0.8971 - out5_precision_2: 0.7964 - out5_accuracy: 0.9975 - out6_dice_coef: 0.7919 - out6_jacard: 0.6709 - out6_recall_2: 0.9244 - out6_precision_2: 0.6797 - out6_accuracy: 0.9865 - out7_dice_coef: 0.7151 - out7_jacard: 0.5836 - out7_recall_2: 0.8859 - out7_precision_2: 0.7014 - out7_accuracy: 0.9980 - out8_dice_coef: 0.7545 - out8_jacard: 0.6201 - out8_recall_2: 0.8895 - out8_precision_2: 0.7260 - out8_accuracy: 0.9981 - out9_dice_coef: 0.7882 - out9_jacard: 0.6659 - out9_recall_2: 0.9139 - out9_precision_2: 0.7767 - out9_accuracy: 0.9986\n",
            "Epoch 48/100\n",
            "16/16 [==============================] - 31s 2s/step - loss: 1.5751 - out1_loss: 0.1357 - out2_loss: 0.1555 - out3_loss: 0.1183 - out4_loss: 0.2461 - out5_loss: 0.1883 - out6_loss: 0.1690 - out7_loss: 0.2063 - out8_loss: 0.1974 - out9_loss: 0.1585 - out1_dice_coef: 0.8366 - out1_jacard: 0.7367 - out1_recall_2: 0.9258 - out1_precision_2: 0.7506 - out1_accuracy: 0.9885 - out2_dice_coef: 0.8122 - out2_jacard: 0.7024 - out2_recall_2: 0.9130 - out2_precision_2: 0.7379 - out2_accuracy: 0.9864 - out3_dice_coef: 0.8523 - out3_jacard: 0.7631 - out3_recall_2: 0.9485 - out3_precision_2: 0.7661 - out3_accuracy: 0.9896 - out4_dice_coef: 0.7447 - out4_jacard: 0.6286 - out4_recall_2: 0.8240 - out4_precision_2: 0.8350 - out4_accuracy: 0.9971 - out5_dice_coef: 0.7887 - out5_jacard: 0.6761 - out5_recall_2: 0.8958 - out5_precision_2: 0.8398 - out5_accuracy: 0.9979 - out6_dice_coef: 0.7796 - out6_jacard: 0.6565 - out6_recall_2: 0.9450 - out6_precision_2: 0.6550 - out6_accuracy: 0.9854 - out7_dice_coef: 0.7623 - out7_jacard: 0.6326 - out7_recall_2: 0.8814 - out7_precision_2: 0.7621 - out7_accuracy: 0.9984 - out8_dice_coef: 0.7781 - out8_jacard: 0.6511 - out8_recall_2: 0.8734 - out8_precision_2: 0.7914 - out8_accuracy: 0.9985 - out9_dice_coef: 0.8187 - out9_jacard: 0.7065 - out9_recall_2: 0.9043 - out9_precision_2: 0.8296 - out9_accuracy: 0.9988\n",
            "Epoch 49/100\n",
            "16/16 [==============================] - 31s 2s/step - loss: 2.3934 - out1_loss: 0.1339 - out2_loss: 0.1472 - out3_loss: 0.1237 - out4_loss: 0.3639 - out5_loss: 0.3459 - out6_loss: 0.1701 - out7_loss: 0.3843 - out8_loss: 0.3774 - out9_loss: 0.3471 - out1_dice_coef: 0.8544 - out1_jacard: 0.7648 - out1_recall_2: 0.9052 - out1_precision_2: 0.8146 - out1_accuracy: 0.9909 - out2_dice_coef: 0.8408 - out2_jacard: 0.7460 - out2_recall_2: 0.8895 - out2_precision_2: 0.8097 - out2_accuracy: 0.9894 - out3_dice_coef: 0.8652 - out3_jacard: 0.7861 - out3_recall_2: 0.9185 - out3_precision_2: 0.8284 - out3_accuracy: 0.9917 - out4_dice_coef: 0.6510 - out4_jacard: 0.5408 - out4_recall_2: 0.7289 - out4_precision_2: 0.8688 - out4_accuracy: 0.9967 - out5_dice_coef: 0.6568 - out5_jacard: 0.5597 - out5_recall_2: 0.7807 - out5_precision_2: 0.8763 - out5_accuracy: 0.9975 - out6_dice_coef: 0.7952 - out6_jacard: 0.6780 - out6_recall_2: 0.9129 - out6_precision_2: 0.7056 - out6_accuracy: 0.9876 - out7_dice_coef: 0.5890 - out7_jacard: 0.4879 - out7_recall_2: 0.7396 - out7_precision_2: 0.8046 - out7_accuracy: 0.9982 - out8_dice_coef: 0.5918 - out8_jacard: 0.4857 - out8_recall_2: 0.7059 - out8_precision_2: 0.8124 - out8_accuracy: 0.9980 - out9_dice_coef: 0.6270 - out9_jacard: 0.5306 - out9_recall_2: 0.7431 - out9_precision_2: 0.8471 - out9_accuracy: 0.9984\n",
            "Epoch 50/100\n",
            "16/16 [==============================] - 31s 2s/step - loss: 2.2288 - out1_loss: 0.1264 - out2_loss: 0.1350 - out3_loss: 0.1046 - out4_loss: 0.3751 - out5_loss: 0.3243 - out6_loss: 0.1534 - out7_loss: 0.3487 - out8_loss: 0.3410 - out9_loss: 0.3203 - out1_dice_coef: 0.8398 - out1_jacard: 0.7328 - out1_recall_2: 0.9305 - out1_precision_2: 0.7806 - out1_accuracy: 0.9900 - out2_dice_coef: 0.8351 - out2_jacard: 0.7223 - out2_recall_2: 0.9061 - out2_precision_2: 0.7874 - out2_accuracy: 0.9888 - out3_dice_coef: 0.8667 - out3_jacard: 0.7726 - out3_recall_2: 0.9426 - out3_precision_2: 0.8142 - out3_accuracy: 0.9917 - out4_dice_coef: 0.5592 - out4_jacard: 0.4246 - out4_recall_2: 0.9116 - out4_precision_2: 0.5032 - out4_accuracy: 0.9915 - out5_dice_coef: 0.6165 - out5_jacard: 0.4838 - out5_recall_2: 0.9290 - out5_precision_2: 0.5742 - out5_accuracy: 0.9943 - out6_dice_coef: 0.7964 - out6_jacard: 0.6685 - out6_recall_2: 0.9351 - out6_precision_2: 0.6983 - out6_accuracy: 0.9876 - out7_dice_coef: 0.6241 - out7_jacard: 0.4772 - out7_recall_2: 0.8104 - out7_precision_2: 0.6602 - out7_accuracy: 0.9976 - out8_dice_coef: 0.6407 - out8_jacard: 0.4974 - out8_recall_2: 0.8048 - out8_precision_2: 0.7038 - out8_accuracy: 0.9977 - out9_dice_coef: 0.6598 - out9_jacard: 0.5217 - out9_recall_2: 0.8418 - out9_precision_2: 0.7297 - out9_accuracy: 0.9981\n",
            "Epoch 51/100\n",
            "16/16 [==============================] - 31s 2s/step - loss: 1.8669 - out1_loss: 0.1265 - out2_loss: 0.1469 - out3_loss: 0.1198 - out4_loss: 0.2927 - out5_loss: 0.2551 - out6_loss: 0.1727 - out7_loss: 0.2922 - out8_loss: 0.2508 - out9_loss: 0.2103 - out1_dice_coef: 0.8589 - out1_jacard: 0.7564 - out1_recall_2: 0.8966 - out1_precision_2: 0.8410 - out1_accuracy: 0.9918 - out2_dice_coef: 0.8406 - out2_jacard: 0.7312 - out2_recall_2: 0.8701 - out2_precision_2: 0.8350 - out2_accuracy: 0.9900 - out3_dice_coef: 0.8685 - out3_jacard: 0.7725 - out3_recall_2: 0.9003 - out3_precision_2: 0.8595 - out3_accuracy: 0.9924 - out4_dice_coef: 0.6641 - out4_jacard: 0.5334 - out4_recall_2: 0.8649 - out4_precision_2: 0.6847 - out4_accuracy: 0.9954 - out5_dice_coef: 0.7072 - out5_jacard: 0.5855 - out5_recall_2: 0.9049 - out5_precision_2: 0.7471 - out5_accuracy: 0.9970 - out6_dice_coef: 0.7943 - out6_jacard: 0.6625 - out6_recall_2: 0.8836 - out6_precision_2: 0.7365 - out6_accuracy: 0.9885 - out7_dice_coef: 0.6836 - out7_jacard: 0.5517 - out7_recall_2: 0.8490 - out7_precision_2: 0.7551 - out7_accuracy: 0.9983 - out8_dice_coef: 0.7338 - out8_jacard: 0.5987 - out8_recall_2: 0.8424 - out8_precision_2: 0.7709 - out8_accuracy: 0.9983 - out9_dice_coef: 0.7709 - out9_jacard: 0.6461 - out9_recall_2: 0.8836 - out9_precision_2: 0.8171 - out9_accuracy: 0.9987\n",
            "Epoch 52/100\n",
            "16/16 [==============================] - 31s 2s/step - loss: 1.8557 - out1_loss: 0.1468 - out2_loss: 0.1532 - out3_loss: 0.1343 - out4_loss: 0.3008 - out5_loss: 0.2203 - out6_loss: 0.1854 - out7_loss: 0.2828 - out8_loss: 0.2212 - out9_loss: 0.2108 - out1_dice_coef: 0.8273 - out1_jacard: 0.7273 - out1_recall_2: 0.9135 - out1_precision_2: 0.7091 - out1_accuracy: 0.9861 - out2_dice_coef: 0.8250 - out2_jacard: 0.7195 - out2_recall_2: 0.8921 - out2_precision_2: 0.7266 - out2_accuracy: 0.9853 - out3_dice_coef: 0.8445 - out3_jacard: 0.7547 - out3_recall_2: 0.9150 - out3_precision_2: 0.7327 - out3_accuracy: 0.9872 - out4_dice_coef: 0.6718 - out4_jacard: 0.5418 - out4_recall_2: 0.7837 - out4_precision_2: 0.7055 - out4_accuracy: 0.9953 - out5_dice_coef: 0.7556 - out5_jacard: 0.6330 - out5_recall_2: 0.8223 - out5_precision_2: 0.7698 - out5_accuracy: 0.9968 - out6_dice_coef: 0.7693 - out6_jacard: 0.6448 - out6_recall_2: 0.9130 - out6_precision_2: 0.6217 - out6_accuracy: 0.9830 - out7_dice_coef: 0.6815 - out7_jacard: 0.5527 - out7_recall_2: 0.8243 - out7_precision_2: 0.7155 - out7_accuracy: 0.9980 - out8_dice_coef: 0.7561 - out8_jacard: 0.6291 - out8_recall_2: 0.8425 - out8_precision_2: 0.7609 - out8_accuracy: 0.9982 - out9_dice_coef: 0.7598 - out9_jacard: 0.6390 - out9_recall_2: 0.8622 - out9_precision_2: 0.7765 - out9_accuracy: 0.9984\n",
            "Epoch 53/100\n",
            "16/16 [==============================] - 31s 2s/step - loss: 1.8128 - out1_loss: 0.1280 - out2_loss: 0.1417 - out3_loss: 0.1138 - out4_loss: 0.2504 - out5_loss: 0.2338 - out6_loss: 0.1650 - out7_loss: 0.2967 - out8_loss: 0.2514 - out9_loss: 0.2319 - out1_dice_coef: 0.8580 - out1_jacard: 0.7571 - out1_recall_2: 0.9055 - out1_precision_2: 0.8450 - out1_accuracy: 0.9921 - out2_dice_coef: 0.8467 - out2_jacard: 0.7403 - out2_recall_2: 0.8794 - out2_precision_2: 0.8452 - out2_accuracy: 0.9907 - out3_dice_coef: 0.8725 - out3_jacard: 0.7802 - out3_recall_2: 0.9164 - out3_precision_2: 0.8607 - out3_accuracy: 0.9929 - out4_dice_coef: 0.7197 - out4_jacard: 0.6000 - out4_recall_2: 0.8636 - out4_precision_2: 0.7464 - out4_accuracy: 0.9963 - out5_dice_coef: 0.7341 - out5_jacard: 0.6280 - out5_recall_2: 0.9103 - out5_precision_2: 0.7625 - out5_accuracy: 0.9972 - out6_dice_coef: 0.7998 - out6_jacard: 0.6742 - out6_recall_2: 0.9065 - out6_precision_2: 0.7329 - out6_accuracy: 0.9888 - out7_dice_coef: 0.6734 - out7_jacard: 0.5558 - out7_recall_2: 0.8749 - out7_precision_2: 0.6958 - out7_accuracy: 0.9980 - out8_dice_coef: 0.7160 - out8_jacard: 0.5923 - out8_recall_2: 0.8848 - out8_precision_2: 0.7286 - out8_accuracy: 0.9981 - out9_dice_coef: 0.7365 - out9_jacard: 0.6273 - out9_recall_2: 0.9057 - out9_precision_2: 0.7653 - out9_accuracy: 0.9985\n",
            "Epoch 54/100\n",
            "16/16 [==============================] - 31s 2s/step - loss: 1.2665 - out1_loss: 0.0978 - out2_loss: 0.1078 - out3_loss: 0.0806 - out4_loss: 0.1974 - out5_loss: 0.1547 - out6_loss: 0.1293 - out7_loss: 0.1987 - out8_loss: 0.1669 - out9_loss: 0.1334 - out1_dice_coef: 0.8749 - out1_jacard: 0.7816 - out1_recall_2: 0.9496 - out1_precision_2: 0.8244 - out1_accuracy: 0.9924 - out2_dice_coef: 0.8668 - out2_jacard: 0.7673 - out2_recall_2: 0.9318 - out2_precision_2: 0.8211 - out2_accuracy: 0.9910 - out3_dice_coef: 0.8929 - out3_jacard: 0.8105 - out3_recall_2: 0.9663 - out3_precision_2: 0.8451 - out3_accuracy: 0.9935 - out4_dice_coef: 0.7763 - out4_jacard: 0.6459 - out4_recall_2: 0.8782 - out4_precision_2: 0.7725 - out4_accuracy: 0.9967 - out5_dice_coef: 0.8093 - out5_jacard: 0.6904 - out5_recall_2: 0.9276 - out5_precision_2: 0.7834 - out5_accuracy: 0.9975 - out6_dice_coef: 0.8211 - out6_jacard: 0.6997 - out6_recall_2: 0.9615 - out6_precision_2: 0.7283 - out6_accuracy: 0.9895 - out7_dice_coef: 0.7593 - out7_jacard: 0.6274 - out7_recall_2: 0.9103 - out7_precision_2: 0.7184 - out7_accuracy: 0.9982 - out8_dice_coef: 0.7971 - out8_jacard: 0.6690 - out8_recall_2: 0.9146 - out8_precision_2: 0.7445 - out8_accuracy: 0.9983 - out9_dice_coef: 0.8365 - out9_jacard: 0.7263 - out9_recall_2: 0.9458 - out9_precision_2: 0.8053 - out9_accuracy: 0.9988\n",
            "Epoch 55/100\n",
            "16/16 [==============================] - 31s 2s/step - loss: 1.2699 - out1_loss: 0.1081 - out2_loss: 0.1249 - out3_loss: 0.0903 - out4_loss: 0.1857 - out5_loss: 0.1466 - out6_loss: 0.1455 - out7_loss: 0.1748 - out8_loss: 0.1717 - out9_loss: 0.1223 - out1_dice_coef: 0.8791 - out1_jacard: 0.7881 - out1_recall_2: 0.9061 - out1_precision_2: 0.8579 - out1_accuracy: 0.9926 - out2_dice_coef: 0.8653 - out2_jacard: 0.7676 - out2_recall_2: 0.8796 - out2_precision_2: 0.8593 - out2_accuracy: 0.9912 - out3_dice_coef: 0.8982 - out3_jacard: 0.8188 - out3_recall_2: 0.9213 - out3_precision_2: 0.8821 - out3_accuracy: 0.9938 - out4_dice_coef: 0.8082 - out4_jacard: 0.6892 - out4_recall_2: 0.8335 - out4_precision_2: 0.8451 - out4_accuracy: 0.9972 - out5_dice_coef: 0.8361 - out5_jacard: 0.7366 - out5_recall_2: 0.8978 - out5_precision_2: 0.8499 - out5_accuracy: 0.9980 - out6_dice_coef: 0.8171 - out6_jacard: 0.6959 - out6_recall_2: 0.9127 - out6_precision_2: 0.7539 - out6_accuracy: 0.9898 - out7_dice_coef: 0.7846 - out7_jacard: 0.6586 - out7_recall_2: 0.9124 - out7_precision_2: 0.7501 - out7_accuracy: 0.9984 - out8_dice_coef: 0.7997 - out8_jacard: 0.6792 - out8_recall_2: 0.9012 - out8_precision_2: 0.7786 - out8_accuracy: 0.9985 - out9_dice_coef: 0.8452 - out9_jacard: 0.7436 - out9_recall_2: 0.9523 - out9_precision_2: 0.8189 - out9_accuracy: 0.9989\n",
            "Epoch 56/100\n",
            "16/16 [==============================] - 31s 2s/step - loss: 1.5644 - out1_loss: 0.1095 - out2_loss: 0.1299 - out3_loss: 0.0970 - out4_loss: 0.2584 - out5_loss: 0.2228 - out6_loss: 0.1470 - out7_loss: 0.2180 - out8_loss: 0.2112 - out9_loss: 0.1706 - out1_dice_coef: 0.8795 - out1_jacard: 0.7881 - out1_recall_2: 0.8992 - out1_precision_2: 0.8673 - out1_accuracy: 0.9928 - out2_dice_coef: 0.8635 - out2_jacard: 0.7643 - out2_recall_2: 0.8672 - out2_precision_2: 0.8664 - out2_accuracy: 0.9912 - out3_dice_coef: 0.8943 - out3_jacard: 0.8129 - out3_recall_2: 0.9090 - out3_precision_2: 0.8906 - out3_accuracy: 0.9938 - out4_dice_coef: 0.7401 - out4_jacard: 0.6185 - out4_recall_2: 0.7576 - out4_precision_2: 0.8335 - out4_accuracy: 0.9966 - out5_dice_coef: 0.7689 - out5_jacard: 0.6660 - out5_recall_2: 0.8156 - out5_precision_2: 0.8452 - out5_accuracy: 0.9975 - out6_dice_coef: 0.8194 - out6_jacard: 0.6986 - out6_recall_2: 0.9020 - out6_precision_2: 0.7617 - out6_accuracy: 0.9899 - out7_dice_coef: 0.7280 - out7_jacard: 0.6094 - out7_recall_2: 0.8384 - out7_precision_2: 0.7726 - out7_accuracy: 0.9984 - out8_dice_coef: 0.7377 - out8_jacard: 0.6228 - out8_recall_2: 0.8418 - out8_precision_2: 0.8045 - out8_accuracy: 0.9984 - out9_dice_coef: 0.7764 - out9_jacard: 0.6782 - out9_recall_2: 0.8712 - out9_precision_2: 0.8398 - out9_accuracy: 0.9988\n",
            "Epoch 57/100\n",
            "16/16 [==============================] - 31s 2s/step - loss: 1.9009 - out1_loss: 0.1321 - out2_loss: 0.1530 - out3_loss: 0.1214 - out4_loss: 0.2388 - out5_loss: 0.2481 - out6_loss: 0.1691 - out7_loss: 0.3009 - out8_loss: 0.2826 - out9_loss: 0.2549 - out1_dice_coef: 0.8335 - out1_jacard: 0.7258 - out1_recall_2: 0.9366 - out1_precision_2: 0.7594 - out1_accuracy: 0.9891 - out2_dice_coef: 0.8122 - out2_jacard: 0.6954 - out2_recall_2: 0.9129 - out2_precision_2: 0.7482 - out2_accuracy: 0.9869 - out3_dice_coef: 0.8435 - out3_jacard: 0.7424 - out3_recall_2: 0.9460 - out3_precision_2: 0.7722 - out3_accuracy: 0.9898 - out4_dice_coef: 0.7332 - out4_jacard: 0.6145 - out4_recall_2: 0.8759 - out4_precision_2: 0.7496 - out4_accuracy: 0.9964 - out5_dice_coef: 0.7199 - out5_jacard: 0.6161 - out5_recall_2: 0.9249 - out5_precision_2: 0.7536 - out5_accuracy: 0.9972 - out6_dice_coef: 0.7758 - out6_jacard: 0.6440 - out6_recall_2: 0.9398 - out6_precision_2: 0.6650 - out6_accuracy: 0.9859 - out7_dice_coef: 0.6799 - out7_jacard: 0.5536 - out7_recall_2: 0.8326 - out7_precision_2: 0.7383 - out7_accuracy: 0.9981 - out8_dice_coef: 0.7028 - out8_jacard: 0.5801 - out8_recall_2: 0.8424 - out8_precision_2: 0.7627 - out8_accuracy: 0.9982 - out9_dice_coef: 0.7300 - out9_jacard: 0.6175 - out9_recall_2: 0.8719 - out9_precision_2: 0.7982 - out9_accuracy: 0.9986\n",
            "Epoch 58/100\n",
            "16/16 [==============================] - 31s 2s/step - loss: 1.5518 - out1_loss: 0.1139 - out2_loss: 0.1354 - out3_loss: 0.1027 - out4_loss: 0.2308 - out5_loss: 0.1885 - out6_loss: 0.1536 - out7_loss: 0.2413 - out8_loss: 0.2122 - out9_loss: 0.1733 - out1_dice_coef: 0.8646 - out1_jacard: 0.7683 - out1_recall_2: 0.9237 - out1_precision_2: 0.8241 - out1_accuracy: 0.9918 - out2_dice_coef: 0.8466 - out2_jacard: 0.7430 - out2_recall_2: 0.8920 - out2_precision_2: 0.8180 - out2_accuracy: 0.9898 - out3_dice_coef: 0.8772 - out3_jacard: 0.7898 - out3_recall_2: 0.9332 - out3_precision_2: 0.8406 - out3_accuracy: 0.9925 - out4_dice_coef: 0.7345 - out4_jacard: 0.6148 - out4_recall_2: 0.8749 - out4_precision_2: 0.7309 - out4_accuracy: 0.9961 - out5_dice_coef: 0.7701 - out5_jacard: 0.6537 - out5_recall_2: 0.9405 - out5_precision_2: 0.7559 - out5_accuracy: 0.9973 - out6_dice_coef: 0.8034 - out6_jacard: 0.6775 - out6_recall_2: 0.9249 - out6_precision_2: 0.7203 - out6_accuracy: 0.9885 - out7_dice_coef: 0.7287 - out7_jacard: 0.6007 - out7_recall_2: 0.8722 - out7_precision_2: 0.7214 - out7_accuracy: 0.9981 - out8_dice_coef: 0.7573 - out8_jacard: 0.6245 - out8_recall_2: 0.8828 - out8_precision_2: 0.7422 - out8_accuracy: 0.9982 - out9_dice_coef: 0.7986 - out9_jacard: 0.6813 - out9_recall_2: 0.9127 - out9_precision_2: 0.7918 - out9_accuracy: 0.9986\n",
            "Epoch 59/100\n",
            "16/16 [==============================] - 31s 2s/step - loss: 1.4088 - out1_loss: 0.1206 - out2_loss: 0.1278 - out3_loss: 0.1036 - out4_loss: 0.2051 - out5_loss: 0.1486 - out6_loss: 0.1520 - out7_loss: 0.2036 - out8_loss: 0.1991 - out9_loss: 0.1485 - out1_dice_coef: 0.8546 - out1_jacard: 0.7608 - out1_recall_2: 0.9309 - out1_precision_2: 0.8120 - out1_accuracy: 0.9914 - out2_dice_coef: 0.8499 - out2_jacard: 0.7539 - out2_recall_2: 0.9129 - out2_precision_2: 0.8117 - out2_accuracy: 0.9901 - out3_dice_coef: 0.8750 - out3_jacard: 0.7951 - out3_recall_2: 0.9460 - out3_precision_2: 0.8385 - out3_accuracy: 0.9928 - out4_dice_coef: 0.7690 - out4_jacard: 0.6406 - out4_recall_2: 0.8680 - out4_precision_2: 0.7664 - out4_accuracy: 0.9966 - out5_dice_coef: 0.8230 - out5_jacard: 0.7047 - out5_recall_2: 0.9018 - out5_precision_2: 0.7932 - out5_accuracy: 0.9975 - out6_dice_coef: 0.8030 - out6_jacard: 0.6863 - out6_recall_2: 0.9437 - out6_precision_2: 0.7152 - out6_accuracy: 0.9885 - out7_dice_coef: 0.7639 - out7_jacard: 0.6257 - out7_recall_2: 0.8674 - out7_precision_2: 0.7360 - out7_accuracy: 0.9982 - out8_dice_coef: 0.7701 - out8_jacard: 0.6345 - out8_recall_2: 0.8694 - out8_precision_2: 0.7532 - out8_accuracy: 0.9982 - out9_dice_coef: 0.8253 - out9_jacard: 0.7086 - out9_recall_2: 0.9075 - out9_precision_2: 0.8060 - out9_accuracy: 0.9987\n",
            "Epoch 60/100\n",
            "16/16 [==============================] - 31s 2s/step - loss: 1.7466 - out1_loss: 0.1220 - out2_loss: 0.1336 - out3_loss: 0.1099 - out4_loss: 0.3336 - out5_loss: 0.2520 - out6_loss: 0.1568 - out7_loss: 0.2320 - out8_loss: 0.2242 - out9_loss: 0.1825 - out1_dice_coef: 0.8645 - out1_jacard: 0.7700 - out1_recall_2: 0.9082 - out1_precision_2: 0.8293 - out1_accuracy: 0.9916 - out2_dice_coef: 0.8495 - out2_jacard: 0.7480 - out2_recall_2: 0.8931 - out2_precision_2: 0.8202 - out2_accuracy: 0.9900 - out3_dice_coef: 0.8789 - out3_jacard: 0.7937 - out3_recall_2: 0.9171 - out3_precision_2: 0.8523 - out3_accuracy: 0.9926 - out4_dice_coef: 0.6335 - out4_jacard: 0.5032 - out4_recall_2: 0.8513 - out4_precision_2: 0.6301 - out4_accuracy: 0.9944 - out5_dice_coef: 0.6475 - out5_jacard: 0.5220 - out5_recall_2: 0.9038 - out5_precision_2: 0.6930 - out5_accuracy: 0.9963 - out6_dice_coef: 0.8071 - out6_jacard: 0.6857 - out6_recall_2: 0.9141 - out6_precision_2: 0.7237 - out6_accuracy: 0.9885 - out7_dice_coef: 0.6884 - out7_jacard: 0.5618 - out7_recall_2: 0.8366 - out7_precision_2: 0.7689 - out7_accuracy: 0.9983 - out8_dice_coef: 0.7116 - out8_jacard: 0.5899 - out8_recall_2: 0.8471 - out8_precision_2: 0.7998 - out8_accuracy: 0.9984 - out9_dice_coef: 0.7503 - out9_jacard: 0.6435 - out9_recall_2: 0.8774 - out9_precision_2: 0.8434 - out9_accuracy: 0.9988\n",
            "Epoch 61/100\n",
            "16/16 [==============================] - 31s 2s/step - loss: 2.2930 - out1_loss: 0.1434 - out2_loss: 0.1611 - out3_loss: 0.1310 - out4_loss: 0.3028 - out5_loss: 0.3368 - out6_loss: 0.1779 - out7_loss: 0.3862 - out8_loss: 0.3360 - out9_loss: 0.3177 - out1_dice_coef: 0.8271 - out1_jacard: 0.7283 - out1_recall_2: 0.9270 - out1_precision_2: 0.7340 - out1_accuracy: 0.9877 - out2_dice_coef: 0.8180 - out2_jacard: 0.7112 - out2_recall_2: 0.8846 - out2_precision_2: 0.7522 - out2_accuracy: 0.9865 - out3_dice_coef: 0.8403 - out3_jacard: 0.7501 - out3_recall_2: 0.9394 - out3_precision_2: 0.7493 - out3_accuracy: 0.9885 - out4_dice_coef: 0.6718 - out4_jacard: 0.5442 - out4_recall_2: 0.7892 - out4_precision_2: 0.6892 - out4_accuracy: 0.9951 - out5_dice_coef: 0.6565 - out5_jacard: 0.5287 - out5_recall_2: 0.6640 - out5_precision_2: 0.7667 - out5_accuracy: 0.9960 - out6_dice_coef: 0.7740 - out6_jacard: 0.6535 - out6_recall_2: 0.9347 - out6_precision_2: 0.6444 - out6_accuracy: 0.9846 - out7_dice_coef: 0.6190 - out7_jacard: 0.4949 - out7_recall_2: 0.6687 - out7_precision_2: 0.7814 - out7_accuracy: 0.9979 - out8_dice_coef: 0.6667 - out8_jacard: 0.5312 - out8_recall_2: 0.6801 - out8_precision_2: 0.8110 - out8_accuracy: 0.9980 - out9_dice_coef: 0.6839 - out9_jacard: 0.5586 - out9_recall_2: 0.7043 - out9_precision_2: 0.8389 - out9_accuracy: 0.9982\n",
            "Epoch 62/100\n",
            "16/16 [==============================] - 31s 2s/step - loss: 1.7933 - out1_loss: 0.1138 - out2_loss: 0.1238 - out3_loss: 0.0924 - out4_loss: 0.3051 - out5_loss: 0.2367 - out6_loss: 0.1424 - out7_loss: 0.3008 - out8_loss: 0.2509 - out9_loss: 0.2274 - out1_dice_coef: 0.8609 - out1_jacard: 0.7618 - out1_recall_2: 0.9329 - out1_precision_2: 0.8187 - out1_accuracy: 0.9918 - out2_dice_coef: 0.8580 - out2_jacard: 0.7582 - out2_recall_2: 0.9107 - out2_precision_2: 0.8333 - out2_accuracy: 0.9910 - out3_dice_coef: 0.8839 - out3_jacard: 0.7986 - out3_recall_2: 0.9516 - out3_precision_2: 0.8444 - out3_accuracy: 0.9931 - out4_dice_coef: 0.6489 - out4_jacard: 0.5136 - out4_recall_2: 0.8814 - out4_precision_2: 0.6437 - out4_accuracy: 0.9948 - out5_dice_coef: 0.7167 - out5_jacard: 0.5895 - out5_recall_2: 0.9385 - out5_precision_2: 0.6934 - out5_accuracy: 0.9964 - out6_dice_coef: 0.8125 - out6_jacard: 0.6910 - out6_recall_2: 0.9426 - out6_precision_2: 0.7282 - out6_accuracy: 0.9892 - out7_dice_coef: 0.6447 - out7_jacard: 0.5192 - out7_recall_2: 0.9254 - out7_precision_2: 0.5926 - out7_accuracy: 0.9971 - out8_dice_coef: 0.7035 - out8_jacard: 0.5708 - out8_recall_2: 0.9208 - out8_precision_2: 0.6029 - out8_accuracy: 0.9971 - out9_dice_coef: 0.7189 - out9_jacard: 0.5939 - out9_recall_2: 0.9466 - out9_precision_2: 0.6352 - out9_accuracy: 0.9975\n",
            "Epoch 63/100\n",
            "16/16 [==============================] - 31s 2s/step - loss: 1.5533 - out1_loss: 0.1154 - out2_loss: 0.1253 - out3_loss: 0.0954 - out4_loss: 0.2528 - out5_loss: 0.1745 - out6_loss: 0.1462 - out7_loss: 0.2639 - out8_loss: 0.2086 - out9_loss: 0.1711 - out1_dice_coef: 0.8673 - out1_jacard: 0.7778 - out1_recall_2: 0.9205 - out1_precision_2: 0.8226 - out1_accuracy: 0.9916 - out2_dice_coef: 0.8597 - out2_jacard: 0.7659 - out2_recall_2: 0.9039 - out2_precision_2: 0.8183 - out2_accuracy: 0.9902 - out3_dice_coef: 0.8895 - out3_jacard: 0.8118 - out3_recall_2: 0.9350 - out3_precision_2: 0.8490 - out3_accuracy: 0.9929 - out4_dice_coef: 0.7322 - out4_jacard: 0.6157 - out4_recall_2: 0.8052 - out4_precision_2: 0.7508 - out4_accuracy: 0.9960 - out5_dice_coef: 0.7971 - out5_jacard: 0.6774 - out5_recall_2: 0.8724 - out5_precision_2: 0.7649 - out5_accuracy: 0.9970 - out6_dice_coef: 0.8142 - out6_jacard: 0.6946 - out6_recall_2: 0.9289 - out6_precision_2: 0.7272 - out6_accuracy: 0.9889 - out7_dice_coef: 0.6864 - out7_jacard: 0.5591 - out7_recall_2: 0.8972 - out7_precision_2: 0.6354 - out7_accuracy: 0.9975 - out8_dice_coef: 0.7461 - out8_jacard: 0.6148 - out8_recall_2: 0.8952 - out8_precision_2: 0.6561 - out8_accuracy: 0.9975 - out9_dice_coef: 0.7819 - out9_jacard: 0.6626 - out9_recall_2: 0.9257 - out9_precision_2: 0.6959 - out9_accuracy: 0.9980\n",
            "Epoch 64/100\n",
            "16/16 [==============================] - 31s 2s/step - loss: 1.3649 - out1_loss: 0.1048 - out2_loss: 0.1165 - out3_loss: 0.0859 - out4_loss: 0.2135 - out5_loss: 0.1896 - out6_loss: 0.1357 - out7_loss: 0.1854 - out8_loss: 0.1933 - out9_loss: 0.1403 - out1_dice_coef: 0.8752 - out1_jacard: 0.7852 - out1_recall_2: 0.9337 - out1_precision_2: 0.8398 - out1_accuracy: 0.9926 - out2_dice_coef: 0.8649 - out2_jacard: 0.7697 - out2_recall_2: 0.9162 - out2_precision_2: 0.8382 - out2_accuracy: 0.9914 - out3_dice_coef: 0.8946 - out3_jacard: 0.8162 - out3_recall_2: 0.9507 - out3_precision_2: 0.8647 - out3_accuracy: 0.9939 - out4_dice_coef: 0.7683 - out4_jacard: 0.6380 - out4_recall_2: 0.8553 - out4_precision_2: 0.7754 - out4_accuracy: 0.9966 - out5_dice_coef: 0.7827 - out5_jacard: 0.6550 - out5_recall_2: 0.9137 - out5_precision_2: 0.7748 - out5_accuracy: 0.9974 - out6_dice_coef: 0.8203 - out6_jacard: 0.7005 - out6_recall_2: 0.9456 - out6_precision_2: 0.7416 - out6_accuracy: 0.9898 - out7_dice_coef: 0.7805 - out7_jacard: 0.6460 - out7_recall_2: 0.9010 - out7_precision_2: 0.7357 - out7_accuracy: 0.9983 - out8_dice_coef: 0.7805 - out8_jacard: 0.6476 - out8_recall_2: 0.8948 - out8_precision_2: 0.7554 - out8_accuracy: 0.9983 - out9_dice_coef: 0.8360 - out9_jacard: 0.7269 - out9_recall_2: 0.9383 - out9_precision_2: 0.8161 - out9_accuracy: 0.9989\n",
            "Epoch 65/100\n",
            "16/16 [==============================] - 31s 2s/step - loss: 1.2578 - out1_loss: 0.1111 - out2_loss: 0.1205 - out3_loss: 0.0918 - out4_loss: 0.2156 - out5_loss: 0.1324 - out6_loss: 0.1456 - out7_loss: 0.1801 - out8_loss: 0.1520 - out9_loss: 0.1087 - out1_dice_coef: 0.8569 - out1_jacard: 0.7569 - out1_recall_2: 0.9442 - out1_precision_2: 0.8128 - out1_accuracy: 0.9918 - out2_dice_coef: 0.8526 - out2_jacard: 0.7515 - out2_recall_2: 0.9276 - out2_precision_2: 0.8169 - out2_accuracy: 0.9907 - out3_dice_coef: 0.8786 - out3_jacard: 0.7920 - out3_recall_2: 0.9602 - out3_precision_2: 0.8433 - out3_accuracy: 0.9933 - out4_dice_coef: 0.7674 - out4_jacard: 0.6460 - out4_recall_2: 0.8572 - out4_precision_2: 0.8077 - out4_accuracy: 0.9970 - out5_dice_coef: 0.8428 - out5_jacard: 0.7342 - out5_recall_2: 0.9230 - out5_precision_2: 0.8250 - out5_accuracy: 0.9980 - out6_dice_coef: 0.8009 - out6_jacard: 0.6774 - out6_recall_2: 0.9564 - out6_precision_2: 0.7241 - out6_accuracy: 0.9892 - out7_dice_coef: 0.7872 - out7_jacard: 0.6664 - out7_recall_2: 0.9119 - out7_precision_2: 0.7633 - out7_accuracy: 0.9985 - out8_dice_coef: 0.8226 - out8_jacard: 0.7041 - out8_recall_2: 0.9012 - out8_precision_2: 0.7857 - out8_accuracy: 0.9985 - out9_dice_coef: 0.8688 - out9_jacard: 0.7734 - out9_recall_2: 0.9499 - out9_precision_2: 0.8388 - out9_accuracy: 0.9990\n",
            "Epoch 66/100\n",
            "16/16 [==============================] - 31s 2s/step - loss: 1.1813 - out1_loss: 0.0933 - out2_loss: 0.1067 - out3_loss: 0.0734 - out4_loss: 0.2075 - out5_loss: 0.1410 - out6_loss: 0.1224 - out7_loss: 0.1683 - out8_loss: 0.1580 - out9_loss: 0.1106 - out1_dice_coef: 0.8917 - out1_jacard: 0.8083 - out1_recall_2: 0.9364 - out1_precision_2: 0.8651 - out1_accuracy: 0.9937 - out2_dice_coef: 0.8802 - out2_jacard: 0.7896 - out2_recall_2: 0.9133 - out2_precision_2: 0.8619 - out2_accuracy: 0.9923 - out3_dice_coef: 0.9156 - out3_jacard: 0.8467 - out3_recall_2: 0.9479 - out3_precision_2: 0.8976 - out3_accuracy: 0.9951 - out4_dice_coef: 0.7644 - out4_jacard: 0.6436 - out4_recall_2: 0.8683 - out4_precision_2: 0.8089 - out4_accuracy: 0.9971 - out5_dice_coef: 0.8338 - out5_jacard: 0.7262 - out5_recall_2: 0.9192 - out5_precision_2: 0.8471 - out5_accuracy: 0.9981 - out6_dice_coef: 0.8420 - out6_jacard: 0.7294 - out6_recall_2: 0.9419 - out6_precision_2: 0.7705 - out6_accuracy: 0.9910 - out7_dice_coef: 0.7893 - out7_jacard: 0.6644 - out7_recall_2: 0.9210 - out7_precision_2: 0.7526 - out7_accuracy: 0.9985 - out8_dice_coef: 0.8129 - out8_jacard: 0.6946 - out8_recall_2: 0.9031 - out8_precision_2: 0.7817 - out8_accuracy: 0.9985 - out9_dice_coef: 0.8583 - out9_jacard: 0.7609 - out9_recall_2: 0.9543 - out9_precision_2: 0.8262 - out9_accuracy: 0.9990\n",
            "Epoch 67/100\n",
            "16/16 [==============================] - 31s 2s/step - loss: 1.2020 - out1_loss: 0.0962 - out2_loss: 0.1133 - out3_loss: 0.0815 - out4_loss: 0.1977 - out5_loss: 0.1471 - out6_loss: 0.1337 - out7_loss: 0.1687 - out8_loss: 0.1593 - out9_loss: 0.1043 - out1_dice_coef: 0.8843 - out1_jacard: 0.7974 - out1_recall_2: 0.9365 - out1_precision_2: 0.8568 - out1_accuracy: 0.9934 - out2_dice_coef: 0.8677 - out2_jacard: 0.7721 - out2_recall_2: 0.9165 - out2_precision_2: 0.8477 - out2_accuracy: 0.9918 - out3_dice_coef: 0.9015 - out3_jacard: 0.8254 - out3_recall_2: 0.9469 - out3_precision_2: 0.8833 - out3_accuracy: 0.9945 - out4_dice_coef: 0.7829 - out4_jacard: 0.6624 - out4_recall_2: 0.8654 - out4_precision_2: 0.8291 - out4_accuracy: 0.9973 - out5_dice_coef: 0.8366 - out5_jacard: 0.7340 - out5_recall_2: 0.9120 - out5_precision_2: 0.8637 - out5_accuracy: 0.9983 - out6_dice_coef: 0.8244 - out6_jacard: 0.7078 - out6_recall_2: 0.9410 - out6_precision_2: 0.7560 - out6_accuracy: 0.9904 - out7_dice_coef: 0.7948 - out7_jacard: 0.6714 - out7_recall_2: 0.9129 - out7_precision_2: 0.7740 - out7_accuracy: 0.9986 - out8_dice_coef: 0.8186 - out8_jacard: 0.6985 - out8_recall_2: 0.8989 - out8_precision_2: 0.7965 - out8_accuracy: 0.9986 - out9_dice_coef: 0.8734 - out9_jacard: 0.7794 - out9_recall_2: 0.9471 - out9_precision_2: 0.8535 - out9_accuracy: 0.9991\n",
            "Epoch 68/100\n",
            "16/16 [==============================] - 31s 2s/step - loss: 1.2332 - out1_loss: 0.1098 - out2_loss: 0.1315 - out3_loss: 0.0979 - out4_loss: 0.2191 - out5_loss: 0.1316 - out6_loss: 0.1476 - out7_loss: 0.1563 - out8_loss: 0.1454 - out9_loss: 0.0941 - out1_dice_coef: 0.8692 - out1_jacard: 0.7837 - out1_recall_2: 0.9374 - out1_precision_2: 0.8288 - out1_accuracy: 0.9923 - out2_dice_coef: 0.8495 - out2_jacard: 0.7557 - out2_recall_2: 0.9116 - out2_precision_2: 0.8191 - out2_accuracy: 0.9904 - out3_dice_coef: 0.8841 - out3_jacard: 0.8102 - out3_recall_2: 0.9485 - out3_precision_2: 0.8500 - out3_accuracy: 0.9933 - out4_dice_coef: 0.7643 - out4_jacard: 0.6467 - out4_recall_2: 0.8391 - out4_precision_2: 0.8465 - out4_accuracy: 0.9973 - out5_dice_coef: 0.8527 - out5_jacard: 0.7463 - out5_recall_2: 0.9006 - out5_precision_2: 0.8674 - out5_accuracy: 0.9982 - out6_dice_coef: 0.8103 - out6_jacard: 0.6954 - out6_recall_2: 0.9433 - out6_precision_2: 0.7258 - out6_accuracy: 0.9891 - out7_dice_coef: 0.8122 - out7_jacard: 0.6908 - out7_recall_2: 0.8980 - out7_precision_2: 0.7808 - out7_accuracy: 0.9986 - out8_dice_coef: 0.8306 - out8_jacard: 0.7132 - out8_recall_2: 0.8909 - out8_precision_2: 0.8039 - out8_accuracy: 0.9986 - out9_dice_coef: 0.8858 - out9_jacard: 0.7966 - out9_recall_2: 0.9370 - out9_precision_2: 0.8565 - out9_accuracy: 0.9991\n",
            "Epoch 69/100\n",
            "16/16 [==============================] - 31s 2s/step - loss: 1.0942 - out1_loss: 0.0922 - out2_loss: 0.1059 - out3_loss: 0.0769 - out4_loss: 0.1745 - out5_loss: 0.1153 - out6_loss: 0.1293 - out7_loss: 0.1562 - out8_loss: 0.1497 - out9_loss: 0.0943 - out1_dice_coef: 0.8913 - out1_jacard: 0.8078 - out1_recall_2: 0.9329 - out1_precision_2: 0.8702 - out1_accuracy: 0.9938 - out2_dice_coef: 0.8805 - out2_jacard: 0.7920 - out2_recall_2: 0.9150 - out2_precision_2: 0.8707 - out2_accuracy: 0.9927 - out3_dice_coef: 0.9077 - out3_jacard: 0.8351 - out3_recall_2: 0.9465 - out3_precision_2: 0.8919 - out3_accuracy: 0.9948 - out4_dice_coef: 0.8055 - out4_jacard: 0.6896 - out4_recall_2: 0.8753 - out4_precision_2: 0.8204 - out4_accuracy: 0.9973 - out5_dice_coef: 0.8637 - out5_jacard: 0.7630 - out5_recall_2: 0.9402 - out5_precision_2: 0.8381 - out5_accuracy: 0.9982 - out6_dice_coef: 0.8291 - out6_jacard: 0.7127 - out6_recall_2: 0.9419 - out6_precision_2: 0.7640 - out6_accuracy: 0.9908 - out7_dice_coef: 0.8059 - out7_jacard: 0.6837 - out7_recall_2: 0.9246 - out7_precision_2: 0.7620 - out7_accuracy: 0.9985 - out8_dice_coef: 0.8223 - out8_jacard: 0.7035 - out8_recall_2: 0.9159 - out8_precision_2: 0.7801 - out8_accuracy: 0.9985 - out9_dice_coef: 0.8782 - out9_jacard: 0.7852 - out9_recall_2: 0.9635 - out9_precision_2: 0.8325 - out9_accuracy: 0.9990\n",
            "Epoch 70/100\n",
            "16/16 [==============================] - 31s 2s/step - loss: 1.6537 - out1_loss: 0.1020 - out2_loss: 0.1089 - out3_loss: 0.0844 - out4_loss: 0.2507 - out5_loss: 0.2364 - out6_loss: 0.1324 - out7_loss: 0.2509 - out8_loss: 0.2734 - out9_loss: 0.2147 - out1_dice_coef: 0.8716 - out1_jacard: 0.7784 - out1_recall_2: 0.9428 - out1_precision_2: 0.8365 - out1_accuracy: 0.9927 - out2_dice_coef: 0.8641 - out2_jacard: 0.7677 - out2_recall_2: 0.9353 - out2_precision_2: 0.8344 - out2_accuracy: 0.9917 - out3_dice_coef: 0.8899 - out3_jacard: 0.8083 - out3_recall_2: 0.9580 - out3_precision_2: 0.8620 - out3_accuracy: 0.9940 - out4_dice_coef: 0.7357 - out4_jacard: 0.6257 - out4_recall_2: 0.7862 - out4_precision_2: 0.9078 - out4_accuracy: 0.9975 - out5_dice_coef: 0.7329 - out5_jacard: 0.6382 - out5_recall_2: 0.8187 - out5_precision_2: 0.8959 - out5_accuracy: 0.9979 - out6_dice_coef: 0.8189 - out6_jacard: 0.7009 - out6_recall_2: 0.9567 - out6_precision_2: 0.7395 - out6_accuracy: 0.9899 - out7_dice_coef: 0.6755 - out7_jacard: 0.5640 - out7_recall_2: 0.7692 - out7_precision_2: 0.8695 - out7_accuracy: 0.9986 - out8_dice_coef: 0.6906 - out8_jacard: 0.5797 - out8_recall_2: 0.7735 - out8_precision_2: 0.8823 - out8_accuracy: 0.9986 - out9_dice_coef: 0.7203 - out9_jacard: 0.6258 - out9_recall_2: 0.7909 - out9_precision_2: 0.9278 - out9_accuracy: 0.9989\n",
            "Epoch 71/100\n",
            "16/16 [==============================] - 31s 2s/step - loss: 1.5900 - out1_loss: 0.1216 - out2_loss: 0.1421 - out3_loss: 0.1118 - out4_loss: 0.2693 - out5_loss: 0.1854 - out6_loss: 0.1617 - out7_loss: 0.2182 - out8_loss: 0.2102 - out9_loss: 0.1696 - out1_dice_coef: 0.8727 - out1_jacard: 0.7811 - out1_recall_2: 0.9002 - out1_precision_2: 0.8711 - out1_accuracy: 0.9930 - out2_dice_coef: 0.8508 - out2_jacard: 0.7523 - out2_recall_2: 0.8760 - out2_precision_2: 0.8599 - out2_accuracy: 0.9912 - out3_dice_coef: 0.8852 - out3_jacard: 0.8043 - out3_recall_2: 0.9084 - out3_precision_2: 0.8996 - out3_accuracy: 0.9941 - out4_dice_coef: 0.7256 - out4_jacard: 0.6139 - out4_recall_2: 0.8266 - out4_precision_2: 0.8203 - out4_accuracy: 0.9969 - out5_dice_coef: 0.7989 - out5_jacard: 0.6824 - out5_recall_2: 0.9140 - out5_precision_2: 0.7969 - out5_accuracy: 0.9976 - out6_dice_coef: 0.8114 - out6_jacard: 0.6906 - out6_recall_2: 0.8986 - out6_precision_2: 0.7673 - out6_accuracy: 0.9901 - out7_dice_coef: 0.7569 - out7_jacard: 0.6349 - out7_recall_2: 0.9139 - out7_precision_2: 0.6991 - out7_accuracy: 0.9981 - out8_dice_coef: 0.7675 - out8_jacard: 0.6355 - out8_recall_2: 0.8963 - out8_precision_2: 0.7280 - out8_accuracy: 0.9981 - out9_dice_coef: 0.8022 - out9_jacard: 0.6914 - out9_recall_2: 0.9496 - out9_precision_2: 0.7471 - out9_accuracy: 0.9985\n",
            "Epoch 72/100\n",
            "16/16 [==============================] - 31s 2s/step - loss: 1.3720 - out1_loss: 0.1073 - out2_loss: 0.1215 - out3_loss: 0.0923 - out4_loss: 0.2445 - out5_loss: 0.1650 - out6_loss: 0.1453 - out7_loss: 0.1782 - out8_loss: 0.1875 - out9_loss: 0.1303 - out1_dice_coef: 0.8622 - out1_jacard: 0.7614 - out1_recall_2: 0.9467 - out1_precision_2: 0.8119 - out1_accuracy: 0.9918 - out2_dice_coef: 0.8548 - out2_jacard: 0.7521 - out2_recall_2: 0.9191 - out2_precision_2: 0.8305 - out2_accuracy: 0.9911 - out3_dice_coef: 0.8796 - out3_jacard: 0.7895 - out3_recall_2: 0.9568 - out3_precision_2: 0.8423 - out3_accuracy: 0.9932 - out4_dice_coef: 0.7547 - out4_jacard: 0.6387 - out4_recall_2: 0.8208 - out4_precision_2: 0.8295 - out4_accuracy: 0.9970 - out5_dice_coef: 0.8077 - out5_jacard: 0.6923 - out5_recall_2: 0.9050 - out5_precision_2: 0.8113 - out5_accuracy: 0.9977 - out6_dice_coef: 0.8027 - out6_jacard: 0.6761 - out6_recall_2: 0.9529 - out6_precision_2: 0.7196 - out6_accuracy: 0.9889 - out7_dice_coef: 0.7820 - out7_jacard: 0.6534 - out7_recall_2: 0.9015 - out7_precision_2: 0.7406 - out7_accuracy: 0.9983 - out8_dice_coef: 0.7848 - out8_jacard: 0.6567 - out8_recall_2: 0.8821 - out8_precision_2: 0.7645 - out8_accuracy: 0.9983 - out9_dice_coef: 0.8348 - out9_jacard: 0.7269 - out9_recall_2: 0.9407 - out9_precision_2: 0.8030 - out9_accuracy: 0.9988\n",
            "Epoch 73/100\n",
            "16/16 [==============================] - 31s 2s/step - loss: 1.2341 - out1_loss: 0.1050 - out2_loss: 0.1154 - out3_loss: 0.0897 - out4_loss: 0.1930 - out5_loss: 0.1377 - out6_loss: 0.1372 - out7_loss: 0.1961 - out8_loss: 0.1537 - out9_loss: 0.1063 - out1_dice_coef: 0.8763 - out1_jacard: 0.7887 - out1_recall_2: 0.9351 - out1_precision_2: 0.8328 - out1_accuracy: 0.9924 - out2_dice_coef: 0.8664 - out2_jacard: 0.7758 - out2_recall_2: 0.9215 - out2_precision_2: 0.8296 - out2_accuracy: 0.9911 - out3_dice_coef: 0.8944 - out3_jacard: 0.8203 - out3_recall_2: 0.9463 - out3_precision_2: 0.8583 - out3_accuracy: 0.9936 - out4_dice_coef: 0.8041 - out4_jacard: 0.6954 - out4_recall_2: 0.8464 - out4_precision_2: 0.8423 - out4_accuracy: 0.9973 - out5_dice_coef: 0.8367 - out5_jacard: 0.7296 - out5_recall_2: 0.9226 - out5_precision_2: 0.8347 - out5_accuracy: 0.9980 - out6_dice_coef: 0.8226 - out6_jacard: 0.7067 - out6_recall_2: 0.9413 - out6_precision_2: 0.7343 - out6_accuracy: 0.9894 - out7_dice_coef: 0.7771 - out7_jacard: 0.6663 - out7_recall_2: 0.9127 - out7_precision_2: 0.7662 - out7_accuracy: 0.9985 - out8_dice_coef: 0.8166 - out8_jacard: 0.6955 - out8_recall_2: 0.9050 - out8_precision_2: 0.7811 - out8_accuracy: 0.9985 - out9_dice_coef: 0.8652 - out9_jacard: 0.7694 - out9_recall_2: 0.9517 - out9_precision_2: 0.8349 - out9_accuracy: 0.9990\n",
            "Epoch 74/100\n",
            "16/16 [==============================] - 31s 2s/step - loss: 1.1588 - out1_loss: 0.0877 - out2_loss: 0.0969 - out3_loss: 0.0710 - out4_loss: 0.2161 - out5_loss: 0.1219 - out6_loss: 0.1192 - out7_loss: 0.1928 - out8_loss: 0.1479 - out9_loss: 0.1053 - out1_dice_coef: 0.8954 - out1_jacard: 0.8137 - out1_recall_2: 0.9365 - out1_precision_2: 0.8705 - out1_accuracy: 0.9939 - out2_dice_coef: 0.8872 - out2_jacard: 0.8000 - out2_recall_2: 0.9245 - out2_precision_2: 0.8655 - out2_accuracy: 0.9927 - out3_dice_coef: 0.9145 - out3_jacard: 0.8450 - out3_recall_2: 0.9501 - out3_precision_2: 0.8965 - out3_accuracy: 0.9951 - out4_dice_coef: 0.7752 - out4_jacard: 0.6725 - out4_recall_2: 0.8521 - out4_precision_2: 0.8569 - out4_accuracy: 0.9975 - out5_dice_coef: 0.8588 - out5_jacard: 0.7594 - out5_recall_2: 0.9227 - out5_precision_2: 0.8668 - out5_accuracy: 0.9984 - out6_dice_coef: 0.8423 - out6_jacard: 0.7316 - out6_recall_2: 0.9451 - out6_precision_2: 0.7683 - out6_accuracy: 0.9910 - out7_dice_coef: 0.7773 - out7_jacard: 0.6676 - out7_recall_2: 0.9146 - out7_precision_2: 0.7665 - out7_accuracy: 0.9985 - out8_dice_coef: 0.8274 - out8_jacard: 0.7099 - out8_recall_2: 0.9045 - out8_precision_2: 0.7905 - out8_accuracy: 0.9986 - out9_dice_coef: 0.8672 - out9_jacard: 0.7717 - out9_recall_2: 0.9455 - out9_precision_2: 0.8481 - out9_accuracy: 0.9991\n",
            "Epoch 75/100\n",
            "16/16 [==============================] - 31s 2s/step - loss: 1.1342 - out1_loss: 0.0921 - out2_loss: 0.1001 - out3_loss: 0.0707 - out4_loss: 0.1881 - out5_loss: 0.1505 - out6_loss: 0.1170 - out7_loss: 0.1598 - out8_loss: 0.1526 - out9_loss: 0.1033 - out1_dice_coef: 0.8857 - out1_jacard: 0.8000 - out1_recall_2: 0.9463 - out1_precision_2: 0.8582 - out1_accuracy: 0.9937 - out2_dice_coef: 0.8824 - out2_jacard: 0.7940 - out2_recall_2: 0.9306 - out2_precision_2: 0.8613 - out2_accuracy: 0.9927 - out3_dice_coef: 0.9102 - out3_jacard: 0.8398 - out3_recall_2: 0.9637 - out3_precision_2: 0.8868 - out3_accuracy: 0.9951 - out4_dice_coef: 0.7932 - out4_jacard: 0.6860 - out4_recall_2: 0.8980 - out4_precision_2: 0.8079 - out4_accuracy: 0.9973 - out5_dice_coef: 0.8173 - out5_jacard: 0.7092 - out5_recall_2: 0.9323 - out5_precision_2: 0.8349 - out5_accuracy: 0.9981 - out6_dice_coef: 0.8405 - out6_jacard: 0.7289 - out6_recall_2: 0.9601 - out6_precision_2: 0.7607 - out6_accuracy: 0.9909 - out7_dice_coef: 0.7950 - out7_jacard: 0.6727 - out7_recall_2: 0.9293 - out7_precision_2: 0.7485 - out7_accuracy: 0.9985 - out8_dice_coef: 0.8100 - out8_jacard: 0.6900 - out8_recall_2: 0.9206 - out8_precision_2: 0.7665 - out8_accuracy: 0.9985 - out9_dice_coef: 0.8643 - out9_jacard: 0.7707 - out9_recall_2: 0.9579 - out9_precision_2: 0.8329 - out9_accuracy: 0.9990\n",
            "Epoch 76/100\n",
            "16/16 [==============================] - 31s 2s/step - loss: 1.1931 - out1_loss: 0.0946 - out2_loss: 0.1006 - out3_loss: 0.0703 - out4_loss: 0.2191 - out5_loss: 0.1792 - out6_loss: 0.1174 - out7_loss: 0.1882 - out8_loss: 0.1303 - out9_loss: 0.0933 - out1_dice_coef: 0.8870 - out1_jacard: 0.8025 - out1_recall_2: 0.9392 - out1_precision_2: 0.8648 - out1_accuracy: 0.9937 - out2_dice_coef: 0.8866 - out2_jacard: 0.8014 - out2_recall_2: 0.9246 - out2_precision_2: 0.8681 - out2_accuracy: 0.9928 - out3_dice_coef: 0.9151 - out3_jacard: 0.8465 - out3_recall_2: 0.9557 - out3_precision_2: 0.9004 - out3_accuracy: 0.9954 - out4_dice_coef: 0.7490 - out4_jacard: 0.6299 - out4_recall_2: 0.9150 - out4_precision_2: 0.7790 - out4_accuracy: 0.9970 - out5_dice_coef: 0.7890 - out5_jacard: 0.6913 - out5_recall_2: 0.9516 - out5_precision_2: 0.8469 - out5_accuracy: 0.9983 - out6_dice_coef: 0.8436 - out6_jacard: 0.7334 - out6_recall_2: 0.9525 - out6_precision_2: 0.7715 - out6_accuracy: 0.9913 - out7_dice_coef: 0.7194 - out7_jacard: 0.6157 - out7_recall_2: 0.9158 - out7_precision_2: 0.7717 - out7_accuracy: 0.9986 - out8_dice_coef: 0.7823 - out8_jacard: 0.6745 - out8_recall_2: 0.9107 - out8_precision_2: 0.7923 - out8_accuracy: 0.9986 - out9_dice_coef: 0.8192 - out9_jacard: 0.7320 - out9_recall_2: 0.9483 - out9_precision_2: 0.8577 - out9_accuracy: 0.9991\n",
            "Epoch 77/100\n",
            "16/16 [==============================] - 31s 2s/step - loss: 1.1512 - out1_loss: 0.0947 - out2_loss: 0.0989 - out3_loss: 0.0793 - out4_loss: 0.1992 - out5_loss: 0.1308 - out6_loss: 0.1276 - out7_loss: 0.1748 - out8_loss: 0.1457 - out9_loss: 0.1002 - out1_dice_coef: 0.8778 - out1_jacard: 0.7894 - out1_recall_2: 0.9548 - out1_precision_2: 0.8291 - out1_accuracy: 0.9927 - out2_dice_coef: 0.8743 - out2_jacard: 0.7837 - out2_recall_2: 0.9482 - out2_precision_2: 0.8311 - out2_accuracy: 0.9919 - out3_dice_coef: 0.8970 - out3_jacard: 0.8231 - out3_recall_2: 0.9666 - out3_precision_2: 0.8590 - out3_accuracy: 0.9941 - out4_dice_coef: 0.7778 - out4_jacard: 0.6561 - out4_recall_2: 0.8774 - out4_precision_2: 0.7845 - out4_accuracy: 0.9969 - out5_dice_coef: 0.8585 - out5_jacard: 0.7604 - out5_recall_2: 0.9173 - out5_precision_2: 0.8708 - out5_accuracy: 0.9984 - out6_dice_coef: 0.8255 - out6_jacard: 0.7120 - out6_recall_2: 0.9632 - out6_precision_2: 0.7391 - out6_accuracy: 0.9900 - out7_dice_coef: 0.7958 - out7_jacard: 0.6847 - out7_recall_2: 0.9038 - out7_precision_2: 0.7824 - out7_accuracy: 0.9986 - out8_dice_coef: 0.8356 - out8_jacard: 0.7218 - out8_recall_2: 0.8956 - out8_precision_2: 0.8100 - out8_accuracy: 0.9987 - out9_dice_coef: 0.8769 - out9_jacard: 0.7881 - out9_recall_2: 0.9425 - out9_precision_2: 0.8609 - out9_accuracy: 0.9991\n",
            "Epoch 78/100\n",
            "16/16 [==============================] - 31s 2s/step - loss: 1.0945 - out1_loss: 0.0902 - out2_loss: 0.1054 - out3_loss: 0.0721 - out4_loss: 0.1516 - out5_loss: 0.1176 - out6_loss: 0.1234 - out7_loss: 0.1962 - out8_loss: 0.1463 - out9_loss: 0.0917 - out1_dice_coef: 0.9010 - out1_jacard: 0.8215 - out1_recall_2: 0.9259 - out1_precision_2: 0.8887 - out1_accuracy: 0.9943 - out2_dice_coef: 0.8879 - out2_jacard: 0.8018 - out2_recall_2: 0.9061 - out2_precision_2: 0.8856 - out2_accuracy: 0.9930 - out3_dice_coef: 0.9211 - out3_jacard: 0.8553 - out3_recall_2: 0.9408 - out3_precision_2: 0.9149 - out3_accuracy: 0.9955 - out4_dice_coef: 0.8215 - out4_jacard: 0.7096 - out4_recall_2: 0.8964 - out4_precision_2: 0.8058 - out4_accuracy: 0.9972 - out5_dice_coef: 0.8613 - out5_jacard: 0.7651 - out5_recall_2: 0.9358 - out5_precision_2: 0.8645 - out5_accuracy: 0.9984 - out6_dice_coef: 0.8440 - out6_jacard: 0.7333 - out6_recall_2: 0.9340 - out6_precision_2: 0.7843 - out6_accuracy: 0.9914 - out7_dice_coef: 0.7683 - out7_jacard: 0.6580 - out7_recall_2: 0.9230 - out7_precision_2: 0.7745 - out7_accuracy: 0.9986 - out8_dice_coef: 0.8248 - out8_jacard: 0.7070 - out8_recall_2: 0.9156 - out8_precision_2: 0.7931 - out8_accuracy: 0.9986 - out9_dice_coef: 0.8803 - out9_jacard: 0.7900 - out9_recall_2: 0.9631 - out9_precision_2: 0.8557 - out9_accuracy: 0.9992\n",
            "Epoch 79/100\n",
            "16/16 [==============================] - 31s 2s/step - loss: 1.1300 - out1_loss: 0.0925 - out2_loss: 0.1008 - out3_loss: 0.0753 - out4_loss: 0.2217 - out5_loss: 0.1080 - out6_loss: 0.1243 - out7_loss: 0.1676 - out8_loss: 0.1417 - out9_loss: 0.0982 - out1_dice_coef: 0.8865 - out1_jacard: 0.8035 - out1_recall_2: 0.9462 - out1_precision_2: 0.8519 - out1_accuracy: 0.9934 - out2_dice_coef: 0.8771 - out2_jacard: 0.7871 - out2_recall_2: 0.9367 - out2_precision_2: 0.8517 - out2_accuracy: 0.9925 - out3_dice_coef: 0.9047 - out3_jacard: 0.8335 - out3_recall_2: 0.9593 - out3_precision_2: 0.8821 - out3_accuracy: 0.9948 - out4_dice_coef: 0.7579 - out4_jacard: 0.6424 - out4_recall_2: 0.8953 - out4_precision_2: 0.8055 - out4_accuracy: 0.9972 - out5_dice_coef: 0.8689 - out5_jacard: 0.7736 - out5_recall_2: 0.9459 - out5_precision_2: 0.8715 - out5_accuracy: 0.9985 - out6_dice_coef: 0.8323 - out6_jacard: 0.7214 - out6_recall_2: 0.9555 - out6_precision_2: 0.7568 - out6_accuracy: 0.9907 - out7_dice_coef: 0.7982 - out7_jacard: 0.6884 - out7_recall_2: 0.9265 - out7_precision_2: 0.7739 - out7_accuracy: 0.9986 - out8_dice_coef: 0.8299 - out8_jacard: 0.7138 - out8_recall_2: 0.9235 - out8_precision_2: 0.7869 - out8_accuracy: 0.9986 - out9_dice_coef: 0.8725 - out9_jacard: 0.7806 - out9_recall_2: 0.9655 - out9_precision_2: 0.8367 - out9_accuracy: 0.9991\n",
            "Epoch 80/100\n",
            "16/16 [==============================] - 31s 2s/step - loss: 1.0620 - out1_loss: 0.0838 - out2_loss: 0.1027 - out3_loss: 0.0693 - out4_loss: 0.1808 - out5_loss: 0.1265 - out6_loss: 0.1200 - out7_loss: 0.1519 - out8_loss: 0.1394 - out9_loss: 0.0877 - out1_dice_coef: 0.8971 - out1_jacard: 0.8167 - out1_recall_2: 0.9432 - out1_precision_2: 0.8729 - out1_accuracy: 0.9941 - out2_dice_coef: 0.8795 - out2_jacard: 0.7919 - out2_recall_2: 0.9246 - out2_precision_2: 0.8754 - out2_accuracy: 0.9931 - out3_dice_coef: 0.9152 - out3_jacard: 0.8491 - out3_recall_2: 0.9569 - out3_precision_2: 0.9053 - out3_accuracy: 0.9956 - out4_dice_coef: 0.7986 - out4_jacard: 0.6869 - out4_recall_2: 0.8995 - out4_precision_2: 0.8342 - out4_accuracy: 0.9976 - out5_dice_coef: 0.8536 - out5_jacard: 0.7634 - out5_recall_2: 0.9332 - out5_precision_2: 0.8791 - out5_accuracy: 0.9985 - out6_dice_coef: 0.8395 - out6_jacard: 0.7310 - out6_recall_2: 0.9530 - out6_precision_2: 0.7767 - out6_accuracy: 0.9915 - out7_dice_coef: 0.8139 - out7_jacard: 0.6971 - out7_recall_2: 0.9133 - out7_precision_2: 0.7895 - out7_accuracy: 0.9987 - out8_dice_coef: 0.8351 - out8_jacard: 0.7220 - out8_recall_2: 0.9130 - out8_precision_2: 0.7993 - out8_accuracy: 0.9986 - out9_dice_coef: 0.8904 - out9_jacard: 0.8066 - out9_recall_2: 0.9550 - out9_precision_2: 0.8639 - out9_accuracy: 0.9992\n",
            "Epoch 81/100\n",
            "16/16 [==============================] - 31s 2s/step - loss: 0.9660 - out1_loss: 0.0863 - out2_loss: 0.0958 - out3_loss: 0.0620 - out4_loss: 0.1418 - out5_loss: 0.1388 - out6_loss: 0.1099 - out7_loss: 0.1278 - out8_loss: 0.1241 - out9_loss: 0.0795 - out1_dice_coef: 0.8927 - out1_jacard: 0.8094 - out1_recall_2: 0.9506 - out1_precision_2: 0.8540 - out1_accuracy: 0.9936 - out2_dice_coef: 0.8855 - out2_jacard: 0.7972 - out2_recall_2: 0.9331 - out2_precision_2: 0.8632 - out2_accuracy: 0.9929 - out3_dice_coef: 0.9190 - out3_jacard: 0.8521 - out3_recall_2: 0.9701 - out3_precision_2: 0.8894 - out3_accuracy: 0.9954 - out4_dice_coef: 0.8355 - out4_jacard: 0.7336 - out4_recall_2: 0.9040 - out4_precision_2: 0.8270 - out4_accuracy: 0.9975 - out5_dice_coef: 0.8420 - out5_jacard: 0.7656 - out5_recall_2: 0.9591 - out5_precision_2: 0.8639 - out5_accuracy: 0.9986 - out6_dice_coef: 0.8465 - out6_jacard: 0.7364 - out6_recall_2: 0.9675 - out6_precision_2: 0.7654 - out6_accuracy: 0.9913 - out7_dice_coef: 0.7757 - out7_jacard: 0.6679 - out7_recall_2: 0.9417 - out7_precision_2: 0.7522 - out7_accuracy: 0.9985 - out8_dice_coef: 0.7873 - out8_jacard: 0.6824 - out8_recall_2: 0.9324 - out8_precision_2: 0.7725 - out8_accuracy: 0.9985 - out9_dice_coef: 0.8293 - out9_jacard: 0.7469 - out9_recall_2: 0.9755 - out9_precision_2: 0.8227 - out9_accuracy: 0.9990\n",
            "Epoch 82/100\n",
            "16/16 [==============================] - 31s 2s/step - loss: 0.9654 - out1_loss: 0.0815 - out2_loss: 0.0847 - out3_loss: 0.0556 - out4_loss: 0.1417 - out5_loss: 0.1102 - out6_loss: 0.1083 - out7_loss: 0.1550 - out8_loss: 0.1406 - out9_loss: 0.0880 - out1_dice_coef: 0.8989 - out1_jacard: 0.8199 - out1_recall_2: 0.9526 - out1_precision_2: 0.8571 - out1_accuracy: 0.9938 - out2_dice_coef: 0.9004 - out2_jacard: 0.8213 - out2_recall_2: 0.9388 - out2_precision_2: 0.8696 - out2_accuracy: 0.9933 - out3_dice_coef: 0.9323 - out3_jacard: 0.8747 - out3_recall_2: 0.9662 - out3_precision_2: 0.9053 - out3_accuracy: 0.9959 - out4_dice_coef: 0.8330 - out4_jacard: 0.7265 - out4_recall_2: 0.8777 - out4_precision_2: 0.8626 - out4_accuracy: 0.9977 - out5_dice_coef: 0.8740 - out5_jacard: 0.7842 - out5_recall_2: 0.9425 - out5_precision_2: 0.8854 - out5_accuracy: 0.9987 - out6_dice_coef: 0.8523 - out6_jacard: 0.7462 - out6_recall_2: 0.9632 - out6_precision_2: 0.7761 - out6_accuracy: 0.9917 - out7_dice_coef: 0.8021 - out7_jacard: 0.6838 - out7_recall_2: 0.9287 - out7_precision_2: 0.7833 - out7_accuracy: 0.9987 - out8_dice_coef: 0.8369 - out8_jacard: 0.7249 - out8_recall_2: 0.9166 - out8_precision_2: 0.8103 - out8_accuracy: 0.9987 - out9_dice_coef: 0.8865 - out9_jacard: 0.8003 - out9_recall_2: 0.9610 - out9_precision_2: 0.8705 - out9_accuracy: 0.9992\n",
            "Epoch 83/100\n",
            "16/16 [==============================] - 31s 2s/step - loss: 1.1047 - out1_loss: 0.0863 - out2_loss: 0.0961 - out3_loss: 0.0703 - out4_loss: 0.2173 - out5_loss: 0.0904 - out6_loss: 0.1231 - out7_loss: 0.1881 - out8_loss: 0.1395 - out9_loss: 0.0936 - out1_dice_coef: 0.8968 - out1_jacard: 0.8155 - out1_recall_2: 0.9420 - out1_precision_2: 0.8698 - out1_accuracy: 0.9940 - out2_dice_coef: 0.8933 - out2_jacard: 0.8105 - out2_recall_2: 0.9213 - out2_precision_2: 0.8821 - out2_accuracy: 0.9933 - out3_dice_coef: 0.9160 - out3_jacard: 0.8479 - out3_recall_2: 0.9495 - out3_precision_2: 0.8992 - out3_accuracy: 0.9952 - out4_dice_coef: 0.7715 - out4_jacard: 0.6812 - out4_recall_2: 0.8681 - out4_precision_2: 0.8765 - out4_accuracy: 0.9978 - out5_dice_coef: 0.8344 - out5_jacard: 0.7543 - out5_recall_2: 0.9425 - out5_precision_2: 0.8955 - out5_accuracy: 0.9987 - out6_dice_coef: 0.8381 - out6_jacard: 0.7271 - out6_recall_2: 0.9440 - out6_precision_2: 0.7720 - out6_accuracy: 0.9911 - out7_dice_coef: 0.7345 - out7_jacard: 0.6353 - out7_recall_2: 0.8964 - out7_precision_2: 0.8062 - out7_accuracy: 0.9987 - out8_dice_coef: 0.7911 - out8_jacard: 0.6883 - out8_recall_2: 0.8911 - out8_precision_2: 0.8270 - out8_accuracy: 0.9987 - out9_dice_coef: 0.8327 - out9_jacard: 0.7520 - out9_recall_2: 0.9320 - out9_precision_2: 0.8828 - out9_accuracy: 0.9992\n",
            "Epoch 84/100\n",
            "16/16 [==============================] - 31s 2s/step - loss: 1.5857 - out1_loss: 0.1105 - out2_loss: 0.1221 - out3_loss: 0.0971 - out4_loss: 0.3426 - out5_loss: 0.1859 - out6_loss: 0.1434 - out7_loss: 0.2065 - out8_loss: 0.2125 - out9_loss: 0.1652 - out1_dice_coef: 0.8642 - out1_jacard: 0.7707 - out1_recall_2: 0.9387 - out1_precision_2: 0.8316 - out1_accuracy: 0.9924 - out2_dice_coef: 0.8568 - out2_jacard: 0.7569 - out2_recall_2: 0.9185 - out2_precision_2: 0.8334 - out2_accuracy: 0.9912 - out3_dice_coef: 0.8802 - out3_jacard: 0.7975 - out3_recall_2: 0.9487 - out3_precision_2: 0.8544 - out3_accuracy: 0.9935 - out4_dice_coef: 0.6561 - out4_jacard: 0.5378 - out4_recall_2: 0.8262 - out4_precision_2: 0.7472 - out4_accuracy: 0.9961 - out5_dice_coef: 0.7471 - out5_jacard: 0.6326 - out5_recall_2: 0.8955 - out5_precision_2: 0.8013 - out5_accuracy: 0.9975 - out6_dice_coef: 0.8116 - out6_jacard: 0.6910 - out6_recall_2: 0.9424 - out6_precision_2: 0.7316 - out6_accuracy: 0.9893 - out7_dice_coef: 0.7232 - out7_jacard: 0.5964 - out7_recall_2: 0.8415 - out7_precision_2: 0.7328 - out7_accuracy: 0.9981 - out8_dice_coef: 0.7267 - out8_jacard: 0.6030 - out8_recall_2: 0.8229 - out8_precision_2: 0.7600 - out8_accuracy: 0.9981 - out9_dice_coef: 0.7682 - out9_jacard: 0.6576 - out9_recall_2: 0.8773 - out9_precision_2: 0.7962 - out9_accuracy: 0.9986\n",
            "Epoch 85/100\n",
            "16/16 [==============================] - 31s 2s/step - loss: 1.1228 - out1_loss: 0.0986 - out2_loss: 0.1049 - out3_loss: 0.0813 - out4_loss: 0.1915 - out5_loss: 0.1178 - out6_loss: 0.1322 - out7_loss: 0.1427 - out8_loss: 0.1464 - out9_loss: 0.1075 - out1_dice_coef: 0.8825 - out1_jacard: 0.7942 - out1_recall_2: 0.9380 - out1_precision_2: 0.8489 - out1_accuracy: 0.9931 - out2_dice_coef: 0.8782 - out2_jacard: 0.7880 - out2_recall_2: 0.9281 - out2_precision_2: 0.8477 - out2_accuracy: 0.9921 - out3_dice_coef: 0.9060 - out3_jacard: 0.8329 - out3_recall_2: 0.9449 - out3_precision_2: 0.8935 - out3_accuracy: 0.9949 - out4_dice_coef: 0.7195 - out4_jacard: 0.6001 - out4_recall_2: 0.8745 - out4_precision_2: 0.7593 - out4_accuracy: 0.9965 - out5_dice_coef: 0.7923 - out5_jacard: 0.6890 - out5_recall_2: 0.9466 - out5_precision_2: 0.8005 - out5_accuracy: 0.9978 - out6_dice_coef: 0.8299 - out6_jacard: 0.7159 - out6_recall_2: 0.9411 - out6_precision_2: 0.7652 - out6_accuracy: 0.9908 - out7_dice_coef: 0.7517 - out7_jacard: 0.6303 - out7_recall_2: 0.9323 - out7_precision_2: 0.7045 - out7_accuracy: 0.9981 - out8_dice_coef: 0.7586 - out8_jacard: 0.6428 - out8_recall_2: 0.9217 - out8_precision_2: 0.7354 - out8_accuracy: 0.9982 - out9_dice_coef: 0.7909 - out9_jacard: 0.6894 - out9_recall_2: 0.9665 - out9_precision_2: 0.7677 - out9_accuracy: 0.9987\n",
            "Epoch 86/100\n",
            "16/16 [==============================] - 31s 2s/step - loss: 1.0908 - out1_loss: 0.0983 - out2_loss: 0.1143 - out3_loss: 0.0737 - out4_loss: 0.1685 - out5_loss: 0.1093 - out6_loss: 0.1244 - out7_loss: 0.1586 - out8_loss: 0.1493 - out9_loss: 0.0944 - out1_dice_coef: 0.8796 - out1_jacard: 0.7899 - out1_recall_2: 0.9411 - out1_precision_2: 0.8532 - out1_accuracy: 0.9933 - out2_dice_coef: 0.8651 - out2_jacard: 0.7668 - out2_recall_2: 0.9184 - out2_precision_2: 0.8469 - out2_accuracy: 0.9918 - out3_dice_coef: 0.9092 - out3_jacard: 0.8363 - out3_recall_2: 0.9553 - out3_precision_2: 0.8921 - out3_accuracy: 0.9951 - out4_dice_coef: 0.8172 - out4_jacard: 0.7099 - out4_recall_2: 0.8582 - out4_precision_2: 0.8507 - out4_accuracy: 0.9975 - out5_dice_coef: 0.8694 - out5_jacard: 0.7735 - out5_recall_2: 0.9326 - out5_precision_2: 0.8542 - out5_accuracy: 0.9983 - out6_dice_coef: 0.8340 - out6_jacard: 0.7195 - out6_recall_2: 0.9505 - out6_precision_2: 0.7646 - out6_accuracy: 0.9909 - out7_dice_coef: 0.8002 - out7_jacard: 0.6774 - out7_recall_2: 0.9295 - out7_precision_2: 0.7637 - out7_accuracy: 0.9986 - out8_dice_coef: 0.8151 - out8_jacard: 0.6945 - out8_recall_2: 0.9170 - out8_precision_2: 0.7710 - out8_accuracy: 0.9985 - out9_dice_coef: 0.8771 - out9_jacard: 0.7842 - out9_recall_2: 0.9632 - out9_precision_2: 0.8380 - out9_accuracy: 0.9991\n",
            "Epoch 87/100\n",
            "16/16 [==============================] - 31s 2s/step - loss: 0.9694 - out1_loss: 0.0863 - out2_loss: 0.0952 - out3_loss: 0.0633 - out4_loss: 0.1521 - out5_loss: 0.1094 - out6_loss: 0.1150 - out7_loss: 0.1350 - out8_loss: 0.1324 - out9_loss: 0.0807 - out1_dice_coef: 0.8951 - out1_jacard: 0.8147 - out1_recall_2: 0.9444 - out1_precision_2: 0.8644 - out1_accuracy: 0.9939 - out2_dice_coef: 0.8905 - out2_jacard: 0.8065 - out2_recall_2: 0.9275 - out2_precision_2: 0.8732 - out2_accuracy: 0.9931 - out3_dice_coef: 0.9205 - out3_jacard: 0.8559 - out3_recall_2: 0.9621 - out3_precision_2: 0.8956 - out3_accuracy: 0.9954 - out4_dice_coef: 0.8307 - out4_jacard: 0.7223 - out4_recall_2: 0.9054 - out4_precision_2: 0.8186 - out4_accuracy: 0.9974 - out5_dice_coef: 0.8588 - out5_jacard: 0.7620 - out5_recall_2: 0.9653 - out5_precision_2: 0.8267 - out5_accuracy: 0.9982 - out6_dice_coef: 0.8432 - out6_jacard: 0.7346 - out6_recall_2: 0.9587 - out6_precision_2: 0.7693 - out6_accuracy: 0.9913 - out7_dice_coef: 0.8366 - out7_jacard: 0.7250 - out7_recall_2: 0.9256 - out7_precision_2: 0.7942 - out7_accuracy: 0.9987 - out8_dice_coef: 0.8437 - out8_jacard: 0.7337 - out8_recall_2: 0.9220 - out8_precision_2: 0.7935 - out8_accuracy: 0.9986 - out9_dice_coef: 0.9000 - out9_jacard: 0.8206 - out9_recall_2: 0.9545 - out9_precision_2: 0.8712 - out9_accuracy: 0.9992\n",
            "Epoch 88/100\n",
            "16/16 [==============================] - 31s 2s/step - loss: 0.9704 - out1_loss: 0.0817 - out2_loss: 0.0913 - out3_loss: 0.0624 - out4_loss: 0.1806 - out5_loss: 0.1172 - out6_loss: 0.1115 - out7_loss: 0.1252 - out8_loss: 0.1234 - out9_loss: 0.0772 - out1_dice_coef: 0.9057 - out1_jacard: 0.8309 - out1_recall_2: 0.9436 - out1_precision_2: 0.8831 - out1_accuracy: 0.9945 - out2_dice_coef: 0.8976 - out2_jacard: 0.8171 - out2_recall_2: 0.9290 - out2_precision_2: 0.8864 - out2_accuracy: 0.9937 - out3_dice_coef: 0.9278 - out3_jacard: 0.8677 - out3_recall_2: 0.9580 - out3_precision_2: 0.9171 - out3_accuracy: 0.9961 - out4_dice_coef: 0.7460 - out4_jacard: 0.6519 - out4_recall_2: 0.8958 - out4_precision_2: 0.8343 - out4_accuracy: 0.9976 - out5_dice_coef: 0.7959 - out5_jacard: 0.7042 - out5_recall_2: 0.9466 - out5_precision_2: 0.8509 - out5_accuracy: 0.9984 - out6_dice_coef: 0.8535 - out6_jacard: 0.7488 - out6_recall_2: 0.9541 - out6_precision_2: 0.7869 - out6_accuracy: 0.9919 - out7_dice_coef: 0.7812 - out7_jacard: 0.6752 - out7_recall_2: 0.9240 - out7_precision_2: 0.7967 - out7_accuracy: 0.9987 - out8_dice_coef: 0.7893 - out8_jacard: 0.6848 - out8_recall_2: 0.9175 - out8_precision_2: 0.7985 - out8_accuracy: 0.9987 - out9_dice_coef: 0.8379 - out9_jacard: 0.7595 - out9_recall_2: 0.9562 - out9_precision_2: 0.8630 - out9_accuracy: 0.9992\n",
            "Epoch 89/100\n",
            "16/16 [==============================] - 31s 2s/step - loss: 1.0039 - out1_loss: 0.0822 - out2_loss: 0.0920 - out3_loss: 0.0687 - out4_loss: 0.1705 - out5_loss: 0.1157 - out6_loss: 0.1184 - out7_loss: 0.1321 - out8_loss: 0.1375 - out9_loss: 0.0870 - out1_dice_coef: 0.8952 - out1_jacard: 0.8140 - out1_recall_2: 0.9583 - out1_precision_2: 0.8558 - out1_accuracy: 0.9939 - out2_dice_coef: 0.8880 - out2_jacard: 0.8028 - out2_recall_2: 0.9425 - out2_precision_2: 0.8560 - out2_accuracy: 0.9928 - out3_dice_coef: 0.9136 - out3_jacard: 0.8461 - out3_recall_2: 0.9628 - out3_precision_2: 0.8873 - out3_accuracy: 0.9951 - out4_dice_coef: 0.8096 - out4_jacard: 0.7017 - out4_recall_2: 0.9135 - out4_precision_2: 0.8151 - out4_accuracy: 0.9975 - out5_dice_coef: 0.8575 - out5_jacard: 0.7699 - out5_recall_2: 0.9615 - out5_precision_2: 0.8514 - out5_accuracy: 0.9984 - out6_dice_coef: 0.8395 - out6_jacard: 0.7288 - out6_recall_2: 0.9587 - out6_precision_2: 0.7629 - out6_accuracy: 0.9910 - out7_dice_coef: 0.8381 - out7_jacard: 0.7236 - out7_recall_2: 0.9273 - out7_precision_2: 0.7827 - out7_accuracy: 0.9987 - out8_dice_coef: 0.8320 - out8_jacard: 0.7164 - out8_recall_2: 0.9215 - out8_precision_2: 0.7884 - out8_accuracy: 0.9986 - out9_dice_coef: 0.8909 - out9_jacard: 0.8058 - out9_recall_2: 0.9663 - out9_precision_2: 0.8498 - out9_accuracy: 0.9992\n",
            "Epoch 90/100\n",
            "16/16 [==============================] - 31s 2s/step - loss: 1.0469 - out1_loss: 0.0837 - out2_loss: 0.0954 - out3_loss: 0.0635 - out4_loss: 0.1796 - out5_loss: 0.1150 - out6_loss: 0.1134 - out7_loss: 0.1590 - out8_loss: 0.1450 - out9_loss: 0.0923 - out1_dice_coef: 0.8947 - out1_jacard: 0.8144 - out1_recall_2: 0.9554 - out1_precision_2: 0.8591 - out1_accuracy: 0.9939 - out2_dice_coef: 0.8846 - out2_jacard: 0.7997 - out2_recall_2: 0.9440 - out2_precision_2: 0.8567 - out2_accuracy: 0.9929 - out3_dice_coef: 0.9179 - out3_jacard: 0.8546 - out3_recall_2: 0.9704 - out3_precision_2: 0.8919 - out3_accuracy: 0.9955 - out4_dice_coef: 0.8032 - out4_jacard: 0.6977 - out4_recall_2: 0.8872 - out4_precision_2: 0.8413 - out4_accuracy: 0.9976 - out5_dice_coef: 0.8601 - out5_jacard: 0.7664 - out5_recall_2: 0.9415 - out5_precision_2: 0.8690 - out5_accuracy: 0.9985 - out6_dice_coef: 0.8427 - out6_jacard: 0.7336 - out6_recall_2: 0.9678 - out6_precision_2: 0.7679 - out6_accuracy: 0.9914 - out7_dice_coef: 0.7985 - out7_jacard: 0.6858 - out7_recall_2: 0.9338 - out7_precision_2: 0.7837 - out7_accuracy: 0.9987 - out8_dice_coef: 0.8286 - out8_jacard: 0.7149 - out8_recall_2: 0.9189 - out8_precision_2: 0.8043 - out8_accuracy: 0.9987 - out9_dice_coef: 0.8732 - out9_jacard: 0.7836 - out9_recall_2: 0.9735 - out9_precision_2: 0.8508 - out9_accuracy: 0.9992\n",
            "Epoch 91/100\n",
            "16/16 [==============================] - 31s 2s/step - loss: 0.9192 - out1_loss: 0.0812 - out2_loss: 0.0968 - out3_loss: 0.0590 - out4_loss: 0.1441 - out5_loss: 0.0846 - out6_loss: 0.1108 - out7_loss: 0.1377 - out8_loss: 0.1292 - out9_loss: 0.0758 - out1_dice_coef: 0.8979 - out1_jacard: 0.8201 - out1_recall_2: 0.9522 - out1_precision_2: 0.8626 - out1_accuracy: 0.9940 - out2_dice_coef: 0.8844 - out2_jacard: 0.7970 - out2_recall_2: 0.9307 - out2_precision_2: 0.8608 - out2_accuracy: 0.9927 - out3_dice_coef: 0.9266 - out3_jacard: 0.8665 - out3_recall_2: 0.9628 - out3_precision_2: 0.9051 - out3_accuracy: 0.9958 - out4_dice_coef: 0.8402 - out4_jacard: 0.7443 - out4_recall_2: 0.9042 - out4_precision_2: 0.8387 - out4_accuracy: 0.9977 - out5_dice_coef: 0.8894 - out5_jacard: 0.8051 - out5_recall_2: 0.9698 - out5_precision_2: 0.8587 - out5_accuracy: 0.9986 - out6_dice_coef: 0.8480 - out6_jacard: 0.7402 - out6_recall_2: 0.9598 - out6_precision_2: 0.7774 - out6_accuracy: 0.9917 - out7_dice_coef: 0.8266 - out7_jacard: 0.7130 - out7_recall_2: 0.9296 - out7_precision_2: 0.7981 - out7_accuracy: 0.9988 - out8_dice_coef: 0.8439 - out8_jacard: 0.7344 - out8_recall_2: 0.9171 - out8_precision_2: 0.8100 - out8_accuracy: 0.9987 - out9_dice_coef: 0.9018 - out9_jacard: 0.8230 - out9_recall_2: 0.9639 - out9_precision_2: 0.8741 - out9_accuracy: 0.9993\n",
            "Epoch 92/100\n",
            "16/16 [==============================] - 31s 2s/step - loss: 0.9876 - out1_loss: 0.0765 - out2_loss: 0.0870 - out3_loss: 0.0633 - out4_loss: 0.1824 - out5_loss: 0.0953 - out6_loss: 0.1084 - out7_loss: 0.1769 - out8_loss: 0.1259 - out9_loss: 0.0719 - out1_dice_coef: 0.9041 - out1_jacard: 0.8291 - out1_recall_2: 0.9568 - out1_precision_2: 0.8722 - out1_accuracy: 0.9945 - out2_dice_coef: 0.8980 - out2_jacard: 0.8189 - out2_recall_2: 0.9402 - out2_precision_2: 0.8781 - out2_accuracy: 0.9937 - out3_dice_coef: 0.9243 - out3_jacard: 0.8642 - out3_recall_2: 0.9648 - out3_precision_2: 0.9062 - out3_accuracy: 0.9959 - out4_dice_coef: 0.8085 - out4_jacard: 0.7081 - out4_recall_2: 0.8919 - out4_precision_2: 0.8635 - out4_accuracy: 0.9978 - out5_dice_coef: 0.8918 - out5_jacard: 0.8074 - out5_recall_2: 0.9420 - out5_precision_2: 0.8954 - out5_accuracy: 0.9987 - out6_dice_coef: 0.8559 - out6_jacard: 0.7536 - out6_recall_2: 0.9608 - out6_precision_2: 0.7794 - out6_accuracy: 0.9918 - out7_dice_coef: 0.7941 - out7_jacard: 0.6949 - out7_recall_2: 0.9215 - out7_precision_2: 0.8107 - out7_accuracy: 0.9988 - out8_dice_coef: 0.8555 - out8_jacard: 0.7496 - out8_recall_2: 0.9178 - out8_precision_2: 0.8180 - out8_accuracy: 0.9988 - out9_dice_coef: 0.9083 - out9_jacard: 0.8350 - out9_recall_2: 0.9592 - out9_precision_2: 0.8962 - out9_accuracy: 0.9994\n",
            "Epoch 93/100\n",
            "16/16 [==============================] - 31s 2s/step - loss: 0.9159 - out1_loss: 0.0736 - out2_loss: 0.0848 - out3_loss: 0.0555 - out4_loss: 0.1815 - out5_loss: 0.0797 - out6_loss: 0.1040 - out7_loss: 0.1381 - out8_loss: 0.1245 - out9_loss: 0.0741 - out1_dice_coef: 0.9106 - out1_jacard: 0.8384 - out1_recall_2: 0.9522 - out1_precision_2: 0.8819 - out1_accuracy: 0.9947 - out2_dice_coef: 0.8973 - out2_jacard: 0.8171 - out2_recall_2: 0.9413 - out2_precision_2: 0.8816 - out2_accuracy: 0.9939 - out3_dice_coef: 0.9312 - out3_jacard: 0.8736 - out3_recall_2: 0.9666 - out3_precision_2: 0.9131 - out3_accuracy: 0.9962 - out4_dice_coef: 0.7975 - out4_jacard: 0.6956 - out4_recall_2: 0.9099 - out4_precision_2: 0.8512 - out4_accuracy: 0.9978 - out5_dice_coef: 0.9020 - out5_jacard: 0.8250 - out5_recall_2: 0.9677 - out5_precision_2: 0.8903 - out5_accuracy: 0.9989 - out6_dice_coef: 0.8577 - out6_jacard: 0.7549 - out6_recall_2: 0.9630 - out6_precision_2: 0.7872 - out6_accuracy: 0.9921 - out7_dice_coef: 0.8225 - out7_jacard: 0.7091 - out7_recall_2: 0.9320 - out7_precision_2: 0.7989 - out7_accuracy: 0.9988 - out8_dice_coef: 0.8500 - out8_jacard: 0.7424 - out8_recall_2: 0.9293 - out8_precision_2: 0.8099 - out8_accuracy: 0.9988 - out9_dice_coef: 0.9034 - out9_jacard: 0.8260 - out9_recall_2: 0.9623 - out9_precision_2: 0.8801 - out9_accuracy: 0.9993\n",
            "Epoch 94/100\n",
            "16/16 [==============================] - 31s 2s/step - loss: 0.8980 - out1_loss: 0.0769 - out2_loss: 0.0833 - out3_loss: 0.0519 - out4_loss: 0.1468 - out5_loss: 0.1365 - out6_loss: 0.0999 - out7_loss: 0.1206 - out8_loss: 0.1145 - out9_loss: 0.0675 - out1_dice_coef: 0.9022 - out1_jacard: 0.8248 - out1_recall_2: 0.9564 - out1_precision_2: 0.8707 - out1_accuracy: 0.9944 - out2_dice_coef: 0.9021 - out2_jacard: 0.8241 - out2_recall_2: 0.9388 - out2_precision_2: 0.8829 - out2_accuracy: 0.9938 - out3_dice_coef: 0.9301 - out3_jacard: 0.8716 - out3_recall_2: 0.9775 - out3_precision_2: 0.9067 - out3_accuracy: 0.9962 - out4_dice_coef: 0.8440 - out4_jacard: 0.7522 - out4_recall_2: 0.9074 - out4_precision_2: 0.8681 - out4_accuracy: 0.9980 - out5_dice_coef: 0.8427 - out5_jacard: 0.7690 - out5_recall_2: 0.9634 - out5_precision_2: 0.8826 - out5_accuracy: 0.9988 - out6_dice_coef: 0.8574 - out6_jacard: 0.7537 - out6_recall_2: 0.9754 - out6_precision_2: 0.7825 - out6_accuracy: 0.9922 - out7_dice_coef: 0.7909 - out7_jacard: 0.6896 - out7_recall_2: 0.9203 - out7_precision_2: 0.8107 - out7_accuracy: 0.9988 - out8_dice_coef: 0.8025 - out8_jacard: 0.7059 - out8_recall_2: 0.9194 - out8_precision_2: 0.8228 - out8_accuracy: 0.9988 - out9_dice_coef: 0.8525 - out9_jacard: 0.7834 - out9_recall_2: 0.9590 - out9_precision_2: 0.8813 - out9_accuracy: 0.9993\n",
            "Epoch 95/100\n",
            "16/16 [==============================] - 31s 2s/step - loss: 1.0081 - out1_loss: 0.0850 - out2_loss: 0.0862 - out3_loss: 0.0602 - out4_loss: 0.1682 - out5_loss: 0.1083 - out6_loss: 0.1067 - out7_loss: 0.1807 - out8_loss: 0.1289 - out9_loss: 0.0839 - out1_dice_coef: 0.8927 - out1_jacard: 0.8118 - out1_recall_2: 0.9552 - out1_precision_2: 0.8665 - out1_accuracy: 0.9942 - out2_dice_coef: 0.8981 - out2_jacard: 0.8205 - out2_recall_2: 0.9420 - out2_precision_2: 0.8796 - out2_accuracy: 0.9938 - out3_dice_coef: 0.9226 - out3_jacard: 0.8613 - out3_recall_2: 0.9693 - out3_precision_2: 0.9065 - out3_accuracy: 0.9960 - out4_dice_coef: 0.8262 - out4_jacard: 0.7253 - out4_recall_2: 0.9062 - out4_precision_2: 0.8616 - out4_accuracy: 0.9979 - out5_dice_coef: 0.8665 - out5_jacard: 0.7855 - out5_recall_2: 0.9697 - out5_precision_2: 0.8773 - out5_accuracy: 0.9988 - out6_dice_coef: 0.8529 - out6_jacard: 0.7504 - out6_recall_2: 0.9664 - out6_precision_2: 0.7814 - out6_accuracy: 0.9919 - out7_dice_coef: 0.7839 - out7_jacard: 0.6813 - out7_recall_2: 0.9356 - out7_precision_2: 0.7807 - out7_accuracy: 0.9987 - out8_dice_coef: 0.8407 - out8_jacard: 0.7303 - out8_recall_2: 0.9325 - out8_precision_2: 0.7980 - out8_accuracy: 0.9987 - out9_dice_coef: 0.8835 - out9_jacard: 0.7985 - out9_recall_2: 0.9770 - out9_precision_2: 0.8494 - out9_accuracy: 0.9992\n",
            "Epoch 96/100\n",
            "16/16 [==============================] - 31s 2s/step - loss: 0.9447 - out1_loss: 0.0792 - out2_loss: 0.0984 - out3_loss: 0.0688 - out4_loss: 0.1403 - out5_loss: 0.0888 - out6_loss: 0.1184 - out7_loss: 0.1394 - out8_loss: 0.1331 - out9_loss: 0.0782 - out1_dice_coef: 0.8985 - out1_jacard: 0.8186 - out1_recall_2: 0.9572 - out1_precision_2: 0.8631 - out1_accuracy: 0.9941 - out2_dice_coef: 0.8814 - out2_jacard: 0.7938 - out2_recall_2: 0.9368 - out2_precision_2: 0.8520 - out2_accuracy: 0.9925 - out3_dice_coef: 0.9135 - out3_jacard: 0.8461 - out3_recall_2: 0.9599 - out3_precision_2: 0.8911 - out3_accuracy: 0.9952 - out4_dice_coef: 0.8397 - out4_jacard: 0.7395 - out4_recall_2: 0.9092 - out4_precision_2: 0.8657 - out4_accuracy: 0.9980 - out5_dice_coef: 0.8974 - out5_jacard: 0.8182 - out5_recall_2: 0.9611 - out5_precision_2: 0.9010 - out5_accuracy: 0.9989 - out6_dice_coef: 0.8389 - out6_jacard: 0.7275 - out6_recall_2: 0.9555 - out6_precision_2: 0.7667 - out6_accuracy: 0.9911 - out7_dice_coef: 0.8268 - out7_jacard: 0.7119 - out7_recall_2: 0.9116 - out7_precision_2: 0.8138 - out7_accuracy: 0.9988 - out8_dice_coef: 0.8494 - out8_jacard: 0.7435 - out8_recall_2: 0.9066 - out8_precision_2: 0.8251 - out8_accuracy: 0.9988 - out9_dice_coef: 0.9043 - out9_jacard: 0.8275 - out9_recall_2: 0.9481 - out9_precision_2: 0.8831 - out9_accuracy: 0.9993\n",
            "Epoch 97/100\n",
            "16/16 [==============================] - 31s 2s/step - loss: 0.8722 - out1_loss: 0.0761 - out2_loss: 0.0834 - out3_loss: 0.0587 - out4_loss: 0.1618 - out5_loss: 0.0744 - out6_loss: 0.1065 - out7_loss: 0.1196 - out8_loss: 0.1226 - out9_loss: 0.0692 - out1_dice_coef: 0.9094 - out1_jacard: 0.8370 - out1_recall_2: 0.9469 - out1_precision_2: 0.8861 - out1_accuracy: 0.9947 - out2_dice_coef: 0.9034 - out2_jacard: 0.8259 - out2_recall_2: 0.9323 - out2_precision_2: 0.8871 - out2_accuracy: 0.9938 - out3_dice_coef: 0.9296 - out3_jacard: 0.8703 - out3_recall_2: 0.9591 - out3_precision_2: 0.9141 - out3_accuracy: 0.9960 - out4_dice_coef: 0.8166 - out4_jacard: 0.7254 - out4_recall_2: 0.8944 - out4_precision_2: 0.8563 - out4_accuracy: 0.9978 - out5_dice_coef: 0.9071 - out5_jacard: 0.8321 - out5_recall_2: 0.9540 - out5_precision_2: 0.8987 - out5_accuracy: 0.9988 - out6_dice_coef: 0.8567 - out6_jacard: 0.7514 - out6_recall_2: 0.9551 - out6_precision_2: 0.7861 - out6_accuracy: 0.9919 - out7_dice_coef: 0.8564 - out7_jacard: 0.7512 - out7_recall_2: 0.9154 - out7_precision_2: 0.8283 - out7_accuracy: 0.9989 - out8_dice_coef: 0.8530 - out8_jacard: 0.7464 - out8_recall_2: 0.9188 - out8_precision_2: 0.8281 - out8_accuracy: 0.9988 - out9_dice_coef: 0.9096 - out9_jacard: 0.8350 - out9_recall_2: 0.9581 - out9_precision_2: 0.8872 - out9_accuracy: 0.9993\n",
            "Epoch 98/100\n",
            "16/16 [==============================] - 31s 2s/step - loss: 0.8351 - out1_loss: 0.0716 - out2_loss: 0.0859 - out3_loss: 0.0502 - out4_loss: 0.1383 - out5_loss: 0.0754 - out6_loss: 0.0977 - out7_loss: 0.1290 - out8_loss: 0.1199 - out9_loss: 0.0670 - out1_dice_coef: 0.9109 - out1_jacard: 0.8380 - out1_recall_2: 0.9548 - out1_precision_2: 0.8802 - out1_accuracy: 0.9947 - out2_dice_coef: 0.9009 - out2_jacard: 0.8223 - out2_recall_2: 0.9331 - out2_precision_2: 0.8895 - out2_accuracy: 0.9939 - out3_dice_coef: 0.9366 - out3_jacard: 0.8825 - out3_recall_2: 0.9710 - out3_precision_2: 0.9167 - out3_accuracy: 0.9964 - out4_dice_coef: 0.8525 - out4_jacard: 0.7653 - out4_recall_2: 0.9038 - out4_precision_2: 0.8750 - out4_accuracy: 0.9981 - out5_dice_coef: 0.9040 - out5_jacard: 0.8275 - out5_recall_2: 0.9711 - out5_precision_2: 0.8700 - out5_accuracy: 0.9987 - out6_dice_coef: 0.8635 - out6_jacard: 0.7620 - out6_recall_2: 0.9689 - out6_precision_2: 0.7892 - out6_accuracy: 0.9923 - out7_dice_coef: 0.8402 - out7_jacard: 0.7308 - out7_recall_2: 0.9234 - out7_precision_2: 0.8149 - out7_accuracy: 0.9988 - out8_dice_coef: 0.8539 - out8_jacard: 0.7493 - out8_recall_2: 0.9303 - out8_precision_2: 0.8159 - out8_accuracy: 0.9988 - out9_dice_coef: 0.9162 - out9_jacard: 0.8469 - out9_recall_2: 0.9600 - out9_precision_2: 0.8986 - out9_accuracy: 0.9994\n",
            "Epoch 99/100\n",
            "16/16 [==============================] - 31s 2s/step - loss: 0.8377 - out1_loss: 0.0713 - out2_loss: 0.0795 - out3_loss: 0.0485 - out4_loss: 0.1329 - out5_loss: 0.0719 - out6_loss: 0.0957 - out7_loss: 0.1376 - out8_loss: 0.1258 - out9_loss: 0.0744 - out1_dice_coef: 0.9086 - out1_jacard: 0.8364 - out1_recall_2: 0.9633 - out1_precision_2: 0.8728 - out1_accuracy: 0.9947 - out2_dice_coef: 0.9033 - out2_jacard: 0.8265 - out2_recall_2: 0.9455 - out2_precision_2: 0.8786 - out2_accuracy: 0.9939 - out3_dice_coef: 0.9349 - out3_jacard: 0.8806 - out3_recall_2: 0.9794 - out3_precision_2: 0.9106 - out3_accuracy: 0.9964 - out4_dice_coef: 0.8577 - out4_jacard: 0.7673 - out4_recall_2: 0.8887 - out4_precision_2: 0.8972 - out4_accuracy: 0.9982 - out5_dice_coef: 0.9093 - out5_jacard: 0.8371 - out5_recall_2: 0.9718 - out5_precision_2: 0.8962 - out5_accuracy: 0.9989 - out6_dice_coef: 0.8634 - out6_jacard: 0.7638 - out6_recall_2: 0.9771 - out6_precision_2: 0.7853 - out6_accuracy: 0.9923 - out7_dice_coef: 0.8289 - out7_jacard: 0.7146 - out7_recall_2: 0.9238 - out7_precision_2: 0.8119 - out7_accuracy: 0.9988 - out8_dice_coef: 0.8517 - out8_jacard: 0.7443 - out8_recall_2: 0.9272 - out8_precision_2: 0.8263 - out8_accuracy: 0.9989 - out9_dice_coef: 0.9057 - out9_jacard: 0.8293 - out9_recall_2: 0.9647 - out9_precision_2: 0.8866 - out9_accuracy: 0.9993\n",
            "Epoch 100/100\n",
            "16/16 [==============================] - 31s 2s/step - loss: 0.8305 - out1_loss: 0.0739 - out2_loss: 0.0808 - out3_loss: 0.0525 - out4_loss: 0.1385 - out5_loss: 0.0829 - out6_loss: 0.1028 - out7_loss: 0.1171 - out8_loss: 0.1176 - out9_loss: 0.0645 - out1_dice_coef: 0.9082 - out1_jacard: 0.8351 - out1_recall_2: 0.9586 - out1_precision_2: 0.8745 - out1_accuracy: 0.9946 - out2_dice_coef: 0.9052 - out2_jacard: 0.8305 - out2_recall_2: 0.9394 - out2_precision_2: 0.8910 - out2_accuracy: 0.9942 - out3_dice_coef: 0.9334 - out3_jacard: 0.8782 - out3_recall_2: 0.9709 - out3_precision_2: 0.9170 - out3_accuracy: 0.9964 - out4_dice_coef: 0.8533 - out4_jacard: 0.7725 - out4_recall_2: 0.9062 - out4_precision_2: 0.9009 - out4_accuracy: 0.9983 - out5_dice_coef: 0.8938 - out5_jacard: 0.8197 - out5_recall_2: 0.9796 - out5_precision_2: 0.8915 - out5_accuracy: 0.9990 - out6_dice_coef: 0.8578 - out6_jacard: 0.7562 - out6_recall_2: 0.9670 - out6_precision_2: 0.7912 - out6_accuracy: 0.9924 - out7_dice_coef: 0.8564 - out7_jacard: 0.7522 - out7_recall_2: 0.9304 - out7_precision_2: 0.8163 - out7_accuracy: 0.9989 - out8_dice_coef: 0.8600 - out8_jacard: 0.7577 - out8_recall_2: 0.9278 - out8_precision_2: 0.8211 - out8_accuracy: 0.9988 - out9_dice_coef: 0.9150 - out9_jacard: 0.8445 - out9_recall_2: 0.9673 - out9_precision_2: 0.8868 - out9_accuracy: 0.9994\n",
            "4/4 [==============================] - 4s 756ms/step\n",
            "Predicted yp shape =  (9, 8, 240, 240, 1)\n",
            "No. of Samples to be predicted =  8\n"
          ]
        },
        {
          "output_type": "execute_result",
          "data": {
            "text/plain": [
              "<keras.engine.functional.Functional at 0x7f6a8cdeed90>"
            ]
          },
          "metadata": {},
          "execution_count": 38
        }
      ]
    },
    {
      "cell_type": "code",
      "metadata": {
        "colab": {
          "base_uri": "https://localhost:8080/",
          "height": 574
        },
        "id": "aCBliE2y0en9",
        "outputId": "4d6f9baa-702e-4a00-d249-aa4817d7c30c"
      },
      "source": [
        "# check if this is what you exactly wanted\n",
        "each_mask_file = glob.glob(\"/content/brain-tumor/case34/*seg*\")[1]\n",
        "print(\"Display file = \",each_mask_file)\n",
        "# print(each_mask_file)\n",
        "epi_mask = nib.load(each_mask_file)\n",
        "epi_mask_data = epi_mask.get_fdata()\n",
        "plt.imshow(epi_mask_data,cmap='gray')\n",
        "plt.show()\n",
        "\n",
        "# check if this is what you exactly wanted\n",
        "each_mask_file = glob.glob(\"/content/validation_data_qubiq2021_QC/brain-tumor/Validation/case34/image*\")[0]\n",
        "print(\"Display file = \",each_mask_file)\n",
        "# print(each_mask_file)\n",
        "epi_mask = nib.load(each_mask_file)\n",
        "epi_mask_data = epi_mask.get_fdata()/epi_mask_data.max()\n",
        "plt.imshow(epi_mask_data)\n",
        "plt.show()"
      ],
      "execution_count": 39,
      "outputs": [
        {
          "output_type": "stream",
          "name": "stdout",
          "text": [
            "Display file =  /content/brain-tumor/case34/task01_seg02.nii.gz\n"
          ]
        },
        {
          "output_type": "display_data",
          "data": {
            "image/png": "[encoded data removed]",
            "text/plain": [
              "<Figure size 432x288 with 1 Axes>"
            ]
          },
          "metadata": {
            "needs_background": "light"
          }
        },
        {
          "output_type": "stream",
          "name": "stdout",
          "text": [
            "Display file =  /content/validation_data_qubiq2021_QC/brain-tumor/Validation/case34/image.nii.gz\n"
          ]
        },
        {
          "output_type": "stream",
          "name": "stderr",
          "text": [
            "Clipping input data to the valid range for imshow with RGB data ([0..1] for floats or [0..255] for integers).\n"
          ]
        },
        {
          "output_type": "display_data",
          "data": {
            "image/png": "[encoded data removed]",
            "text/plain": [
              "<Figure size 432x288 with 1 Axes>"
            ]
          },
          "metadata": {
            "needs_background": "light"
          }
        }
      ]
    },
    {
      "cell_type": "code",
      "metadata": {
        "colab": {
          "base_uri": "https://localhost:8080/"
        },
        "id": "GuM-kAf33TQW",
        "outputId": "cbe5853b-4b63-4269-9ac4-089d64e6152c"
      },
      "source": [
        "! zip -r brain-tumor.zip brain-tumor"
      ],
      "execution_count": 41,
      "outputs": [
        {
          "output_type": "stream",
          "name": "stdout",
          "text": [
            "  adding: brain-tumor/ (stored 0%)\n",
            "  adding: brain-tumor/case40/ (stored 0%)\n",
            "  adding: brain-tumor/case40/task03_seg02.nii.gz (deflated 72%)\n",
            "  adding: brain-tumor/case40/task01_seg02.nii.gz (deflated 63%)\n",
            "  adding: brain-tumor/case40/task02_seg03.nii.gz (deflated 63%)\n",
            "  adding: brain-tumor/case40/task02_seg01.nii.gz (deflated 72%)\n",
            "  adding: brain-tumor/case40/task01_seg03.nii.gz (deflated 63%)\n",
            "  adding: brain-tumor/case40/task03_seg03.nii.gz (deflated 72%)\n",
            "  adding: brain-tumor/case40/task01_seg01.nii.gz (deflated 63%)\n",
            "  adding: brain-tumor/case40/task03_seg01.nii.gz (deflated 72%)\n",
            "  adding: brain-tumor/case40/task02_seg02.nii.gz (deflated 72%)\n",
            "  adding: brain-tumor/case33/ (stored 0%)\n",
            "  adding: brain-tumor/case33/task03_seg02.nii.gz (deflated 87%)\n",
            "  adding: brain-tumor/case33/task01_seg02.nii.gz (deflated 55%)\n",
            "  adding: brain-tumor/case33/task02_seg03.nii.gz (deflated 59%)\n",
            "  adding: brain-tumor/case33/task02_seg01.nii.gz (deflated 87%)\n",
            "  adding: brain-tumor/case33/task01_seg03.nii.gz (deflated 57%)\n",
            "  adding: brain-tumor/case33/task03_seg03.nii.gz (deflated 87%)\n",
            "  adding: brain-tumor/case33/task01_seg01.nii.gz (deflated 57%)\n",
            "  adding: brain-tumor/case33/task03_seg01.nii.gz (deflated 87%)\n",
            "  adding: brain-tumor/case33/task02_seg02.nii.gz (deflated 87%)\n",
            "  adding: brain-tumor/case37/ (stored 0%)\n",
            "  adding: brain-tumor/case37/task03_seg02.nii.gz (deflated 62%)\n",
            "  adding: brain-tumor/case37/task01_seg02.nii.gz (deflated 53%)\n",
            "  adding: brain-tumor/case37/task02_seg03.nii.gz (deflated 54%)\n",
            "  adding: brain-tumor/case37/task02_seg01.nii.gz (deflated 65%)\n",
            "  adding: brain-tumor/case37/task01_seg03.nii.gz (deflated 54%)\n",
            "  adding: brain-tumor/case37/task03_seg03.nii.gz (deflated 61%)\n",
            "  adding: brain-tumor/case37/task01_seg01.nii.gz (deflated 55%)\n",
            "  adding: brain-tumor/case37/task03_seg01.nii.gz (deflated 62%)\n",
            "  adding: brain-tumor/case37/task02_seg02.nii.gz (deflated 68%)\n",
            "  adding: brain-tumor/case39/ (stored 0%)\n",
            "  adding: brain-tumor/case39/task03_seg02.nii.gz (deflated 52%)\n",
            "  adding: brain-tumor/case39/task01_seg02.nii.gz (deflated 32%)\n",
            "  adding: brain-tumor/case39/task02_seg03.nii.gz (deflated 33%)\n",
            "  adding: brain-tumor/case39/task02_seg01.nii.gz (deflated 44%)\n",
            "  adding: brain-tumor/case39/task01_seg03.nii.gz (deflated 33%)\n",
            "  adding: brain-tumor/case39/task03_seg03.nii.gz (deflated 52%)\n",
            "  adding: brain-tumor/case39/task01_seg01.nii.gz (deflated 32%)\n",
            "  adding: brain-tumor/case39/task03_seg01.nii.gz (deflated 53%)\n",
            "  adding: brain-tumor/case39/task02_seg02.nii.gz (deflated 48%)\n",
            "  adding: brain-tumor/case38/ (stored 0%)\n",
            "  adding: brain-tumor/case38/task03_seg02.nii.gz (deflated 68%)\n",
            "  adding: brain-tumor/case38/task01_seg02.nii.gz (deflated 58%)\n",
            "  adding: brain-tumor/case38/task02_seg03.nii.gz (deflated 59%)\n",
            "  adding: brain-tumor/case38/task02_seg01.nii.gz (deflated 66%)\n",
            "  adding: brain-tumor/case38/task01_seg03.nii.gz (deflated 59%)\n",
            "  adding: brain-tumor/case38/task03_seg03.nii.gz (deflated 68%)\n",
            "  adding: brain-tumor/case38/task01_seg01.nii.gz (deflated 61%)\n",
            "  adding: brain-tumor/case38/task03_seg01.nii.gz (deflated 68%)\n",
            "  adding: brain-tumor/case38/task02_seg02.nii.gz (deflated 69%)\n",
            "  adding: brain-tumor/case34/ (stored 0%)\n",
            "  adding: brain-tumor/case34/task03_seg02.nii.gz (deflated 66%)\n",
            "  adding: brain-tumor/case34/task01_seg02.nii.gz (deflated 61%)\n",
            "  adding: brain-tumor/case34/task02_seg03.nii.gz (deflated 59%)\n",
            "  adding: brain-tumor/case34/task02_seg01.nii.gz (deflated 67%)\n",
            "  adding: brain-tumor/case34/task01_seg03.nii.gz (deflated 62%)\n",
            "  adding: brain-tumor/case34/task03_seg03.nii.gz (deflated 66%)\n",
            "  adding: brain-tumor/case34/task01_seg01.nii.gz (deflated 62%)\n",
            "  adding: brain-tumor/case34/task03_seg01.nii.gz (deflated 67%)\n",
            "  adding: brain-tumor/case34/task02_seg02.nii.gz (deflated 68%)\n",
            "  adding: brain-tumor/case36/ (stored 0%)\n",
            "  adding: brain-tumor/case36/task03_seg02.nii.gz (deflated 55%)\n",
            "  adding: brain-tumor/case36/task01_seg02.nii.gz (deflated 42%)\n",
            "  adding: brain-tumor/case36/task02_seg03.nii.gz (deflated 42%)\n",
            "  adding: brain-tumor/case36/task02_seg01.nii.gz (deflated 54%)\n",
            "  adding: brain-tumor/case36/task01_seg03.nii.gz (deflated 43%)\n",
            "  adding: brain-tumor/case36/task03_seg03.nii.gz (deflated 55%)\n",
            "  adding: brain-tumor/case36/task01_seg01.nii.gz (deflated 42%)\n",
            "  adding: brain-tumor/case36/task03_seg01.nii.gz (deflated 54%)\n",
            "  adding: brain-tumor/case36/task02_seg02.nii.gz (deflated 55%)\n",
            "  adding: brain-tumor/case35/ (stored 0%)\n",
            "  adding: brain-tumor/case35/task03_seg02.nii.gz (deflated 62%)\n",
            "  adding: brain-tumor/case35/task01_seg02.nii.gz (deflated 60%)\n",
            "  adding: brain-tumor/case35/task02_seg03.nii.gz (deflated 60%)\n",
            "  adding: brain-tumor/case35/task02_seg01.nii.gz (deflated 61%)\n",
            "  adding: brain-tumor/case35/task01_seg03.nii.gz (deflated 59%)\n",
            "  adding: brain-tumor/case35/task03_seg03.nii.gz (deflated 62%)\n",
            "  adding: brain-tumor/case35/task01_seg01.nii.gz (deflated 58%)\n",
            "  adding: brain-tumor/case35/task03_seg01.nii.gz (deflated 62%)\n",
            "  adding: brain-tumor/case35/task02_seg02.nii.gz (deflated 62%)\n"
          ]
        }
      ]
    },
    {
      "cell_type": "code",
      "metadata": {
        "id": "qivmvZD1GKHB"
      },
      "source": [
        ""
      ],
      "execution_count": null,
      "outputs": []
    }
  ]
}